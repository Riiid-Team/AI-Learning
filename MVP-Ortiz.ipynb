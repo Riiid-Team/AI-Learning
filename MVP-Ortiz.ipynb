{
 "cells": [
  {
   "cell_type": "markdown",
   "metadata": {},
   "source": [
    "# Data Acquisition"
   ]
  },
  {
   "cell_type": "code",
   "execution_count": 1,
   "metadata": {},
   "outputs": [],
   "source": [
    "# Import pandas\n",
    "import pandas as pd\n",
    "import numpy as np\n",
    "\n",
    "import matplotlib.pyplot as plt\n",
    "import seaborn as sns\n",
    "\n",
    "import pyspark.sql\n",
    "from pyspark.sql.functions import *\n",
    "\n",
    "import acquire\n",
    "\n",
    "spark = pyspark.sql.SparkSession.builder.getOrCreate()"
   ]
  },
  {
   "cell_type": "code",
   "execution_count": null,
   "metadata": {},
   "outputs": [],
   "source": [
    "df_train = spark.read.csv('train.csv', header=True, inferSchema=True)\n",
    "df_lectures = spark.read.csv('lectures.csv', header=True, inferSchema=True)\n",
    "df_questions = spark.read.csv('questions.csv', header=True, inferSchema=True)"
   ]
  },
  {
   "cell_type": "code",
   "execution_count": 2,
   "metadata": {},
   "outputs": [],
   "source": [
    "train_data_types_dict = {\n",
    "    'timestamp': np.int64,\n",
    "    'user_id': np.int32,\n",
    "    'content_id': np.int16,\n",
    "    'content_type_id': np.int16,\n",
    "    'task_container_id' : np.int16,\n",
    "    'user_answer' : np.int8,\n",
    "    'answered_correctly': np.int8,\n",
    "    'prior_question_elapsed_time': np.float16,\n",
    "}\n",
    "\n",
    "lectures_data_types_dict = {\n",
    "    'lecture_id' : np.int16,\n",
    "    'tag' : np.int8,\n",
    "    'part' : np.int8\n",
    "}\n",
    "\n",
    "questions_data_types_dict = {\n",
    "'question_id' : np.int16,\n",
    "'bundle_id' : np.int16,\n",
    "'part' : np.int8\n",
    "}"
   ]
  },
  {
   "cell_type": "code",
   "execution_count": 3,
   "metadata": {},
   "outputs": [],
   "source": [
    "df_train = pd.read_csv('train.csv', dtype=train_data_types_dict)\n",
    "df_lectures = pd.read_csv('lectures.csv', dtype=lectures_data_types_dict)\n",
    "df_questions = pd.read_csv('questions.csv', dtype=questions_data_types_dict)"
   ]
  },
  {
   "cell_type": "code",
   "execution_count": 4,
   "metadata": {},
   "outputs": [
    {
     "name": "stdout",
     "output_type": "stream",
     "text": [
      "<class 'pandas.core.frame.DataFrame'>\n",
      "RangeIndex: 101230332 entries, 0 to 101230331\n",
      "Data columns (total 10 columns):\n",
      " #   Column                          Dtype  \n",
      "---  ------                          -----  \n",
      " 0   row_id                          int64  \n",
      " 1   timestamp                       int64  \n",
      " 2   user_id                         int32  \n",
      " 3   content_id                      int16  \n",
      " 4   content_type_id                 int16  \n",
      " 5   task_container_id               int16  \n",
      " 6   user_answer                     int8   \n",
      " 7   answered_correctly              int8   \n",
      " 8   prior_question_elapsed_time     float16\n",
      " 9   prior_question_had_explanation  object \n",
      "dtypes: float16(1), int16(3), int32(1), int64(2), int8(2), object(1)\n",
      "memory usage: 3.6+ GB\n"
     ]
    }
   ],
   "source": [
    "df_train.info()"
   ]
  },
  {
   "cell_type": "code",
   "execution_count": 24,
   "metadata": {},
   "outputs": [
    {
     "name": "stderr",
     "output_type": "stream",
     "text": [
      "/usr/local/anaconda3/lib/python3.7/site-packages/ipykernel_launcher.py:10: UserWarning: Pandas doesn't allow columns to be created via a new attribute name - see https://pandas.pydata.org/pandas-docs/stable/indexing.html#attribute-access\n",
      "  # Remove the CWD from sys.path while we load stuff.\n"
     ]
    }
   ],
   "source": [
    "df_merged = df_train.merge(df_lectures, left_on='content_id', right_on='lecture_id', how='left')\n",
    "df = df_merged.merge(df_questions, left_on='content_id', right_on='question_id', how='left')\n",
    "\n",
    "df = df.fillna(0)\n",
    "df.lecture_id = df.lecture_id.astype(np.int16)\n",
    "df.tag = df.tag.astype(np.int8)\n",
    "df.part_x = df.part_x.astype(np.int8)\n",
    "df.part_y = df.part_y.astype(np.int8)\n",
    "df.question_id = df.question_id.astype(np.int16)\n",
    "df.bundle = df.bundle_id.astype(np.int16)\n",
    "df.lecture_id = df.lecture_id.astype(np.int32)"
   ]
  },
  {
   "cell_type": "markdown",
   "metadata": {},
   "source": [
    "# Handling the memory issue"
   ]
  },
  {
   "cell_type": "code",
   "execution_count": 10,
   "metadata": {},
   "outputs": [
    {
     "data": {
      "text/plain": [
       "(101230332, 19)"
      ]
     },
     "execution_count": 10,
     "metadata": {},
     "output_type": "execute_result"
    }
   ],
   "source": [
    "df.shape"
   ]
  },
  {
   "cell_type": "code",
   "execution_count": 11,
   "metadata": {},
   "outputs": [
    {
     "name": "stdout",
     "output_type": "stream",
     "text": [
      "<class 'pandas.core.frame.DataFrame'>\n",
      "Int64Index: 101230332 entries, 0 to 101230331\n",
      "Data columns (total 19 columns):\n",
      " #   Column                          Dtype  \n",
      "---  ------                          -----  \n",
      " 0   row_id                          int64  \n",
      " 1   timestamp                       int64  \n",
      " 2   user_id                         int32  \n",
      " 3   content_id                      int16  \n",
      " 4   content_type_id                 int16  \n",
      " 5   task_container_id               int16  \n",
      " 6   user_answer                     int8   \n",
      " 7   answered_correctly              int8   \n",
      " 8   prior_question_elapsed_time     float16\n",
      " 9   prior_question_had_explanation  object \n",
      " 10  lecture_id                      float64\n",
      " 11  tag                             int8   \n",
      " 12  part_x                          int8   \n",
      " 13  type_of                         object \n",
      " 14  question_id                     int16  \n",
      " 15  bundle_id                       float64\n",
      " 16  correct_answer                  float64\n",
      " 17  part_y                          int8   \n",
      " 18  tags                            object \n",
      "dtypes: float16(1), float64(3), int16(4), int32(1), int64(2), int8(5), object(3)\n",
      "memory usage: 8.6+ GB\n"
     ]
    }
   ],
   "source": [
    "df.info()"
   ]
  },
  {
   "cell_type": "code",
   "execution_count": null,
   "metadata": {},
   "outputs": [],
   "source": []
  },
  {
   "cell_type": "code",
   "execution_count": 21,
   "metadata": {},
   "outputs": [],
   "source": [
    "user_ids = df.user_id.value_counts().sort_index().index.to_list()"
   ]
  },
  {
   "cell_type": "code",
   "execution_count": 25,
   "metadata": {
    "scrolled": false
   },
   "outputs": [
    {
     "data": {
      "text/plain": [
       "393656"
      ]
     },
     "execution_count": 25,
     "metadata": {},
     "output_type": "execute_result"
    }
   ],
   "source": [
    "len(user_ids)"
   ]
  },
  {
   "cell_type": "code",
   "execution_count": 26,
   "metadata": {},
   "outputs": [
    {
     "data": {
      "text/plain": [
       "196828"
      ]
     },
     "execution_count": 26,
     "metadata": {},
     "output_type": "execute_result"
    }
   ],
   "source": [
    "int(len(user_ids) * .5)"
   ]
  },
  {
   "cell_type": "code",
   "execution_count": 27,
   "metadata": {},
   "outputs": [],
   "source": [
    "train_users = user_ids[:196828]"
   ]
  },
  {
   "cell_type": "code",
   "execution_count": 33,
   "metadata": {},
   "outputs": [
    {
     "data": {
      "text/plain": [
       "[547588483]"
      ]
     },
     "execution_count": 33,
     "metadata": {},
     "output_type": "execute_result"
    }
   ],
   "source": [
    "user_ids[99998:99999]"
   ]
  },
  {
   "cell_type": "code",
   "execution_count": 34,
   "metadata": {},
   "outputs": [
    {
     "data": {
      "text/html": [
       "<div>\n",
       "<style scoped>\n",
       "    .dataframe tbody tr th:only-of-type {\n",
       "        vertical-align: middle;\n",
       "    }\n",
       "\n",
       "    .dataframe tbody tr th {\n",
       "        vertical-align: top;\n",
       "    }\n",
       "\n",
       "    .dataframe thead th {\n",
       "        text-align: right;\n",
       "    }\n",
       "</style>\n",
       "<table border=\"1\" class=\"dataframe\">\n",
       "  <thead>\n",
       "    <tr style=\"text-align: right;\">\n",
       "      <th></th>\n",
       "      <th>row_id</th>\n",
       "      <th>timestamp</th>\n",
       "      <th>user_id</th>\n",
       "      <th>content_id</th>\n",
       "      <th>content_type_id</th>\n",
       "      <th>task_container_id</th>\n",
       "      <th>user_answer</th>\n",
       "      <th>answered_correctly</th>\n",
       "      <th>prior_question_elapsed_time</th>\n",
       "      <th>prior_question_had_explanation</th>\n",
       "    </tr>\n",
       "  </thead>\n",
       "  <tbody>\n",
       "    <tr>\n",
       "      <th>0</th>\n",
       "      <td>0</td>\n",
       "      <td>0</td>\n",
       "      <td>115</td>\n",
       "      <td>5692</td>\n",
       "      <td>0</td>\n",
       "      <td>1</td>\n",
       "      <td>3</td>\n",
       "      <td>1</td>\n",
       "      <td>NaN</td>\n",
       "      <td>NaN</td>\n",
       "    </tr>\n",
       "    <tr>\n",
       "      <th>1</th>\n",
       "      <td>1</td>\n",
       "      <td>56943</td>\n",
       "      <td>115</td>\n",
       "      <td>5716</td>\n",
       "      <td>0</td>\n",
       "      <td>2</td>\n",
       "      <td>2</td>\n",
       "      <td>1</td>\n",
       "      <td>36992.0</td>\n",
       "      <td>False</td>\n",
       "    </tr>\n",
       "    <tr>\n",
       "      <th>2</th>\n",
       "      <td>2</td>\n",
       "      <td>118363</td>\n",
       "      <td>115</td>\n",
       "      <td>128</td>\n",
       "      <td>0</td>\n",
       "      <td>0</td>\n",
       "      <td>0</td>\n",
       "      <td>1</td>\n",
       "      <td>55008.0</td>\n",
       "      <td>False</td>\n",
       "    </tr>\n",
       "    <tr>\n",
       "      <th>3</th>\n",
       "      <td>3</td>\n",
       "      <td>131167</td>\n",
       "      <td>115</td>\n",
       "      <td>7860</td>\n",
       "      <td>0</td>\n",
       "      <td>3</td>\n",
       "      <td>0</td>\n",
       "      <td>1</td>\n",
       "      <td>19008.0</td>\n",
       "      <td>False</td>\n",
       "    </tr>\n",
       "    <tr>\n",
       "      <th>4</th>\n",
       "      <td>4</td>\n",
       "      <td>137965</td>\n",
       "      <td>115</td>\n",
       "      <td>7922</td>\n",
       "      <td>0</td>\n",
       "      <td>4</td>\n",
       "      <td>1</td>\n",
       "      <td>1</td>\n",
       "      <td>11000.0</td>\n",
       "      <td>False</td>\n",
       "    </tr>\n",
       "    <tr>\n",
       "      <th>...</th>\n",
       "      <td>...</td>\n",
       "      <td>...</td>\n",
       "      <td>...</td>\n",
       "      <td>...</td>\n",
       "      <td>...</td>\n",
       "      <td>...</td>\n",
       "      <td>...</td>\n",
       "      <td>...</td>\n",
       "      <td>...</td>\n",
       "      <td>...</td>\n",
       "    </tr>\n",
       "    <tr>\n",
       "      <th>10123028</th>\n",
       "      <td>10123028</td>\n",
       "      <td>157429652</td>\n",
       "      <td>219543270</td>\n",
       "      <td>2121</td>\n",
       "      <td>0</td>\n",
       "      <td>88</td>\n",
       "      <td>3</td>\n",
       "      <td>0</td>\n",
       "      <td>36672.0</td>\n",
       "      <td>True</td>\n",
       "    </tr>\n",
       "    <tr>\n",
       "      <th>10123029</th>\n",
       "      <td>10123029</td>\n",
       "      <td>157429652</td>\n",
       "      <td>219543270</td>\n",
       "      <td>2120</td>\n",
       "      <td>0</td>\n",
       "      <td>88</td>\n",
       "      <td>1</td>\n",
       "      <td>0</td>\n",
       "      <td>36672.0</td>\n",
       "      <td>True</td>\n",
       "    </tr>\n",
       "    <tr>\n",
       "      <th>10123030</th>\n",
       "      <td>10123030</td>\n",
       "      <td>157429652</td>\n",
       "      <td>219543270</td>\n",
       "      <td>2122</td>\n",
       "      <td>0</td>\n",
       "      <td>88</td>\n",
       "      <td>3</td>\n",
       "      <td>1</td>\n",
       "      <td>36672.0</td>\n",
       "      <td>True</td>\n",
       "    </tr>\n",
       "    <tr>\n",
       "      <th>10123031</th>\n",
       "      <td>10123031</td>\n",
       "      <td>157745849</td>\n",
       "      <td>219543270</td>\n",
       "      <td>1795</td>\n",
       "      <td>0</td>\n",
       "      <td>89</td>\n",
       "      <td>2</td>\n",
       "      <td>1</td>\n",
       "      <td>36672.0</td>\n",
       "      <td>True</td>\n",
       "    </tr>\n",
       "    <tr>\n",
       "      <th>10123032</th>\n",
       "      <td>10123032</td>\n",
       "      <td>157745849</td>\n",
       "      <td>219543270</td>\n",
       "      <td>1793</td>\n",
       "      <td>0</td>\n",
       "      <td>89</td>\n",
       "      <td>0</td>\n",
       "      <td>1</td>\n",
       "      <td>36672.0</td>\n",
       "      <td>True</td>\n",
       "    </tr>\n",
       "  </tbody>\n",
       "</table>\n",
       "<p>10123033 rows × 10 columns</p>\n",
       "</div>"
      ],
      "text/plain": [
       "            row_id  timestamp    user_id  content_id  content_type_id  \\\n",
       "0                0          0        115        5692                0   \n",
       "1                1      56943        115        5716                0   \n",
       "2                2     118363        115         128                0   \n",
       "3                3     131167        115        7860                0   \n",
       "4                4     137965        115        7922                0   \n",
       "...            ...        ...        ...         ...              ...   \n",
       "10123028  10123028  157429652  219543270        2121                0   \n",
       "10123029  10123029  157429652  219543270        2120                0   \n",
       "10123030  10123030  157429652  219543270        2122                0   \n",
       "10123031  10123031  157745849  219543270        1795                0   \n",
       "10123032  10123032  157745849  219543270        1793                0   \n",
       "\n",
       "          task_container_id  user_answer  answered_correctly  \\\n",
       "0                         1            3                   1   \n",
       "1                         2            2                   1   \n",
       "2                         0            0                   1   \n",
       "3                         3            0                   1   \n",
       "4                         4            1                   1   \n",
       "...                     ...          ...                 ...   \n",
       "10123028                 88            3                   0   \n",
       "10123029                 88            1                   0   \n",
       "10123030                 88            3                   1   \n",
       "10123031                 89            2                   1   \n",
       "10123032                 89            0                   1   \n",
       "\n",
       "          prior_question_elapsed_time prior_question_had_explanation  \n",
       "0                                 NaN                            NaN  \n",
       "1                             36992.0                          False  \n",
       "2                             55008.0                          False  \n",
       "3                             19008.0                          False  \n",
       "4                             11000.0                          False  \n",
       "...                               ...                            ...  \n",
       "10123028                      36672.0                           True  \n",
       "10123029                      36672.0                           True  \n",
       "10123030                      36672.0                           True  \n",
       "10123031                      36672.0                           True  \n",
       "10123032                      36672.0                           True  \n",
       "\n",
       "[10123033 rows x 10 columns]"
      ]
     },
     "execution_count": 34,
     "metadata": {},
     "output_type": "execute_result"
    }
   ],
   "source": [
    "df_train.loc[df_train.user_id <= 547588483]"
   ]
  },
  {
   "cell_type": "code",
   "execution_count": 13,
   "metadata": {},
   "outputs": [],
   "source": [
    "df_train.user_id.sample()"
   ]
  },
  {
   "cell_type": "code",
   "execution_count": 14,
   "metadata": {},
   "outputs": [
    {
     "data": {
      "text/plain": [
       "(10123033, 19)"
      ]
     },
     "execution_count": 14,
     "metadata": {},
     "output_type": "execute_result"
    }
   ],
   "source": [
    "train.shape"
   ]
  },
  {
   "cell_type": "code",
   "execution_count": 17,
   "metadata": {},
   "outputs": [
    {
     "data": {
      "text/plain": [
       "0.0        97967581\n",
       "89.0          24468\n",
       "100.0         18284\n",
       "185.0         47470\n",
       "192.0         11073\n",
       "             ...   \n",
       "32535.0        3666\n",
       "32570.0        2910\n",
       "32604.0           4\n",
       "32625.0        8031\n",
       "32736.0        8013\n",
       "Name: lecture_id, Length: 418, dtype: int64"
      ]
     },
     "execution_count": 17,
     "metadata": {},
     "output_type": "execute_result"
    }
   ],
   "source": []
  },
  {
   "cell_type": "code",
   "execution_count": null,
   "metadata": {},
   "outputs": [],
   "source": []
  }
 ],
 "metadata": {
  "kernelspec": {
   "display_name": "Python 3",
   "language": "python",
   "name": "python3"
  },
  "language_info": {
   "codemirror_mode": {
    "name": "ipython",
    "version": 3
   },
   "file_extension": ".py",
   "mimetype": "text/x-python",
   "name": "python",
   "nbconvert_exporter": "python",
   "pygments_lexer": "ipython3",
   "version": "3.7.6"
  }
 },
 "nbformat": 4,
 "nbformat_minor": 4
}
