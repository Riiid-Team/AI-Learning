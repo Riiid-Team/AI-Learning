{
 "cells": [
  {
   "cell_type": "markdown",
   "metadata": {},
   "source": [
    "# Data Acquisition"
   ]
  },
  {
   "cell_type": "code",
   "execution_count": 27,
   "metadata": {},
   "outputs": [],
   "source": [
    "# Import pandas\n",
    "import pandas as pd\n",
    "\n",
    "import matplotlib.pyplot as plt\n",
    "import seaborn as sns\n",
    "\n",
    "import pyspark\n",
    "from pyspark.sql import SparkSession\n",
    "from pyspark.sql.functions import *\n",
    "\n",
    "import acquire\n",
    "\n",
    "spark = SparkSession.builder.getOrCreate()"
   ]
  },
  {
   "cell_type": "code",
   "execution_count": 2,
   "metadata": {},
   "outputs": [],
   "source": [
    "df_train = spark.read.csv('train.csv', header=True, inferSchema=True)\n",
    "df_lectures = spark.read.csv('lectures.csv', header=True, inferSchema=True)\n",
    "df_questions = spark.read.csv('questions.csv', header=True, inferSchema=True)"
   ]
  },
  {
   "cell_type": "code",
   "execution_count": 13,
   "metadata": {},
   "outputs": [],
   "source": [
    "df_merged = df_train.join(df_lectures, df_train.content_id == df_lectures.lecture_id, how='left')"
   ]
  },
  {
   "cell_type": "code",
   "execution_count": 17,
   "metadata": {},
   "outputs": [],
   "source": [
    "df = df_merged.join(df_questions, df_merged.content_id == df_questions.question_id, how='left')"
   ]
  },
  {
   "cell_type": "code",
   "execution_count": 12,
   "metadata": {},
   "outputs": [
    {
     "name": "stdout",
     "output_type": "stream",
     "text": [
      "-RECORD 0------------------------------\n",
      " row_id                         | 0    \n",
      " timestamp                      | 0    \n",
      " user_id                        | 115  \n",
      " content_id                     | 5692 \n",
      " content_type_id                | 0    \n",
      " task_container_id              | 1    \n",
      " user_answer                    | 3    \n",
      " answered_correctly             | 1    \n",
      " prior_question_elapsed_time    | null \n",
      " prior_question_had_explanation | null \n",
      " lecture_id                     | null \n",
      " tag                            | null \n",
      " part                           | null \n",
      " type_of                        | null \n",
      " question_id                    | null \n",
      " bundle_id                      | null \n",
      " correct_answer                 | null \n",
      " part                           | null \n",
      " tags                           | null \n",
      "only showing top 1 row\n",
      "\n"
     ]
    }
   ],
   "source": [
    "df.show(1, vertical=True)"
   ]
  },
  {
   "cell_type": "code",
   "execution_count": 28,
   "metadata": {},
   "outputs": [],
   "source": [
    "df = acquire.get_riiid_data()"
   ]
  },
  {
   "cell_type": "code",
   "execution_count": 29,
   "metadata": {},
   "outputs": [
    {
     "name": "stdout",
     "output_type": "stream",
     "text": [
      "-RECORD 0------------------------------\n",
      " row_id                         | 0    \n",
      " timestamp                      | 0    \n",
      " user_id                        | 115  \n",
      " content_id                     | 5692 \n",
      " content_type_id                | 0    \n",
      " task_container_id              | 1    \n",
      " user_answer                    | 3    \n",
      " answered_correctly             | 1    \n",
      " prior_question_elapsed_time    | null \n",
      " prior_question_had_explanation | null \n",
      " lecture_id                     | null \n",
      " tag                            | null \n",
      " part                           | null \n",
      " type_of                        | null \n",
      " question_id                    | 5692 \n",
      " bundle_id                      | 5692 \n",
      " correct_answer                 | 3    \n",
      " part                           | 5    \n",
      " tags                           | 151  \n",
      "only showing top 1 row\n",
      "\n"
     ]
    }
   ],
   "source": [
    "df.show(1, vertical=True)"
   ]
  },
  {
   "cell_type": "code",
   "execution_count": null,
   "metadata": {},
   "outputs": [],
   "source": []
  }
 ],
 "metadata": {
  "kernelspec": {
   "display_name": "Python 3",
   "language": "python",
   "name": "python3"
  },
  "language_info": {
   "codemirror_mode": {
    "name": "ipython",
    "version": 3
   },
   "file_extension": ".py",
   "mimetype": "text/x-python",
   "name": "python",
   "nbconvert_exporter": "python",
   "pygments_lexer": "ipython3",
   "version": "3.7.6"
  }
 },
 "nbformat": 4,
 "nbformat_minor": 4
}
