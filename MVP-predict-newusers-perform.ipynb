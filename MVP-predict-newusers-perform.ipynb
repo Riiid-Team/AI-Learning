{
 "cells": [
  {
   "cell_type": "markdown",
   "metadata": {},
   "source": [
    "## Model to Predict New Users"
   ]
  },
  {
   "cell_type": "code",
   "execution_count": 43,
   "metadata": {},
   "outputs": [],
   "source": [
    "import warnings\n",
    "warnings.filterwarnings(\"ignore\")\n",
    "\n",
    "import pandas as pd\n",
    "import numpy as np\n",
    "import matplotlib.pyplot as plt\n",
    "import seaborn as sns\n",
    "\n",
    "import MVP_Davila, MVP_Ortiz, MVP_Shi\n",
    "\n",
    "from sklearn.preprocessing import MinMaxScaler"
   ]
  },
  {
   "cell_type": "markdown",
   "metadata": {},
   "source": [
    "### Acuqire the train, validate and test used for MVP"
   ]
  },
  {
   "cell_type": "code",
   "execution_count": 44,
   "metadata": {},
   "outputs": [
    {
     "data": {
      "text/plain": [
       "((411517, 18), (50842, 18), (52868, 18))"
      ]
     },
     "execution_count": 44,
     "metadata": {},
     "output_type": "execute_result"
    }
   ],
   "source": [
    "# Acquire the train, validate and test\n",
    "\n",
    "df_train = pd.read_csv('train.csv')\n",
    "df_validate = pd.read_csv('validate.csv')\n",
    "df_test = pd.read_csv('test.csv')\n",
    "\n",
    "df_train.shape, df_validate.shape, df_test.shape"
   ]
  },
  {
   "cell_type": "markdown",
   "metadata": {},
   "source": [
    "### Prepare to concat the train, validate and test"
   ]
  },
  {
   "cell_type": "code",
   "execution_count": 45,
   "metadata": {},
   "outputs": [
    {
     "data": {
      "text/plain": [
       "((411517, 9), (50842, 9), (52868, 9))"
      ]
     },
     "execution_count": 45,
     "metadata": {},
     "output_type": "execute_result"
    }
   ],
   "source": [
    "# Drop the columns merged from questions.csv and lectures.csv\n",
    "\n",
    "cols = ['lecture_id', 'tag', 'lecture_part', 'type_of', 'question_id',\n",
    "        'bundle_id', 'correct_answer', 'question_part', 'tags']\n",
    "\n",
    "df_train = df_train.drop(columns = cols)\n",
    "df_validate = df_validate.drop(columns = cols)\n",
    "df_test = df_test.drop(columns = cols)\n",
    "\n",
    "# Print the shapes\n",
    "df_train.shape, df_validate.shape, df_test.shape"
   ]
  },
  {
   "cell_type": "code",
   "execution_count": 46,
   "metadata": {},
   "outputs": [
    {
     "data": {
      "text/html": [
       "<div>\n",
       "<style scoped>\n",
       "    .dataframe tbody tr th:only-of-type {\n",
       "        vertical-align: middle;\n",
       "    }\n",
       "\n",
       "    .dataframe tbody tr th {\n",
       "        vertical-align: top;\n",
       "    }\n",
       "\n",
       "    .dataframe thead th {\n",
       "        text-align: right;\n",
       "    }\n",
       "</style>\n",
       "<table border=\"1\" class=\"dataframe\">\n",
       "  <thead>\n",
       "    <tr style=\"text-align: right;\">\n",
       "      <th></th>\n",
       "      <th>timestamp</th>\n",
       "      <th>user_id</th>\n",
       "      <th>content_id</th>\n",
       "      <th>content_type_id</th>\n",
       "      <th>task_container_id</th>\n",
       "      <th>user_answer</th>\n",
       "      <th>answered_correctly</th>\n",
       "      <th>prior_question_elapsed_time</th>\n",
       "      <th>prior_question_had_explanation</th>\n",
       "    </tr>\n",
       "  </thead>\n",
       "  <tbody>\n",
       "    <tr>\n",
       "      <th>0</th>\n",
       "      <td>0</td>\n",
       "      <td>1864702</td>\n",
       "      <td>5720</td>\n",
       "      <td>0</td>\n",
       "      <td>0</td>\n",
       "      <td>1</td>\n",
       "      <td>1</td>\n",
       "      <td>NaN</td>\n",
       "      <td>NaN</td>\n",
       "    </tr>\n",
       "  </tbody>\n",
       "</table>\n",
       "</div>"
      ],
      "text/plain": [
       "   timestamp  user_id  content_id  content_type_id  task_container_id  \\\n",
       "0          0  1864702        5720                0                  0   \n",
       "\n",
       "   user_answer  answered_correctly  prior_question_elapsed_time  \\\n",
       "0            1                   1                          NaN   \n",
       "\n",
       "  prior_question_had_explanation  \n",
       "0                            NaN  "
      ]
     },
     "execution_count": 46,
     "metadata": {},
     "output_type": "execute_result"
    }
   ],
   "source": [
    "# Take a look at the first user in train\n",
    "df_train.head(1)"
   ]
  },
  {
   "cell_type": "code",
   "execution_count": 47,
   "metadata": {},
   "outputs": [
    {
     "data": {
      "text/plain": [
       "3441"
      ]
     },
     "execution_count": 47,
     "metadata": {},
     "output_type": "execute_result"
    }
   ],
   "source": [
    "# Count the records of the first user in train\n",
    "(df_train.user_id == 1864702).sum()"
   ]
  },
  {
   "cell_type": "code",
   "execution_count": 48,
   "metadata": {},
   "outputs": [
    {
     "data": {
      "text/plain": [
       "430"
      ]
     },
     "execution_count": 48,
     "metadata": {},
     "output_type": "execute_result"
    }
   ],
   "source": [
    "# Count the records of the first user in validate\n",
    "(df_validate.user_id == 1864702).sum()"
   ]
  },
  {
   "cell_type": "code",
   "execution_count": 50,
   "metadata": {},
   "outputs": [
    {
     "data": {
      "text/plain": [
       "431"
      ]
     },
     "execution_count": 50,
     "metadata": {},
     "output_type": "execute_result"
    }
   ],
   "source": [
    "# Count the records of the first user in train\n",
    "(df_test.user_id == 1864702).sum()"
   ]
  },
  {
   "cell_type": "markdown",
   "metadata": {},
   "source": [
    "### Conat the train, validate and test"
   ]
  },
  {
   "cell_type": "code",
   "execution_count": 51,
   "metadata": {},
   "outputs": [
    {
     "data": {
      "text/plain": [
       "(515227, 9)"
      ]
     },
     "execution_count": 51,
     "metadata": {},
     "output_type": "execute_result"
    }
   ],
   "source": [
    "# Concat train, validate and test\n",
    "df = pd.concat([df_train, df_validate, df_test], ignore_index=True)\n",
    "\n",
    "# Print the shapes\n",
    "df.shape"
   ]
  },
  {
   "cell_type": "code",
   "execution_count": 52,
   "metadata": {},
   "outputs": [
    {
     "data": {
      "text/html": [
       "<div>\n",
       "<style scoped>\n",
       "    .dataframe tbody tr th:only-of-type {\n",
       "        vertical-align: middle;\n",
       "    }\n",
       "\n",
       "    .dataframe tbody tr th {\n",
       "        vertical-align: top;\n",
       "    }\n",
       "\n",
       "    .dataframe thead th {\n",
       "        text-align: right;\n",
       "    }\n",
       "</style>\n",
       "<table border=\"1\" class=\"dataframe\">\n",
       "  <thead>\n",
       "    <tr style=\"text-align: right;\">\n",
       "      <th></th>\n",
       "      <th>timestamp</th>\n",
       "      <th>user_id</th>\n",
       "      <th>content_id</th>\n",
       "      <th>content_type_id</th>\n",
       "      <th>task_container_id</th>\n",
       "      <th>user_answer</th>\n",
       "      <th>answered_correctly</th>\n",
       "      <th>prior_question_elapsed_time</th>\n",
       "      <th>prior_question_had_explanation</th>\n",
       "    </tr>\n",
       "  </thead>\n",
       "  <tbody>\n",
       "    <tr>\n",
       "      <th>0</th>\n",
       "      <td>0</td>\n",
       "      <td>1864702</td>\n",
       "      <td>5720</td>\n",
       "      <td>0</td>\n",
       "      <td>0</td>\n",
       "      <td>1</td>\n",
       "      <td>1</td>\n",
       "      <td>NaN</td>\n",
       "      <td>NaN</td>\n",
       "    </tr>\n",
       "    <tr>\n",
       "      <th>1</th>\n",
       "      <td>45951</td>\n",
       "      <td>1864702</td>\n",
       "      <td>5204</td>\n",
       "      <td>0</td>\n",
       "      <td>1</td>\n",
       "      <td>1</td>\n",
       "      <td>0</td>\n",
       "      <td>inf</td>\n",
       "      <td>False</td>\n",
       "    </tr>\n",
       "    <tr>\n",
       "      <th>2</th>\n",
       "      <td>74342</td>\n",
       "      <td>1864702</td>\n",
       "      <td>4094</td>\n",
       "      <td>0</td>\n",
       "      <td>2</td>\n",
       "      <td>1</td>\n",
       "      <td>1</td>\n",
       "      <td>43000.0</td>\n",
       "      <td>False</td>\n",
       "    </tr>\n",
       "    <tr>\n",
       "      <th>3</th>\n",
       "      <td>96778</td>\n",
       "      <td>1864702</td>\n",
       "      <td>9699</td>\n",
       "      <td>0</td>\n",
       "      <td>3</td>\n",
       "      <td>0</td>\n",
       "      <td>1</td>\n",
       "      <td>25000.0</td>\n",
       "      <td>False</td>\n",
       "    </tr>\n",
       "    <tr>\n",
       "      <th>4</th>\n",
       "      <td>132969</td>\n",
       "      <td>1864702</td>\n",
       "      <td>5889</td>\n",
       "      <td>0</td>\n",
       "      <td>4</td>\n",
       "      <td>2</td>\n",
       "      <td>0</td>\n",
       "      <td>19000.0</td>\n",
       "      <td>False</td>\n",
       "    </tr>\n",
       "    <tr>\n",
       "      <th>...</th>\n",
       "      <td>...</td>\n",
       "      <td>...</td>\n",
       "      <td>...</td>\n",
       "      <td>...</td>\n",
       "      <td>...</td>\n",
       "      <td>...</td>\n",
       "      <td>...</td>\n",
       "      <td>...</td>\n",
       "      <td>...</td>\n",
       "    </tr>\n",
       "    <tr>\n",
       "      <th>4300</th>\n",
       "      <td>23751096431</td>\n",
       "      <td>1864702</td>\n",
       "      <td>8326</td>\n",
       "      <td>0</td>\n",
       "      <td>2819</td>\n",
       "      <td>0</td>\n",
       "      <td>1</td>\n",
       "      <td>36000.0</td>\n",
       "      <td>True</td>\n",
       "    </tr>\n",
       "    <tr>\n",
       "      <th>4301</th>\n",
       "      <td>23928102914</td>\n",
       "      <td>1864702</td>\n",
       "      <td>8884</td>\n",
       "      <td>0</td>\n",
       "      <td>2820</td>\n",
       "      <td>0</td>\n",
       "      <td>1</td>\n",
       "      <td>4000.0</td>\n",
       "      <td>True</td>\n",
       "    </tr>\n",
       "    <tr>\n",
       "      <th>4302</th>\n",
       "      <td>0</td>\n",
       "      <td>1960671</td>\n",
       "      <td>4229</td>\n",
       "      <td>0</td>\n",
       "      <td>0</td>\n",
       "      <td>3</td>\n",
       "      <td>1</td>\n",
       "      <td>NaN</td>\n",
       "      <td>NaN</td>\n",
       "    </tr>\n",
       "    <tr>\n",
       "      <th>4303</th>\n",
       "      <td>29753</td>\n",
       "      <td>1960671</td>\n",
       "      <td>744</td>\n",
       "      <td>0</td>\n",
       "      <td>1</td>\n",
       "      <td>0</td>\n",
       "      <td>0</td>\n",
       "      <td>20000.0</td>\n",
       "      <td>False</td>\n",
       "    </tr>\n",
       "    <tr>\n",
       "      <th>4304</th>\n",
       "      <td>68317</td>\n",
       "      <td>1960671</td>\n",
       "      <td>5598</td>\n",
       "      <td>0</td>\n",
       "      <td>2</td>\n",
       "      <td>0</td>\n",
       "      <td>0</td>\n",
       "      <td>24000.0</td>\n",
       "      <td>False</td>\n",
       "    </tr>\n",
       "  </tbody>\n",
       "</table>\n",
       "<p>4305 rows × 9 columns</p>\n",
       "</div>"
      ],
      "text/plain": [
       "        timestamp  user_id  content_id  content_type_id  task_container_id  \\\n",
       "0               0  1864702        5720                0                  0   \n",
       "1           45951  1864702        5204                0                  1   \n",
       "2           74342  1864702        4094                0                  2   \n",
       "3           96778  1864702        9699                0                  3   \n",
       "4          132969  1864702        5889                0                  4   \n",
       "...           ...      ...         ...              ...                ...   \n",
       "4300  23751096431  1864702        8326                0               2819   \n",
       "4301  23928102914  1864702        8884                0               2820   \n",
       "4302            0  1960671        4229                0                  0   \n",
       "4303        29753  1960671         744                0                  1   \n",
       "4304        68317  1960671        5598                0                  2   \n",
       "\n",
       "      user_answer  answered_correctly  prior_question_elapsed_time  \\\n",
       "0               1                   1                          NaN   \n",
       "1               1                   0                          inf   \n",
       "2               1                   1                      43000.0   \n",
       "3               0                   1                      25000.0   \n",
       "4               2                   0                      19000.0   \n",
       "...           ...                 ...                          ...   \n",
       "4300            0                   1                      36000.0   \n",
       "4301            0                   1                       4000.0   \n",
       "4302            3                   1                          NaN   \n",
       "4303            0                   0                      20000.0   \n",
       "4304            0                   0                      24000.0   \n",
       "\n",
       "     prior_question_had_explanation  \n",
       "0                               NaN  \n",
       "1                             False  \n",
       "2                             False  \n",
       "3                             False  \n",
       "4                             False  \n",
       "...                             ...  \n",
       "4300                           True  \n",
       "4301                           True  \n",
       "4302                            NaN  \n",
       "4303                          False  \n",
       "4304                          False  \n",
       "\n",
       "[4305 rows x 9 columns]"
      ]
     },
     "execution_count": 52,
     "metadata": {},
     "output_type": "execute_result"
    }
   ],
   "source": [
    "# Sort the dataframe by \"user_id\" and \"timestamp\"\n",
    "\n",
    "df = df.sort_values([\"user_id\", \"timestamp\"], ignore_index=True)\n",
    "df.head(4305)"
   ]
  },
  {
   "cell_type": "markdown",
   "metadata": {},
   "source": [
    "### Split the data into old and new users"
   ]
  },
  {
   "cell_type": "code",
   "execution_count": 53,
   "metadata": {},
   "outputs": [
    {
     "data": {
      "text/plain": [
       "((411274, 9), (56956, 9), (46997, 9))"
      ]
     },
     "execution_count": 53,
     "metadata": {},
     "output_type": "execute_result"
    }
   ],
   "source": [
    "# Split to older and new users\n",
    "\n",
    "train, validate, test = MVP_Ortiz.train_validate_test(df, sampled=False)\n",
    "train.shape, validate.shape, test.shape"
   ]
  },
  {
   "cell_type": "code",
   "execution_count": 54,
   "metadata": {},
   "outputs": [
    {
     "data": {
      "text/plain": [
       "4302"
      ]
     },
     "execution_count": 54,
     "metadata": {},
     "output_type": "execute_result"
    }
   ],
   "source": [
    "# Count the records of the first user in train\n",
    "(train.user_id == 1864702).sum()"
   ]
  },
  {
   "cell_type": "code",
   "execution_count": 55,
   "metadata": {},
   "outputs": [
    {
     "data": {
      "text/plain": [
       "0"
      ]
     },
     "execution_count": 55,
     "metadata": {},
     "output_type": "execute_result"
    }
   ],
   "source": [
    "# Count the records of the first user in train\n",
    "(validate.user_id == 1864702).sum()"
   ]
  },
  {
   "cell_type": "code",
   "execution_count": 56,
   "metadata": {},
   "outputs": [
    {
     "data": {
      "text/plain": [
       "0"
      ]
     },
     "execution_count": 56,
     "metadata": {},
     "output_type": "execute_result"
    }
   ],
   "source": [
    "# Count the records of the first user in train\n",
    "(test.user_id == 1864702).sum()"
   ]
  },
  {
   "cell_type": "markdown",
   "metadata": {},
   "source": [
    "### Merge with 1st Part of the new features"
   ]
  },
  {
   "cell_type": "code",
   "execution_count": 57,
   "metadata": {},
   "outputs": [
    {
     "data": {
      "text/plain": [
       "((411517, 13), (50842, 12), (52868, 12))"
      ]
     },
     "execution_count": 57,
     "metadata": {},
     "output_type": "execute_result"
    }
   ],
   "source": [
    "# Add new features part one\n",
    "\n",
    "train = MVP_Davila.sam_train_features(df_train)\n",
    "validate = MVP_Davila.sam_valtest_features(train, df_validate)\n",
    "test = MVP_Davila.sam_valtest_features(train, df_test)\n",
    "\n",
    "train.shape, validate.shape, test.shape"
   ]
  },
  {
   "cell_type": "markdown",
   "metadata": {},
   "source": [
    "### Prepare to merge with 2nd part of the new features"
   ]
  },
  {
   "cell_type": "code",
   "execution_count": 58,
   "metadata": {},
   "outputs": [],
   "source": [
    "# Handle the null values\n",
    "\n",
    "train = MVP_Shi.handle_null(train)\n",
    "validate = MVP_Shi.handle_null(validate)\n",
    "test = MVP_Shi.handle_null(test)"
   ]
  },
  {
   "cell_type": "code",
   "execution_count": 59,
   "metadata": {},
   "outputs": [],
   "source": [
    "# Handle the inf values\n",
    "\n",
    "train = MVP_Shi.handle_inf(train)\n",
    "validate = MVP_Shi.handle_inf(validate)\n",
    "test = MVP_Shi.handle_inf(test)"
   ]
  },
  {
   "cell_type": "code",
   "execution_count": 60,
   "metadata": {},
   "outputs": [],
   "source": [
    "# Drop the lecture rows\n",
    "\n",
    "train = MVP_Shi.drop_lecture_rows(train)\n",
    "validate = MVP_Shi.drop_lecture_rows(validate)\n",
    "test = MVP_Shi.drop_lecture_rows(test)"
   ]
  },
  {
   "cell_type": "markdown",
   "metadata": {},
   "source": [
    "### Merge the 2nd part of the new features"
   ]
  },
  {
   "cell_type": "code",
   "execution_count": 61,
   "metadata": {},
   "outputs": [
    {
     "data": {
      "text/plain": [
       "((403377, 17), (51971, 16), (51971, 16))"
      ]
     },
     "execution_count": 61,
     "metadata": {},
     "output_type": "execute_result"
    }
   ],
   "source": [
    "# Merge the new features genereated from Shi\n",
    "\n",
    "train = MVP_Shi.merge_with_stats_train(train)\n",
    "validate = MVP_Shi.merge_with_stats_valortest(train, test)\n",
    "test = MVP_Shi.merge_with_stats_valortest(train, test)\n",
    "\n",
    "train.shape, validate.shape, test.shape"
   ]
  },
  {
   "cell_type": "markdown",
   "metadata": {},
   "source": [
    "### Drop the redundant columns"
   ]
  },
  {
   "cell_type": "code",
   "execution_count": 62,
   "metadata": {},
   "outputs": [],
   "source": [
    "train = MVP_Shi.drop_columns_train(train)\n",
    "validate = MVP_Shi.drop_columns_valortest(validate)\n",
    "test = MVP_Shi.drop_columns_valortest(test)"
   ]
  },
  {
   "cell_type": "markdown",
   "metadata": {},
   "source": [
    "### Fill the missing values"
   ]
  },
  {
   "cell_type": "code",
   "execution_count": 63,
   "metadata": {},
   "outputs": [
    {
     "data": {
      "text/plain": [
       "answered_correctly                0\n",
       "prior_question_had_explanation    0\n",
       "user_acc_mean                     0\n",
       "user_lectures_running_total       0\n",
       "avg_user_q_time                   0\n",
       "mean_content_accuracy             0\n",
       "mean_task_accuracy                0\n",
       "mean_timestamp_accuracy           0\n",
       "mean_priortime_accuracy           0\n",
       "dtype: int64"
      ]
     },
     "execution_count": 63,
     "metadata": {},
     "output_type": "execute_result"
    }
   ],
   "source": [
    "train.isnull().sum(axis=0)"
   ]
  },
  {
   "cell_type": "code",
   "execution_count": 64,
   "metadata": {},
   "outputs": [
    {
     "data": {
      "text/plain": [
       "answered_correctly                   0\n",
       "prior_question_had_explanation       0\n",
       "user_acc_mean                        0\n",
       "user_lectures_running_total          0\n",
       "avg_user_q_time                      0\n",
       "mean_content_accuracy              308\n",
       "mean_task_accuracy                1413\n",
       "mean_timestamp_accuracy              0\n",
       "mean_priortime_accuracy              0\n",
       "dtype: int64"
      ]
     },
     "execution_count": 64,
     "metadata": {},
     "output_type": "execute_result"
    }
   ],
   "source": [
    "validate.isnull().sum(axis=0)"
   ]
  },
  {
   "cell_type": "code",
   "execution_count": 65,
   "metadata": {},
   "outputs": [
    {
     "data": {
      "text/plain": [
       "answered_correctly                   0\n",
       "prior_question_had_explanation       0\n",
       "user_acc_mean                        0\n",
       "user_lectures_running_total          0\n",
       "avg_user_q_time                      0\n",
       "mean_content_accuracy              308\n",
       "mean_task_accuracy                1413\n",
       "mean_timestamp_accuracy              0\n",
       "mean_priortime_accuracy              0\n",
       "dtype: int64"
      ]
     },
     "execution_count": 65,
     "metadata": {},
     "output_type": "execute_result"
    }
   ],
   "source": [
    "test.isnull().sum(axis=0)"
   ]
  },
  {
   "cell_type": "code",
   "execution_count": 66,
   "metadata": {},
   "outputs": [],
   "source": [
    "validate = MVP_Shi.fill_nulls(validate)\n",
    "test = MVP_Shi.fill_nulls(test)"
   ]
  },
  {
   "cell_type": "markdown",
   "metadata": {},
   "source": [
    "### Scale the columns"
   ]
  },
  {
   "cell_type": "code",
   "execution_count": 67,
   "metadata": {},
   "outputs": [
    {
     "data": {
      "text/plain": [
       "((403377, 9), (51971, 9), (51971, 9))"
      ]
     },
     "execution_count": 67,
     "metadata": {},
     "output_type": "execute_result"
    }
   ],
   "source": [
    "columns_to_scale = ['mean_timestamp_accuracy', 'mean_priortime_accuracy',\n",
    "                    'user_lectures_running_total', 'avg_user_q_time']\n",
    "\n",
    "scaler, train_scaled, validate_scaled, test_scaled = MVP_Shi.scale(train, \n",
    "                                                                   validate, \n",
    "                                                                   test, \n",
    "                                                                   columns_to_scale)\n",
    "\n",
    "train_scaled.shape, validate_scaled.shape, test_scaled.shape"
   ]
  },
  {
   "cell_type": "markdown",
   "metadata": {},
   "source": [
    "### Convert the boolean values to 0 and 1"
   ]
  },
  {
   "cell_type": "code",
   "execution_count": 68,
   "metadata": {},
   "outputs": [],
   "source": [
    "train_scaled = MVP_Shi.boolean_to_num(train_scaled)\n",
    "validate_scaled = MVP_Shi.boolean_to_num(validate_scaled)\n",
    "test_scaled = MVP_Shi.boolean_to_num(test_scaled)"
   ]
  },
  {
   "cell_type": "code",
   "execution_count": 69,
   "metadata": {},
   "outputs": [
    {
     "data": {
      "text/html": [
       "<div>\n",
       "<style scoped>\n",
       "    .dataframe tbody tr th:only-of-type {\n",
       "        vertical-align: middle;\n",
       "    }\n",
       "\n",
       "    .dataframe tbody tr th {\n",
       "        vertical-align: top;\n",
       "    }\n",
       "\n",
       "    .dataframe thead th {\n",
       "        text-align: right;\n",
       "    }\n",
       "</style>\n",
       "<table border=\"1\" class=\"dataframe\">\n",
       "  <thead>\n",
       "    <tr style=\"text-align: right;\">\n",
       "      <th></th>\n",
       "      <th>answered_correctly</th>\n",
       "      <th>prior_question_had_explanation</th>\n",
       "      <th>user_acc_mean</th>\n",
       "      <th>mean_content_accuracy</th>\n",
       "      <th>mean_task_accuracy</th>\n",
       "      <th>mean_timestamp_accuracy_scaled</th>\n",
       "      <th>mean_priortime_accuracy_scaled</th>\n",
       "      <th>user_lectures_running_total_scaled</th>\n",
       "      <th>avg_user_q_time_scaled</th>\n",
       "    </tr>\n",
       "  </thead>\n",
       "  <tbody>\n",
       "    <tr>\n",
       "      <th>0</th>\n",
       "      <td>1</td>\n",
       "      <td>0</td>\n",
       "      <td>0.630049</td>\n",
       "      <td>0.818182</td>\n",
       "      <td>0.682248</td>\n",
       "      <td>0.119858</td>\n",
       "      <td>0.515734</td>\n",
       "      <td>0.0</td>\n",
       "      <td>0.002404</td>\n",
       "    </tr>\n",
       "    <tr>\n",
       "      <th>1</th>\n",
       "      <td>0</td>\n",
       "      <td>0</td>\n",
       "      <td>0.630049</td>\n",
       "      <td>0.550000</td>\n",
       "      <td>0.534988</td>\n",
       "      <td>0.119858</td>\n",
       "      <td>0.515734</td>\n",
       "      <td>0.0</td>\n",
       "      <td>0.002404</td>\n",
       "    </tr>\n",
       "    <tr>\n",
       "      <th>2</th>\n",
       "      <td>1</td>\n",
       "      <td>0</td>\n",
       "      <td>0.630049</td>\n",
       "      <td>0.444444</td>\n",
       "      <td>0.445216</td>\n",
       "      <td>0.119858</td>\n",
       "      <td>0.515734</td>\n",
       "      <td>0.0</td>\n",
       "      <td>0.002404</td>\n",
       "    </tr>\n",
       "    <tr>\n",
       "      <th>3</th>\n",
       "      <td>1</td>\n",
       "      <td>0</td>\n",
       "      <td>0.630049</td>\n",
       "      <td>0.406250</td>\n",
       "      <td>0.544008</td>\n",
       "      <td>0.119858</td>\n",
       "      <td>0.515734</td>\n",
       "      <td>0.0</td>\n",
       "      <td>0.002404</td>\n",
       "    </tr>\n",
       "    <tr>\n",
       "      <th>4</th>\n",
       "      <td>0</td>\n",
       "      <td>0</td>\n",
       "      <td>0.630049</td>\n",
       "      <td>0.687500</td>\n",
       "      <td>0.485282</td>\n",
       "      <td>0.119858</td>\n",
       "      <td>0.515734</td>\n",
       "      <td>0.0</td>\n",
       "      <td>0.002404</td>\n",
       "    </tr>\n",
       "  </tbody>\n",
       "</table>\n",
       "</div>"
      ],
      "text/plain": [
       "   answered_correctly  prior_question_had_explanation  user_acc_mean  \\\n",
       "0                   1                               0       0.630049   \n",
       "1                   0                               0       0.630049   \n",
       "2                   1                               0       0.630049   \n",
       "3                   1                               0       0.630049   \n",
       "4                   0                               0       0.630049   \n",
       "\n",
       "   mean_content_accuracy  mean_task_accuracy  mean_timestamp_accuracy_scaled  \\\n",
       "0               0.818182            0.682248                        0.119858   \n",
       "1               0.550000            0.534988                        0.119858   \n",
       "2               0.444444            0.445216                        0.119858   \n",
       "3               0.406250            0.544008                        0.119858   \n",
       "4               0.687500            0.485282                        0.119858   \n",
       "\n",
       "   mean_priortime_accuracy_scaled  user_lectures_running_total_scaled  \\\n",
       "0                        0.515734                                 0.0   \n",
       "1                        0.515734                                 0.0   \n",
       "2                        0.515734                                 0.0   \n",
       "3                        0.515734                                 0.0   \n",
       "4                        0.515734                                 0.0   \n",
       "\n",
       "   avg_user_q_time_scaled  \n",
       "0                0.002404  \n",
       "1                0.002404  \n",
       "2                0.002404  \n",
       "3                0.002404  \n",
       "4                0.002404  "
      ]
     },
     "execution_count": 69,
     "metadata": {},
     "output_type": "execute_result"
    }
   ],
   "source": [
    "# Take a peek at the train_scaled\n",
    "train_scaled.head()"
   ]
  },
  {
   "cell_type": "code",
   "execution_count": 70,
   "metadata": {},
   "outputs": [
    {
     "data": {
      "text/html": [
       "<div>\n",
       "<style scoped>\n",
       "    .dataframe tbody tr th:only-of-type {\n",
       "        vertical-align: middle;\n",
       "    }\n",
       "\n",
       "    .dataframe tbody tr th {\n",
       "        vertical-align: top;\n",
       "    }\n",
       "\n",
       "    .dataframe thead th {\n",
       "        text-align: right;\n",
       "    }\n",
       "</style>\n",
       "<table border=\"1\" class=\"dataframe\">\n",
       "  <thead>\n",
       "    <tr style=\"text-align: right;\">\n",
       "      <th></th>\n",
       "      <th>answered_correctly</th>\n",
       "      <th>prior_question_had_explanation</th>\n",
       "      <th>user_acc_mean</th>\n",
       "      <th>mean_content_accuracy</th>\n",
       "      <th>mean_task_accuracy</th>\n",
       "      <th>mean_timestamp_accuracy_scaled</th>\n",
       "      <th>mean_priortime_accuracy_scaled</th>\n",
       "      <th>user_lectures_running_total_scaled</th>\n",
       "      <th>avg_user_q_time_scaled</th>\n",
       "    </tr>\n",
       "  </thead>\n",
       "  <tbody>\n",
       "    <tr>\n",
       "      <th>count</th>\n",
       "      <td>403377.000000</td>\n",
       "      <td>403377.000000</td>\n",
       "      <td>403377.000000</td>\n",
       "      <td>403377.000000</td>\n",
       "      <td>403377.000000</td>\n",
       "      <td>403377.000000</td>\n",
       "      <td>403377.000000</td>\n",
       "      <td>403377.000000</td>\n",
       "      <td>403377.000000</td>\n",
       "    </tr>\n",
       "    <tr>\n",
       "      <th>mean</th>\n",
       "      <td>0.650932</td>\n",
       "      <td>0.892944</td>\n",
       "      <td>0.618786</td>\n",
       "      <td>0.650932</td>\n",
       "      <td>0.650932</td>\n",
       "      <td>0.107803</td>\n",
       "      <td>0.517965</td>\n",
       "      <td>0.096597</td>\n",
       "      <td>0.004366</td>\n",
       "    </tr>\n",
       "    <tr>\n",
       "      <th>std</th>\n",
       "      <td>0.476676</td>\n",
       "      <td>0.309185</td>\n",
       "      <td>0.114756</td>\n",
       "      <td>0.190522</td>\n",
       "      <td>0.092857</td>\n",
       "      <td>0.137157</td>\n",
       "      <td>0.094209</td>\n",
       "      <td>0.167786</td>\n",
       "      <td>0.016398</td>\n",
       "    </tr>\n",
       "    <tr>\n",
       "      <th>min</th>\n",
       "      <td>0.000000</td>\n",
       "      <td>0.000000</td>\n",
       "      <td>0.000000</td>\n",
       "      <td>0.000000</td>\n",
       "      <td>0.000000</td>\n",
       "      <td>0.000000</td>\n",
       "      <td>0.000000</td>\n",
       "      <td>0.000000</td>\n",
       "      <td>0.000000</td>\n",
       "    </tr>\n",
       "    <tr>\n",
       "      <th>25%</th>\n",
       "      <td>0.000000</td>\n",
       "      <td>1.000000</td>\n",
       "      <td>0.565401</td>\n",
       "      <td>0.528302</td>\n",
       "      <td>0.632065</td>\n",
       "      <td>0.016120</td>\n",
       "      <td>0.457568</td>\n",
       "      <td>0.000000</td>\n",
       "      <td>0.000562</td>\n",
       "    </tr>\n",
       "    <tr>\n",
       "      <th>50%</th>\n",
       "      <td>1.000000</td>\n",
       "      <td>1.000000</td>\n",
       "      <td>0.631980</td>\n",
       "      <td>0.666667</td>\n",
       "      <td>0.657110</td>\n",
       "      <td>0.040298</td>\n",
       "      <td>0.528699</td>\n",
       "      <td>0.024000</td>\n",
       "      <td>0.001482</td>\n",
       "    </tr>\n",
       "    <tr>\n",
       "      <th>75%</th>\n",
       "      <td>1.000000</td>\n",
       "      <td>1.000000</td>\n",
       "      <td>0.697571</td>\n",
       "      <td>0.793651</td>\n",
       "      <td>0.684564</td>\n",
       "      <td>0.180794</td>\n",
       "      <td>0.582036</td>\n",
       "      <td>0.112000</td>\n",
       "      <td>0.003066</td>\n",
       "    </tr>\n",
       "    <tr>\n",
       "      <th>max</th>\n",
       "      <td>1.000000</td>\n",
       "      <td>1.000000</td>\n",
       "      <td>1.000000</td>\n",
       "      <td>1.000000</td>\n",
       "      <td>1.000000</td>\n",
       "      <td>1.000000</td>\n",
       "      <td>1.000000</td>\n",
       "      <td>1.000000</td>\n",
       "      <td>1.000000</td>\n",
       "    </tr>\n",
       "  </tbody>\n",
       "</table>\n",
       "</div>"
      ],
      "text/plain": [
       "       answered_correctly  prior_question_had_explanation  user_acc_mean  \\\n",
       "count       403377.000000                   403377.000000  403377.000000   \n",
       "mean             0.650932                        0.892944       0.618786   \n",
       "std              0.476676                        0.309185       0.114756   \n",
       "min              0.000000                        0.000000       0.000000   \n",
       "25%              0.000000                        1.000000       0.565401   \n",
       "50%              1.000000                        1.000000       0.631980   \n",
       "75%              1.000000                        1.000000       0.697571   \n",
       "max              1.000000                        1.000000       1.000000   \n",
       "\n",
       "       mean_content_accuracy  mean_task_accuracy  \\\n",
       "count          403377.000000       403377.000000   \n",
       "mean                0.650932            0.650932   \n",
       "std                 0.190522            0.092857   \n",
       "min                 0.000000            0.000000   \n",
       "25%                 0.528302            0.632065   \n",
       "50%                 0.666667            0.657110   \n",
       "75%                 0.793651            0.684564   \n",
       "max                 1.000000            1.000000   \n",
       "\n",
       "       mean_timestamp_accuracy_scaled  mean_priortime_accuracy_scaled  \\\n",
       "count                   403377.000000                   403377.000000   \n",
       "mean                         0.107803                        0.517965   \n",
       "std                          0.137157                        0.094209   \n",
       "min                          0.000000                        0.000000   \n",
       "25%                          0.016120                        0.457568   \n",
       "50%                          0.040298                        0.528699   \n",
       "75%                          0.180794                        0.582036   \n",
       "max                          1.000000                        1.000000   \n",
       "\n",
       "       user_lectures_running_total_scaled  avg_user_q_time_scaled  \n",
       "count                       403377.000000           403377.000000  \n",
       "mean                             0.096597                0.004366  \n",
       "std                              0.167786                0.016398  \n",
       "min                              0.000000                0.000000  \n",
       "25%                              0.000000                0.000562  \n",
       "50%                              0.024000                0.001482  \n",
       "75%                              0.112000                0.003066  \n",
       "max                              1.000000                1.000000  "
      ]
     },
     "execution_count": 70,
     "metadata": {},
     "output_type": "execute_result"
    }
   ],
   "source": [
    "# Print the descriptive statistics in train_scaled\n",
    "train_scaled.describe()"
   ]
  },
  {
   "cell_type": "markdown",
   "metadata": {},
   "source": [
    "### Seperate the features and target"
   ]
  },
  {
   "cell_type": "code",
   "execution_count": 71,
   "metadata": {},
   "outputs": [],
   "source": [
    "X_train = train_scaled.drop(columns='answered_correctly')\n",
    "y_train = train_scaled['answered_correctly']\n",
    "\n",
    "X_validate = validate_scaled.drop(columns='answered_correctly')\n",
    "y_validate = validate_scaled['answered_correctly']\n",
    "\n",
    "X_test = test_scaled.drop(columns='answered_correctly')\n",
    "y_test = test_scaled['answered_correctly']"
   ]
  },
  {
   "cell_type": "code",
   "execution_count": 72,
   "metadata": {},
   "outputs": [
    {
     "data": {
      "text/html": [
       "<div>\n",
       "<style scoped>\n",
       "    .dataframe tbody tr th:only-of-type {\n",
       "        vertical-align: middle;\n",
       "    }\n",
       "\n",
       "    .dataframe tbody tr th {\n",
       "        vertical-align: top;\n",
       "    }\n",
       "\n",
       "    .dataframe thead th {\n",
       "        text-align: right;\n",
       "    }\n",
       "</style>\n",
       "<table border=\"1\" class=\"dataframe\">\n",
       "  <thead>\n",
       "    <tr style=\"text-align: right;\">\n",
       "      <th></th>\n",
       "      <th>prior_question_had_explanation</th>\n",
       "      <th>user_acc_mean</th>\n",
       "      <th>mean_content_accuracy</th>\n",
       "      <th>mean_task_accuracy</th>\n",
       "      <th>mean_timestamp_accuracy_scaled</th>\n",
       "      <th>mean_priortime_accuracy_scaled</th>\n",
       "      <th>user_lectures_running_total_scaled</th>\n",
       "      <th>avg_user_q_time_scaled</th>\n",
       "    </tr>\n",
       "  </thead>\n",
       "  <tbody>\n",
       "    <tr>\n",
       "      <th>0</th>\n",
       "      <td>0</td>\n",
       "      <td>0.630049</td>\n",
       "      <td>0.818182</td>\n",
       "      <td>0.682248</td>\n",
       "      <td>0.119858</td>\n",
       "      <td>0.515734</td>\n",
       "      <td>0.0</td>\n",
       "      <td>0.002404</td>\n",
       "    </tr>\n",
       "    <tr>\n",
       "      <th>1</th>\n",
       "      <td>0</td>\n",
       "      <td>0.630049</td>\n",
       "      <td>0.550000</td>\n",
       "      <td>0.534988</td>\n",
       "      <td>0.119858</td>\n",
       "      <td>0.515734</td>\n",
       "      <td>0.0</td>\n",
       "      <td>0.002404</td>\n",
       "    </tr>\n",
       "    <tr>\n",
       "      <th>2</th>\n",
       "      <td>0</td>\n",
       "      <td>0.630049</td>\n",
       "      <td>0.444444</td>\n",
       "      <td>0.445216</td>\n",
       "      <td>0.119858</td>\n",
       "      <td>0.515734</td>\n",
       "      <td>0.0</td>\n",
       "      <td>0.002404</td>\n",
       "    </tr>\n",
       "  </tbody>\n",
       "</table>\n",
       "</div>"
      ],
      "text/plain": [
       "   prior_question_had_explanation  user_acc_mean  mean_content_accuracy  \\\n",
       "0                               0       0.630049               0.818182   \n",
       "1                               0       0.630049               0.550000   \n",
       "2                               0       0.630049               0.444444   \n",
       "\n",
       "   mean_task_accuracy  mean_timestamp_accuracy_scaled  \\\n",
       "0            0.682248                        0.119858   \n",
       "1            0.534988                        0.119858   \n",
       "2            0.445216                        0.119858   \n",
       "\n",
       "   mean_priortime_accuracy_scaled  user_lectures_running_total_scaled  \\\n",
       "0                        0.515734                                 0.0   \n",
       "1                        0.515734                                 0.0   \n",
       "2                        0.515734                                 0.0   \n",
       "\n",
       "   avg_user_q_time_scaled  \n",
       "0                0.002404  \n",
       "1                0.002404  \n",
       "2                0.002404  "
      ]
     },
     "execution_count": 72,
     "metadata": {},
     "output_type": "execute_result"
    }
   ],
   "source": [
    "# Take a peek at the X_train\n",
    "X_train.head(3)"
   ]
  },
  {
   "cell_type": "code",
   "execution_count": 73,
   "metadata": {},
   "outputs": [
    {
     "data": {
      "text/plain": [
       "0    1\n",
       "1    0\n",
       "2    1\n",
       "Name: answered_correctly, dtype: int64"
      ]
     },
     "execution_count": 73,
     "metadata": {},
     "output_type": "execute_result"
    }
   ],
   "source": [
    "# Take a peak at the y_train\n",
    "y_train.head(3)"
   ]
  },
  {
   "cell_type": "markdown",
   "metadata": {},
   "source": [
    "### SelectKBest"
   ]
  },
  {
   "cell_type": "code",
   "execution_count": 74,
   "metadata": {},
   "outputs": [
    {
     "data": {
      "text/plain": [
       "['prior_question_had_explanation',\n",
       " 'user_acc_mean',\n",
       " 'mean_content_accuracy',\n",
       " 'mean_task_accuracy',\n",
       " 'mean_timestamp_accuracy_scaled']"
      ]
     },
     "execution_count": 74,
     "metadata": {},
     "output_type": "execute_result"
    }
   ],
   "source": [
    "from sklearn.feature_selection import SelectKBest, f_regression\n",
    "\n",
    "# parameters: f_regression stats test, give me 4 features\n",
    "f_selector = SelectKBest(f_regression, k=5)\n",
    "\n",
    "# find the top 4 X's correlated with y\n",
    "f_selector.fit(X_train, y_train)\n",
    "\n",
    "# boolean mask of whether the column was selected or not. \n",
    "feature_mask = f_selector.get_support()\n",
    "\n",
    "# get list of top K features. \n",
    "f_feature = X_train.iloc[:,feature_mask].columns.tolist()\n",
    "\n",
    "f_feature"
   ]
  },
  {
   "cell_type": "markdown",
   "metadata": {},
   "source": [
    "### Baseline AUC\n",
    "- Randomly generated classes\n",
    "- Most frequent class"
   ]
  },
  {
   "cell_type": "markdown",
   "metadata": {},
   "source": [
    "### Use the randomly generated classes as the baseline"
   ]
  },
  {
   "cell_type": "code",
   "execution_count": 75,
   "metadata": {},
   "outputs": [
    {
     "name": "stdout",
     "output_type": "stream",
     "text": [
      "403377\n"
     ]
    },
    {
     "data": {
      "text/plain": [
       "0         1\n",
       "1         0\n",
       "2         1\n",
       "3         1\n",
       "4         0\n",
       "         ..\n",
       "403372    1\n",
       "403373    0\n",
       "403374    0\n",
       "403375    0\n",
       "403376    1\n",
       "Name: answered_correctly, Length: 403377, dtype: int64"
      ]
     },
     "execution_count": 75,
     "metadata": {},
     "output_type": "execute_result"
    }
   ],
   "source": [
    "# Create the y_predicted on y_train\n",
    "\n",
    "size = y_train.size\n",
    "print(size)\n",
    "y_train"
   ]
  },
  {
   "cell_type": "code",
   "execution_count": 76,
   "metadata": {},
   "outputs": [
    {
     "data": {
      "text/plain": [
       "array([1, 1, 1, ..., 1, 1, 1])"
      ]
     },
     "execution_count": 76,
     "metadata": {},
     "output_type": "execute_result"
    }
   ],
   "source": [
    "y_baseline = np.random.randint(2, size=size)\n",
    "y_baseline"
   ]
  },
  {
   "cell_type": "code",
   "execution_count": 77,
   "metadata": {},
   "outputs": [
    {
     "data": {
      "text/plain": [
       "0.5004770760056451"
      ]
     },
     "execution_count": 77,
     "metadata": {},
     "output_type": "execute_result"
    }
   ],
   "source": [
    "roc_auc_score(y_train, y_baseline)"
   ]
  },
  {
   "cell_type": "markdown",
   "metadata": {},
   "source": [
    "### Use the most frequent calss as the baseline"
   ]
  },
  {
   "cell_type": "code",
   "execution_count": 78,
   "metadata": {},
   "outputs": [
    {
     "data": {
      "text/plain": [
       "1    0.650932\n",
       "0    0.349068\n",
       "Name: answered_correctly, dtype: float64"
      ]
     },
     "execution_count": 78,
     "metadata": {},
     "output_type": "execute_result"
    }
   ],
   "source": [
    "y_train.value_counts(normalize=True)"
   ]
  },
  {
   "cell_type": "code",
   "execution_count": 79,
   "metadata": {},
   "outputs": [
    {
     "data": {
      "text/plain": [
       "0         1\n",
       "1         0\n",
       "2         1\n",
       "3         1\n",
       "4         0\n",
       "         ..\n",
       "403372    1\n",
       "403373    0\n",
       "403374    0\n",
       "403375    0\n",
       "403376    1\n",
       "Name: answered_correctly, Length: 403377, dtype: int64"
      ]
     },
     "execution_count": 79,
     "metadata": {},
     "output_type": "execute_result"
    }
   ],
   "source": [
    "y_train"
   ]
  },
  {
   "cell_type": "code",
   "execution_count": 80,
   "metadata": {
    "scrolled": false
   },
   "outputs": [
    {
     "data": {
      "text/plain": [
       "array([1, 1, 1, ..., 1, 1, 1])"
      ]
     },
     "execution_count": 80,
     "metadata": {},
     "output_type": "execute_result"
    }
   ],
   "source": [
    "y_baseline2 = np.array([1]*size)\n",
    "y_baseline2"
   ]
  },
  {
   "cell_type": "code",
   "execution_count": 81,
   "metadata": {},
   "outputs": [
    {
     "data": {
      "text/plain": [
       "0.5"
      ]
     },
     "execution_count": 81,
     "metadata": {},
     "output_type": "execute_result"
    }
   ],
   "source": [
    "roc_auc_score(y_train, y_baseline2)"
   ]
  },
  {
   "cell_type": "markdown",
   "metadata": {},
   "source": [
    "### Modeling on various classificaiton algorithms"
   ]
  },
  {
   "cell_type": "code",
   "execution_count": 82,
   "metadata": {},
   "outputs": [],
   "source": [
    "# Create a list of names of the classifiers\n",
    "\n",
    "names = ['LogisticRegression', # predict_proba: yes\n",
    "         'Decision Tree', # predict_proba: yes\n",
    "         'Random Forest', # predict_proba: yes\n",
    "         'Ada Boost', # predict_proba: yes\n",
    "         'Gradient Boost', # predict_proba: yes\n",
    "         'Nearest Neighbors', # predict_proba: yes\n",
    "         'Naive Bayes', # predict_proba: yes\n",
    "         'Neural Net' # predict_proba: yes\n",
    "        ]"
   ]
  },
  {
   "cell_type": "code",
   "execution_count": 83,
   "metadata": {},
   "outputs": [],
   "source": [
    "# Create a list of classifiers\n",
    "\n",
    "classifiers = [LogisticRegression(), \n",
    "               DecisionTreeClassifier(max_depth=3),\n",
    "               RandomForestClassifier(max_depth=3),\n",
    "               AdaBoostClassifier(),\n",
    "               GradientBoostingClassifier(),\n",
    "               KNeighborsClassifier(3),\n",
    "               GaussianNB(), \n",
    "               MLPClassifier()\n",
    "              ]"
   ]
  },
  {
   "cell_type": "code",
   "execution_count": 84,
   "metadata": {},
   "outputs": [
    {
     "data": {
      "text/plain": [
       "True"
      ]
     },
     "execution_count": 84,
     "metadata": {},
     "output_type": "execute_result"
    }
   ],
   "source": [
    "# The size between the two should be the same\n",
    "len(names) == len(classifiers)"
   ]
  },
  {
   "cell_type": "code",
   "execution_count": 85,
   "metadata": {},
   "outputs": [
    {
     "name": "stdout",
     "output_type": "stream",
     "text": [
      "Currently runnig on model LogisticRegression\n",
      "Currently runnig on model Decision Tree\n",
      "Currently runnig on model Random Forest\n",
      "Currently runnig on model Ada Boost\n",
      "Currently runnig on model Gradient Boost\n",
      "Currently runnig on model Nearest Neighbors\n",
      "Currently runnig on model Naive Bayes\n",
      "Currently runnig on model Neural Net\n"
     ]
    },
    {
     "data": {
      "text/html": [
       "<div>\n",
       "<style scoped>\n",
       "    .dataframe tbody tr th:only-of-type {\n",
       "        vertical-align: middle;\n",
       "    }\n",
       "\n",
       "    .dataframe tbody tr th {\n",
       "        vertical-align: top;\n",
       "    }\n",
       "\n",
       "    .dataframe thead th {\n",
       "        text-align: right;\n",
       "    }\n",
       "</style>\n",
       "<table border=\"1\" class=\"dataframe\">\n",
       "  <thead>\n",
       "    <tr style=\"text-align: right;\">\n",
       "      <th></th>\n",
       "      <th>AUC score</th>\n",
       "      <th>Algo</th>\n",
       "      <th>dataset</th>\n",
       "    </tr>\n",
       "  </thead>\n",
       "  <tbody>\n",
       "    <tr>\n",
       "      <th>0</th>\n",
       "      <td>0.774688</td>\n",
       "      <td>LogisticRegression</td>\n",
       "      <td>train</td>\n",
       "    </tr>\n",
       "    <tr>\n",
       "      <th>1</th>\n",
       "      <td>0.690636</td>\n",
       "      <td>LogisticRegression</td>\n",
       "      <td>validate</td>\n",
       "    </tr>\n",
       "    <tr>\n",
       "      <th>2</th>\n",
       "      <td>0.690636</td>\n",
       "      <td>LogisticRegression</td>\n",
       "      <td>test</td>\n",
       "    </tr>\n",
       "    <tr>\n",
       "      <th>3</th>\n",
       "      <td>0.741229</td>\n",
       "      <td>Decision Tree</td>\n",
       "      <td>train</td>\n",
       "    </tr>\n",
       "    <tr>\n",
       "      <th>4</th>\n",
       "      <td>0.675218</td>\n",
       "      <td>Decision Tree</td>\n",
       "      <td>validate</td>\n",
       "    </tr>\n",
       "    <tr>\n",
       "      <th>5</th>\n",
       "      <td>0.675218</td>\n",
       "      <td>Decision Tree</td>\n",
       "      <td>test</td>\n",
       "    </tr>\n",
       "    <tr>\n",
       "      <th>6</th>\n",
       "      <td>0.753854</td>\n",
       "      <td>Random Forest</td>\n",
       "      <td>train</td>\n",
       "    </tr>\n",
       "    <tr>\n",
       "      <th>7</th>\n",
       "      <td>0.690931</td>\n",
       "      <td>Random Forest</td>\n",
       "      <td>validate</td>\n",
       "    </tr>\n",
       "    <tr>\n",
       "      <th>8</th>\n",
       "      <td>0.690931</td>\n",
       "      <td>Random Forest</td>\n",
       "      <td>test</td>\n",
       "    </tr>\n",
       "    <tr>\n",
       "      <th>9</th>\n",
       "      <td>0.776008</td>\n",
       "      <td>Ada Boost</td>\n",
       "      <td>train</td>\n",
       "    </tr>\n",
       "    <tr>\n",
       "      <th>10</th>\n",
       "      <td>0.676711</td>\n",
       "      <td>Ada Boost</td>\n",
       "      <td>validate</td>\n",
       "    </tr>\n",
       "    <tr>\n",
       "      <th>11</th>\n",
       "      <td>0.676711</td>\n",
       "      <td>Ada Boost</td>\n",
       "      <td>test</td>\n",
       "    </tr>\n",
       "    <tr>\n",
       "      <th>12</th>\n",
       "      <td>0.782269</td>\n",
       "      <td>Gradient Boost</td>\n",
       "      <td>train</td>\n",
       "    </tr>\n",
       "    <tr>\n",
       "      <th>13</th>\n",
       "      <td>0.687884</td>\n",
       "      <td>Gradient Boost</td>\n",
       "      <td>validate</td>\n",
       "    </tr>\n",
       "    <tr>\n",
       "      <th>14</th>\n",
       "      <td>0.687884</td>\n",
       "      <td>Gradient Boost</td>\n",
       "      <td>test</td>\n",
       "    </tr>\n",
       "    <tr>\n",
       "      <th>15</th>\n",
       "      <td>0.896804</td>\n",
       "      <td>Nearest Neighbors</td>\n",
       "      <td>train</td>\n",
       "    </tr>\n",
       "    <tr>\n",
       "      <th>16</th>\n",
       "      <td>0.626189</td>\n",
       "      <td>Nearest Neighbors</td>\n",
       "      <td>validate</td>\n",
       "    </tr>\n",
       "    <tr>\n",
       "      <th>17</th>\n",
       "      <td>0.626189</td>\n",
       "      <td>Nearest Neighbors</td>\n",
       "      <td>test</td>\n",
       "    </tr>\n",
       "    <tr>\n",
       "      <th>18</th>\n",
       "      <td>0.732497</td>\n",
       "      <td>Naive Bayes</td>\n",
       "      <td>train</td>\n",
       "    </tr>\n",
       "    <tr>\n",
       "      <th>19</th>\n",
       "      <td>0.675848</td>\n",
       "      <td>Naive Bayes</td>\n",
       "      <td>validate</td>\n",
       "    </tr>\n",
       "    <tr>\n",
       "      <th>20</th>\n",
       "      <td>0.675848</td>\n",
       "      <td>Naive Bayes</td>\n",
       "      <td>test</td>\n",
       "    </tr>\n",
       "    <tr>\n",
       "      <th>21</th>\n",
       "      <td>0.780057</td>\n",
       "      <td>Neural Net</td>\n",
       "      <td>train</td>\n",
       "    </tr>\n",
       "    <tr>\n",
       "      <th>22</th>\n",
       "      <td>0.687168</td>\n",
       "      <td>Neural Net</td>\n",
       "      <td>validate</td>\n",
       "    </tr>\n",
       "    <tr>\n",
       "      <th>23</th>\n",
       "      <td>0.687168</td>\n",
       "      <td>Neural Net</td>\n",
       "      <td>test</td>\n",
       "    </tr>\n",
       "  </tbody>\n",
       "</table>\n",
       "</div>"
      ],
      "text/plain": [
       "    AUC score                Algo   dataset\n",
       "0    0.774688  LogisticRegression     train\n",
       "1    0.690636  LogisticRegression  validate\n",
       "2    0.690636  LogisticRegression      test\n",
       "3    0.741229       Decision Tree     train\n",
       "4    0.675218       Decision Tree  validate\n",
       "5    0.675218       Decision Tree      test\n",
       "6    0.753854       Random Forest     train\n",
       "7    0.690931       Random Forest  validate\n",
       "8    0.690931       Random Forest      test\n",
       "9    0.776008           Ada Boost     train\n",
       "10   0.676711           Ada Boost  validate\n",
       "11   0.676711           Ada Boost      test\n",
       "12   0.782269      Gradient Boost     train\n",
       "13   0.687884      Gradient Boost  validate\n",
       "14   0.687884      Gradient Boost      test\n",
       "15   0.896804   Nearest Neighbors     train\n",
       "16   0.626189   Nearest Neighbors  validate\n",
       "17   0.626189   Nearest Neighbors      test\n",
       "18   0.732497         Naive Bayes     train\n",
       "19   0.675848         Naive Bayes  validate\n",
       "20   0.675848         Naive Bayes      test\n",
       "21   0.780057          Neural Net     train\n",
       "22   0.687168          Neural Net  validate\n",
       "23   0.687168          Neural Net      test"
      ]
     },
     "execution_count": 85,
     "metadata": {},
     "output_type": "execute_result"
    }
   ],
   "source": [
    "metrics = MVP_Shi.model_multiple_algos(names, classifiers, X_train, y_train, X_validate, y_validate, X_test, y_test)\n",
    "metrics"
   ]
  },
  {
   "cell_type": "code",
   "execution_count": 88,
   "metadata": {},
   "outputs": [
    {
     "data": {
      "text/html": [
       "<div>\n",
       "<style scoped>\n",
       "    .dataframe tbody tr th:only-of-type {\n",
       "        vertical-align: middle;\n",
       "    }\n",
       "\n",
       "    .dataframe tbody tr th {\n",
       "        vertical-align: top;\n",
       "    }\n",
       "\n",
       "    .dataframe thead th {\n",
       "        text-align: right;\n",
       "    }\n",
       "</style>\n",
       "<table border=\"1\" class=\"dataframe\">\n",
       "  <thead>\n",
       "    <tr style=\"text-align: right;\">\n",
       "      <th></th>\n",
       "      <th>AUC score</th>\n",
       "      <th>Algo</th>\n",
       "      <th>dataset</th>\n",
       "    </tr>\n",
       "  </thead>\n",
       "  <tbody>\n",
       "    <tr>\n",
       "      <th>8</th>\n",
       "      <td>0.690931</td>\n",
       "      <td>Random Forest</td>\n",
       "      <td>test</td>\n",
       "    </tr>\n",
       "    <tr>\n",
       "      <th>2</th>\n",
       "      <td>0.690636</td>\n",
       "      <td>LogisticRegression</td>\n",
       "      <td>test</td>\n",
       "    </tr>\n",
       "    <tr>\n",
       "      <th>14</th>\n",
       "      <td>0.687884</td>\n",
       "      <td>Gradient Boost</td>\n",
       "      <td>test</td>\n",
       "    </tr>\n",
       "    <tr>\n",
       "      <th>23</th>\n",
       "      <td>0.687168</td>\n",
       "      <td>Neural Net</td>\n",
       "      <td>test</td>\n",
       "    </tr>\n",
       "    <tr>\n",
       "      <th>11</th>\n",
       "      <td>0.676711</td>\n",
       "      <td>Ada Boost</td>\n",
       "      <td>test</td>\n",
       "    </tr>\n",
       "    <tr>\n",
       "      <th>20</th>\n",
       "      <td>0.675848</td>\n",
       "      <td>Naive Bayes</td>\n",
       "      <td>test</td>\n",
       "    </tr>\n",
       "    <tr>\n",
       "      <th>5</th>\n",
       "      <td>0.675218</td>\n",
       "      <td>Decision Tree</td>\n",
       "      <td>test</td>\n",
       "    </tr>\n",
       "    <tr>\n",
       "      <th>17</th>\n",
       "      <td>0.626189</td>\n",
       "      <td>Nearest Neighbors</td>\n",
       "      <td>test</td>\n",
       "    </tr>\n",
       "  </tbody>\n",
       "</table>\n",
       "</div>"
      ],
      "text/plain": [
       "    AUC score                Algo dataset\n",
       "8    0.690931       Random Forest    test\n",
       "2    0.690636  LogisticRegression    test\n",
       "14   0.687884      Gradient Boost    test\n",
       "23   0.687168          Neural Net    test\n",
       "11   0.676711           Ada Boost    test\n",
       "20   0.675848         Naive Bayes    test\n",
       "5    0.675218       Decision Tree    test\n",
       "17   0.626189   Nearest Neighbors    test"
      ]
     },
     "execution_count": 88,
     "metadata": {},
     "output_type": "execute_result"
    }
   ],
   "source": [
    "# Rank the accuracy on the test dataset\n",
    "mask = (metrics.dataset == \"test\")\n",
    "metrics[mask].sort_values(by=\"AUC score\", ascending=False)"
   ]
  },
  {
   "cell_type": "markdown",
   "metadata": {},
   "source": [
    "**Takeaways**\n",
    "- The highest score on test is Random Forest."
   ]
  }
 ],
 "metadata": {
  "kernelspec": {
   "display_name": "Python 3",
   "language": "python",
   "name": "python3"
  },
  "language_info": {
   "codemirror_mode": {
    "name": "ipython",
    "version": 3
   },
   "file_extension": ".py",
   "mimetype": "text/x-python",
   "name": "python",
   "nbconvert_exporter": "python",
   "pygments_lexer": "ipython3",
   "version": "3.7.6"
  }
 },
 "nbformat": 4,
 "nbformat_minor": 4
}
