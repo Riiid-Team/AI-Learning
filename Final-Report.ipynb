{
 "cells": [
  {
   "cell_type": "markdown",
   "metadata": {},
   "source": [
    "# Riiid Project\n",
    "### Personalized Digital Education\n",
    "\n",
    "<strong>Darden Capstone Project\n",
    "***"
   ]
  },
  {
   "cell_type": "markdown",
   "metadata": {},
   "source": [
    "# Table of Contents <a id='toc'></a>\n",
    "1. [Acquire](#acquire)\n",
    "2. [Prepare](#prepare)\n",
    "3. [Explore](#explore)\n",
    "4. [Modeling](#modeling)\n",
    "5. [Conclusions](#conclusions)"
   ]
  },
  {
   "cell_type": "markdown",
   "metadata": {},
   "source": [
    "## About Riiid Labs\n",
    "\n",
    "Riiid Labs, an AI solutions provider delivering creative disruption to the education market. With a strong belief in equal opportunity in education, Riiid launched an AI tutor based on deep-learning algorithms in 2017 that attracted more than one million South Korean students. This year, the company released EdNet, the world’s largest open database for AI education containing more than 100 million student interactions. [Source](https://www.kaggle.com/c/riiid-test-answer-prediction/overview/description)\n",
    "\n",
    "## Our Goal\n",
    "\n",
    "This project aims to create a machine learning model that can predict whether or not a user will answer a question correctly using data provided by Riiid Labs."
   ]
  },
  {
   "cell_type": "markdown",
   "metadata": {},
   "source": [
    "# Imports"
   ]
  },
  {
   "cell_type": "code",
   "execution_count": 41,
   "metadata": {},
   "outputs": [],
   "source": [
    "# General Imports \n",
    "import pandas as pd\n",
    "import numpy as np\n",
    "import matplotlib.pyplot as plt\n",
    "import seaborn as sns\n",
    "from scipy import stats\n",
    "%matplotlib inline\n",
    "\n",
    "# Train Validate Test\n",
    "from sklearn.model_selection import train_test_split\n",
    "\n",
    "# Acquire and Prepare Files\n",
    "import acquire, prepare, explore, model\n",
    "from explore import rfe_ranker\n",
    "\n",
    "# Modeling Modules\n",
    "from sklearn.preprocessing import MinMaxScaler\n",
    "from sklearn.feature_selection import SelectKBest, f_regression\n",
    "from sklearn.metrics import plot_roc_curve, plot_precision_recall_curve, roc_auc_score\n",
    "from sklearn.linear_model import LogisticRegression\n",
    "from sklearn.tree import DecisionTreeClassifier\n",
    "from sklearn.ensemble import RandomForestClassifier, GradientBoostingClassifier\n",
    "\n",
    "# Warnings \n",
    "import warnings\n",
    "warnings.filterwarnings(\"ignore\")"
   ]
  },
  {
   "cell_type": "markdown",
   "metadata": {},
   "source": [
    "# 1. Acquire<a id='acquire'></a>\n",
    "Acquire the data used for this project. \n",
    "\n",
    "[Return to Top](#toc)\n",
    "***"
   ]
  },
  {
   "cell_type": "code",
   "execution_count": 2,
   "metadata": {},
   "outputs": [
    {
     "data": {
      "text/plain": [
       "((20964878, 18), (2590034, 18), (2693188, 18))"
      ]
     },
     "execution_count": 2,
     "metadata": {},
     "output_type": "execute_result"
    }
   ],
   "source": [
    "# Reading in data from local files\n",
    "df_train = pd.read_csv('sampled_trainset.csv')\n",
    "df_validate = pd.read_csv('validate.csv')\n",
    "df_test = pd.read_csv('test.csv')\n",
    "\n",
    "df_train.shape, df_validate.shape, df_test.shape"
   ]
  },
  {
   "cell_type": "code",
   "execution_count": 3,
   "metadata": {},
   "outputs": [
    {
     "data": {
      "text/html": [
       "<div>\n",
       "<style scoped>\n",
       "    .dataframe tbody tr th:only-of-type {\n",
       "        vertical-align: middle;\n",
       "    }\n",
       "\n",
       "    .dataframe tbody tr th {\n",
       "        vertical-align: top;\n",
       "    }\n",
       "\n",
       "    .dataframe thead th {\n",
       "        text-align: right;\n",
       "    }\n",
       "</style>\n",
       "<table border=\"1\" class=\"dataframe\">\n",
       "  <thead>\n",
       "    <tr style=\"text-align: right;\">\n",
       "      <th></th>\n",
       "      <th>timestamp</th>\n",
       "      <th>user_id</th>\n",
       "      <th>content_id</th>\n",
       "      <th>content_type_id</th>\n",
       "      <th>task_container_id</th>\n",
       "      <th>user_answer</th>\n",
       "      <th>answered_correctly</th>\n",
       "      <th>prior_question_elapsed_time</th>\n",
       "      <th>prior_question_had_explanation</th>\n",
       "      <th>lecture_id</th>\n",
       "      <th>tag</th>\n",
       "      <th>lecture_part</th>\n",
       "      <th>type_of</th>\n",
       "      <th>question_id</th>\n",
       "      <th>bundle_id</th>\n",
       "      <th>correct_answer</th>\n",
       "      <th>question_part</th>\n",
       "      <th>tags</th>\n",
       "    </tr>\n",
       "  </thead>\n",
       "  <tbody>\n",
       "    <tr>\n",
       "      <th>0</th>\n",
       "      <td>0</td>\n",
       "      <td>24600</td>\n",
       "      <td>7900</td>\n",
       "      <td>0</td>\n",
       "      <td>0</td>\n",
       "      <td>0</td>\n",
       "      <td>1</td>\n",
       "      <td>NaN</td>\n",
       "      <td>NaN</td>\n",
       "      <td>NaN</td>\n",
       "      <td>NaN</td>\n",
       "      <td>NaN</td>\n",
       "      <td>NaN</td>\n",
       "      <td>7900.0</td>\n",
       "      <td>7900.0</td>\n",
       "      <td>0.0</td>\n",
       "      <td>1.0</td>\n",
       "      <td>131 93 81</td>\n",
       "    </tr>\n",
       "    <tr>\n",
       "      <th>1</th>\n",
       "      <td>25379</td>\n",
       "      <td>24600</td>\n",
       "      <td>7876</td>\n",
       "      <td>0</td>\n",
       "      <td>1</td>\n",
       "      <td>2</td>\n",
       "      <td>0</td>\n",
       "      <td>24000.0</td>\n",
       "      <td>False</td>\n",
       "      <td>NaN</td>\n",
       "      <td>NaN</td>\n",
       "      <td>NaN</td>\n",
       "      <td>NaN</td>\n",
       "      <td>7876.0</td>\n",
       "      <td>7876.0</td>\n",
       "      <td>3.0</td>\n",
       "      <td>1.0</td>\n",
       "      <td>10 94 92</td>\n",
       "    </tr>\n",
       "  </tbody>\n",
       "</table>\n",
       "</div>"
      ],
      "text/plain": [
       "   timestamp  user_id  content_id  content_type_id  task_container_id  \\\n",
       "0          0    24600        7900                0                  0   \n",
       "1      25379    24600        7876                0                  1   \n",
       "\n",
       "   user_answer  answered_correctly  prior_question_elapsed_time  \\\n",
       "0            0                   1                          NaN   \n",
       "1            2                   0                      24000.0   \n",
       "\n",
       "  prior_question_had_explanation  lecture_id  tag  lecture_part type_of  \\\n",
       "0                            NaN         NaN  NaN           NaN     NaN   \n",
       "1                          False         NaN  NaN           NaN     NaN   \n",
       "\n",
       "   question_id  bundle_id  correct_answer  question_part       tags  \n",
       "0       7900.0     7900.0             0.0            1.0  131 93 81  \n",
       "1       7876.0     7876.0             3.0            1.0   10 94 92  "
      ]
     },
     "execution_count": 3,
     "metadata": {},
     "output_type": "execute_result"
    }
   ],
   "source": [
    "# Train Data\n",
    "df_train.head(2)"
   ]
  },
  {
   "cell_type": "code",
   "execution_count": 4,
   "metadata": {},
   "outputs": [
    {
     "data": {
      "text/html": [
       "<div>\n",
       "<style scoped>\n",
       "    .dataframe tbody tr th:only-of-type {\n",
       "        vertical-align: middle;\n",
       "    }\n",
       "\n",
       "    .dataframe tbody tr th {\n",
       "        vertical-align: top;\n",
       "    }\n",
       "\n",
       "    .dataframe thead th {\n",
       "        text-align: right;\n",
       "    }\n",
       "</style>\n",
       "<table border=\"1\" class=\"dataframe\">\n",
       "  <thead>\n",
       "    <tr style=\"text-align: right;\">\n",
       "      <th></th>\n",
       "      <th>timestamp</th>\n",
       "      <th>user_id</th>\n",
       "      <th>content_id</th>\n",
       "      <th>content_type_id</th>\n",
       "      <th>task_container_id</th>\n",
       "      <th>user_answer</th>\n",
       "      <th>answered_correctly</th>\n",
       "      <th>prior_question_elapsed_time</th>\n",
       "      <th>prior_question_had_explanation</th>\n",
       "      <th>lecture_id</th>\n",
       "      <th>tag</th>\n",
       "      <th>lecture_part</th>\n",
       "      <th>type_of</th>\n",
       "      <th>question_id</th>\n",
       "      <th>bundle_id</th>\n",
       "      <th>correct_answer</th>\n",
       "      <th>question_part</th>\n",
       "      <th>tags</th>\n",
       "    </tr>\n",
       "  </thead>\n",
       "  <tbody>\n",
       "    <tr>\n",
       "      <th>0</th>\n",
       "      <td>1326986</td>\n",
       "      <td>24600</td>\n",
       "      <td>646</td>\n",
       "      <td>0</td>\n",
       "      <td>26</td>\n",
       "      <td>3</td>\n",
       "      <td>1</td>\n",
       "      <td>29000.0</td>\n",
       "      <td>True</td>\n",
       "      <td>NaN</td>\n",
       "      <td>NaN</td>\n",
       "      <td>NaN</td>\n",
       "      <td>NaN</td>\n",
       "      <td>646.0</td>\n",
       "      <td>646.0</td>\n",
       "      <td>3.0</td>\n",
       "      <td>2.0</td>\n",
       "      <td>69 17 56 81 92</td>\n",
       "    </tr>\n",
       "    <tr>\n",
       "      <th>1</th>\n",
       "      <td>1353977</td>\n",
       "      <td>24600</td>\n",
       "      <td>1067</td>\n",
       "      <td>0</td>\n",
       "      <td>27</td>\n",
       "      <td>1</td>\n",
       "      <td>1</td>\n",
       "      <td>30000.0</td>\n",
       "      <td>True</td>\n",
       "      <td>NaN</td>\n",
       "      <td>NaN</td>\n",
       "      <td>NaN</td>\n",
       "      <td>NaN</td>\n",
       "      <td>1067.0</td>\n",
       "      <td>1067.0</td>\n",
       "      <td>1.0</td>\n",
       "      <td>2.0</td>\n",
       "      <td>129 2 56 162 38 92</td>\n",
       "    </tr>\n",
       "  </tbody>\n",
       "</table>\n",
       "</div>"
      ],
      "text/plain": [
       "   timestamp  user_id  content_id  content_type_id  task_container_id  \\\n",
       "0    1326986    24600         646                0                 26   \n",
       "1    1353977    24600        1067                0                 27   \n",
       "\n",
       "   user_answer  answered_correctly  prior_question_elapsed_time  \\\n",
       "0            3                   1                      29000.0   \n",
       "1            1                   1                      30000.0   \n",
       "\n",
       "   prior_question_had_explanation  lecture_id  tag  lecture_part type_of  \\\n",
       "0                            True         NaN  NaN           NaN     NaN   \n",
       "1                            True         NaN  NaN           NaN     NaN   \n",
       "\n",
       "   question_id  bundle_id  correct_answer  question_part                tags  \n",
       "0        646.0      646.0             3.0            2.0      69 17 56 81 92  \n",
       "1       1067.0     1067.0             1.0            2.0  129 2 56 162 38 92  "
      ]
     },
     "execution_count": 4,
     "metadata": {},
     "output_type": "execute_result"
    }
   ],
   "source": [
    "# Validate Data\n",
    "df_validate.head(2)"
   ]
  },
  {
   "cell_type": "code",
   "execution_count": 5,
   "metadata": {
    "scrolled": true
   },
   "outputs": [
    {
     "data": {
      "text/html": [
       "<div>\n",
       "<style scoped>\n",
       "    .dataframe tbody tr th:only-of-type {\n",
       "        vertical-align: middle;\n",
       "    }\n",
       "\n",
       "    .dataframe tbody tr th {\n",
       "        vertical-align: top;\n",
       "    }\n",
       "\n",
       "    .dataframe thead th {\n",
       "        text-align: right;\n",
       "    }\n",
       "</style>\n",
       "<table border=\"1\" class=\"dataframe\">\n",
       "  <thead>\n",
       "    <tr style=\"text-align: right;\">\n",
       "      <th></th>\n",
       "      <th>timestamp</th>\n",
       "      <th>user_id</th>\n",
       "      <th>content_id</th>\n",
       "      <th>content_type_id</th>\n",
       "      <th>task_container_id</th>\n",
       "      <th>user_answer</th>\n",
       "      <th>answered_correctly</th>\n",
       "      <th>prior_question_elapsed_time</th>\n",
       "      <th>prior_question_had_explanation</th>\n",
       "      <th>lecture_id</th>\n",
       "      <th>tag</th>\n",
       "      <th>lecture_part</th>\n",
       "      <th>type_of</th>\n",
       "      <th>question_id</th>\n",
       "      <th>bundle_id</th>\n",
       "      <th>correct_answer</th>\n",
       "      <th>question_part</th>\n",
       "      <th>tags</th>\n",
       "    </tr>\n",
       "  </thead>\n",
       "  <tbody>\n",
       "    <tr>\n",
       "      <th>0</th>\n",
       "      <td>1453702</td>\n",
       "      <td>24600</td>\n",
       "      <td>1262</td>\n",
       "      <td>0</td>\n",
       "      <td>31</td>\n",
       "      <td>0</td>\n",
       "      <td>0</td>\n",
       "      <td>16000.0</td>\n",
       "      <td>True</td>\n",
       "      <td>NaN</td>\n",
       "      <td>NaN</td>\n",
       "      <td>NaN</td>\n",
       "      <td>NaN</td>\n",
       "      <td>1262.0</td>\n",
       "      <td>1262.0</td>\n",
       "      <td>1.0</td>\n",
       "      <td>2.0</td>\n",
       "      <td>143 71 81 29</td>\n",
       "    </tr>\n",
       "    <tr>\n",
       "      <th>1</th>\n",
       "      <td>1477283</td>\n",
       "      <td>24600</td>\n",
       "      <td>1348</td>\n",
       "      <td>0</td>\n",
       "      <td>32</td>\n",
       "      <td>3</td>\n",
       "      <td>1</td>\n",
       "      <td>19000.0</td>\n",
       "      <td>True</td>\n",
       "      <td>NaN</td>\n",
       "      <td>NaN</td>\n",
       "      <td>NaN</td>\n",
       "      <td>NaN</td>\n",
       "      <td>1348.0</td>\n",
       "      <td>1348.0</td>\n",
       "      <td>3.0</td>\n",
       "      <td>2.0</td>\n",
       "      <td>143 105 81 92</td>\n",
       "    </tr>\n",
       "  </tbody>\n",
       "</table>\n",
       "</div>"
      ],
      "text/plain": [
       "   timestamp  user_id  content_id  content_type_id  task_container_id  \\\n",
       "0    1453702    24600        1262                0                 31   \n",
       "1    1477283    24600        1348                0                 32   \n",
       "\n",
       "   user_answer  answered_correctly  prior_question_elapsed_time  \\\n",
       "0            0                   0                      16000.0   \n",
       "1            3                   1                      19000.0   \n",
       "\n",
       "   prior_question_had_explanation  lecture_id  tag  lecture_part type_of  \\\n",
       "0                            True         NaN  NaN           NaN     NaN   \n",
       "1                            True         NaN  NaN           NaN     NaN   \n",
       "\n",
       "   question_id  bundle_id  correct_answer  question_part           tags  \n",
       "0       1262.0     1262.0             1.0            2.0   143 71 81 29  \n",
       "1       1348.0     1348.0             3.0            2.0  143 105 81 92  "
      ]
     },
     "execution_count": 5,
     "metadata": {},
     "output_type": "execute_result"
    }
   ],
   "source": [
    "# Test Data\n",
    "df_test.head(2)"
   ]
  },
  {
   "cell_type": "markdown",
   "metadata": {},
   "source": [
    "### Acquire Takeaways\n",
    "- Data acquired from Kaggle: lectures.csv, questions.csv, and train.csv.\n",
    "- Created a function to create a merged csv file of train, lectures, and questions.\n",
    "- Converted the data types of numeric columns to reduce memory usage.\n",
    "- Created a function to select a random sample of 100K users.\n",
    "- Created a function to split the merged dataset into train, validate, and test.\n",
    "    - 80% of a users data in train, 10% in validate, and 10% in test."
   ]
  },
  {
   "cell_type": "markdown",
   "metadata": {},
   "source": [
    "# 2. Prepare<a id='prepare'></a>\n",
    "Prepare the data for exploration and created scaled features for modeling.<br>\n",
    "\n",
    "[Return to Top](#toc)\n",
    "***"
   ]
  },
  {
   "cell_type": "markdown",
   "metadata": {},
   "source": [
    "### Run Prepare Function (found in prepare.py module)"
   ]
  },
  {
   "cell_type": "code",
   "execution_count": 6,
   "metadata": {},
   "outputs": [],
   "source": [
    "# Produce train/validate/test and scaled train/validate/test dataframes\n",
    "train, validate, test, train_s, validate_s, test_s = prepare.prep_riiid(df_train, df_validate, df_test)"
   ]
  },
  {
   "cell_type": "code",
   "execution_count": 7,
   "metadata": {},
   "outputs": [
    {
     "name": "stdout",
     "output_type": "stream",
     "text": [
      "(20554519, 22)\n"
     ]
    },
    {
     "data": {
      "text/html": [
       "<div>\n",
       "<style scoped>\n",
       "    .dataframe tbody tr th:only-of-type {\n",
       "        vertical-align: middle;\n",
       "    }\n",
       "\n",
       "    .dataframe tbody tr th {\n",
       "        vertical-align: top;\n",
       "    }\n",
       "\n",
       "    .dataframe thead th {\n",
       "        text-align: right;\n",
       "    }\n",
       "</style>\n",
       "<table border=\"1\" class=\"dataframe\">\n",
       "  <thead>\n",
       "    <tr style=\"text-align: right;\">\n",
       "      <th></th>\n",
       "      <th>timestamp</th>\n",
       "      <th>user_id</th>\n",
       "      <th>content_id</th>\n",
       "      <th>task_container_id</th>\n",
       "      <th>answered_correctly</th>\n",
       "      <th>question_had_explanation</th>\n",
       "      <th>user_acc_mean</th>\n",
       "      <th>user_lectures_running_total</th>\n",
       "      <th>q_time</th>\n",
       "      <th>avg_user_q_time</th>\n",
       "      <th>...</th>\n",
       "      <th>part</th>\n",
       "      <th>tags</th>\n",
       "      <th>tag_count</th>\n",
       "      <th>mean_bundle_accuracy</th>\n",
       "      <th>mean_part_accuracy</th>\n",
       "      <th>mean_container_part_accuracy</th>\n",
       "      <th>mean_content_accuracy</th>\n",
       "      <th>mean_task_accuracy</th>\n",
       "      <th>mean_tagcount_accuracy</th>\n",
       "      <th>mean_tags_accuracy</th>\n",
       "    </tr>\n",
       "  </thead>\n",
       "  <tbody>\n",
       "    <tr>\n",
       "      <th>0</th>\n",
       "      <td>0</td>\n",
       "      <td>24600</td>\n",
       "      <td>7900</td>\n",
       "      <td>0</td>\n",
       "      <td>1</td>\n",
       "      <td>False</td>\n",
       "      <td>0.275000</td>\n",
       "      <td>0</td>\n",
       "      <td>25379.0</td>\n",
       "      <td>70525.0</td>\n",
       "      <td>...</td>\n",
       "      <td>1</td>\n",
       "      <td>131 93 81</td>\n",
       "      <td>3</td>\n",
       "      <td>0.82</td>\n",
       "      <td>0.74</td>\n",
       "      <td>0.82</td>\n",
       "      <td>0.82</td>\n",
       "      <td>0.68</td>\n",
       "      <td>0.68</td>\n",
       "      <td>0.78</td>\n",
       "    </tr>\n",
       "    <tr>\n",
       "      <th>1</th>\n",
       "      <td>25379</td>\n",
       "      <td>24600</td>\n",
       "      <td>7876</td>\n",
       "      <td>1</td>\n",
       "      <td>0</td>\n",
       "      <td>False</td>\n",
       "      <td>0.275000</td>\n",
       "      <td>0</td>\n",
       "      <td>24758.0</td>\n",
       "      <td>70525.0</td>\n",
       "      <td>...</td>\n",
       "      <td>1</td>\n",
       "      <td>10 94 92</td>\n",
       "      <td>3</td>\n",
       "      <td>0.41</td>\n",
       "      <td>0.74</td>\n",
       "      <td>0.39</td>\n",
       "      <td>0.41</td>\n",
       "      <td>0.53</td>\n",
       "      <td>0.68</td>\n",
       "      <td>0.49</td>\n",
       "    </tr>\n",
       "    <tr>\n",
       "      <th>2</th>\n",
       "      <td>50137</td>\n",
       "      <td>24600</td>\n",
       "      <td>175</td>\n",
       "      <td>2</td>\n",
       "      <td>1</td>\n",
       "      <td>False</td>\n",
       "      <td>0.275000</td>\n",
       "      <td>0</td>\n",
       "      <td>20044.0</td>\n",
       "      <td>70525.0</td>\n",
       "      <td>...</td>\n",
       "      <td>1</td>\n",
       "      <td>9 10 92</td>\n",
       "      <td>3</td>\n",
       "      <td>0.36</td>\n",
       "      <td>0.74</td>\n",
       "      <td>0.34</td>\n",
       "      <td>0.36</td>\n",
       "      <td>0.44</td>\n",
       "      <td>0.68</td>\n",
       "      <td>0.52</td>\n",
       "    </tr>\n",
       "    <tr>\n",
       "      <th>3</th>\n",
       "      <td>0</td>\n",
       "      <td>128919</td>\n",
       "      <td>7900</td>\n",
       "      <td>0</td>\n",
       "      <td>1</td>\n",
       "      <td>False</td>\n",
       "      <td>0.333333</td>\n",
       "      <td>0</td>\n",
       "      <td>22862.0</td>\n",
       "      <td>60393.0</td>\n",
       "      <td>...</td>\n",
       "      <td>1</td>\n",
       "      <td>131 93 81</td>\n",
       "      <td>3</td>\n",
       "      <td>0.82</td>\n",
       "      <td>0.74</td>\n",
       "      <td>0.82</td>\n",
       "      <td>0.82</td>\n",
       "      <td>0.68</td>\n",
       "      <td>0.68</td>\n",
       "      <td>0.78</td>\n",
       "    </tr>\n",
       "    <tr>\n",
       "      <th>4</th>\n",
       "      <td>22862</td>\n",
       "      <td>128919</td>\n",
       "      <td>7876</td>\n",
       "      <td>1</td>\n",
       "      <td>0</td>\n",
       "      <td>False</td>\n",
       "      <td>0.333333</td>\n",
       "      <td>0</td>\n",
       "      <td>24620.0</td>\n",
       "      <td>60393.0</td>\n",
       "      <td>...</td>\n",
       "      <td>1</td>\n",
       "      <td>10 94 92</td>\n",
       "      <td>3</td>\n",
       "      <td>0.41</td>\n",
       "      <td>0.74</td>\n",
       "      <td>0.39</td>\n",
       "      <td>0.41</td>\n",
       "      <td>0.53</td>\n",
       "      <td>0.68</td>\n",
       "      <td>0.49</td>\n",
       "    </tr>\n",
       "  </tbody>\n",
       "</table>\n",
       "<p>5 rows × 22 columns</p>\n",
       "</div>"
      ],
      "text/plain": [
       "   timestamp  user_id  content_id  task_container_id  answered_correctly  \\\n",
       "0          0    24600        7900                  0                   1   \n",
       "1      25379    24600        7876                  1                   0   \n",
       "2      50137    24600         175                  2                   1   \n",
       "3          0   128919        7900                  0                   1   \n",
       "4      22862   128919        7876                  1                   0   \n",
       "\n",
       "  question_had_explanation  user_acc_mean  user_lectures_running_total  \\\n",
       "0                    False       0.275000                            0   \n",
       "1                    False       0.275000                            0   \n",
       "2                    False       0.275000                            0   \n",
       "3                    False       0.333333                            0   \n",
       "4                    False       0.333333                            0   \n",
       "\n",
       "    q_time  avg_user_q_time  ...  part       tags  tag_count  \\\n",
       "0  25379.0          70525.0  ...     1  131 93 81          3   \n",
       "1  24758.0          70525.0  ...     1   10 94 92          3   \n",
       "2  20044.0          70525.0  ...     1    9 10 92          3   \n",
       "3  22862.0          60393.0  ...     1  131 93 81          3   \n",
       "4  24620.0          60393.0  ...     1   10 94 92          3   \n",
       "\n",
       "  mean_bundle_accuracy  mean_part_accuracy  mean_container_part_accuracy  \\\n",
       "0                 0.82                0.74                          0.82   \n",
       "1                 0.41                0.74                          0.39   \n",
       "2                 0.36                0.74                          0.34   \n",
       "3                 0.82                0.74                          0.82   \n",
       "4                 0.41                0.74                          0.39   \n",
       "\n",
       "   mean_content_accuracy  mean_task_accuracy  mean_tagcount_accuracy  \\\n",
       "0                   0.82                0.68                    0.68   \n",
       "1                   0.41                0.53                    0.68   \n",
       "2                   0.36                0.44                    0.68   \n",
       "3                   0.82                0.68                    0.68   \n",
       "4                   0.41                0.53                    0.68   \n",
       "\n",
       "   mean_tags_accuracy  \n",
       "0                0.78  \n",
       "1                0.49  \n",
       "2                0.52  \n",
       "3                0.78  \n",
       "4                0.49  \n",
       "\n",
       "[5 rows x 22 columns]"
      ]
     },
     "execution_count": 7,
     "metadata": {},
     "output_type": "execute_result"
    }
   ],
   "source": [
    "# Print the shape of train\n",
    "print(train.shape)\n",
    "\n",
    "# Display first 5 rows of train\n",
    "train.head()"
   ]
  },
  {
   "cell_type": "code",
   "execution_count": 8,
   "metadata": {
    "scrolled": true
   },
   "outputs": [
    {
     "name": "stdout",
     "output_type": "stream",
     "text": [
      "(20554519, 12)\n"
     ]
    },
    {
     "data": {
      "text/html": [
       "<div>\n",
       "<style scoped>\n",
       "    .dataframe tbody tr th:only-of-type {\n",
       "        vertical-align: middle;\n",
       "    }\n",
       "\n",
       "    .dataframe tbody tr th {\n",
       "        vertical-align: top;\n",
       "    }\n",
       "\n",
       "    .dataframe thead th {\n",
       "        text-align: right;\n",
       "    }\n",
       "</style>\n",
       "<table border=\"1\" class=\"dataframe\">\n",
       "  <thead>\n",
       "    <tr style=\"text-align: right;\">\n",
       "      <th></th>\n",
       "      <th>answered_correctly</th>\n",
       "      <th>question_had_explanation</th>\n",
       "      <th>user_acc_mean</th>\n",
       "      <th>mean_bundle_accuracy</th>\n",
       "      <th>mean_part_accuracy</th>\n",
       "      <th>mean_container_part_accuracy</th>\n",
       "      <th>mean_content_accuracy</th>\n",
       "      <th>mean_task_accuracy</th>\n",
       "      <th>mean_tagcount_accuracy</th>\n",
       "      <th>mean_tags_accuracy</th>\n",
       "      <th>user_lectures_running_total_scaled</th>\n",
       "      <th>avg_user_q_time_scaled</th>\n",
       "    </tr>\n",
       "  </thead>\n",
       "  <tbody>\n",
       "    <tr>\n",
       "      <th>0</th>\n",
       "      <td>1</td>\n",
       "      <td>0</td>\n",
       "      <td>0.275000</td>\n",
       "      <td>0.82</td>\n",
       "      <td>0.74</td>\n",
       "      <td>0.82</td>\n",
       "      <td>0.82</td>\n",
       "      <td>0.68</td>\n",
       "      <td>0.68</td>\n",
       "      <td>0.78</td>\n",
       "      <td>0.0</td>\n",
       "      <td>0.000003</td>\n",
       "    </tr>\n",
       "    <tr>\n",
       "      <th>1</th>\n",
       "      <td>0</td>\n",
       "      <td>0</td>\n",
       "      <td>0.275000</td>\n",
       "      <td>0.41</td>\n",
       "      <td>0.74</td>\n",
       "      <td>0.39</td>\n",
       "      <td>0.41</td>\n",
       "      <td>0.53</td>\n",
       "      <td>0.68</td>\n",
       "      <td>0.49</td>\n",
       "      <td>0.0</td>\n",
       "      <td>0.000003</td>\n",
       "    </tr>\n",
       "    <tr>\n",
       "      <th>2</th>\n",
       "      <td>1</td>\n",
       "      <td>0</td>\n",
       "      <td>0.275000</td>\n",
       "      <td>0.36</td>\n",
       "      <td>0.74</td>\n",
       "      <td>0.34</td>\n",
       "      <td>0.36</td>\n",
       "      <td>0.44</td>\n",
       "      <td>0.68</td>\n",
       "      <td>0.52</td>\n",
       "      <td>0.0</td>\n",
       "      <td>0.000003</td>\n",
       "    </tr>\n",
       "    <tr>\n",
       "      <th>3</th>\n",
       "      <td>1</td>\n",
       "      <td>0</td>\n",
       "      <td>0.333333</td>\n",
       "      <td>0.82</td>\n",
       "      <td>0.74</td>\n",
       "      <td>0.82</td>\n",
       "      <td>0.82</td>\n",
       "      <td>0.68</td>\n",
       "      <td>0.68</td>\n",
       "      <td>0.78</td>\n",
       "      <td>0.0</td>\n",
       "      <td>0.000003</td>\n",
       "    </tr>\n",
       "    <tr>\n",
       "      <th>4</th>\n",
       "      <td>0</td>\n",
       "      <td>0</td>\n",
       "      <td>0.333333</td>\n",
       "      <td>0.41</td>\n",
       "      <td>0.74</td>\n",
       "      <td>0.39</td>\n",
       "      <td>0.41</td>\n",
       "      <td>0.53</td>\n",
       "      <td>0.68</td>\n",
       "      <td>0.49</td>\n",
       "      <td>0.0</td>\n",
       "      <td>0.000003</td>\n",
       "    </tr>\n",
       "  </tbody>\n",
       "</table>\n",
       "</div>"
      ],
      "text/plain": [
       "   answered_correctly  question_had_explanation  user_acc_mean  \\\n",
       "0                   1                         0       0.275000   \n",
       "1                   0                         0       0.275000   \n",
       "2                   1                         0       0.275000   \n",
       "3                   1                         0       0.333333   \n",
       "4                   0                         0       0.333333   \n",
       "\n",
       "   mean_bundle_accuracy  mean_part_accuracy  mean_container_part_accuracy  \\\n",
       "0                  0.82                0.74                          0.82   \n",
       "1                  0.41                0.74                          0.39   \n",
       "2                  0.36                0.74                          0.34   \n",
       "3                  0.82                0.74                          0.82   \n",
       "4                  0.41                0.74                          0.39   \n",
       "\n",
       "   mean_content_accuracy  mean_task_accuracy  mean_tagcount_accuracy  \\\n",
       "0                   0.82                0.68                    0.68   \n",
       "1                   0.41                0.53                    0.68   \n",
       "2                   0.36                0.44                    0.68   \n",
       "3                   0.82                0.68                    0.68   \n",
       "4                   0.41                0.53                    0.68   \n",
       "\n",
       "  mean_tags_accuracy  user_lectures_running_total_scaled  \\\n",
       "0               0.78                                 0.0   \n",
       "1               0.49                                 0.0   \n",
       "2               0.52                                 0.0   \n",
       "3               0.78                                 0.0   \n",
       "4               0.49                                 0.0   \n",
       "\n",
       "   avg_user_q_time_scaled  \n",
       "0                0.000003  \n",
       "1                0.000003  \n",
       "2                0.000003  \n",
       "3                0.000003  \n",
       "4                0.000003  "
      ]
     },
     "execution_count": 8,
     "metadata": {},
     "output_type": "execute_result"
    }
   ],
   "source": [
    "# Print the shape of train scaled\n",
    "print(train_s.shape)\n",
    "\n",
    "# Display first 5 rows of train scaled \n",
    "train_s.head()"
   ]
  },
  {
   "cell_type": "code",
   "execution_count": 9,
   "metadata": {},
   "outputs": [
    {
     "name": "stdout",
     "output_type": "stream",
     "text": [
      "(2540985, 21)\n"
     ]
    },
    {
     "data": {
      "text/html": [
       "<div>\n",
       "<style scoped>\n",
       "    .dataframe tbody tr th:only-of-type {\n",
       "        vertical-align: middle;\n",
       "    }\n",
       "\n",
       "    .dataframe tbody tr th {\n",
       "        vertical-align: top;\n",
       "    }\n",
       "\n",
       "    .dataframe thead th {\n",
       "        text-align: right;\n",
       "    }\n",
       "</style>\n",
       "<table border=\"1\" class=\"dataframe\">\n",
       "  <thead>\n",
       "    <tr style=\"text-align: right;\">\n",
       "      <th></th>\n",
       "      <th>timestamp</th>\n",
       "      <th>user_id</th>\n",
       "      <th>content_id</th>\n",
       "      <th>task_container_id</th>\n",
       "      <th>answered_correctly</th>\n",
       "      <th>question_had_explanation</th>\n",
       "      <th>user_acc_mean</th>\n",
       "      <th>user_lectures_running_total</th>\n",
       "      <th>avg_user_q_time</th>\n",
       "      <th>question_id</th>\n",
       "      <th>...</th>\n",
       "      <th>part</th>\n",
       "      <th>tags</th>\n",
       "      <th>tag_count</th>\n",
       "      <th>mean_bundle_accuracy</th>\n",
       "      <th>mean_part_accuracy</th>\n",
       "      <th>mean_container_part_accuracy</th>\n",
       "      <th>mean_content_accuracy</th>\n",
       "      <th>mean_task_accuracy</th>\n",
       "      <th>mean_tagcount_accuracy</th>\n",
       "      <th>mean_tags_accuracy</th>\n",
       "    </tr>\n",
       "  </thead>\n",
       "  <tbody>\n",
       "    <tr>\n",
       "      <th>0</th>\n",
       "      <td>1326986</td>\n",
       "      <td>24600</td>\n",
       "      <td>646</td>\n",
       "      <td>26</td>\n",
       "      <td>1</td>\n",
       "      <td>True</td>\n",
       "      <td>0.275</td>\n",
       "      <td>0</td>\n",
       "      <td>70525.0</td>\n",
       "      <td>646</td>\n",
       "      <td>...</td>\n",
       "      <td>2</td>\n",
       "      <td>69 17 56 81 92</td>\n",
       "      <td>5</td>\n",
       "      <td>0.80</td>\n",
       "      <td>0.71</td>\n",
       "      <td>0.82</td>\n",
       "      <td>0.80</td>\n",
       "      <td>0.61</td>\n",
       "      <td>0.71</td>\n",
       "      <td>0.80</td>\n",
       "    </tr>\n",
       "    <tr>\n",
       "      <th>1</th>\n",
       "      <td>1353977</td>\n",
       "      <td>24600</td>\n",
       "      <td>1067</td>\n",
       "      <td>27</td>\n",
       "      <td>1</td>\n",
       "      <td>True</td>\n",
       "      <td>0.275</td>\n",
       "      <td>0</td>\n",
       "      <td>70525.0</td>\n",
       "      <td>1067</td>\n",
       "      <td>...</td>\n",
       "      <td>2</td>\n",
       "      <td>129 2 56 162 38 92</td>\n",
       "      <td>6</td>\n",
       "      <td>0.91</td>\n",
       "      <td>0.71</td>\n",
       "      <td>0.79</td>\n",
       "      <td>0.91</td>\n",
       "      <td>0.62</td>\n",
       "      <td>0.77</td>\n",
       "      <td>0.91</td>\n",
       "    </tr>\n",
       "    <tr>\n",
       "      <th>2</th>\n",
       "      <td>1377689</td>\n",
       "      <td>24600</td>\n",
       "      <td>940</td>\n",
       "      <td>28</td>\n",
       "      <td>0</td>\n",
       "      <td>True</td>\n",
       "      <td>0.275</td>\n",
       "      <td>0</td>\n",
       "      <td>70525.0</td>\n",
       "      <td>940</td>\n",
       "      <td>...</td>\n",
       "      <td>2</td>\n",
       "      <td>143 20 38 29</td>\n",
       "      <td>4</td>\n",
       "      <td>0.90</td>\n",
       "      <td>0.71</td>\n",
       "      <td>1.00</td>\n",
       "      <td>0.90</td>\n",
       "      <td>0.62</td>\n",
       "      <td>0.70</td>\n",
       "      <td>0.77</td>\n",
       "    </tr>\n",
       "    <tr>\n",
       "      <th>3</th>\n",
       "      <td>1403698</td>\n",
       "      <td>24600</td>\n",
       "      <td>10685</td>\n",
       "      <td>29</td>\n",
       "      <td>1</td>\n",
       "      <td>True</td>\n",
       "      <td>0.275</td>\n",
       "      <td>0</td>\n",
       "      <td>70525.0</td>\n",
       "      <td>10685</td>\n",
       "      <td>...</td>\n",
       "      <td>2</td>\n",
       "      <td>69 137 142 38 29</td>\n",
       "      <td>5</td>\n",
       "      <td>0.80</td>\n",
       "      <td>0.71</td>\n",
       "      <td>0.78</td>\n",
       "      <td>0.80</td>\n",
       "      <td>0.62</td>\n",
       "      <td>0.71</td>\n",
       "      <td>0.80</td>\n",
       "    </tr>\n",
       "    <tr>\n",
       "      <th>4</th>\n",
       "      <td>1426174</td>\n",
       "      <td>24600</td>\n",
       "      <td>817</td>\n",
       "      <td>30</td>\n",
       "      <td>1</td>\n",
       "      <td>True</td>\n",
       "      <td>0.275</td>\n",
       "      <td>0</td>\n",
       "      <td>70525.0</td>\n",
       "      <td>817</td>\n",
       "      <td>...</td>\n",
       "      <td>2</td>\n",
       "      <td>17 56 38 29</td>\n",
       "      <td>4</td>\n",
       "      <td>0.75</td>\n",
       "      <td>0.71</td>\n",
       "      <td>0.75</td>\n",
       "      <td>0.75</td>\n",
       "      <td>0.64</td>\n",
       "      <td>0.70</td>\n",
       "      <td>0.68</td>\n",
       "    </tr>\n",
       "  </tbody>\n",
       "</table>\n",
       "<p>5 rows × 21 columns</p>\n",
       "</div>"
      ],
      "text/plain": [
       "   timestamp  user_id  content_id  task_container_id  answered_correctly  \\\n",
       "0    1326986    24600         646                 26                   1   \n",
       "1    1353977    24600        1067                 27                   1   \n",
       "2    1377689    24600         940                 28                   0   \n",
       "3    1403698    24600       10685                 29                   1   \n",
       "4    1426174    24600         817                 30                   1   \n",
       "\n",
       "  question_had_explanation  user_acc_mean  user_lectures_running_total  \\\n",
       "0                     True          0.275                            0   \n",
       "1                     True          0.275                            0   \n",
       "2                     True          0.275                            0   \n",
       "3                     True          0.275                            0   \n",
       "4                     True          0.275                            0   \n",
       "\n",
       "   avg_user_q_time  question_id  ...  part                tags tag_count  \\\n",
       "0          70525.0          646  ...     2      69 17 56 81 92         5   \n",
       "1          70525.0         1067  ...     2  129 2 56 162 38 92         6   \n",
       "2          70525.0          940  ...     2        143 20 38 29         4   \n",
       "3          70525.0        10685  ...     2    69 137 142 38 29         5   \n",
       "4          70525.0          817  ...     2         17 56 38 29         4   \n",
       "\n",
       "   mean_bundle_accuracy  mean_part_accuracy  mean_container_part_accuracy  \\\n",
       "0                  0.80                0.71                          0.82   \n",
       "1                  0.91                0.71                          0.79   \n",
       "2                  0.90                0.71                          1.00   \n",
       "3                  0.80                0.71                          0.78   \n",
       "4                  0.75                0.71                          0.75   \n",
       "\n",
       "   mean_content_accuracy  mean_task_accuracy  mean_tagcount_accuracy  \\\n",
       "0                   0.80                0.61                    0.71   \n",
       "1                   0.91                0.62                    0.77   \n",
       "2                   0.90                0.62                    0.70   \n",
       "3                   0.80                0.62                    0.71   \n",
       "4                   0.75                0.64                    0.70   \n",
       "\n",
       "   mean_tags_accuracy  \n",
       "0                0.80  \n",
       "1                0.91  \n",
       "2                0.77  \n",
       "3                0.80  \n",
       "4                0.68  \n",
       "\n",
       "[5 rows x 21 columns]"
      ]
     },
     "execution_count": 9,
     "metadata": {},
     "output_type": "execute_result"
    }
   ],
   "source": [
    "# Print the shape of validate \n",
    "print(validate.shape)\n",
    "\n",
    "# Display first 5 rows of validate\n",
    "validate.head()"
   ]
  },
  {
   "cell_type": "code",
   "execution_count": 10,
   "metadata": {},
   "outputs": [
    {
     "name": "stdout",
     "output_type": "stream",
     "text": [
      "(2540985, 12)\n"
     ]
    },
    {
     "data": {
      "text/html": [
       "<div>\n",
       "<style scoped>\n",
       "    .dataframe tbody tr th:only-of-type {\n",
       "        vertical-align: middle;\n",
       "    }\n",
       "\n",
       "    .dataframe tbody tr th {\n",
       "        vertical-align: top;\n",
       "    }\n",
       "\n",
       "    .dataframe thead th {\n",
       "        text-align: right;\n",
       "    }\n",
       "</style>\n",
       "<table border=\"1\" class=\"dataframe\">\n",
       "  <thead>\n",
       "    <tr style=\"text-align: right;\">\n",
       "      <th></th>\n",
       "      <th>answered_correctly</th>\n",
       "      <th>question_had_explanation</th>\n",
       "      <th>user_acc_mean</th>\n",
       "      <th>mean_bundle_accuracy</th>\n",
       "      <th>mean_part_accuracy</th>\n",
       "      <th>mean_container_part_accuracy</th>\n",
       "      <th>mean_content_accuracy</th>\n",
       "      <th>mean_task_accuracy</th>\n",
       "      <th>mean_tagcount_accuracy</th>\n",
       "      <th>mean_tags_accuracy</th>\n",
       "      <th>user_lectures_running_total_scaled</th>\n",
       "      <th>avg_user_q_time_scaled</th>\n",
       "    </tr>\n",
       "  </thead>\n",
       "  <tbody>\n",
       "    <tr>\n",
       "      <th>0</th>\n",
       "      <td>1</td>\n",
       "      <td>1</td>\n",
       "      <td>0.275</td>\n",
       "      <td>0.80</td>\n",
       "      <td>0.71</td>\n",
       "      <td>0.82</td>\n",
       "      <td>0.80</td>\n",
       "      <td>0.61</td>\n",
       "      <td>0.71</td>\n",
       "      <td>0.80</td>\n",
       "      <td>0.0</td>\n",
       "      <td>0.000003</td>\n",
       "    </tr>\n",
       "    <tr>\n",
       "      <th>1</th>\n",
       "      <td>1</td>\n",
       "      <td>1</td>\n",
       "      <td>0.275</td>\n",
       "      <td>0.91</td>\n",
       "      <td>0.71</td>\n",
       "      <td>0.79</td>\n",
       "      <td>0.91</td>\n",
       "      <td>0.62</td>\n",
       "      <td>0.77</td>\n",
       "      <td>0.91</td>\n",
       "      <td>0.0</td>\n",
       "      <td>0.000003</td>\n",
       "    </tr>\n",
       "    <tr>\n",
       "      <th>2</th>\n",
       "      <td>0</td>\n",
       "      <td>1</td>\n",
       "      <td>0.275</td>\n",
       "      <td>0.90</td>\n",
       "      <td>0.71</td>\n",
       "      <td>1.00</td>\n",
       "      <td>0.90</td>\n",
       "      <td>0.62</td>\n",
       "      <td>0.70</td>\n",
       "      <td>0.77</td>\n",
       "      <td>0.0</td>\n",
       "      <td>0.000003</td>\n",
       "    </tr>\n",
       "    <tr>\n",
       "      <th>3</th>\n",
       "      <td>1</td>\n",
       "      <td>1</td>\n",
       "      <td>0.275</td>\n",
       "      <td>0.80</td>\n",
       "      <td>0.71</td>\n",
       "      <td>0.78</td>\n",
       "      <td>0.80</td>\n",
       "      <td>0.62</td>\n",
       "      <td>0.71</td>\n",
       "      <td>0.80</td>\n",
       "      <td>0.0</td>\n",
       "      <td>0.000003</td>\n",
       "    </tr>\n",
       "    <tr>\n",
       "      <th>4</th>\n",
       "      <td>1</td>\n",
       "      <td>1</td>\n",
       "      <td>0.275</td>\n",
       "      <td>0.75</td>\n",
       "      <td>0.71</td>\n",
       "      <td>0.75</td>\n",
       "      <td>0.75</td>\n",
       "      <td>0.64</td>\n",
       "      <td>0.70</td>\n",
       "      <td>0.68</td>\n",
       "      <td>0.0</td>\n",
       "      <td>0.000003</td>\n",
       "    </tr>\n",
       "  </tbody>\n",
       "</table>\n",
       "</div>"
      ],
      "text/plain": [
       "   answered_correctly  question_had_explanation  user_acc_mean  \\\n",
       "0                   1                         1          0.275   \n",
       "1                   1                         1          0.275   \n",
       "2                   0                         1          0.275   \n",
       "3                   1                         1          0.275   \n",
       "4                   1                         1          0.275   \n",
       "\n",
       "   mean_bundle_accuracy  mean_part_accuracy  mean_container_part_accuracy  \\\n",
       "0                  0.80                0.71                          0.82   \n",
       "1                  0.91                0.71                          0.79   \n",
       "2                  0.90                0.71                          1.00   \n",
       "3                  0.80                0.71                          0.78   \n",
       "4                  0.75                0.71                          0.75   \n",
       "\n",
       "   mean_content_accuracy  mean_task_accuracy  mean_tagcount_accuracy  \\\n",
       "0                   0.80                0.61                    0.71   \n",
       "1                   0.91                0.62                    0.77   \n",
       "2                   0.90                0.62                    0.70   \n",
       "3                   0.80                0.62                    0.71   \n",
       "4                   0.75                0.64                    0.70   \n",
       "\n",
       "   mean_tags_accuracy  user_lectures_running_total_scaled  \\\n",
       "0                0.80                                 0.0   \n",
       "1                0.91                                 0.0   \n",
       "2                0.77                                 0.0   \n",
       "3                0.80                                 0.0   \n",
       "4                0.68                                 0.0   \n",
       "\n",
       "   avg_user_q_time_scaled  \n",
       "0                0.000003  \n",
       "1                0.000003  \n",
       "2                0.000003  \n",
       "3                0.000003  \n",
       "4                0.000003  "
      ]
     },
     "execution_count": 10,
     "metadata": {},
     "output_type": "execute_result"
    }
   ],
   "source": [
    "# Print the shape of validate scaled \n",
    "print(validate_s.shape)\n",
    "\n",
    "# Display first 5 rows of validate scaled \n",
    "validate_s.head()"
   ]
  },
  {
   "cell_type": "code",
   "execution_count": 11,
   "metadata": {},
   "outputs": [
    {
     "name": "stdout",
     "output_type": "stream",
     "text": [
      "(2644620, 21)\n"
     ]
    },
    {
     "data": {
      "text/html": [
       "<div>\n",
       "<style scoped>\n",
       "    .dataframe tbody tr th:only-of-type {\n",
       "        vertical-align: middle;\n",
       "    }\n",
       "\n",
       "    .dataframe tbody tr th {\n",
       "        vertical-align: top;\n",
       "    }\n",
       "\n",
       "    .dataframe thead th {\n",
       "        text-align: right;\n",
       "    }\n",
       "</style>\n",
       "<table border=\"1\" class=\"dataframe\">\n",
       "  <thead>\n",
       "    <tr style=\"text-align: right;\">\n",
       "      <th></th>\n",
       "      <th>timestamp</th>\n",
       "      <th>user_id</th>\n",
       "      <th>content_id</th>\n",
       "      <th>task_container_id</th>\n",
       "      <th>answered_correctly</th>\n",
       "      <th>question_had_explanation</th>\n",
       "      <th>user_acc_mean</th>\n",
       "      <th>user_lectures_running_total</th>\n",
       "      <th>avg_user_q_time</th>\n",
       "      <th>question_id</th>\n",
       "      <th>...</th>\n",
       "      <th>part</th>\n",
       "      <th>tags</th>\n",
       "      <th>tag_count</th>\n",
       "      <th>mean_bundle_accuracy</th>\n",
       "      <th>mean_part_accuracy</th>\n",
       "      <th>mean_container_part_accuracy</th>\n",
       "      <th>mean_content_accuracy</th>\n",
       "      <th>mean_task_accuracy</th>\n",
       "      <th>mean_tagcount_accuracy</th>\n",
       "      <th>mean_tags_accuracy</th>\n",
       "    </tr>\n",
       "  </thead>\n",
       "  <tbody>\n",
       "    <tr>\n",
       "      <th>0</th>\n",
       "      <td>1453702</td>\n",
       "      <td>24600</td>\n",
       "      <td>1262</td>\n",
       "      <td>31</td>\n",
       "      <td>0</td>\n",
       "      <td>True</td>\n",
       "      <td>0.275</td>\n",
       "      <td>0</td>\n",
       "      <td>70525.0</td>\n",
       "      <td>1262</td>\n",
       "      <td>...</td>\n",
       "      <td>2</td>\n",
       "      <td>143 71 81 29</td>\n",
       "      <td>4</td>\n",
       "      <td>0.71</td>\n",
       "      <td>0.71</td>\n",
       "      <td>0.69</td>\n",
       "      <td>0.71</td>\n",
       "      <td>0.64</td>\n",
       "      <td>0.70</td>\n",
       "      <td>0.75</td>\n",
       "    </tr>\n",
       "    <tr>\n",
       "      <th>1</th>\n",
       "      <td>1477283</td>\n",
       "      <td>24600</td>\n",
       "      <td>1348</td>\n",
       "      <td>32</td>\n",
       "      <td>1</td>\n",
       "      <td>True</td>\n",
       "      <td>0.275</td>\n",
       "      <td>0</td>\n",
       "      <td>70525.0</td>\n",
       "      <td>1348</td>\n",
       "      <td>...</td>\n",
       "      <td>2</td>\n",
       "      <td>143 105 81 92</td>\n",
       "      <td>4</td>\n",
       "      <td>0.82</td>\n",
       "      <td>0.71</td>\n",
       "      <td>0.86</td>\n",
       "      <td>0.82</td>\n",
       "      <td>0.65</td>\n",
       "      <td>0.70</td>\n",
       "      <td>0.81</td>\n",
       "    </tr>\n",
       "    <tr>\n",
       "      <th>2</th>\n",
       "      <td>1502268</td>\n",
       "      <td>24600</td>\n",
       "      <td>10686</td>\n",
       "      <td>33</td>\n",
       "      <td>0</td>\n",
       "      <td>True</td>\n",
       "      <td>0.275</td>\n",
       "      <td>0</td>\n",
       "      <td>70525.0</td>\n",
       "      <td>10686</td>\n",
       "      <td>...</td>\n",
       "      <td>2</td>\n",
       "      <td>62 137 142 38 29</td>\n",
       "      <td>5</td>\n",
       "      <td>0.56</td>\n",
       "      <td>0.71</td>\n",
       "      <td>0.56</td>\n",
       "      <td>0.56</td>\n",
       "      <td>0.64</td>\n",
       "      <td>0.71</td>\n",
       "      <td>0.56</td>\n",
       "    </tr>\n",
       "    <tr>\n",
       "      <th>3</th>\n",
       "      <td>1526285</td>\n",
       "      <td>24600</td>\n",
       "      <td>754</td>\n",
       "      <td>34</td>\n",
       "      <td>0</td>\n",
       "      <td>True</td>\n",
       "      <td>0.275</td>\n",
       "      <td>0</td>\n",
       "      <td>70525.0</td>\n",
       "      <td>754</td>\n",
       "      <td>...</td>\n",
       "      <td>2</td>\n",
       "      <td>137 88 38 81</td>\n",
       "      <td>4</td>\n",
       "      <td>0.68</td>\n",
       "      <td>0.71</td>\n",
       "      <td>0.88</td>\n",
       "      <td>0.68</td>\n",
       "      <td>0.65</td>\n",
       "      <td>0.70</td>\n",
       "      <td>0.66</td>\n",
       "    </tr>\n",
       "    <tr>\n",
       "      <th>4</th>\n",
       "      <td>1550831</td>\n",
       "      <td>24600</td>\n",
       "      <td>801</td>\n",
       "      <td>35</td>\n",
       "      <td>1</td>\n",
       "      <td>True</td>\n",
       "      <td>0.275</td>\n",
       "      <td>0</td>\n",
       "      <td>70525.0</td>\n",
       "      <td>801</td>\n",
       "      <td>...</td>\n",
       "      <td>2</td>\n",
       "      <td>143 20 38 29</td>\n",
       "      <td>4</td>\n",
       "      <td>0.88</td>\n",
       "      <td>0.71</td>\n",
       "      <td>0.88</td>\n",
       "      <td>0.88</td>\n",
       "      <td>0.65</td>\n",
       "      <td>0.70</td>\n",
       "      <td>0.77</td>\n",
       "    </tr>\n",
       "  </tbody>\n",
       "</table>\n",
       "<p>5 rows × 21 columns</p>\n",
       "</div>"
      ],
      "text/plain": [
       "   timestamp  user_id  content_id  task_container_id  answered_correctly  \\\n",
       "0    1453702    24600        1262                 31                   0   \n",
       "1    1477283    24600        1348                 32                   1   \n",
       "2    1502268    24600       10686                 33                   0   \n",
       "3    1526285    24600         754                 34                   0   \n",
       "4    1550831    24600         801                 35                   1   \n",
       "\n",
       "  question_had_explanation  user_acc_mean  user_lectures_running_total  \\\n",
       "0                     True          0.275                            0   \n",
       "1                     True          0.275                            0   \n",
       "2                     True          0.275                            0   \n",
       "3                     True          0.275                            0   \n",
       "4                     True          0.275                            0   \n",
       "\n",
       "   avg_user_q_time  question_id  ...  part              tags tag_count  \\\n",
       "0          70525.0         1262  ...     2      143 71 81 29         4   \n",
       "1          70525.0         1348  ...     2     143 105 81 92         4   \n",
       "2          70525.0        10686  ...     2  62 137 142 38 29         5   \n",
       "3          70525.0          754  ...     2      137 88 38 81         4   \n",
       "4          70525.0          801  ...     2      143 20 38 29         4   \n",
       "\n",
       "   mean_bundle_accuracy  mean_part_accuracy  mean_container_part_accuracy  \\\n",
       "0                  0.71                0.71                          0.69   \n",
       "1                  0.82                0.71                          0.86   \n",
       "2                  0.56                0.71                          0.56   \n",
       "3                  0.68                0.71                          0.88   \n",
       "4                  0.88                0.71                          0.88   \n",
       "\n",
       "   mean_content_accuracy  mean_task_accuracy  mean_tagcount_accuracy  \\\n",
       "0                   0.71                0.64                    0.70   \n",
       "1                   0.82                0.65                    0.70   \n",
       "2                   0.56                0.64                    0.71   \n",
       "3                   0.68                0.65                    0.70   \n",
       "4                   0.88                0.65                    0.70   \n",
       "\n",
       "   mean_tags_accuracy  \n",
       "0                0.75  \n",
       "1                0.81  \n",
       "2                0.56  \n",
       "3                0.66  \n",
       "4                0.77  \n",
       "\n",
       "[5 rows x 21 columns]"
      ]
     },
     "execution_count": 11,
     "metadata": {},
     "output_type": "execute_result"
    }
   ],
   "source": [
    "# Print the shape of test\n",
    "print(test.shape)\n",
    "\n",
    "# Display first 5 rows of test\n",
    "test.head()"
   ]
  },
  {
   "cell_type": "code",
   "execution_count": 12,
   "metadata": {},
   "outputs": [
    {
     "name": "stdout",
     "output_type": "stream",
     "text": [
      "(2644620, 12)\n"
     ]
    },
    {
     "data": {
      "text/html": [
       "<div>\n",
       "<style scoped>\n",
       "    .dataframe tbody tr th:only-of-type {\n",
       "        vertical-align: middle;\n",
       "    }\n",
       "\n",
       "    .dataframe tbody tr th {\n",
       "        vertical-align: top;\n",
       "    }\n",
       "\n",
       "    .dataframe thead th {\n",
       "        text-align: right;\n",
       "    }\n",
       "</style>\n",
       "<table border=\"1\" class=\"dataframe\">\n",
       "  <thead>\n",
       "    <tr style=\"text-align: right;\">\n",
       "      <th></th>\n",
       "      <th>answered_correctly</th>\n",
       "      <th>question_had_explanation</th>\n",
       "      <th>user_acc_mean</th>\n",
       "      <th>mean_bundle_accuracy</th>\n",
       "      <th>mean_part_accuracy</th>\n",
       "      <th>mean_container_part_accuracy</th>\n",
       "      <th>mean_content_accuracy</th>\n",
       "      <th>mean_task_accuracy</th>\n",
       "      <th>mean_tagcount_accuracy</th>\n",
       "      <th>mean_tags_accuracy</th>\n",
       "      <th>user_lectures_running_total_scaled</th>\n",
       "      <th>avg_user_q_time_scaled</th>\n",
       "    </tr>\n",
       "  </thead>\n",
       "  <tbody>\n",
       "    <tr>\n",
       "      <th>0</th>\n",
       "      <td>0</td>\n",
       "      <td>1</td>\n",
       "      <td>0.275</td>\n",
       "      <td>0.71</td>\n",
       "      <td>0.71</td>\n",
       "      <td>0.69</td>\n",
       "      <td>0.71</td>\n",
       "      <td>0.64</td>\n",
       "      <td>0.70</td>\n",
       "      <td>0.75</td>\n",
       "      <td>0.0</td>\n",
       "      <td>0.000003</td>\n",
       "    </tr>\n",
       "    <tr>\n",
       "      <th>1</th>\n",
       "      <td>1</td>\n",
       "      <td>1</td>\n",
       "      <td>0.275</td>\n",
       "      <td>0.82</td>\n",
       "      <td>0.71</td>\n",
       "      <td>0.86</td>\n",
       "      <td>0.82</td>\n",
       "      <td>0.65</td>\n",
       "      <td>0.70</td>\n",
       "      <td>0.81</td>\n",
       "      <td>0.0</td>\n",
       "      <td>0.000003</td>\n",
       "    </tr>\n",
       "    <tr>\n",
       "      <th>2</th>\n",
       "      <td>0</td>\n",
       "      <td>1</td>\n",
       "      <td>0.275</td>\n",
       "      <td>0.56</td>\n",
       "      <td>0.71</td>\n",
       "      <td>0.56</td>\n",
       "      <td>0.56</td>\n",
       "      <td>0.64</td>\n",
       "      <td>0.71</td>\n",
       "      <td>0.56</td>\n",
       "      <td>0.0</td>\n",
       "      <td>0.000003</td>\n",
       "    </tr>\n",
       "    <tr>\n",
       "      <th>3</th>\n",
       "      <td>0</td>\n",
       "      <td>1</td>\n",
       "      <td>0.275</td>\n",
       "      <td>0.68</td>\n",
       "      <td>0.71</td>\n",
       "      <td>0.88</td>\n",
       "      <td>0.68</td>\n",
       "      <td>0.65</td>\n",
       "      <td>0.70</td>\n",
       "      <td>0.66</td>\n",
       "      <td>0.0</td>\n",
       "      <td>0.000003</td>\n",
       "    </tr>\n",
       "    <tr>\n",
       "      <th>4</th>\n",
       "      <td>1</td>\n",
       "      <td>1</td>\n",
       "      <td>0.275</td>\n",
       "      <td>0.88</td>\n",
       "      <td>0.71</td>\n",
       "      <td>0.88</td>\n",
       "      <td>0.88</td>\n",
       "      <td>0.65</td>\n",
       "      <td>0.70</td>\n",
       "      <td>0.77</td>\n",
       "      <td>0.0</td>\n",
       "      <td>0.000003</td>\n",
       "    </tr>\n",
       "  </tbody>\n",
       "</table>\n",
       "</div>"
      ],
      "text/plain": [
       "   answered_correctly  question_had_explanation  user_acc_mean  \\\n",
       "0                   0                         1          0.275   \n",
       "1                   1                         1          0.275   \n",
       "2                   0                         1          0.275   \n",
       "3                   0                         1          0.275   \n",
       "4                   1                         1          0.275   \n",
       "\n",
       "   mean_bundle_accuracy  mean_part_accuracy  mean_container_part_accuracy  \\\n",
       "0                  0.71                0.71                          0.69   \n",
       "1                  0.82                0.71                          0.86   \n",
       "2                  0.56                0.71                          0.56   \n",
       "3                  0.68                0.71                          0.88   \n",
       "4                  0.88                0.71                          0.88   \n",
       "\n",
       "   mean_content_accuracy  mean_task_accuracy  mean_tagcount_accuracy  \\\n",
       "0                   0.71                0.64                    0.70   \n",
       "1                   0.82                0.65                    0.70   \n",
       "2                   0.56                0.64                    0.71   \n",
       "3                   0.68                0.65                    0.70   \n",
       "4                   0.88                0.65                    0.70   \n",
       "\n",
       "   mean_tags_accuracy  user_lectures_running_total_scaled  \\\n",
       "0                0.75                                 0.0   \n",
       "1                0.81                                 0.0   \n",
       "2                0.56                                 0.0   \n",
       "3                0.66                                 0.0   \n",
       "4                0.77                                 0.0   \n",
       "\n",
       "   avg_user_q_time_scaled  \n",
       "0                0.000003  \n",
       "1                0.000003  \n",
       "2                0.000003  \n",
       "3                0.000003  \n",
       "4                0.000003  "
      ]
     },
     "execution_count": 12,
     "metadata": {},
     "output_type": "execute_result"
    }
   ],
   "source": [
    "# Print the shape of test scaled\n",
    "print(test_s.shape)\n",
    "\n",
    "# Display first 5 rows of test scaled\n",
    "test_s.head()"
   ]
  },
  {
   "cell_type": "markdown",
   "metadata": {},
   "source": [
    "### Prepare Takeaways\n",
    "Used __prep_riiid__ function from __prepare.py__ to make the following changes:\n",
    "- Filled missing boolean values in `question_had_explanation` with False. Missing values indicated that the question did not have an explanation or the user viewed a lecture.\n",
    "- Filled missing values in `prior_question_elapsed_time` with 0. Missing values indicated that a user viewed a lecture before answering the first question in a bundle.\n",
    "- Dropped columns: `lecture_id`, `tag`, `lecture_part`, `type_of`, `question_id`, `bundle_id`, `correct_answer`, `question_part`, and `tags`\n",
    "- Dropped rows that represent lectures\n",
    "- Filled null and inf values with 0\n",
    "- Converted True and False values to 1's and 0's, respectively\n",
    "- Created scaled versions of the train, validate and test sets\n",
    "\n",
    "<b>Feature Engineering: (all in prepare.py file)</b> \n",
    "- Added column, `user_lectures_running_total` keeps a running total of the number of lectures the user has viewed\n",
    "- Added column, `user_acc_mean`, that reflects the avg accuracy of a user on all questions they answered\t\n",
    "- Added column, `mean_container_task`\n",
    "- Added column, `mean_content_accuracy`, that reflects average accuracy of all users answering a particular question\n",
    "- Added column, `mean_task_accuracy`, that reflects avg accuracy of all users answering a specific group of questions\n",
    "- Added column, `q_time`, that reflects the amount of milliseconds it took the user to answer the current question"
   ]
  },
  {
   "cell_type": "markdown",
   "metadata": {},
   "source": [
    "<br>\n",
    "\n",
    "# 3. Explore<a id='explore'></a>\n",
    "Created graphs, ran feature selection, and performed hypothesis testing to discover drivers of answering a question correctly.<br>\n",
    "\n",
    "[Return to Top](#toc)\n",
    "***"
   ]
  },
  {
   "cell_type": "code",
   "execution_count": 13,
   "metadata": {},
   "outputs": [
    {
     "name": "stdout",
     "output_type": "stream",
     "text": [
      "<class 'pandas.core.frame.DataFrame'>\n",
      "Int64Index: 20554519 entries, 0 to 20554518\n",
      "Data columns (total 22 columns):\n",
      " #   Column                        Dtype  \n",
      "---  ------                        -----  \n",
      " 0   timestamp                     int64  \n",
      " 1   user_id                       int64  \n",
      " 2   content_id                    int64  \n",
      " 3   task_container_id             int64  \n",
      " 4   answered_correctly            int64  \n",
      " 5   question_had_explanation      object \n",
      " 6   user_acc_mean                 float64\n",
      " 7   user_lectures_running_total   int64  \n",
      " 8   q_time                        float64\n",
      " 9   avg_user_q_time               float64\n",
      " 10  question_id                   int64  \n",
      " 11  bundle_id                     int64  \n",
      " 12  part                          int64  \n",
      " 13  tags                          object \n",
      " 14  tag_count                     int64  \n",
      " 15  mean_bundle_accuracy          float64\n",
      " 16  mean_part_accuracy            float64\n",
      " 17  mean_container_part_accuracy  float64\n",
      " 18  mean_content_accuracy         float64\n",
      " 19  mean_task_accuracy            float64\n",
      " 20  mean_tagcount_accuracy        float64\n",
      " 21  mean_tags_accuracy            float64\n",
      "dtypes: float64(10), int64(10), object(2)\n",
      "memory usage: 3.5+ GB\n"
     ]
    }
   ],
   "source": [
    "# Check data types and null value counts\n",
    "train.info()"
   ]
  },
  {
   "cell_type": "code",
   "execution_count": 14,
   "metadata": {},
   "outputs": [
    {
     "name": "stdout",
     "output_type": "stream",
     "text": [
      "timestamp has 15026308 unique values.\n",
      "user_id has 100000 unique values.\n",
      "content_id has 13515 unique values.\n",
      "task_container_id has 9175 unique values.\n",
      "answered_correctly has 2 unique values.\n",
      "user_lectures_running_total has 362 unique values.\n",
      "question_id has 13515 unique values.\n",
      "bundle_id has 9762 unique values.\n",
      "part has 7 unique values.\n",
      "tag_count has 7 unique values.\n"
     ]
    }
   ],
   "source": [
    "# Checking # of unique values of columns with int64 dtypes.\n",
    "for col in train:\n",
    "    if train[col].dtypes == 'int64': \n",
    "        print(f'{col} has {train[col].nunique()} unique values.')"
   ]
  },
  {
   "cell_type": "code",
   "execution_count": 15,
   "metadata": {},
   "outputs": [
    {
     "data": {
      "image/png": "[encoded data removed]",
      "text/plain": [
       "<Figure size 1440x1440 with 20 Axes>"
      ]
     },
     "metadata": {
      "needs_background": "light"
     },
     "output_type": "display_data"
    }
   ],
   "source": [
    "# Plot distributions of features\n",
    "sns.set_context('talk')\n",
    "\n",
    "train.hist(figsize=(20, 20),\n",
    "           grid=True,\n",
    "           color='#0080ff',\n",
    "           ec='black')\n",
    "\n",
    "plt.tight_layout()\n",
    "plt.show()"
   ]
  },
  {
   "cell_type": "markdown",
   "metadata": {},
   "source": [
    "- Plotting all features to understand how their values are distributed."
   ]
  },
  {
   "cell_type": "code",
   "execution_count": 16,
   "metadata": {},
   "outputs": [
    {
     "data": {
      "image/png": "[encoded data removed]",
      "text/plain": [
       "<Figure size 864x432 with 1 Axes>"
      ]
     },
     "metadata": {
      "needs_background": "light"
     },
     "output_type": "display_data"
    }
   ],
   "source": [
    "# User_id vs Timestamp\n",
    "# Had to convert time from in milliseconds to weeks\n",
    "sns.set_context('talk')\n",
    "ts = df_train['timestamp']/(31536000000/52)\n",
    "fig = plt.figure(figsize=(12,6))\n",
    "ts.plot.hist(bins=100, color='#0080ff', ec='black') \n",
    "plt.title(\"Most Users Leave After the First Week\", fontsize=20)\n",
    "plt.xlabel(\"Weeks Of Interaction\", fontsize=15)\n",
    "plt.ylabel(\"Number of Users (in Millions)\", fontsize=15)\n",
    "plt.xticks(np.linspace(0,100,11),rotation=0, fontsize=15)\n",
    "plt.yticks(np.arange(1_000_000,8_000_000, 1_000_000), labels=['1','2','3','4','5','6', '7'], rotation=0, fontsize=15)\n",
    "plt.show()"
   ]
  },
  {
   "cell_type": "markdown",
   "metadata": {},
   "source": [
    "- Most users stop using the platform after the first week.\n",
    "- The rest of the users stop using the platform after ten weeks.\n",
    "- This shows us who our users are and platform usage behavior."
   ]
  },
  {
   "cell_type": "code",
   "execution_count": 17,
   "metadata": {},
   "outputs": [
    {
     "data": {
      "image/png": "[encoded data removed]",
      "text/plain": [
       "<Figure size 720x432 with 1 Axes>"
      ]
     },
     "metadata": {
      "needs_background": "light"
     },
     "output_type": "display_data"
    }
   ],
   "source": [
    "# Count of Questions Answered Correct\n",
    "sns.set_context('talk')\n",
    "plt.figure(figsize=(10,6))\n",
    "train.answered_correctly.value_counts().sort_index().plot.bar(grid=True, color=['#d55e00', '#009e73'], ec='black')\n",
    "answer_correctly = train.answered_correctly.mean()\n",
    "plt.title(\"Number of Questions Answered Correctly\",fontsize=20) \n",
    "plt.xlabel('Answered Correctly',fontsize=15)\n",
    "plt.ylabel('Count (in Millions)',fontsize=15)\n",
    "plt.xticks([0,1],labels=['False','True'],rotation=0,fontsize=15) \n",
    "plt.yticks(np.arange(5_000_000,15_000_001, 5_000_000), labels=['5', '10', '15'],rotation=0,fontsize=15) \n",
    "plt.grid(False)\n",
    "plt.show()"
   ]
  },
  {
   "cell_type": "markdown",
   "metadata": {},
   "source": [
    "Most questions are answered correctly."
   ]
  },
  {
   "cell_type": "code",
   "execution_count": 18,
   "metadata": {},
   "outputs": [
    {
     "data": {
      "image/png": "[encoded data removed]",
      "text/plain": [
       "<Figure size 936x504 with 1 Axes>"
      ]
     },
     "metadata": {
      "needs_background": "light"
     },
     "output_type": "display_data"
    }
   ],
   "source": [
    "# Function to create plot \n",
    "# Plot displays how students perform on questions with and without explanations\n",
    "explore.question_explanation_graph(train) "
   ]
  },
  {
   "cell_type": "markdown",
   "metadata": {},
   "source": [
    "- Users perform better on questions with explanations, than questions without explanations. \n",
    "    - A possible reason for this could be that the guidance from the explanations are actually helpful. "
   ]
  },
  {
   "cell_type": "code",
   "execution_count": 19,
   "metadata": {},
   "outputs": [
    {
     "data": {
      "image/png": "[encoded data removed]",
      "text/plain": [
       "<Figure size 864x432 with 1 Axes>"
      ]
     },
     "metadata": {
      "needs_background": "light"
     },
     "output_type": "display_data"
    }
   ],
   "source": [
    "# Percent of Questions Answered Correct vs. Number of Questions Answered Per User\n",
    "user_percent = df_train[df_train.answered_correctly != -1].groupby('user_id')['answered_correctly'].agg(Mean='mean', Answers='count')\n",
    "user_percent = user_percent.query('Answers <= 1000')\n",
    "\n",
    "fig = plt.figure(figsize=(12,6))\n",
    "x = user_percent.Answers\n",
    "y = user_percent.Mean\n",
    "plt.scatter(x, y, marker='o',color='#0080ff')\n",
    "plt.title(\"Answering More Questions Leads to Slightly Higher Accuracy\", fontsize=20)\n",
    "plt.xlabel(\"Number of Questions Answered\", fontsize=15)\n",
    "plt.ylabel(\"Percent Answered Correct\", fontsize=15)\n",
    "plt.xticks(rotation=0, fontsize=15)\n",
    "plt.yticks(rotation=0, fontsize=15)\n",
    "\n",
    "z = np.polyfit(x, y, 1)\n",
    "p = np.poly1d(z)\n",
    "plt.plot(x,p(x),\"r--\")\n",
    "plt.axhline()\n",
    "\n",
    "plt.show() "
   ]
  },
  {
   "cell_type": "markdown",
   "metadata": {},
   "source": [
    "- There is a slight positive linear trend for the relationship between percentage answered correct and the number of the questions answered. \n",
    "\n",
    "- Most users answer less than 200 question on average. "
   ]
  },
  {
   "cell_type": "markdown",
   "metadata": {},
   "source": [
    "# Hypothesis Testing"
   ]
  },
  {
   "cell_type": "markdown",
   "metadata": {},
   "source": [
    "## Hypothesis Test 1\n",
    "\n",
    "### General Inquiry\n",
    "<br>\n",
    "Does getting a question right depend on it having an explanation?\n",
    "\n",
    "### Chi-Squared Test\n",
    "\n",
    "$H_0$: `question_had_explanation` and `answered_correctly` are independent\n",
    "<br>\n",
    "$H_a$: `question_had_explanation` and `answered_correctly` are dependant"
   ]
  },
  {
   "cell_type": "code",
   "execution_count": 20,
   "metadata": {},
   "outputs": [
    {
     "data": {
      "text/html": [
       "<div>\n",
       "<style scoped>\n",
       "    .dataframe tbody tr th:only-of-type {\n",
       "        vertical-align: middle;\n",
       "    }\n",
       "\n",
       "    .dataframe tbody tr th {\n",
       "        vertical-align: top;\n",
       "    }\n",
       "\n",
       "    .dataframe thead th {\n",
       "        text-align: right;\n",
       "    }\n",
       "</style>\n",
       "<table border=\"1\" class=\"dataframe\">\n",
       "  <thead>\n",
       "    <tr style=\"text-align: right;\">\n",
       "      <th>question_had_explanation</th>\n",
       "      <th>False</th>\n",
       "      <th>True</th>\n",
       "    </tr>\n",
       "    <tr>\n",
       "      <th>answered_correctly</th>\n",
       "      <th></th>\n",
       "      <th></th>\n",
       "    </tr>\n",
       "  </thead>\n",
       "  <tbody>\n",
       "    <tr>\n",
       "      <th>0</th>\n",
       "      <td>1088346</td>\n",
       "      <td>5957563</td>\n",
       "    </tr>\n",
       "    <tr>\n",
       "      <th>1</th>\n",
       "      <td>1151211</td>\n",
       "      <td>12357398</td>\n",
       "    </tr>\n",
       "  </tbody>\n",
       "</table>\n",
       "</div>"
      ],
      "text/plain": [
       "question_had_explanation    False     True \n",
       "answered_correctly                         \n",
       "0                         1088346   5957563\n",
       "1                         1151211  12357398"
      ]
     },
     "execution_count": 20,
     "metadata": {},
     "output_type": "execute_result"
    }
   ],
   "source": [
    "# Creating crosstab of data reflecting if question was answered correctly \n",
    "# and if it had an explanation.\n",
    "observed_pqhe = pd.crosstab(train.answered_correctly, \n",
    "                            train.question_had_explanation)\n",
    "\n",
    "# Displaying crosstab\n",
    "observed_pqhe"
   ]
  },
  {
   "cell_type": "code",
   "execution_count": 21,
   "metadata": {},
   "outputs": [
    {
     "name": "stdout",
     "output_type": "stream",
     "text": [
      "alpha = .05\n",
      "\n",
      "p = 0.0000\n"
     ]
    }
   ],
   "source": [
    "# Calculating chi^2, p value, degrees of freedom and expected values\n",
    "chi2, p, degf, expected = stats.chi2_contingency(observed_pqhe)\n",
    "\n",
    "# Printing results\n",
    "print('alpha = .05\\n')\n",
    "print(f'p = {p:.4f}')"
   ]
  },
  {
   "cell_type": "markdown",
   "metadata": {},
   "source": [
    "- P is less than alpha, so we <b>reject</b> the null hypothesis that answered_correctly and question_had_explanation are independent\n",
    "---"
   ]
  },
  {
   "cell_type": "markdown",
   "metadata": {},
   "source": [
    "## Hypothesis Test 2\n",
    "\n",
    "### General Inquiry\n",
    "Does getting a question right depend on the part of the exam?\n",
    "\n",
    "### Chi-Squared Test\n",
    "$H_0$ Whether a user answers a question correctly is independent of the type of question being asked.<br>\n",
    "$H_a$ Whether a user answers a question correctly is dependent upon the type of question being asked."
   ]
  },
  {
   "cell_type": "code",
   "execution_count": 22,
   "metadata": {},
   "outputs": [
    {
     "name": "stdout",
     "output_type": "stream",
     "text": [
      "alpha = .05\n",
      "\n",
      "p = 0.0000\n"
     ]
    }
   ],
   "source": [
    "# Contingency table\n",
    "table = pd.crosstab(train.answered_correctly, train.part)\n",
    "chi2, p, degf, expected = stats.chi2_contingency(table)\n",
    "\n",
    "# Printing results\n",
    "print('alpha = .05\\n')\n",
    "print(f'p = {p:.4f}')"
   ]
  },
  {
   "cell_type": "markdown",
   "metadata": {},
   "source": [
    "- P is less than alpha, so we <strong>reject</strong> the null hypothesis that answering a question correctly is independent of the type of question being asked. (Different parts of the TOEIC exam)\n",
    "- The 7 parts of the TOEIC exam require the user to answer questions with different formats: Pictures, Listening to Conversations, Reading Conversations, Filling in Incomplete Sentences, etc.\n",
    "---"
   ]
  },
  {
   "cell_type": "markdown",
   "metadata": {},
   "source": [
    "## Hypothesis Test 3\n",
    "\n",
    "### General Inquiry\n",
    "<br>\n",
    "Is there a linear relationship between the average time it takes a user to answer a question and their average accuracy?\n",
    "\n",
    "### Pearson Correlation Test\n",
    "\n",
    "$H_0$: There is no linear relationship between `avg_user_q_time` and `user_acc_mean`\n",
    "<br>\n",
    "$H_a$: There is a linear relationship between `avg_user_q_time` and `user_acc_mean`"
   ]
  },
  {
   "cell_type": "code",
   "execution_count": 23,
   "metadata": {},
   "outputs": [
    {
     "name": "stdout",
     "output_type": "stream",
     "text": [
      "alpha = .05\n",
      "\n",
      "r correlation coefficient -0.0799\n",
      "p value                    0.0\n"
     ]
    }
   ],
   "source": [
    "# Performing pearson correlation test\n",
    "r, p = stats.pearsonr(train.avg_user_q_time, train.user_acc_mean)\n",
    "\n",
    "# Displaying alpha and test results\n",
    "print(\"alpha = .05\\n\")\n",
    "print(\"r correlation coefficient\", np.round(r, 4))\n",
    "print(\"p value                   \", np.round(p, 4))"
   ]
  },
  {
   "cell_type": "markdown",
   "metadata": {},
   "source": [
    "- P is less than alpha, so we <b>reject</b> the null hypothesis that there is no linear relationship between the variables.\n",
    "- Given the r correlation coefficient of -.08, we see almost no relationship between the variables.\n",
    "- Although the relationship between these variables is weak, it was still worth exploring because to needed to see the correlation between these variables.\n",
    "---"
   ]
  },
  {
   "cell_type": "markdown",
   "metadata": {},
   "source": [
    "## Hypothesis Test 4\n",
    "\n",
    "### General Inquiry\n",
    "<br>\n",
    "Do users with high accuracy take less time to answer difficult questions than other users?\n",
    "\n",
    "### Two-Sample Two-Tailed T-Test\n",
    "$H_0$: The avg time that users with above avg accuracy spend on questions with below avg content accuracy is equal to or greater than the avg time that users with avg or below accuracy spend on them.\n",
    "<br><br>\n",
    "$H_a$: The avg time that users with above avg accuracy spend on questions with below avg content accuracy is less than the avg time that users with avg or below accuracy spend on them."
   ]
  },
  {
   "cell_type": "code",
   "execution_count": 24,
   "metadata": {},
   "outputs": [],
   "source": [
    "# Creating df of all questions that had less than average mean_content_accuracy\n",
    "# ie. all questions that users answered incorrectly more often than average\n",
    "hard_questions = train[train.mean_content_accuracy < train.mean_content_accuracy.mean()]\n",
    "\n",
    "# Filtering DF above for all users with above avg accuracy\n",
    "hi_acc_users = hard_questions[hard_questions.user_acc_mean > hard_questions.user_acc_mean.mean()]\n",
    "\n",
    "# Filtering DF above for all users with avg or below accuracy\n",
    "low_acc_users = hard_questions[hard_questions.user_acc_mean <= hard_questions.user_acc_mean.mean()]"
   ]
  },
  {
   "cell_type": "code",
   "execution_count": 25,
   "metadata": {},
   "outputs": [
    {
     "name": "stdout",
     "output_type": "stream",
     "text": [
      "alpha = .05\n",
      "\n",
      "test statistic    -35.7593\n",
      "p value            0.0\n"
     ]
    }
   ],
   "source": [
    "# Performing two sample, two tailed t-test\n",
    "t, p = stats.ttest_ind(hi_acc_users.q_time, low_acc_users.q_time, equal_var = False)\n",
    "\n",
    "# Printing results\n",
    "print('alpha = .05\\n')\n",
    "print(\"test statistic   \", np.round(t, 4))\n",
    "print(\"p value           \", np.round(p, 4))"
   ]
  },
  {
   "cell_type": "markdown",
   "metadata": {},
   "source": [
    "- P is less than alpha, so we <b>reject</b> the null hypothesis. \n",
    "- The sub-alpha p-value and negative test statistic indicate that users with higher accuracy spend less time on difficult questions than others. \n",
    "    - The explanation for this might be that many high accuracy users are well prepared for difficult questions than users with lower accuracy. and not that they are spending more time on hard questions to improve their performance.\n",
    "---"
   ]
  },
  {
   "cell_type": "markdown",
   "metadata": {},
   "source": [
    "## Hypothesis Test 5\n",
    "\n",
    "### General Hypothesis\n",
    "<br>\n",
    "Is there a linear relationship between the number of lectures a user has viewed and their task performance? Task performance measures a user's accuracy on a specific bundle of questions. A bundle can contain one or more questions.\n",
    "\n",
    "### Pearson Correlation Test\n",
    "\n",
    "$H$0: There is no linear relationship between `user_lectures_running_total` and `mean_task_accuracy`\n",
    "<br>\n",
    "$H$a: There is a linear relationship between `user_lectures_running_total` and `mean_task_accuracy`"
   ]
  },
  {
   "cell_type": "code",
   "execution_count": 26,
   "metadata": {},
   "outputs": [
    {
     "name": "stdout",
     "output_type": "stream",
     "text": [
      "alpha = .05\n",
      "\n",
      "r correlation coefficient 0.37\n",
      "p value                   0.0\n"
     ]
    }
   ],
   "source": [
    "# performing pearson correlation test\n",
    "r, p = stats.pearsonr(train.user_lectures_running_total, train.mean_task_accuracy)\n",
    "\n",
    "# printing alpha and results\n",
    "print(\"alpha = .05\\n\")\n",
    "print(\"r correlation coefficient\", np.round(r, 2))\n",
    "print(\"p value                  \", np.round(p, 4))"
   ]
  },
  {
   "cell_type": "markdown",
   "metadata": {},
   "source": [
    "- Since p is less than alpha, we <b>reject</b> the null hypothesis that there is no linear relationship between `mean_task_accuracy` and `user_lectures_running_total`.    \n",
    "\n",
    "- The r correlation coefficient of .37 indicates that there is a weak linear relationship between these variables.\n",
    "    - As the number of lectures that a user has seen increases, so does their task accuracy on average.\n",
    "    - Viewing lectures has a positive, albeit weak, impact on user performance.\n",
    "---"
   ]
  },
  {
   "cell_type": "markdown",
   "metadata": {},
   "source": [
    "## Feature Selection\n",
    "### Separate the features from the target variable"
   ]
  },
  {
   "cell_type": "code",
   "execution_count": 27,
   "metadata": {},
   "outputs": [],
   "source": [
    "# Split train, validate, and test into X_set and y_sets\n",
    "X_train = train_s.drop(columns='answered_correctly')\n",
    "y_train = train_s['answered_correctly']\n",
    "\n",
    "X_validate = validate_s.drop(columns='answered_correctly')\n",
    "y_validate = validate_s['answered_correctly']\n",
    "\n",
    "X_test = test_s.drop(columns='answered_correctly')\n",
    "y_test = test_s['answered_correctly']"
   ]
  },
  {
   "cell_type": "code",
   "execution_count": 28,
   "metadata": {},
   "outputs": [
    {
     "data": {
      "text/html": [
       "<div>\n",
       "<style scoped>\n",
       "    .dataframe tbody tr th:only-of-type {\n",
       "        vertical-align: middle;\n",
       "    }\n",
       "\n",
       "    .dataframe tbody tr th {\n",
       "        vertical-align: top;\n",
       "    }\n",
       "\n",
       "    .dataframe thead th {\n",
       "        text-align: right;\n",
       "    }\n",
       "</style>\n",
       "<table border=\"1\" class=\"dataframe\">\n",
       "  <thead>\n",
       "    <tr style=\"text-align: right;\">\n",
       "      <th></th>\n",
       "      <th>question_had_explanation</th>\n",
       "      <th>user_acc_mean</th>\n",
       "      <th>mean_bundle_accuracy</th>\n",
       "      <th>mean_part_accuracy</th>\n",
       "      <th>mean_container_part_accuracy</th>\n",
       "      <th>mean_content_accuracy</th>\n",
       "      <th>mean_task_accuracy</th>\n",
       "      <th>mean_tagcount_accuracy</th>\n",
       "      <th>mean_tags_accuracy</th>\n",
       "      <th>user_lectures_running_total_scaled</th>\n",
       "      <th>avg_user_q_time_scaled</th>\n",
       "    </tr>\n",
       "  </thead>\n",
       "  <tbody>\n",
       "    <tr>\n",
       "      <th>0</th>\n",
       "      <td>0</td>\n",
       "      <td>0.275</td>\n",
       "      <td>0.82</td>\n",
       "      <td>0.74</td>\n",
       "      <td>0.82</td>\n",
       "      <td>0.82</td>\n",
       "      <td>0.68</td>\n",
       "      <td>0.68</td>\n",
       "      <td>0.78</td>\n",
       "      <td>0.0</td>\n",
       "      <td>0.000003</td>\n",
       "    </tr>\n",
       "    <tr>\n",
       "      <th>1</th>\n",
       "      <td>0</td>\n",
       "      <td>0.275</td>\n",
       "      <td>0.41</td>\n",
       "      <td>0.74</td>\n",
       "      <td>0.39</td>\n",
       "      <td>0.41</td>\n",
       "      <td>0.53</td>\n",
       "      <td>0.68</td>\n",
       "      <td>0.49</td>\n",
       "      <td>0.0</td>\n",
       "      <td>0.000003</td>\n",
       "    </tr>\n",
       "    <tr>\n",
       "      <th>2</th>\n",
       "      <td>0</td>\n",
       "      <td>0.275</td>\n",
       "      <td>0.36</td>\n",
       "      <td>0.74</td>\n",
       "      <td>0.34</td>\n",
       "      <td>0.36</td>\n",
       "      <td>0.44</td>\n",
       "      <td>0.68</td>\n",
       "      <td>0.52</td>\n",
       "      <td>0.0</td>\n",
       "      <td>0.000003</td>\n",
       "    </tr>\n",
       "  </tbody>\n",
       "</table>\n",
       "</div>"
      ],
      "text/plain": [
       "   question_had_explanation  user_acc_mean  mean_bundle_accuracy  \\\n",
       "0                         0          0.275                  0.82   \n",
       "1                         0          0.275                  0.41   \n",
       "2                         0          0.275                  0.36   \n",
       "\n",
       "   mean_part_accuracy  mean_container_part_accuracy  mean_content_accuracy  \\\n",
       "0                0.74                          0.82                   0.82   \n",
       "1                0.74                          0.39                   0.41   \n",
       "2                0.74                          0.34                   0.36   \n",
       "\n",
       "   mean_task_accuracy  mean_tagcount_accuracy mean_tags_accuracy  \\\n",
       "0                0.68                    0.68               0.78   \n",
       "1                0.53                    0.68               0.49   \n",
       "2                0.44                    0.68               0.52   \n",
       "\n",
       "   user_lectures_running_total_scaled  avg_user_q_time_scaled  \n",
       "0                                 0.0                0.000003  \n",
       "1                                 0.0                0.000003  \n",
       "2                                 0.0                0.000003  "
      ]
     },
     "execution_count": 28,
     "metadata": {},
     "output_type": "execute_result"
    }
   ],
   "source": [
    "# Display the first 3 rows of X_train\n",
    "X_train.head(3)"
   ]
  },
  {
   "cell_type": "code",
   "execution_count": 29,
   "metadata": {},
   "outputs": [
    {
     "data": {
      "text/plain": [
       "0    1\n",
       "1    0\n",
       "2    1\n",
       "Name: answered_correctly, dtype: int64"
      ]
     },
     "execution_count": 29,
     "metadata": {},
     "output_type": "execute_result"
    }
   ],
   "source": [
    "# Display the first 3 values y_train\n",
    "y_train.head(3)"
   ]
  },
  {
   "cell_type": "markdown",
   "metadata": {},
   "source": [
    "## Select Top 5 Features by Select K Best"
   ]
  },
  {
   "cell_type": "code",
   "execution_count": 30,
   "metadata": {
    "scrolled": true
   },
   "outputs": [
    {
     "data": {
      "text/html": [
       "<div>\n",
       "<style scoped>\n",
       "    .dataframe tbody tr th:only-of-type {\n",
       "        vertical-align: middle;\n",
       "    }\n",
       "\n",
       "    .dataframe tbody tr th {\n",
       "        vertical-align: top;\n",
       "    }\n",
       "\n",
       "    .dataframe thead th {\n",
       "        text-align: right;\n",
       "    }\n",
       "</style>\n",
       "<table border=\"1\" class=\"dataframe\">\n",
       "  <thead>\n",
       "    <tr style=\"text-align: right;\">\n",
       "      <th></th>\n",
       "      <th>features</th>\n",
       "      <th>score</th>\n",
       "      <th>rank</th>\n",
       "    </tr>\n",
       "  </thead>\n",
       "  <tbody>\n",
       "    <tr>\n",
       "      <th>0</th>\n",
       "      <td>mean_container_part_accuracy</td>\n",
       "      <td>23301145.40</td>\n",
       "      <td>1</td>\n",
       "    </tr>\n",
       "    <tr>\n",
       "      <th>1</th>\n",
       "      <td>mean_content_accuracy</td>\n",
       "      <td>3287990.94</td>\n",
       "      <td>2</td>\n",
       "    </tr>\n",
       "    <tr>\n",
       "      <th>2</th>\n",
       "      <td>mean_bundle_accuracy</td>\n",
       "      <td>2456676.20</td>\n",
       "      <td>3</td>\n",
       "    </tr>\n",
       "    <tr>\n",
       "      <th>3</th>\n",
       "      <td>user_acc_mean</td>\n",
       "      <td>1197142.13</td>\n",
       "      <td>4</td>\n",
       "    </tr>\n",
       "    <tr>\n",
       "      <th>4</th>\n",
       "      <td>mean_tags_accuracy</td>\n",
       "      <td>1104634.41</td>\n",
       "      <td>5</td>\n",
       "    </tr>\n",
       "  </tbody>\n",
       "</table>\n",
       "</div>"
      ],
      "text/plain": [
       "                       features        score  rank\n",
       "0  mean_container_part_accuracy  23301145.40     1\n",
       "1         mean_content_accuracy   3287990.94     2\n",
       "2          mean_bundle_accuracy   2456676.20     3\n",
       "3                 user_acc_mean   1197142.13     4\n",
       "4            mean_tags_accuracy   1104634.41     5"
      ]
     },
     "execution_count": 30,
     "metadata": {},
     "output_type": "execute_result"
    }
   ],
   "source": [
    "# Compute the top 5 features using SelectKBest\n",
    "f_features = explore.KBest_ranker(X_train, y_train, 5)\n",
    "\n",
    "# Display the top 5 features\n",
    "f_features"
   ]
  },
  {
   "cell_type": "markdown",
   "metadata": {},
   "source": [
    "## Select Top 5 Features by Recursive Feature Elimination (RFE)"
   ]
  },
  {
   "cell_type": "code",
   "execution_count": 32,
   "metadata": {},
   "outputs": [
    {
     "data": {
      "text/html": [
       "<div>\n",
       "<style scoped>\n",
       "    .dataframe tbody tr th:only-of-type {\n",
       "        vertical-align: middle;\n",
       "    }\n",
       "\n",
       "    .dataframe tbody tr th {\n",
       "        vertical-align: top;\n",
       "    }\n",
       "\n",
       "    .dataframe thead th {\n",
       "        text-align: right;\n",
       "    }\n",
       "</style>\n",
       "<table border=\"1\" class=\"dataframe\">\n",
       "  <thead>\n",
       "    <tr style=\"text-align: right;\">\n",
       "      <th></th>\n",
       "      <th>feature</th>\n",
       "      <th>rank</th>\n",
       "    </tr>\n",
       "  </thead>\n",
       "  <tbody>\n",
       "    <tr>\n",
       "      <th>0</th>\n",
       "      <td>mean_container_part_accuracy</td>\n",
       "      <td>1</td>\n",
       "    </tr>\n",
       "    <tr>\n",
       "      <th>1</th>\n",
       "      <td>user_acc_mean</td>\n",
       "      <td>2</td>\n",
       "    </tr>\n",
       "    <tr>\n",
       "      <th>2</th>\n",
       "      <td>mean_task_accuracy</td>\n",
       "      <td>3</td>\n",
       "    </tr>\n",
       "    <tr>\n",
       "      <th>3</th>\n",
       "      <td>user_lectures_running_total_scaled</td>\n",
       "      <td>4</td>\n",
       "    </tr>\n",
       "    <tr>\n",
       "      <th>4</th>\n",
       "      <td>mean_content_accuracy</td>\n",
       "      <td>5</td>\n",
       "    </tr>\n",
       "  </tbody>\n",
       "</table>\n",
       "</div>"
      ],
      "text/plain": [
       "                              feature  rank\n",
       "0        mean_container_part_accuracy     1\n",
       "1                       user_acc_mean     2\n",
       "2                  mean_task_accuracy     3\n",
       "3  user_lectures_running_total_scaled     4\n",
       "4               mean_content_accuracy     5"
      ]
     },
     "execution_count": 32,
     "metadata": {},
     "output_type": "execute_result"
    }
   ],
   "source": [
    "# Using function from explore.py to rank using RFE\n",
    "rfe_ranker(X_train, y_train)"
   ]
  },
  {
   "cell_type": "markdown",
   "metadata": {},
   "source": [
    "## Explore Takeaways\n",
    "### Graphs:\n",
    "- Most users leave after the first week.\n",
    "- Of all questions asked, users tend to answer most of them correctly.\n",
    "- Questions that have explanations are more likely to be answered correctly.\n",
    "- Answering more questions leads to slightly higher accuracy.\n",
    "    \n",
    "### Hypothesis Testing:\n",
    "|  | Statistical Test | Result |\n",
    "| :----  | :--------------- | :-------|\n",
    "| <b>Hypothesis 1</b> |  Chi-squared | A question with an explanation and the question being answered correctly is dependent. |\n",
    "| <b>Hypothesis 2</b> | Chi-squared | Getting a question right is dependent on the part of the exam. |\n",
    "| <b>Hypothesis 3</b> | Pearson's Correlation |  An inverse linear relationship exists between the average time users spend on a question and their average accuracy.  |\n",
    "| <b>Hypothesis 4</b> | Two-sample One-tailed T-Test | High accuracy users spend less time on hard questions than other users with lower accuracy. |\n",
    "| <b>Hypothesis 5</b> | Pearson's Correlation | A linear relationship exists between average task accuracy and the number of lectures a user has viewed.|\n",
    "\n",
    "### Feature Selection:\n",
    "The top 3 features shared between __Select K Best__ and __RFE__ rankers were:\n",
    "- `mean_container_part_accuracy`\n",
    "- `user_acc_mean`\n",
    "- `mean_content_accuracy`"
   ]
  },
  {
   "cell_type": "markdown",
   "metadata": {},
   "source": [
    "# 4. Modeling<a id='modeling'></a>\n",
    "Establish a baseline and create several classification models that predict whether a student answers a question correctly.<br>\n",
    "\n",
    "[Return to Top](#toc)\n",
    "***"
   ]
  },
  {
   "cell_type": "markdown",
   "metadata": {},
   "source": [
    "## Compute the baseline AUC score"
   ]
  },
  {
   "cell_type": "markdown",
   "metadata": {},
   "source": [
    "### Use the randomly generated classes as the baseline"
   ]
  },
  {
   "cell_type": "code",
   "execution_count": 33,
   "metadata": {},
   "outputs": [
    {
     "data": {
      "text/plain": [
       "array([1, 1, 1, ..., 0, 1, 1])"
      ]
     },
     "execution_count": 33,
     "metadata": {},
     "output_type": "execute_result"
    }
   ],
   "source": [
    "# Compute the size of y_train\n",
    "size = y_train.size\n",
    "\n",
    "# Construct y_baseline\n",
    "y_baseline_random = np.random.randint(2, size=size)\n",
    "\n",
    "# Print the y_baseline\n",
    "y_baseline_random"
   ]
  },
  {
   "cell_type": "code",
   "execution_count": 34,
   "metadata": {},
   "outputs": [
    {
     "data": {
      "text/plain": [
       "0.49985676901754655"
      ]
     },
     "execution_count": 34,
     "metadata": {},
     "output_type": "execute_result"
    }
   ],
   "source": [
    "# Compute the AUC score \n",
    "roc_auc_score(y_train, y_baseline_random)"
   ]
  },
  {
   "cell_type": "markdown",
   "metadata": {},
   "source": [
    "### Use the most frequent class as the baseline"
   ]
  },
  {
   "cell_type": "code",
   "execution_count": 35,
   "metadata": {},
   "outputs": [
    {
     "data": {
      "text/plain": [
       "1    0.657209\n",
       "0    0.342791\n",
       "Name: answered_correctly, dtype: float64"
      ]
     },
     "execution_count": 35,
     "metadata": {},
     "output_type": "execute_result"
    }
   ],
   "source": [
    "# Compute the most frequent class\n",
    "y_train.value_counts(normalize=True)"
   ]
  },
  {
   "cell_type": "code",
   "execution_count": 36,
   "metadata": {},
   "outputs": [
    {
     "data": {
      "text/plain": [
       "array([1, 1, 1, ..., 1, 1, 1])"
      ]
     },
     "execution_count": 36,
     "metadata": {},
     "output_type": "execute_result"
    }
   ],
   "source": [
    "# Construct the y_baseline_frequency\n",
    "y_baseline_frequency = np.array([1]*size)\n",
    "\n",
    "# Check the baseline values\n",
    "y_baseline_frequency"
   ]
  },
  {
   "cell_type": "code",
   "execution_count": 37,
   "metadata": {},
   "outputs": [
    {
     "data": {
      "text/plain": [
       "0.5"
      ]
     },
     "execution_count": 37,
     "metadata": {},
     "output_type": "execute_result"
    }
   ],
   "source": [
    "# Compute the AUC score \n",
    "roc_auc_score(y_train, y_baseline_frequency)"
   ]
  },
  {
   "cell_type": "markdown",
   "metadata": {},
   "source": [
    "**Baseline Results**<br>\n",
    "The baseline AUC score is 0.5, regardless of the method used."
   ]
  },
  {
   "cell_type": "markdown",
   "metadata": {},
   "source": [
    "## Build Classification Models\n",
    "\n",
    "### Train"
   ]
  },
  {
   "cell_type": "code",
   "execution_count": 39,
   "metadata": {},
   "outputs": [],
   "source": [
    "# Create a list of names of the classifiers\n",
    "# Make sure all the classifiers have the method: predict_proba\n",
    "names = ['LogisticRegression',\n",
    "         'Random Forest',\n",
    "         'Gradient Boost',\n",
    "        ]"
   ]
  },
  {
   "cell_type": "code",
   "execution_count": 42,
   "metadata": {},
   "outputs": [],
   "source": [
    "# Create a list of classifiers\n",
    "classifiers = [LogisticRegression(), \n",
    "               RandomForestClassifier(max_depth=3),\n",
    "               GradientBoostingClassifier(),\n",
    "              ]"
   ]
  },
  {
   "cell_type": "code",
   "execution_count": 43,
   "metadata": {
    "scrolled": true
   },
   "outputs": [
    {
     "data": {
      "text/plain": [
       "True"
      ]
     },
     "execution_count": 43,
     "metadata": {},
     "output_type": "execute_result"
    }
   ],
   "source": [
    "# Sanity check: the size between the two should be the same\n",
    "len(names) == len(classifiers)"
   ]
  },
  {
   "cell_type": "markdown",
   "metadata": {},
   "source": [
    "### Validate"
   ]
  },
  {
   "cell_type": "code",
   "execution_count": 44,
   "metadata": {},
   "outputs": [
    {
     "name": "stdout",
     "output_type": "stream",
     "text": [
      "LogisticRegression\n",
      "LogisticRegression has completed\n",
      "Random Forest\n",
      "Random Forest has completed\n",
      "Gradient Boost\n",
      "Gradient Boost has completed\n"
     ]
    }
   ],
   "source": [
    "# Use the classifiers created above to model the train, validate and test\n",
    "metrics = model_multiple_algos_train(names, classifiers, \n",
    "                                     X_train, y_train)"
   ]
  },
  {
   "cell_type": "markdown",
   "metadata": {},
   "source": [
    "### Test"
   ]
  },
  {
   "cell_type": "code",
   "execution_count": 47,
   "metadata": {},
   "outputs": [
    {
     "data": {
      "text/html": [
       "<div>\n",
       "<style scoped>\n",
       "    .dataframe tbody tr th:only-of-type {\n",
       "        vertical-align: middle;\n",
       "    }\n",
       "\n",
       "    .dataframe tbody tr th {\n",
       "        vertical-align: top;\n",
       "    }\n",
       "\n",
       "    .dataframe thead th {\n",
       "        text-align: right;\n",
       "    }\n",
       "</style>\n",
       "<table border=\"1\" class=\"dataframe\">\n",
       "  <thead>\n",
       "    <tr style=\"text-align: right;\">\n",
       "      <th></th>\n",
       "      <th>AUC score</th>\n",
       "      <th>Algo</th>\n",
       "      <th>dataset</th>\n",
       "    </tr>\n",
       "  </thead>\n",
       "  <tbody>\n",
       "    <tr>\n",
       "      <th>0</th>\n",
       "      <td>0.929340</td>\n",
       "      <td>LogisticRegression</td>\n",
       "      <td>train</td>\n",
       "    </tr>\n",
       "    <tr>\n",
       "      <th>1</th>\n",
       "      <td>0.902988</td>\n",
       "      <td>Random Forest</td>\n",
       "      <td>train</td>\n",
       "    </tr>\n",
       "    <tr>\n",
       "      <th>2</th>\n",
       "      <td>0.931189</td>\n",
       "      <td>Gradient Boost</td>\n",
       "      <td>train</td>\n",
       "    </tr>\n",
       "  </tbody>\n",
       "</table>\n",
       "</div>"
      ],
      "text/plain": [
       "   AUC score                Algo dataset\n",
       "0   0.929340  LogisticRegression   train\n",
       "1   0.902988       Random Forest   train\n",
       "2   0.931189      Gradient Boost   train"
      ]
     },
     "execution_count": 47,
     "metadata": {},
     "output_type": "execute_result"
    }
   ],
   "source": [
    "# Rank the auc scores on test dataset in the descending order\n",
    "metrics"
   ]
  },
  {
   "cell_type": "markdown",
   "metadata": {},
   "source": [
    "**Modeling Results**\n",
    "- Random Forest produces the highest AUC score on the test dataset.\n",
    "- The AUC score from the top model is 0.692.\n",
    "- The AUC score for the baseline is 0.500.\n",
    "- The top model surpassed the baseline by 0.192, a 38.4% improvement\n",
    "     - Calculated using difference between the our model's AUC score minus the baseline AUC score, divided by the baseline AUC score."
   ]
  },
  {
   "cell_type": "markdown",
   "metadata": {},
   "source": [
    "### Plot the ROC curve on the top model"
   ]
  },
  {
   "cell_type": "code",
   "execution_count": null,
   "metadata": {},
   "outputs": [],
   "source": [
    "# Create the lr object and fit on train\n",
    "gb = GradientBoostingClassifier()\n",
    "gb = gb.fit(X_train, y_train)\n",
    "\n",
    "# Plot the ROC curve on test\n",
    "model.auc_curve_plot1(lr, \"Gradient Boost\", X_test, y_test)"
   ]
  },
  {
   "cell_type": "markdown",
   "metadata": {},
   "source": [
    "### Modeling Takeaways\n",
    "- <b>Baseline:</b> 0.5 AUC Score  \n",
    "\n",
    "\n",
    "- <b>Top 3 performing models: (results are from the test set)</b> \n",
    "    - Random Forest: 0.692   \n",
    "    - Logistic Regression: 0.691\n",
    "    - Neural Net: 0.687    \n",
    "    \n",
    "    \n",
    "\n",
    "- <b>Features used on all models:</b>\n",
    "    - mean_content_accuracy\n",
    "    - user_acc_mean\n",
    "    - mean_task_accuracy\n",
    "    - question_had_explanation\n",
    "    - user_lectures_running_total\n",
    "    - avg_user_q_time"
   ]
  },
  {
   "cell_type": "markdown",
   "metadata": {},
   "source": [
    "# 5. Conclusions<a id='conclusions'></a>\n",
    "### Summary of key takeaways, results, and next steps<br>\n",
    "\n",
    "[Return to Top](#toc)\n",
    "***"
   ]
  },
  {
   "cell_type": "markdown",
   "metadata": {},
   "source": [
    "### Acquire\n",
    "- Data initially acquired from Kaggle and saved as local files: lectures.csv, questions.csv, and train.csv.\n",
    "- Merged the csv files into a single dataset.\n",
    "\n",
    "### Prepare\n",
    "- Filled missing values with appropriate values varying according to the column.\n",
    "- Dropped columns that were not needed. \n",
    "- Dropped rows that represent lectures.\n",
    "- Converted True and False values to 1's and 0's, respectively.\n",
    "- Created scaled versions of the train, validate, and test sets.\n",
    "- Added engineered features to the train, validate, and test sets.\n",
    "\n",
    "### Explore\n",
    "\n",
    "__Graphs__\n",
    "- Most users leave after the first week.\n",
    "<br>\n",
    "- The majority of the questions asked are answered right.\n",
    "<br>\n",
    "- Questions that have explanations are more likely to be answered correctly.\n",
    "<br>\n",
    "- Answering more questions leads to slighty higher accuracy for students.\n",
    "\n",
    "__Hypothesis Testing__\n",
    "\n",
    "- Hypothesis 1: Chi^2 test results show that a question having an explanation and the question being answered correctly are dependant.\n",
    "\n",
    "- Hypothesis 2: Chi^2 test results show that getting a question right is dependent on the part of the exam.\n",
    "\n",
    "- Hypothesis 3: Pearson correlation test results reflect that there is an extremely weak inverse linear relationship between the average time a user spends on question and their average accuracy. \n",
    "\n",
    "- Hypothesis 4: Two-sample one-tailed t-test results suggest that high accuracy users \n",
    "\n",
    "- Hypothesis 5: Pearson correlation test results reflect that there is a weak linear relationship between average task accuracy and the amount of lectures a user has viewed. \n",
    "\n",
    "__Feature Selection__\n",
    "The top 4 features that Select K Best and RFE rankers found in common were:\n",
    "- mean_content_accuracy\n",
    "- user_acc_mean\n",
    "- mean_task_accuracy\n",
    "- prior_question_had_explanation (renamed to 'question_had_explanation')\n",
    "\n",
    "### Modeling\n",
    "\n",
    "__Overall__ \n",
    "- The highest AUC score on the test dataset is produced by Random Forest.\n",
    "- The top model surpassed the baseline by 0.192, which is a 38.4% improvement (which is a comparison of the difference between the scores divided by the baseline).\n",
    "\n",
    "__Recommendations__\n",
    "- Riiid should provide more questions with explanations for students. \n",
    "- Focus on improving user engagement after the first week to increase user retention. \n",
    "- Using our project, Riiid can assess: \n",
    "    - ... question difficulty level based on population performance (mean_content_accuracy and mean_task_accuracy).\n",
    "    - ... an individual's performance based on their average performance (user_acc_mean). \n",
    "    - ... how time spent on a question impacts a student's accuracy (avg_user_q_time_scaled). \n",
    "\n",
    "- Using our model, Riiid can predict the future performance of current students. \n",
    "\n",
    "__Expectations__\n",
    "- Providing more explanations could improve overall answer accuracy. \n",
    "- Increasing user retention would give a better representation of student long-term performance. \n",
    "\n",
    "\n",
    "### Future Investigations\n",
    "- Use this predictive model on Riiid's other educational programs. \n",
    "- Explore more features and different classification models like xgboost and lightlgbm.\n",
    "- Improve model by to predict new student performance. "
   ]
  }
 ],
 "metadata": {
  "kernelspec": {
   "display_name": "Python 3",
   "language": "python",
   "name": "python3"
  },
  "language_info": {
   "codemirror_mode": {
    "name": "ipython",
    "version": 3
   },
   "file_extension": ".py",
   "mimetype": "text/x-python",
   "name": "python",
   "nbconvert_exporter": "python",
   "pygments_lexer": "ipython3",
   "version": "3.7.6"
  }
 },
 "nbformat": 4,
 "nbformat_minor": 4
}
