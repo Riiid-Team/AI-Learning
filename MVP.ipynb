{
 "cells": [
  {
   "cell_type": "markdown",
   "metadata": {},
   "source": [
    "# Riiid Project: Minimally Viable Product (MVP)  "
   ]
  },
  {
   "cell_type": "markdown",
   "metadata": {},
   "source": [
    "## About Riiid Labs"
   ]
  },
  {
   "cell_type": "markdown",
   "metadata": {},
   "source": [
    "Riiid Labs, an AI solutions provider delivering creative disruption to the education market. With a strong belief in equal opportunity in education, Riiid launched an AI tutor based on deep-learning algorithms in 2017 that attracted more than one million South Korean students. This year, the company released EdNet, the world’s largest open database for AI education containing more than 100 million student interactions. [Source](https://www.kaggle.com/c/riiid-test-answer-prediction/overview/description)"
   ]
  },
  {
   "cell_type": "markdown",
   "metadata": {},
   "source": [
    "## Our Goal"
   ]
  },
  {
   "cell_type": "markdown",
   "metadata": {},
   "source": [
    "The goal of this project is to create a machine learning model that can predict whether or not a user will answer a problem correctly using data from Riiid's EdNet Database. "
   ]
  },
  {
   "cell_type": "markdown",
   "metadata": {},
   "source": [
    "# Imports"
   ]
  },
  {
   "cell_type": "code",
   "execution_count": 1,
   "metadata": {},
   "outputs": [],
   "source": [
    "# General Imports \n",
    "import pandas as pd\n",
    "import numpy as np\n",
    "import matplotlib.pyplot as plt\n",
    "import seaborn as sns\n",
    "from scipy import stats\n",
    "%matplotlib inline\n",
    "\n",
    "# Train Validate Test\n",
    "from sklearn.model_selection import train_test_split\n",
    "\n",
    "# Modeling Imports\n",
    "from sklearn.cluster import KMeans\n",
    "\n",
    "# Acquire and Prepare Files\n",
    "import acquire, prepare, explore, model\n",
    "from explore import rfe_ranker\n",
    "\n",
    "# Sklearn \n",
    "from sklearn.preprocessing import MinMaxScaler\n",
    "from sklearn.feature_selection import SelectKBest, f_regression\n",
    "from sklearn.metrics import plot_roc_curve, plot_precision_recall_curve, roc_auc_score\n",
    "from sklearn.linear_model import LogisticRegression\n",
    "from sklearn.tree import DecisionTreeClassifier\n",
    "from sklearn.ensemble import RandomForestClassifier, AdaBoostClassifier, GradientBoostingClassifier\n",
    "from sklearn.neighbors import KNeighborsClassifier\n",
    "from sklearn.naive_bayes import GaussianNB\n",
    "from sklearn.neural_network import MLPClassifier\n",
    "\n",
    "# Warnings \n",
    "import warnings\n",
    "warnings.filterwarnings(\"ignore\")"
   ]
  },
  {
   "cell_type": "markdown",
   "metadata": {},
   "source": [
    "# Acquire\n",
    "Acqure the data used for this project."
   ]
  },
  {
   "cell_type": "code",
   "execution_count": 4,
   "metadata": {},
   "outputs": [
    {
     "data": {
      "text/plain": [
       "((411517, 18), (50842, 18), (52868, 18))"
      ]
     },
     "execution_count": 4,
     "metadata": {},
     "output_type": "execute_result"
    }
   ],
   "source": [
    "# Reading in data from local files\n",
    "df_train = pd.read_csv('sampled_trainset.csv')\n",
    "df_validate = pd.read_csv('validate.csv')\n",
    "df_test = pd.read_csv('test.csv')\n",
    "\n",
    "df_train.shape, df_validate.shape, df_test.shape"
   ]
  },
  {
   "cell_type": "code",
   "execution_count": 5,
   "metadata": {},
   "outputs": [
    {
     "data": {
      "text/html": [
       "<div>\n",
       "<style scoped>\n",
       "    .dataframe tbody tr th:only-of-type {\n",
       "        vertical-align: middle;\n",
       "    }\n",
       "\n",
       "    .dataframe tbody tr th {\n",
       "        vertical-align: top;\n",
       "    }\n",
       "\n",
       "    .dataframe thead th {\n",
       "        text-align: right;\n",
       "    }\n",
       "</style>\n",
       "<table border=\"1\" class=\"dataframe\">\n",
       "  <thead>\n",
       "    <tr style=\"text-align: right;\">\n",
       "      <th></th>\n",
       "      <th>timestamp</th>\n",
       "      <th>user_id</th>\n",
       "      <th>content_id</th>\n",
       "      <th>content_type_id</th>\n",
       "      <th>task_container_id</th>\n",
       "      <th>user_answer</th>\n",
       "      <th>answered_correctly</th>\n",
       "      <th>prior_question_elapsed_time</th>\n",
       "      <th>prior_question_had_explanation</th>\n",
       "      <th>lecture_id</th>\n",
       "      <th>tag</th>\n",
       "      <th>lecture_part</th>\n",
       "      <th>type_of</th>\n",
       "      <th>question_id</th>\n",
       "      <th>bundle_id</th>\n",
       "      <th>correct_answer</th>\n",
       "      <th>question_part</th>\n",
       "      <th>tags</th>\n",
       "    </tr>\n",
       "  </thead>\n",
       "  <tbody>\n",
       "    <tr>\n",
       "      <th>0</th>\n",
       "      <td>0</td>\n",
       "      <td>1864702</td>\n",
       "      <td>5720</td>\n",
       "      <td>0</td>\n",
       "      <td>0</td>\n",
       "      <td>1</td>\n",
       "      <td>1</td>\n",
       "      <td>NaN</td>\n",
       "      <td>NaN</td>\n",
       "      <td>NaN</td>\n",
       "      <td>NaN</td>\n",
       "      <td>NaN</td>\n",
       "      <td>NaN</td>\n",
       "      <td>5720.0</td>\n",
       "      <td>5720.0</td>\n",
       "      <td>1.0</td>\n",
       "      <td>5.0</td>\n",
       "      <td>115</td>\n",
       "    </tr>\n",
       "    <tr>\n",
       "      <th>1</th>\n",
       "      <td>45951</td>\n",
       "      <td>1864702</td>\n",
       "      <td>5204</td>\n",
       "      <td>0</td>\n",
       "      <td>1</td>\n",
       "      <td>1</td>\n",
       "      <td>0</td>\n",
       "      <td>inf</td>\n",
       "      <td>False</td>\n",
       "      <td>NaN</td>\n",
       "      <td>NaN</td>\n",
       "      <td>NaN</td>\n",
       "      <td>NaN</td>\n",
       "      <td>5204.0</td>\n",
       "      <td>5204.0</td>\n",
       "      <td>3.0</td>\n",
       "      <td>5.0</td>\n",
       "      <td>173</td>\n",
       "    </tr>\n",
       "  </tbody>\n",
       "</table>\n",
       "</div>"
      ],
      "text/plain": [
       "   timestamp  user_id  content_id  content_type_id  task_container_id  \\\n",
       "0          0  1864702        5720                0                  0   \n",
       "1      45951  1864702        5204                0                  1   \n",
       "\n",
       "   user_answer  answered_correctly  prior_question_elapsed_time  \\\n",
       "0            1                   1                          NaN   \n",
       "1            1                   0                          inf   \n",
       "\n",
       "  prior_question_had_explanation  lecture_id  tag  lecture_part type_of  \\\n",
       "0                            NaN         NaN  NaN           NaN     NaN   \n",
       "1                          False         NaN  NaN           NaN     NaN   \n",
       "\n",
       "   question_id  bundle_id  correct_answer  question_part tags  \n",
       "0       5720.0     5720.0             1.0            5.0  115  \n",
       "1       5204.0     5204.0             3.0            5.0  173  "
      ]
     },
     "execution_count": 5,
     "metadata": {},
     "output_type": "execute_result"
    }
   ],
   "source": [
    "# Train Data\n",
    "df_train.head(2)"
   ]
  },
  {
   "cell_type": "code",
   "execution_count": 6,
   "metadata": {},
   "outputs": [
    {
     "data": {
      "text/html": [
       "<div>\n",
       "<style scoped>\n",
       "    .dataframe tbody tr th:only-of-type {\n",
       "        vertical-align: middle;\n",
       "    }\n",
       "\n",
       "    .dataframe tbody tr th {\n",
       "        vertical-align: top;\n",
       "    }\n",
       "\n",
       "    .dataframe thead th {\n",
       "        text-align: right;\n",
       "    }\n",
       "</style>\n",
       "<table border=\"1\" class=\"dataframe\">\n",
       "  <thead>\n",
       "    <tr style=\"text-align: right;\">\n",
       "      <th></th>\n",
       "      <th>timestamp</th>\n",
       "      <th>user_id</th>\n",
       "      <th>content_id</th>\n",
       "      <th>content_type_id</th>\n",
       "      <th>task_container_id</th>\n",
       "      <th>user_answer</th>\n",
       "      <th>answered_correctly</th>\n",
       "      <th>prior_question_elapsed_time</th>\n",
       "      <th>prior_question_had_explanation</th>\n",
       "      <th>lecture_id</th>\n",
       "      <th>tag</th>\n",
       "      <th>lecture_part</th>\n",
       "      <th>type_of</th>\n",
       "      <th>question_id</th>\n",
       "      <th>bundle_id</th>\n",
       "      <th>correct_answer</th>\n",
       "      <th>question_part</th>\n",
       "      <th>tags</th>\n",
       "    </tr>\n",
       "  </thead>\n",
       "  <tbody>\n",
       "    <tr>\n",
       "      <th>0</th>\n",
       "      <td>15625124241</td>\n",
       "      <td>1864702</td>\n",
       "      <td>3209</td>\n",
       "      <td>0</td>\n",
       "      <td>2152</td>\n",
       "      <td>3</td>\n",
       "      <td>1</td>\n",
       "      <td>34660.0</td>\n",
       "      <td>True</td>\n",
       "      <td>NaN</td>\n",
       "      <td>NaN</td>\n",
       "      <td>NaN</td>\n",
       "      <td>NaN</td>\n",
       "      <td>3209.0</td>\n",
       "      <td>3207.0</td>\n",
       "      <td>3.0</td>\n",
       "      <td>4.0</td>\n",
       "      <td>157 169 162 38</td>\n",
       "    </tr>\n",
       "    <tr>\n",
       "      <th>1</th>\n",
       "      <td>15625124241</td>\n",
       "      <td>1864702</td>\n",
       "      <td>3208</td>\n",
       "      <td>0</td>\n",
       "      <td>2152</td>\n",
       "      <td>3</td>\n",
       "      <td>1</td>\n",
       "      <td>34660.0</td>\n",
       "      <td>True</td>\n",
       "      <td>NaN</td>\n",
       "      <td>NaN</td>\n",
       "      <td>NaN</td>\n",
       "      <td>NaN</td>\n",
       "      <td>3208.0</td>\n",
       "      <td>3207.0</td>\n",
       "      <td>3.0</td>\n",
       "      <td>4.0</td>\n",
       "      <td>113 169 162 38</td>\n",
       "    </tr>\n",
       "  </tbody>\n",
       "</table>\n",
       "</div>"
      ],
      "text/plain": [
       "     timestamp  user_id  content_id  content_type_id  task_container_id  \\\n",
       "0  15625124241  1864702        3209                0               2152   \n",
       "1  15625124241  1864702        3208                0               2152   \n",
       "\n",
       "   user_answer  answered_correctly  prior_question_elapsed_time  \\\n",
       "0            3                   1                      34660.0   \n",
       "1            3                   1                      34660.0   \n",
       "\n",
       "   prior_question_had_explanation  lecture_id  tag  lecture_part type_of  \\\n",
       "0                            True         NaN  NaN           NaN     NaN   \n",
       "1                            True         NaN  NaN           NaN     NaN   \n",
       "\n",
       "   question_id  bundle_id  correct_answer  question_part            tags  \n",
       "0       3209.0     3207.0             3.0            4.0  157 169 162 38  \n",
       "1       3208.0     3207.0             3.0            4.0  113 169 162 38  "
      ]
     },
     "execution_count": 6,
     "metadata": {},
     "output_type": "execute_result"
    }
   ],
   "source": [
    "# Validate Data\n",
    "df_validate.head(2)"
   ]
  },
  {
   "cell_type": "code",
   "execution_count": 7,
   "metadata": {
    "scrolled": true
   },
   "outputs": [
    {
     "data": {
      "text/html": [
       "<div>\n",
       "<style scoped>\n",
       "    .dataframe tbody tr th:only-of-type {\n",
       "        vertical-align: middle;\n",
       "    }\n",
       "\n",
       "    .dataframe tbody tr th {\n",
       "        vertical-align: top;\n",
       "    }\n",
       "\n",
       "    .dataframe thead th {\n",
       "        text-align: right;\n",
       "    }\n",
       "</style>\n",
       "<table border=\"1\" class=\"dataframe\">\n",
       "  <thead>\n",
       "    <tr style=\"text-align: right;\">\n",
       "      <th></th>\n",
       "      <th>timestamp</th>\n",
       "      <th>user_id</th>\n",
       "      <th>content_id</th>\n",
       "      <th>content_type_id</th>\n",
       "      <th>task_container_id</th>\n",
       "      <th>user_answer</th>\n",
       "      <th>answered_correctly</th>\n",
       "      <th>prior_question_elapsed_time</th>\n",
       "      <th>prior_question_had_explanation</th>\n",
       "      <th>lecture_id</th>\n",
       "      <th>tag</th>\n",
       "      <th>lecture_part</th>\n",
       "      <th>type_of</th>\n",
       "      <th>question_id</th>\n",
       "      <th>bundle_id</th>\n",
       "      <th>correct_answer</th>\n",
       "      <th>question_part</th>\n",
       "      <th>tags</th>\n",
       "    </tr>\n",
       "  </thead>\n",
       "  <tbody>\n",
       "    <tr>\n",
       "      <th>0</th>\n",
       "      <td>20170378604</td>\n",
       "      <td>1864702</td>\n",
       "      <td>8811</td>\n",
       "      <td>0</td>\n",
       "      <td>2494</td>\n",
       "      <td>1</td>\n",
       "      <td>1</td>\n",
       "      <td>3000.0</td>\n",
       "      <td>True</td>\n",
       "      <td>NaN</td>\n",
       "      <td>NaN</td>\n",
       "      <td>NaN</td>\n",
       "      <td>NaN</td>\n",
       "      <td>8811.0</td>\n",
       "      <td>8811.0</td>\n",
       "      <td>1.0</td>\n",
       "      <td>5.0</td>\n",
       "      <td>45</td>\n",
       "    </tr>\n",
       "    <tr>\n",
       "      <th>1</th>\n",
       "      <td>20170394313</td>\n",
       "      <td>1864702</td>\n",
       "      <td>8643</td>\n",
       "      <td>0</td>\n",
       "      <td>2495</td>\n",
       "      <td>3</td>\n",
       "      <td>1</td>\n",
       "      <td>4000.0</td>\n",
       "      <td>True</td>\n",
       "      <td>NaN</td>\n",
       "      <td>NaN</td>\n",
       "      <td>NaN</td>\n",
       "      <td>NaN</td>\n",
       "      <td>8643.0</td>\n",
       "      <td>8643.0</td>\n",
       "      <td>3.0</td>\n",
       "      <td>5.0</td>\n",
       "      <td>15</td>\n",
       "    </tr>\n",
       "  </tbody>\n",
       "</table>\n",
       "</div>"
      ],
      "text/plain": [
       "     timestamp  user_id  content_id  content_type_id  task_container_id  \\\n",
       "0  20170378604  1864702        8811                0               2494   \n",
       "1  20170394313  1864702        8643                0               2495   \n",
       "\n",
       "   user_answer  answered_correctly  prior_question_elapsed_time  \\\n",
       "0            1                   1                       3000.0   \n",
       "1            3                   1                       4000.0   \n",
       "\n",
       "   prior_question_had_explanation  lecture_id  tag  lecture_part type_of  \\\n",
       "0                            True         NaN  NaN           NaN     NaN   \n",
       "1                            True         NaN  NaN           NaN     NaN   \n",
       "\n",
       "   question_id  bundle_id  correct_answer  question_part tags  \n",
       "0       8811.0     8811.0             1.0            5.0   45  \n",
       "1       8643.0     8643.0             3.0            5.0   15  "
      ]
     },
     "execution_count": 7,
     "metadata": {},
     "output_type": "execute_result"
    }
   ],
   "source": [
    "# Test Data\n",
    "df_test.head(2)"
   ]
  },
  {
   "cell_type": "markdown",
   "metadata": {},
   "source": [
    "<b>Takeaways</b>\n",
    "- Data acquired from Kaggle. \n",
    "- The data is stored in three separate files: lectures.csv, questions.csv, and train.csv. \n",
    "- We used a random sample of 100K users for our analysis. \n",
    "- Functions used to acquire the data are stored in the acquire.py module."
   ]
  },
  {
   "cell_type": "markdown",
   "metadata": {},
   "source": [
    "# Prepare\n",
    "Preparing the data for future exploration and modeling."
   ]
  },
  {
   "cell_type": "markdown",
   "metadata": {},
   "source": [
    "### Run Prepare Function (found in prepare.py module)"
   ]
  },
  {
   "cell_type": "code",
   "execution_count": 8,
   "metadata": {},
   "outputs": [],
   "source": [
    "# Produce train/validate/test\n",
    "# Produce scaled train/validate/test\n",
    "train, validate, test, train_s, validate_s, test_s = prepare.prep_riiid(df_train, df_validate, df_test)"
   ]
  },
  {
   "cell_type": "code",
   "execution_count": 9,
   "metadata": {},
   "outputs": [
    {
     "name": "stdout",
     "output_type": "stream",
     "text": [
      "(403377, 10)\n"
     ]
    },
    {
     "data": {
      "text/html": [
       "<div>\n",
       "<style scoped>\n",
       "    .dataframe tbody tr th:only-of-type {\n",
       "        vertical-align: middle;\n",
       "    }\n",
       "\n",
       "    .dataframe tbody tr th {\n",
       "        vertical-align: top;\n",
       "    }\n",
       "\n",
       "    .dataframe thead th {\n",
       "        text-align: right;\n",
       "    }\n",
       "</style>\n",
       "<table border=\"1\" class=\"dataframe\">\n",
       "  <thead>\n",
       "    <tr style=\"text-align: right;\">\n",
       "      <th></th>\n",
       "      <th>answered_correctly</th>\n",
       "      <th>question_had_explanation</th>\n",
       "      <th>user_acc_mean</th>\n",
       "      <th>user_lectures_running_total</th>\n",
       "      <th>q_time</th>\n",
       "      <th>avg_user_q_time</th>\n",
       "      <th>mean_content_accuracy</th>\n",
       "      <th>mean_task_accuracy</th>\n",
       "      <th>mean_timestamp_accuracy</th>\n",
       "      <th>mean_priortime_accuracy</th>\n",
       "    </tr>\n",
       "  </thead>\n",
       "  <tbody>\n",
       "    <tr>\n",
       "      <th>0</th>\n",
       "      <td>1</td>\n",
       "      <td>0</td>\n",
       "      <td>0.630049</td>\n",
       "      <td>0</td>\n",
       "      <td>45951.0</td>\n",
       "      <td>11917302.0</td>\n",
       "      <td>0.818182</td>\n",
       "      <td>0.682248</td>\n",
       "      <td>6.514429e+09</td>\n",
       "      <td>22241.021251</td>\n",
       "    </tr>\n",
       "    <tr>\n",
       "      <th>1</th>\n",
       "      <td>0</td>\n",
       "      <td>0</td>\n",
       "      <td>0.630049</td>\n",
       "      <td>0</td>\n",
       "      <td>28391.0</td>\n",
       "      <td>11917302.0</td>\n",
       "      <td>0.550000</td>\n",
       "      <td>0.534988</td>\n",
       "      <td>6.514429e+09</td>\n",
       "      <td>22241.021251</td>\n",
       "    </tr>\n",
       "    <tr>\n",
       "      <th>2</th>\n",
       "      <td>1</td>\n",
       "      <td>0</td>\n",
       "      <td>0.630049</td>\n",
       "      <td>0</td>\n",
       "      <td>22436.0</td>\n",
       "      <td>11917302.0</td>\n",
       "      <td>0.444444</td>\n",
       "      <td>0.445216</td>\n",
       "      <td>6.514429e+09</td>\n",
       "      <td>22241.021251</td>\n",
       "    </tr>\n",
       "    <tr>\n",
       "      <th>3</th>\n",
       "      <td>1</td>\n",
       "      <td>0</td>\n",
       "      <td>0.630049</td>\n",
       "      <td>0</td>\n",
       "      <td>36191.0</td>\n",
       "      <td>11917302.0</td>\n",
       "      <td>0.406250</td>\n",
       "      <td>0.544008</td>\n",
       "      <td>6.514429e+09</td>\n",
       "      <td>22241.021251</td>\n",
       "    </tr>\n",
       "    <tr>\n",
       "      <th>4</th>\n",
       "      <td>0</td>\n",
       "      <td>0</td>\n",
       "      <td>0.630049</td>\n",
       "      <td>0</td>\n",
       "      <td>24322.0</td>\n",
       "      <td>11917302.0</td>\n",
       "      <td>0.687500</td>\n",
       "      <td>0.485282</td>\n",
       "      <td>6.514429e+09</td>\n",
       "      <td>22241.021251</td>\n",
       "    </tr>\n",
       "  </tbody>\n",
       "</table>\n",
       "</div>"
      ],
      "text/plain": [
       "   answered_correctly  question_had_explanation  user_acc_mean  \\\n",
       "0                   1                         0       0.630049   \n",
       "1                   0                         0       0.630049   \n",
       "2                   1                         0       0.630049   \n",
       "3                   1                         0       0.630049   \n",
       "4                   0                         0       0.630049   \n",
       "\n",
       "   user_lectures_running_total   q_time  avg_user_q_time  \\\n",
       "0                            0  45951.0       11917302.0   \n",
       "1                            0  28391.0       11917302.0   \n",
       "2                            0  22436.0       11917302.0   \n",
       "3                            0  36191.0       11917302.0   \n",
       "4                            0  24322.0       11917302.0   \n",
       "\n",
       "   mean_content_accuracy  mean_task_accuracy  mean_timestamp_accuracy  \\\n",
       "0               0.818182            0.682248             6.514429e+09   \n",
       "1               0.550000            0.534988             6.514429e+09   \n",
       "2               0.444444            0.445216             6.514429e+09   \n",
       "3               0.406250            0.544008             6.514429e+09   \n",
       "4               0.687500            0.485282             6.514429e+09   \n",
       "\n",
       "   mean_priortime_accuracy  \n",
       "0             22241.021251  \n",
       "1             22241.021251  \n",
       "2             22241.021251  \n",
       "3             22241.021251  \n",
       "4             22241.021251  "
      ]
     },
     "execution_count": 9,
     "metadata": {},
     "output_type": "execute_result"
    }
   ],
   "source": [
    "# Print the shape of train\n",
    "print(train.shape)\n",
    "\n",
    "# Display first 5 rows of train\n",
    "train.head()"
   ]
  },
  {
   "cell_type": "code",
   "execution_count": 10,
   "metadata": {
    "scrolled": true
   },
   "outputs": [
    {
     "name": "stdout",
     "output_type": "stream",
     "text": [
      "(403377, 9)\n"
     ]
    },
    {
     "data": {
      "text/html": [
       "<div>\n",
       "<style scoped>\n",
       "    .dataframe tbody tr th:only-of-type {\n",
       "        vertical-align: middle;\n",
       "    }\n",
       "\n",
       "    .dataframe tbody tr th {\n",
       "        vertical-align: top;\n",
       "    }\n",
       "\n",
       "    .dataframe thead th {\n",
       "        text-align: right;\n",
       "    }\n",
       "</style>\n",
       "<table border=\"1\" class=\"dataframe\">\n",
       "  <thead>\n",
       "    <tr style=\"text-align: right;\">\n",
       "      <th></th>\n",
       "      <th>answered_correctly</th>\n",
       "      <th>question_had_explanation</th>\n",
       "      <th>user_acc_mean</th>\n",
       "      <th>mean_content_accuracy</th>\n",
       "      <th>mean_task_accuracy</th>\n",
       "      <th>mean_timestamp_accuracy_scaled</th>\n",
       "      <th>mean_priortime_accuracy_scaled</th>\n",
       "      <th>user_lectures_running_total_scaled</th>\n",
       "      <th>avg_user_q_time_scaled</th>\n",
       "    </tr>\n",
       "  </thead>\n",
       "  <tbody>\n",
       "    <tr>\n",
       "      <th>0</th>\n",
       "      <td>1</td>\n",
       "      <td>0</td>\n",
       "      <td>0.630049</td>\n",
       "      <td>0.818182</td>\n",
       "      <td>0.682248</td>\n",
       "      <td>0.119858</td>\n",
       "      <td>0.515734</td>\n",
       "      <td>0.0</td>\n",
       "      <td>0.001202</td>\n",
       "    </tr>\n",
       "    <tr>\n",
       "      <th>1</th>\n",
       "      <td>0</td>\n",
       "      <td>0</td>\n",
       "      <td>0.630049</td>\n",
       "      <td>0.550000</td>\n",
       "      <td>0.534988</td>\n",
       "      <td>0.119858</td>\n",
       "      <td>0.515734</td>\n",
       "      <td>0.0</td>\n",
       "      <td>0.001202</td>\n",
       "    </tr>\n",
       "    <tr>\n",
       "      <th>2</th>\n",
       "      <td>1</td>\n",
       "      <td>0</td>\n",
       "      <td>0.630049</td>\n",
       "      <td>0.444444</td>\n",
       "      <td>0.445216</td>\n",
       "      <td>0.119858</td>\n",
       "      <td>0.515734</td>\n",
       "      <td>0.0</td>\n",
       "      <td>0.001202</td>\n",
       "    </tr>\n",
       "    <tr>\n",
       "      <th>3</th>\n",
       "      <td>1</td>\n",
       "      <td>0</td>\n",
       "      <td>0.630049</td>\n",
       "      <td>0.406250</td>\n",
       "      <td>0.544008</td>\n",
       "      <td>0.119858</td>\n",
       "      <td>0.515734</td>\n",
       "      <td>0.0</td>\n",
       "      <td>0.001202</td>\n",
       "    </tr>\n",
       "    <tr>\n",
       "      <th>4</th>\n",
       "      <td>0</td>\n",
       "      <td>0</td>\n",
       "      <td>0.630049</td>\n",
       "      <td>0.687500</td>\n",
       "      <td>0.485282</td>\n",
       "      <td>0.119858</td>\n",
       "      <td>0.515734</td>\n",
       "      <td>0.0</td>\n",
       "      <td>0.001202</td>\n",
       "    </tr>\n",
       "  </tbody>\n",
       "</table>\n",
       "</div>"
      ],
      "text/plain": [
       "   answered_correctly  question_had_explanation  user_acc_mean  \\\n",
       "0                   1                         0       0.630049   \n",
       "1                   0                         0       0.630049   \n",
       "2                   1                         0       0.630049   \n",
       "3                   1                         0       0.630049   \n",
       "4                   0                         0       0.630049   \n",
       "\n",
       "   mean_content_accuracy  mean_task_accuracy  mean_timestamp_accuracy_scaled  \\\n",
       "0               0.818182            0.682248                        0.119858   \n",
       "1               0.550000            0.534988                        0.119858   \n",
       "2               0.444444            0.445216                        0.119858   \n",
       "3               0.406250            0.544008                        0.119858   \n",
       "4               0.687500            0.485282                        0.119858   \n",
       "\n",
       "   mean_priortime_accuracy_scaled  user_lectures_running_total_scaled  \\\n",
       "0                        0.515734                                 0.0   \n",
       "1                        0.515734                                 0.0   \n",
       "2                        0.515734                                 0.0   \n",
       "3                        0.515734                                 0.0   \n",
       "4                        0.515734                                 0.0   \n",
       "\n",
       "   avg_user_q_time_scaled  \n",
       "0                0.001202  \n",
       "1                0.001202  \n",
       "2                0.001202  \n",
       "3                0.001202  \n",
       "4                0.001202  "
      ]
     },
     "execution_count": 10,
     "metadata": {},
     "output_type": "execute_result"
    }
   ],
   "source": [
    "# Print the shape of train scaled\n",
    "print(train_s.shape)\n",
    "\n",
    "# Display first 5 rows of train scaled \n",
    "train_s.head()"
   ]
  },
  {
   "cell_type": "code",
   "execution_count": 11,
   "metadata": {},
   "outputs": [
    {
     "name": "stdout",
     "output_type": "stream",
     "text": [
      "(49945, 9)\n"
     ]
    },
    {
     "data": {
      "text/html": [
       "<div>\n",
       "<style scoped>\n",
       "    .dataframe tbody tr th:only-of-type {\n",
       "        vertical-align: middle;\n",
       "    }\n",
       "\n",
       "    .dataframe tbody tr th {\n",
       "        vertical-align: top;\n",
       "    }\n",
       "\n",
       "    .dataframe thead th {\n",
       "        text-align: right;\n",
       "    }\n",
       "</style>\n",
       "<table border=\"1\" class=\"dataframe\">\n",
       "  <thead>\n",
       "    <tr style=\"text-align: right;\">\n",
       "      <th></th>\n",
       "      <th>answered_correctly</th>\n",
       "      <th>question_had_explanation</th>\n",
       "      <th>user_acc_mean</th>\n",
       "      <th>user_lectures_running_total</th>\n",
       "      <th>avg_user_q_time</th>\n",
       "      <th>mean_content_accuracy</th>\n",
       "      <th>mean_task_accuracy</th>\n",
       "      <th>mean_timestamp_accuracy</th>\n",
       "      <th>mean_priortime_accuracy</th>\n",
       "    </tr>\n",
       "  </thead>\n",
       "  <tbody>\n",
       "    <tr>\n",
       "      <th>0</th>\n",
       "      <td>1</td>\n",
       "      <td>1</td>\n",
       "      <td>0.630049</td>\n",
       "      <td>0</td>\n",
       "      <td>11917302.0</td>\n",
       "      <td>0.604167</td>\n",
       "      <td>0.478261</td>\n",
       "      <td>6.514429e+09</td>\n",
       "      <td>22241.021251</td>\n",
       "    </tr>\n",
       "    <tr>\n",
       "      <th>1</th>\n",
       "      <td>1</td>\n",
       "      <td>1</td>\n",
       "      <td>0.630049</td>\n",
       "      <td>0</td>\n",
       "      <td>11917302.0</td>\n",
       "      <td>0.708333</td>\n",
       "      <td>0.478261</td>\n",
       "      <td>6.514429e+09</td>\n",
       "      <td>22241.021251</td>\n",
       "    </tr>\n",
       "    <tr>\n",
       "      <th>2</th>\n",
       "      <td>1</td>\n",
       "      <td>1</td>\n",
       "      <td>0.630049</td>\n",
       "      <td>0</td>\n",
       "      <td>11917302.0</td>\n",
       "      <td>0.687500</td>\n",
       "      <td>0.478261</td>\n",
       "      <td>6.514429e+09</td>\n",
       "      <td>22241.021251</td>\n",
       "    </tr>\n",
       "    <tr>\n",
       "      <th>3</th>\n",
       "      <td>1</td>\n",
       "      <td>1</td>\n",
       "      <td>0.630049</td>\n",
       "      <td>0</td>\n",
       "      <td>11917302.0</td>\n",
       "      <td>0.735294</td>\n",
       "      <td>0.619048</td>\n",
       "      <td>6.514429e+09</td>\n",
       "      <td>22241.021251</td>\n",
       "    </tr>\n",
       "    <tr>\n",
       "      <th>4</th>\n",
       "      <td>1</td>\n",
       "      <td>1</td>\n",
       "      <td>0.630049</td>\n",
       "      <td>0</td>\n",
       "      <td>11917302.0</td>\n",
       "      <td>0.852941</td>\n",
       "      <td>0.619048</td>\n",
       "      <td>6.514429e+09</td>\n",
       "      <td>22241.021251</td>\n",
       "    </tr>\n",
       "  </tbody>\n",
       "</table>\n",
       "</div>"
      ],
      "text/plain": [
       "   answered_correctly  question_had_explanation  user_acc_mean  \\\n",
       "0                   1                         1       0.630049   \n",
       "1                   1                         1       0.630049   \n",
       "2                   1                         1       0.630049   \n",
       "3                   1                         1       0.630049   \n",
       "4                   1                         1       0.630049   \n",
       "\n",
       "   user_lectures_running_total  avg_user_q_time  mean_content_accuracy  \\\n",
       "0                            0       11917302.0               0.604167   \n",
       "1                            0       11917302.0               0.708333   \n",
       "2                            0       11917302.0               0.687500   \n",
       "3                            0       11917302.0               0.735294   \n",
       "4                            0       11917302.0               0.852941   \n",
       "\n",
       "   mean_task_accuracy  mean_timestamp_accuracy  mean_priortime_accuracy  \n",
       "0            0.478261             6.514429e+09             22241.021251  \n",
       "1            0.478261             6.514429e+09             22241.021251  \n",
       "2            0.478261             6.514429e+09             22241.021251  \n",
       "3            0.619048             6.514429e+09             22241.021251  \n",
       "4            0.619048             6.514429e+09             22241.021251  "
      ]
     },
     "execution_count": 11,
     "metadata": {},
     "output_type": "execute_result"
    }
   ],
   "source": [
    "# Print the shape of validate \n",
    "print(validate.shape)\n",
    "\n",
    "# Display first 5 rows of validate\n",
    "validate.head()"
   ]
  },
  {
   "cell_type": "code",
   "execution_count": 12,
   "metadata": {},
   "outputs": [
    {
     "name": "stdout",
     "output_type": "stream",
     "text": [
      "(49945, 9)\n"
     ]
    },
    {
     "data": {
      "text/html": [
       "<div>\n",
       "<style scoped>\n",
       "    .dataframe tbody tr th:only-of-type {\n",
       "        vertical-align: middle;\n",
       "    }\n",
       "\n",
       "    .dataframe tbody tr th {\n",
       "        vertical-align: top;\n",
       "    }\n",
       "\n",
       "    .dataframe thead th {\n",
       "        text-align: right;\n",
       "    }\n",
       "</style>\n",
       "<table border=\"1\" class=\"dataframe\">\n",
       "  <thead>\n",
       "    <tr style=\"text-align: right;\">\n",
       "      <th></th>\n",
       "      <th>answered_correctly</th>\n",
       "      <th>question_had_explanation</th>\n",
       "      <th>user_acc_mean</th>\n",
       "      <th>mean_content_accuracy</th>\n",
       "      <th>mean_task_accuracy</th>\n",
       "      <th>mean_timestamp_accuracy_scaled</th>\n",
       "      <th>mean_priortime_accuracy_scaled</th>\n",
       "      <th>user_lectures_running_total_scaled</th>\n",
       "      <th>avg_user_q_time_scaled</th>\n",
       "    </tr>\n",
       "  </thead>\n",
       "  <tbody>\n",
       "    <tr>\n",
       "      <th>0</th>\n",
       "      <td>1</td>\n",
       "      <td>1</td>\n",
       "      <td>0.630049</td>\n",
       "      <td>0.604167</td>\n",
       "      <td>0.478261</td>\n",
       "      <td>0.119858</td>\n",
       "      <td>0.515734</td>\n",
       "      <td>0.0</td>\n",
       "      <td>0.001202</td>\n",
       "    </tr>\n",
       "    <tr>\n",
       "      <th>1</th>\n",
       "      <td>1</td>\n",
       "      <td>1</td>\n",
       "      <td>0.630049</td>\n",
       "      <td>0.708333</td>\n",
       "      <td>0.478261</td>\n",
       "      <td>0.119858</td>\n",
       "      <td>0.515734</td>\n",
       "      <td>0.0</td>\n",
       "      <td>0.001202</td>\n",
       "    </tr>\n",
       "    <tr>\n",
       "      <th>2</th>\n",
       "      <td>1</td>\n",
       "      <td>1</td>\n",
       "      <td>0.630049</td>\n",
       "      <td>0.687500</td>\n",
       "      <td>0.478261</td>\n",
       "      <td>0.119858</td>\n",
       "      <td>0.515734</td>\n",
       "      <td>0.0</td>\n",
       "      <td>0.001202</td>\n",
       "    </tr>\n",
       "    <tr>\n",
       "      <th>3</th>\n",
       "      <td>1</td>\n",
       "      <td>1</td>\n",
       "      <td>0.630049</td>\n",
       "      <td>0.735294</td>\n",
       "      <td>0.619048</td>\n",
       "      <td>0.119858</td>\n",
       "      <td>0.515734</td>\n",
       "      <td>0.0</td>\n",
       "      <td>0.001202</td>\n",
       "    </tr>\n",
       "    <tr>\n",
       "      <th>4</th>\n",
       "      <td>1</td>\n",
       "      <td>1</td>\n",
       "      <td>0.630049</td>\n",
       "      <td>0.852941</td>\n",
       "      <td>0.619048</td>\n",
       "      <td>0.119858</td>\n",
       "      <td>0.515734</td>\n",
       "      <td>0.0</td>\n",
       "      <td>0.001202</td>\n",
       "    </tr>\n",
       "  </tbody>\n",
       "</table>\n",
       "</div>"
      ],
      "text/plain": [
       "   answered_correctly  question_had_explanation  user_acc_mean  \\\n",
       "0                   1                         1       0.630049   \n",
       "1                   1                         1       0.630049   \n",
       "2                   1                         1       0.630049   \n",
       "3                   1                         1       0.630049   \n",
       "4                   1                         1       0.630049   \n",
       "\n",
       "   mean_content_accuracy  mean_task_accuracy  mean_timestamp_accuracy_scaled  \\\n",
       "0               0.604167            0.478261                        0.119858   \n",
       "1               0.708333            0.478261                        0.119858   \n",
       "2               0.687500            0.478261                        0.119858   \n",
       "3               0.735294            0.619048                        0.119858   \n",
       "4               0.852941            0.619048                        0.119858   \n",
       "\n",
       "   mean_priortime_accuracy_scaled  user_lectures_running_total_scaled  \\\n",
       "0                        0.515734                                 0.0   \n",
       "1                        0.515734                                 0.0   \n",
       "2                        0.515734                                 0.0   \n",
       "3                        0.515734                                 0.0   \n",
       "4                        0.515734                                 0.0   \n",
       "\n",
       "   avg_user_q_time_scaled  \n",
       "0                0.001202  \n",
       "1                0.001202  \n",
       "2                0.001202  \n",
       "3                0.001202  \n",
       "4                0.001202  "
      ]
     },
     "execution_count": 12,
     "metadata": {},
     "output_type": "execute_result"
    }
   ],
   "source": [
    "# Print the shape of validate scaled \n",
    "print(validate_s.shape)\n",
    "\n",
    "# Display first 5 rows of validate scaled \n",
    "validate_s.head()"
   ]
  },
  {
   "cell_type": "code",
   "execution_count": 13,
   "metadata": {},
   "outputs": [
    {
     "name": "stdout",
     "output_type": "stream",
     "text": [
      "(51971, 9)\n"
     ]
    },
    {
     "data": {
      "text/html": [
       "<div>\n",
       "<style scoped>\n",
       "    .dataframe tbody tr th:only-of-type {\n",
       "        vertical-align: middle;\n",
       "    }\n",
       "\n",
       "    .dataframe tbody tr th {\n",
       "        vertical-align: top;\n",
       "    }\n",
       "\n",
       "    .dataframe thead th {\n",
       "        text-align: right;\n",
       "    }\n",
       "</style>\n",
       "<table border=\"1\" class=\"dataframe\">\n",
       "  <thead>\n",
       "    <tr style=\"text-align: right;\">\n",
       "      <th></th>\n",
       "      <th>answered_correctly</th>\n",
       "      <th>question_had_explanation</th>\n",
       "      <th>user_acc_mean</th>\n",
       "      <th>user_lectures_running_total</th>\n",
       "      <th>avg_user_q_time</th>\n",
       "      <th>mean_content_accuracy</th>\n",
       "      <th>mean_task_accuracy</th>\n",
       "      <th>mean_timestamp_accuracy</th>\n",
       "      <th>mean_priortime_accuracy</th>\n",
       "    </tr>\n",
       "  </thead>\n",
       "  <tbody>\n",
       "    <tr>\n",
       "      <th>0</th>\n",
       "      <td>1</td>\n",
       "      <td>1</td>\n",
       "      <td>0.630049</td>\n",
       "      <td>0</td>\n",
       "      <td>11917302.0</td>\n",
       "      <td>0.468750</td>\n",
       "      <td>0.529412</td>\n",
       "      <td>6.514429e+09</td>\n",
       "      <td>22241.021251</td>\n",
       "    </tr>\n",
       "    <tr>\n",
       "      <th>1</th>\n",
       "      <td>1</td>\n",
       "      <td>1</td>\n",
       "      <td>0.630049</td>\n",
       "      <td>0</td>\n",
       "      <td>11917302.0</td>\n",
       "      <td>0.290323</td>\n",
       "      <td>0.578947</td>\n",
       "      <td>6.514429e+09</td>\n",
       "      <td>22241.021251</td>\n",
       "    </tr>\n",
       "    <tr>\n",
       "      <th>2</th>\n",
       "      <td>0</td>\n",
       "      <td>1</td>\n",
       "      <td>0.630049</td>\n",
       "      <td>0</td>\n",
       "      <td>11917302.0</td>\n",
       "      <td>0.387755</td>\n",
       "      <td>0.588235</td>\n",
       "      <td>6.514429e+09</td>\n",
       "      <td>22241.021251</td>\n",
       "    </tr>\n",
       "    <tr>\n",
       "      <th>3</th>\n",
       "      <td>1</td>\n",
       "      <td>1</td>\n",
       "      <td>0.630049</td>\n",
       "      <td>0</td>\n",
       "      <td>11917302.0</td>\n",
       "      <td>0.740741</td>\n",
       "      <td>0.714286</td>\n",
       "      <td>6.514429e+09</td>\n",
       "      <td>22241.021251</td>\n",
       "    </tr>\n",
       "    <tr>\n",
       "      <th>4</th>\n",
       "      <td>0</td>\n",
       "      <td>1</td>\n",
       "      <td>0.630049</td>\n",
       "      <td>0</td>\n",
       "      <td>11917302.0</td>\n",
       "      <td>0.428571</td>\n",
       "      <td>0.687500</td>\n",
       "      <td>6.514429e+09</td>\n",
       "      <td>22241.021251</td>\n",
       "    </tr>\n",
       "  </tbody>\n",
       "</table>\n",
       "</div>"
      ],
      "text/plain": [
       "   answered_correctly  question_had_explanation  user_acc_mean  \\\n",
       "0                   1                         1       0.630049   \n",
       "1                   1                         1       0.630049   \n",
       "2                   0                         1       0.630049   \n",
       "3                   1                         1       0.630049   \n",
       "4                   0                         1       0.630049   \n",
       "\n",
       "   user_lectures_running_total  avg_user_q_time  mean_content_accuracy  \\\n",
       "0                            0       11917302.0               0.468750   \n",
       "1                            0       11917302.0               0.290323   \n",
       "2                            0       11917302.0               0.387755   \n",
       "3                            0       11917302.0               0.740741   \n",
       "4                            0       11917302.0               0.428571   \n",
       "\n",
       "   mean_task_accuracy  mean_timestamp_accuracy  mean_priortime_accuracy  \n",
       "0            0.529412             6.514429e+09             22241.021251  \n",
       "1            0.578947             6.514429e+09             22241.021251  \n",
       "2            0.588235             6.514429e+09             22241.021251  \n",
       "3            0.714286             6.514429e+09             22241.021251  \n",
       "4            0.687500             6.514429e+09             22241.021251  "
      ]
     },
     "execution_count": 13,
     "metadata": {},
     "output_type": "execute_result"
    }
   ],
   "source": [
    "# Print the shape of test\n",
    "print(test.shape)\n",
    "\n",
    "# Display first 5 rows of test\n",
    "test.head()"
   ]
  },
  {
   "cell_type": "code",
   "execution_count": 14,
   "metadata": {},
   "outputs": [
    {
     "name": "stdout",
     "output_type": "stream",
     "text": [
      "(51971, 9)\n"
     ]
    },
    {
     "data": {
      "text/html": [
       "<div>\n",
       "<style scoped>\n",
       "    .dataframe tbody tr th:only-of-type {\n",
       "        vertical-align: middle;\n",
       "    }\n",
       "\n",
       "    .dataframe tbody tr th {\n",
       "        vertical-align: top;\n",
       "    }\n",
       "\n",
       "    .dataframe thead th {\n",
       "        text-align: right;\n",
       "    }\n",
       "</style>\n",
       "<table border=\"1\" class=\"dataframe\">\n",
       "  <thead>\n",
       "    <tr style=\"text-align: right;\">\n",
       "      <th></th>\n",
       "      <th>answered_correctly</th>\n",
       "      <th>question_had_explanation</th>\n",
       "      <th>user_acc_mean</th>\n",
       "      <th>mean_content_accuracy</th>\n",
       "      <th>mean_task_accuracy</th>\n",
       "      <th>mean_timestamp_accuracy_scaled</th>\n",
       "      <th>mean_priortime_accuracy_scaled</th>\n",
       "      <th>user_lectures_running_total_scaled</th>\n",
       "      <th>avg_user_q_time_scaled</th>\n",
       "    </tr>\n",
       "  </thead>\n",
       "  <tbody>\n",
       "    <tr>\n",
       "      <th>0</th>\n",
       "      <td>1</td>\n",
       "      <td>1</td>\n",
       "      <td>0.630049</td>\n",
       "      <td>0.468750</td>\n",
       "      <td>0.529412</td>\n",
       "      <td>0.119858</td>\n",
       "      <td>0.515734</td>\n",
       "      <td>0.0</td>\n",
       "      <td>0.001202</td>\n",
       "    </tr>\n",
       "    <tr>\n",
       "      <th>1</th>\n",
       "      <td>1</td>\n",
       "      <td>1</td>\n",
       "      <td>0.630049</td>\n",
       "      <td>0.290323</td>\n",
       "      <td>0.578947</td>\n",
       "      <td>0.119858</td>\n",
       "      <td>0.515734</td>\n",
       "      <td>0.0</td>\n",
       "      <td>0.001202</td>\n",
       "    </tr>\n",
       "    <tr>\n",
       "      <th>2</th>\n",
       "      <td>0</td>\n",
       "      <td>1</td>\n",
       "      <td>0.630049</td>\n",
       "      <td>0.387755</td>\n",
       "      <td>0.588235</td>\n",
       "      <td>0.119858</td>\n",
       "      <td>0.515734</td>\n",
       "      <td>0.0</td>\n",
       "      <td>0.001202</td>\n",
       "    </tr>\n",
       "    <tr>\n",
       "      <th>3</th>\n",
       "      <td>1</td>\n",
       "      <td>1</td>\n",
       "      <td>0.630049</td>\n",
       "      <td>0.740741</td>\n",
       "      <td>0.714286</td>\n",
       "      <td>0.119858</td>\n",
       "      <td>0.515734</td>\n",
       "      <td>0.0</td>\n",
       "      <td>0.001202</td>\n",
       "    </tr>\n",
       "    <tr>\n",
       "      <th>4</th>\n",
       "      <td>0</td>\n",
       "      <td>1</td>\n",
       "      <td>0.630049</td>\n",
       "      <td>0.428571</td>\n",
       "      <td>0.687500</td>\n",
       "      <td>0.119858</td>\n",
       "      <td>0.515734</td>\n",
       "      <td>0.0</td>\n",
       "      <td>0.001202</td>\n",
       "    </tr>\n",
       "  </tbody>\n",
       "</table>\n",
       "</div>"
      ],
      "text/plain": [
       "   answered_correctly  question_had_explanation  user_acc_mean  \\\n",
       "0                   1                         1       0.630049   \n",
       "1                   1                         1       0.630049   \n",
       "2                   0                         1       0.630049   \n",
       "3                   1                         1       0.630049   \n",
       "4                   0                         1       0.630049   \n",
       "\n",
       "   mean_content_accuracy  mean_task_accuracy  mean_timestamp_accuracy_scaled  \\\n",
       "0               0.468750            0.529412                        0.119858   \n",
       "1               0.290323            0.578947                        0.119858   \n",
       "2               0.387755            0.588235                        0.119858   \n",
       "3               0.740741            0.714286                        0.119858   \n",
       "4               0.428571            0.687500                        0.119858   \n",
       "\n",
       "   mean_priortime_accuracy_scaled  user_lectures_running_total_scaled  \\\n",
       "0                        0.515734                                 0.0   \n",
       "1                        0.515734                                 0.0   \n",
       "2                        0.515734                                 0.0   \n",
       "3                        0.515734                                 0.0   \n",
       "4                        0.515734                                 0.0   \n",
       "\n",
       "   avg_user_q_time_scaled  \n",
       "0                0.001202  \n",
       "1                0.001202  \n",
       "2                0.001202  \n",
       "3                0.001202  \n",
       "4                0.001202  "
      ]
     },
     "execution_count": 14,
     "metadata": {},
     "output_type": "execute_result"
    }
   ],
   "source": [
    "# Print the shape of test scaled\n",
    "print(test_s.shape)\n",
    "\n",
    "# Display first 5 rows of test scaled\n",
    "test_s.head()"
   ]
  },
  {
   "cell_type": "markdown",
   "metadata": {},
   "source": [
    "<b>Takeaways</b>  \n",
    "Used prep_riiid function from prepare.py to make the following changes:\n",
    "- Filled missing boolean values in question_had_explanation with False. Missing values indicated that the question did not have an explanation or the user viewed a lecture.\n",
    "- Filled missing values in prior_question_elapsed_time with 0. Missing values indicated that a user viewed a lecture before answering the first question in a bundle.\n",
    "- Dropped columns: lecture_id, tag, lecture_part, type_of, question_id, bundle_id, correct_answer, question_part, and tags\n",
    "- Dropped rows considered lectures: Where answered_correctly = -1\n",
    "- Data scaled \n",
    "- Train, Validate, Test"
   ]
  },
  {
   "cell_type": "markdown",
   "metadata": {},
   "source": [
    "# Explore\n",
    "Plotted graphs, ran feature selection, and performed hypothesis testing in order to discover drivers of 'answered_correctly'."
   ]
  },
  {
   "cell_type": "code",
   "execution_count": 15,
   "metadata": {},
   "outputs": [
    {
     "name": "stdout",
     "output_type": "stream",
     "text": [
      "<class 'pandas.core.frame.DataFrame'>\n",
      "Int64Index: 403377 entries, 0 to 403376\n",
      "Data columns (total 10 columns):\n",
      " #   Column                       Non-Null Count   Dtype  \n",
      "---  ------                       --------------   -----  \n",
      " 0   answered_correctly           403377 non-null  int64  \n",
      " 1   question_had_explanation     403377 non-null  int64  \n",
      " 2   user_acc_mean                403377 non-null  float64\n",
      " 3   user_lectures_running_total  403377 non-null  int64  \n",
      " 4   q_time                       403377 non-null  float64\n",
      " 5   avg_user_q_time              403377 non-null  float64\n",
      " 6   mean_content_accuracy        403377 non-null  float64\n",
      " 7   mean_task_accuracy           403377 non-null  float64\n",
      " 8   mean_timestamp_accuracy      403377 non-null  float64\n",
      " 9   mean_priortime_accuracy      403377 non-null  float64\n",
      "dtypes: float64(7), int64(3)\n",
      "memory usage: 43.9 MB\n"
     ]
    }
   ],
   "source": [
    "# Check data types and null value counts\n",
    "train.info()"
   ]
  },
  {
   "cell_type": "code",
   "execution_count": 16,
   "metadata": {},
   "outputs": [
    {
     "name": "stdout",
     "output_type": "stream",
     "text": [
      "answered_correctly has 2 unique values.\n",
      "question_had_explanation has 2 unique values.\n",
      "user_lectures_running_total has 249 unique values.\n"
     ]
    }
   ],
   "source": [
    "# Checking # of unique values in int64 data type columns\n",
    "for col in train:\n",
    "    if train[col].dtypes == 'int64': \n",
    "        print(f'{col} has {train[col].nunique()} unique values.')"
   ]
  },
  {
   "cell_type": "code",
   "execution_count": 17,
   "metadata": {},
   "outputs": [
    {
     "data": {
      "image/png": "[encoded data removed]",
      "text/plain": [
       "<Figure size 1080x720 with 12 Axes>"
      ]
     },
     "metadata": {
      "needs_background": "light"
     },
     "output_type": "display_data"
    }
   ],
   "source": [
    "# Plot distribution of all train columns \n",
    "train.hist(figsize=(15, 10),\n",
    "        grid=True) \n",
    "plt.show()"
   ]
  },
  {
   "cell_type": "code",
   "execution_count": 18,
   "metadata": {},
   "outputs": [
    {
     "data": {
      "image/png": "[encoded data removed]",
      "text/plain": [
       "<Figure size 720x432 with 1 Axes>"
      ]
     },
     "metadata": {
      "needs_background": "light"
     },
     "output_type": "display_data"
    }
   ],
   "source": [
    "# Count of Questions Answered Correct\n",
    "plt.figure(figsize=(10,6))\n",
    "train.answered_correctly.value_counts().sort_index().plot.bar(grid=True)\n",
    "answer_correctly = train.answered_correctly.mean()\n",
    "plt.title(\"Count of Questions Answered Correctly\",fontsize=20) \n",
    "plt.xlabel('Answered Correctly',fontsize=15)\n",
    "plt.ylabel('Count',fontsize=15)\n",
    "plt.xticks([0,1],labels=['False','True'],rotation=0,fontsize=15) \n",
    "plt.yticks(rotation=0,fontsize=15) \n",
    "plt.grid(axis='x')\n",
    "plt.show()"
   ]
  },
  {
   "cell_type": "code",
   "execution_count": 21,
   "metadata": {},
   "outputs": [],
   "source": [
    "# Answered Correctly vs Prior Question Had Explanation\n",
    "prior_question = train.groupby(['question_had_explanation', 'answered_correctly']).agg({'answered_correctly': ['count']})\n",
    "questions_without_explanations = prior_question.iloc[:,0][:2]\n",
    "questions_with_explanations = prior_question.iloc[:,0][2:]"
   ]
  },
  {
   "cell_type": "code",
   "execution_count": 115,
   "metadata": {},
   "outputs": [],
   "source": [
    "# total number of questions with and without explanations\n",
    "total_questions_without_explanations = sum(questions_without_explanations)\n",
    "total_questions_with_explanations = sum(questions_with_explanations)\n",
    "\n",
    "# questions without explanations\n",
    "qwoe_incorrect = questions_without_explanations.iloc[0]/total_questions_without_explanations\n",
    "qwoe_correct = questions_without_explanations.iloc[1]/total_questions_without_explanations\n",
    "\n",
    "# questions with explanations\n",
    "qwe_incorrect = questions_with_explanations.iloc[0]/total_questions_with_explanations\n",
    "qwe_correct = questions_with_explanations.iloc[1]/total_questions_with_explanations"
   ]
  },
  {
   "cell_type": "code",
   "execution_count": 116,
   "metadata": {},
   "outputs": [],
   "source": [
    "df = pd.DataFrame({\n",
    "    'Question_had_an_explanation': ['Incorrect', 'Correct'],\n",
    "    'Explanation': [qwe_incorrect, qwe_correct],\n",
    "    'No Explanation': [qwoe_incorrect, qwoe_correct]\n",
    "})\n",
    "tidy = df.melt(id_vars='Question_had_an_explanation')"
   ]
  },
  {
   "cell_type": "code",
   "execution_count": 118,
   "metadata": {},
   "outputs": [
    {
     "data": {
      "text/html": [
       "<div>\n",
       "<style scoped>\n",
       "    .dataframe tbody tr th:only-of-type {\n",
       "        vertical-align: middle;\n",
       "    }\n",
       "\n",
       "    .dataframe tbody tr th {\n",
       "        vertical-align: top;\n",
       "    }\n",
       "\n",
       "    .dataframe thead th {\n",
       "        text-align: right;\n",
       "    }\n",
       "</style>\n",
       "<table border=\"1\" class=\"dataframe\">\n",
       "  <thead>\n",
       "    <tr style=\"text-align: right;\">\n",
       "      <th></th>\n",
       "      <th>Question_had_an_explanation</th>\n",
       "      <th>variable</th>\n",
       "      <th>value</th>\n",
       "    </tr>\n",
       "  </thead>\n",
       "  <tbody>\n",
       "    <tr>\n",
       "      <th>0</th>\n",
       "      <td>Incorrect</td>\n",
       "      <td>Explanation</td>\n",
       "      <td>0.332033</td>\n",
       "    </tr>\n",
       "    <tr>\n",
       "      <th>1</th>\n",
       "      <td>Correct</td>\n",
       "      <td>Explanation</td>\n",
       "      <td>0.667967</td>\n",
       "    </tr>\n",
       "    <tr>\n",
       "      <th>2</th>\n",
       "      <td>Incorrect</td>\n",
       "      <td>No Explanation</td>\n",
       "      <td>0.491154</td>\n",
       "    </tr>\n",
       "    <tr>\n",
       "      <th>3</th>\n",
       "      <td>Correct</td>\n",
       "      <td>No Explanation</td>\n",
       "      <td>0.508846</td>\n",
       "    </tr>\n",
       "  </tbody>\n",
       "</table>\n",
       "</div>"
      ],
      "text/plain": [
       "  Question_had_an_explanation        variable     value\n",
       "0                   Incorrect     Explanation  0.332033\n",
       "1                     Correct     Explanation  0.667967\n",
       "2                   Incorrect  No Explanation  0.491154\n",
       "3                     Correct  No Explanation  0.508846"
      ]
     },
     "execution_count": 118,
     "metadata": {},
     "output_type": "execute_result"
    }
   ],
   "source": [
    "tidy"
   ]
  },
  {
   "cell_type": "code",
   "execution_count": 130,
   "metadata": {},
   "outputs": [
    {
     "data": {
      "image/png": "[encoded data removed]",
      "text/plain": [
       "<Figure size 936x504 with 1 Axes>"
      ]
     },
     "metadata": {
      "needs_background": "light"
     },
     "output_type": "display_data"
    }
   ],
   "source": [
    "sns.set_context('talk')\n",
    "plt.figure(figsize=(13, 7))\n",
    "sns.barplot(x='variable', y='value', hue='Question_had_an_explanation', data=tidy)\n",
    "plt.xlabel('')\n",
    "plt.ylabel('%')\n",
    "plt.ylim(0, 1)\n",
    "plt.yticks(np.linspace(0,1,11));"
   ]
  },
  {
   "cell_type": "code",
   "execution_count": 44,
   "metadata": {},
   "outputs": [
    {
     "data": {
      "image/png": "[encoded data removed]",
      "text/plain": [
       "<Figure size 720x432 with 1 Axes>"
      ]
     },
     "metadata": {
      "needs_background": "light"
     },
     "output_type": "display_data"
    }
   ],
   "source": [
    "plt.figure(figsize=(10,6))\n",
    "prior_question.plot.bar(grid=True)\n",
    "plt.title(\"Students Perform Better on Questions with Explanations\",fontsize=20)\n",
    "plt.xlabel(\"Answered Correctly\",fontsize=15)\n",
    "plt.ylabel(\"% of Questions with Explanations\",fontsize=15)\n",
    "plt.xticks([0,1],labels=['False','True'],rotation=0,fontsize=15) \n",
    "plt.yticks(rotation=0,fontsize=15) \n",
    "plt.grid(axis='x')\n",
    "plt.show() \n",
    "\n",
    "\n",
    "df = pd.DataFrame({\n",
    "    'Answered': ['Growth', 'Value'],\n",
    "    'Weight': [0.10, 0.20],\n",
    "    'Variance': [0.15, 0.35]\n",
    "})\n",
    "fig, ax1 = pyplot.subplots(figsize=(10, 10))\n",
    "tidy = df.melt(id_vars='Factor').rename(columns=str.title)\n",
    "seaborn.barplot(x='Factor', y='Value', hue='Variable', data=tidy, ax=ax1)\n",
    "seaborn.despine(fig)"
   ]
  },
  {
   "cell_type": "code",
   "execution_count": 47,
   "metadata": {},
   "outputs": [
    {
     "data": {
      "image/png": "[encoded data removed]",
      "text/plain": [
       "<Figure size 720x432 with 1 Axes>"
      ]
     },
     "metadata": {
      "needs_background": "light"
     },
     "output_type": "display_data"
    }
   ],
   "source": [
    "# Percentage of 'Users watched at least one lecture' vs 'Questions answered correct'\n",
    "user_lect = df_train.groupby([\"user_id\", \"answered_correctly\"]).size().unstack()\n",
    "user_lect.columns = ['Lecture', 'Wrong', 'Right']\n",
    "user_lect['Lecture'] = user_lect['Lecture'].fillna(0)\n",
    "user_lect = user_lect.astype('Int64')\n",
    "user_lect['Watches_lecture'] = np.where(user_lect.Lecture > 0, True, False)\n",
    "watches_lecture = user_lect.groupby(\"Watches_lecture\").agg({'Wrong': ['sum'], 'Right': ['sum']})\n",
    "watches_lecture['Percent_correct'] = watches_lecture.Right/(watches_lecture.Right + watches_lecture.Wrong)\n",
    "watches_lecture = watches_lecture.iloc[:,2]\n",
    "\n",
    "plt.figure(figsize=(10,6))\n",
    "watches_lecture.plot.bar(grid=True)\n",
    "plt.title(\"Effect of Watching at Least One Lecture\",fontsize=20)\n",
    "plt.xlabel(\"Answered Correct\",fontsize=15)\n",
    "plt.ylabel(\"User Watched at Least One Lecture\",fontsize=15)\n",
    "plt.xticks(rotation=0, fontsize=15)\n",
    "plt.yticks(fontsize=15)\n",
    "plt.grid(axis='x')\n",
    "plt.show() "
   ]
  },
  {
   "cell_type": "code",
   "execution_count": 19,
   "metadata": {},
   "outputs": [
    {
     "data": {
      "image/png": "[encoded data removed]",
      "text/plain": [
       "<Figure size 864x432 with 1 Axes>"
      ]
     },
     "metadata": {
      "needs_background": "light"
     },
     "output_type": "display_data"
    }
   ],
   "source": [
    "# User_id vs Timestamp\n",
    "# Had to convert time from in milliseconds to weeks\n",
    "ts = df_train['timestamp']/(31536000000/52)\n",
    "fig = plt.figure(figsize=(12,6))\n",
    "ts.plot.hist(bins=100) \n",
    "plt.title(\"User Frequency vs Time in Weeks\", fontsize=20)\n",
    "plt.xlabel(\"Weeks Between First Event Completion and Last User Interaction\", fontsize=15)\n",
    "plt.ylabel(\"User Frequency\", fontsize=15)\n",
    "plt.xticks(rotation=0, fontsize=15)\n",
    "plt.yticks(rotation=0, fontsize=15)\n",
    "plt.show()"
   ]
  },
  {
   "cell_type": "code",
   "execution_count": 20,
   "metadata": {},
   "outputs": [
    {
     "data": {
      "image/png": "[encoded data removed]",
      "text/plain": [
       "<Figure size 864x432 with 1 Axes>"
      ]
     },
     "metadata": {
      "needs_background": "light"
     },
     "output_type": "display_data"
    }
   ],
   "source": [
    "# Percent of Questions Answered Correct vs. Number of Questions Answered Per User\n",
    "user_percent = df_train[df_train.answered_correctly != -1].groupby('user_id')['answered_correctly'].agg(Mean='mean', Answers='count')\n",
    "user_percent = user_percent.query('Answers <= 1000').sample(n=200, random_state=1)\n",
    "\n",
    "fig = plt.figure(figsize=(12,6))\n",
    "x = user_percent.Answers\n",
    "y = user_percent.Mean\n",
    "plt.scatter(x, y, marker='o')\n",
    "plt.title(\"Does Answering More Questions Effect Percentage Correct?\", fontsize=20)\n",
    "plt.xlabel(\"Number of Questions Answered\", fontsize=15)\n",
    "plt.ylabel(\"Percent Answered Correct\", fontsize=15)\n",
    "plt.xticks(rotation=0, fontsize=15)\n",
    "plt.yticks(rotation=0, fontsize=15)\n",
    "\n",
    "z = np.polyfit(x, y, 1)\n",
    "p = np.poly1d(z)\n",
    "plt.plot(x,p(x),\"r--\")\n",
    "\n",
    "plt.show()"
   ]
  },
  {
   "cell_type": "markdown",
   "metadata": {},
   "source": [
    "# Feature Selection"
   ]
  },
  {
   "cell_type": "markdown",
   "metadata": {},
   "source": [
    "## Seperate the features and target"
   ]
  },
  {
   "cell_type": "code",
   "execution_count": 21,
   "metadata": {},
   "outputs": [],
   "source": [
    "# Creating train, validate, test DFs that only include non-target variables\n",
    "X_train = train_s.drop(columns='answered_correctly')\n",
    "y_train = train_s['answered_correctly']\n",
    "\n",
    "X_validate = validate_s.drop(columns='answered_correctly')\n",
    "y_validate = validate_s['answered_correctly']\n",
    "\n",
    "X_test = test_s.drop(columns='answered_correctly')\n",
    "y_test = test_s['answered_correctly']"
   ]
  },
  {
   "cell_type": "code",
   "execution_count": 22,
   "metadata": {},
   "outputs": [
    {
     "data": {
      "text/html": [
       "<div>\n",
       "<style scoped>\n",
       "    .dataframe tbody tr th:only-of-type {\n",
       "        vertical-align: middle;\n",
       "    }\n",
       "\n",
       "    .dataframe tbody tr th {\n",
       "        vertical-align: top;\n",
       "    }\n",
       "\n",
       "    .dataframe thead th {\n",
       "        text-align: right;\n",
       "    }\n",
       "</style>\n",
       "<table border=\"1\" class=\"dataframe\">\n",
       "  <thead>\n",
       "    <tr style=\"text-align: right;\">\n",
       "      <th></th>\n",
       "      <th>question_had_explanation</th>\n",
       "      <th>user_acc_mean</th>\n",
       "      <th>mean_content_accuracy</th>\n",
       "      <th>mean_task_accuracy</th>\n",
       "      <th>mean_timestamp_accuracy_scaled</th>\n",
       "      <th>mean_priortime_accuracy_scaled</th>\n",
       "      <th>user_lectures_running_total_scaled</th>\n",
       "      <th>avg_user_q_time_scaled</th>\n",
       "    </tr>\n",
       "  </thead>\n",
       "  <tbody>\n",
       "    <tr>\n",
       "      <th>0</th>\n",
       "      <td>0</td>\n",
       "      <td>0.630049</td>\n",
       "      <td>0.818182</td>\n",
       "      <td>0.682248</td>\n",
       "      <td>0.119858</td>\n",
       "      <td>0.515734</td>\n",
       "      <td>0.0</td>\n",
       "      <td>0.001202</td>\n",
       "    </tr>\n",
       "    <tr>\n",
       "      <th>1</th>\n",
       "      <td>0</td>\n",
       "      <td>0.630049</td>\n",
       "      <td>0.550000</td>\n",
       "      <td>0.534988</td>\n",
       "      <td>0.119858</td>\n",
       "      <td>0.515734</td>\n",
       "      <td>0.0</td>\n",
       "      <td>0.001202</td>\n",
       "    </tr>\n",
       "    <tr>\n",
       "      <th>2</th>\n",
       "      <td>0</td>\n",
       "      <td>0.630049</td>\n",
       "      <td>0.444444</td>\n",
       "      <td>0.445216</td>\n",
       "      <td>0.119858</td>\n",
       "      <td>0.515734</td>\n",
       "      <td>0.0</td>\n",
       "      <td>0.001202</td>\n",
       "    </tr>\n",
       "  </tbody>\n",
       "</table>\n",
       "</div>"
      ],
      "text/plain": [
       "   question_had_explanation  user_acc_mean  mean_content_accuracy  \\\n",
       "0                         0       0.630049               0.818182   \n",
       "1                         0       0.630049               0.550000   \n",
       "2                         0       0.630049               0.444444   \n",
       "\n",
       "   mean_task_accuracy  mean_timestamp_accuracy_scaled  \\\n",
       "0            0.682248                        0.119858   \n",
       "1            0.534988                        0.119858   \n",
       "2            0.445216                        0.119858   \n",
       "\n",
       "   mean_priortime_accuracy_scaled  user_lectures_running_total_scaled  \\\n",
       "0                        0.515734                                 0.0   \n",
       "1                        0.515734                                 0.0   \n",
       "2                        0.515734                                 0.0   \n",
       "\n",
       "   avg_user_q_time_scaled  \n",
       "0                0.001202  \n",
       "1                0.001202  \n",
       "2                0.001202  "
      ]
     },
     "execution_count": 22,
     "metadata": {},
     "output_type": "execute_result"
    }
   ],
   "source": [
    "# Take a peek at the X_train\n",
    "X_train.head(3)"
   ]
  },
  {
   "cell_type": "code",
   "execution_count": 23,
   "metadata": {},
   "outputs": [
    {
     "data": {
      "text/plain": [
       "0    1\n",
       "1    0\n",
       "2    1\n",
       "Name: answered_correctly, dtype: int64"
      ]
     },
     "execution_count": 23,
     "metadata": {},
     "output_type": "execute_result"
    }
   ],
   "source": [
    "# Take a peak at the y_train\n",
    "y_train.head(3)"
   ]
  },
  {
   "cell_type": "markdown",
   "metadata": {},
   "source": [
    "## Select top 5 features by Select K Best"
   ]
  },
  {
   "cell_type": "code",
   "execution_count": 24,
   "metadata": {
    "scrolled": true
   },
   "outputs": [
    {
     "data": {
      "text/plain": [
       "['question_had_explanation',\n",
       " 'user_acc_mean',\n",
       " 'mean_content_accuracy',\n",
       " 'mean_task_accuracy',\n",
       " 'mean_timestamp_accuracy_scaled']"
      ]
     },
     "execution_count": 24,
     "metadata": {},
     "output_type": "execute_result"
    }
   ],
   "source": [
    "# Compute the top 5 features by \n",
    "f_features = explore.KBest_ranker(X_train, y_train, 5)\n",
    "\n",
    "# Print the top 5 features\n",
    "f_features"
   ]
  },
  {
   "cell_type": "markdown",
   "metadata": {},
   "source": [
    "## Select top 5 features by Recursive Feature Elimination (RFE)"
   ]
  },
  {
   "cell_type": "code",
   "execution_count": 25,
   "metadata": {},
   "outputs": [
    {
     "data": {
      "text/html": [
       "<div>\n",
       "<style scoped>\n",
       "    .dataframe tbody tr th:only-of-type {\n",
       "        vertical-align: middle;\n",
       "    }\n",
       "\n",
       "    .dataframe tbody tr th {\n",
       "        vertical-align: top;\n",
       "    }\n",
       "\n",
       "    .dataframe thead th {\n",
       "        text-align: right;\n",
       "    }\n",
       "</style>\n",
       "<table border=\"1\" class=\"dataframe\">\n",
       "  <thead>\n",
       "    <tr style=\"text-align: right;\">\n",
       "      <th></th>\n",
       "      <th>Feature</th>\n",
       "      <th>Rank</th>\n",
       "    </tr>\n",
       "  </thead>\n",
       "  <tbody>\n",
       "    <tr>\n",
       "      <th>2</th>\n",
       "      <td>mean_content_accuracy</td>\n",
       "      <td>1</td>\n",
       "    </tr>\n",
       "    <tr>\n",
       "      <th>1</th>\n",
       "      <td>user_acc_mean</td>\n",
       "      <td>2</td>\n",
       "    </tr>\n",
       "    <tr>\n",
       "      <th>3</th>\n",
       "      <td>mean_task_accuracy</td>\n",
       "      <td>3</td>\n",
       "    </tr>\n",
       "    <tr>\n",
       "      <th>7</th>\n",
       "      <td>avg_user_q_time_scaled</td>\n",
       "      <td>4</td>\n",
       "    </tr>\n",
       "    <tr>\n",
       "      <th>0</th>\n",
       "      <td>question_had_explanation</td>\n",
       "      <td>5</td>\n",
       "    </tr>\n",
       "  </tbody>\n",
       "</table>\n",
       "</div>"
      ],
      "text/plain": [
       "                    Feature  Rank\n",
       "2     mean_content_accuracy     1\n",
       "1             user_acc_mean     2\n",
       "3        mean_task_accuracy     3\n",
       "7    avg_user_q_time_scaled     4\n",
       "0  question_had_explanation     5"
      ]
     },
     "execution_count": 25,
     "metadata": {},
     "output_type": "execute_result"
    }
   ],
   "source": [
    "# Using function from explore.py to rank using RFE\n",
    "rfe_ranker(train_s).head(5)"
   ]
  },
  {
   "cell_type": "markdown",
   "metadata": {},
   "source": [
    "**Takeaways**\n",
    "<br>\n",
    "The top 4 features that Select K Best and RFE rankers found in common were:\n",
    "\n",
    "- mean_content_accuracy\n",
    "- user_acc_mean\n",
    "- mean_task_accuracy\n",
    "- prior_question_had_explanation\n",
    "\n",
    "We will move forward with these 4 features since they were all present in the top 5 features of both rankers."
   ]
  },
  {
   "cell_type": "markdown",
   "metadata": {},
   "source": [
    "# Hypothesis Testing"
   ]
  },
  {
   "cell_type": "markdown",
   "metadata": {},
   "source": [
    "## Hypothesis Test 1\n",
    "\n",
    "### General Inquiry\n",
    "<br>\n",
    "Does a student receiving an explanation prior to a question have a connection with whether or not they'll answer it correctly?\n",
    "\n",
    "### Chi-Squared Test\n",
    "\n",
    "H0: question_had_explanation and answered_correctly are independent\n",
    "<br>\n",
    "Ha: question_had_explanation and answered_correctly are dependant"
   ]
  },
  {
   "cell_type": "code",
   "execution_count": 26,
   "metadata": {},
   "outputs": [
    {
     "data": {
      "text/html": [
       "<div>\n",
       "<style scoped>\n",
       "    .dataframe tbody tr th:only-of-type {\n",
       "        vertical-align: middle;\n",
       "    }\n",
       "\n",
       "    .dataframe tbody tr th {\n",
       "        vertical-align: top;\n",
       "    }\n",
       "\n",
       "    .dataframe thead th {\n",
       "        text-align: right;\n",
       "    }\n",
       "</style>\n",
       "<table border=\"1\" class=\"dataframe\">\n",
       "  <thead>\n",
       "    <tr style=\"text-align: right;\">\n",
       "      <th>question_had_explanation</th>\n",
       "      <th>0</th>\n",
       "      <th>1</th>\n",
       "    </tr>\n",
       "    <tr>\n",
       "      <th>answered_correctly</th>\n",
       "      <th></th>\n",
       "      <th></th>\n",
       "    </tr>\n",
       "  </thead>\n",
       "  <tbody>\n",
       "    <tr>\n",
       "      <th>0</th>\n",
       "      <td>21210</td>\n",
       "      <td>119596</td>\n",
       "    </tr>\n",
       "    <tr>\n",
       "      <th>1</th>\n",
       "      <td>21974</td>\n",
       "      <td>240597</td>\n",
       "    </tr>\n",
       "  </tbody>\n",
       "</table>\n",
       "</div>"
      ],
      "text/plain": [
       "question_had_explanation      0       1\n",
       "answered_correctly                     \n",
       "0                         21210  119596\n",
       "1                         21974  240597"
      ]
     },
     "execution_count": 26,
     "metadata": {},
     "output_type": "execute_result"
    }
   ],
   "source": [
    "# creating crosstab of data reflecting if question \n",
    "# was answered correctly and if it had an explanation\n",
    "observed_pqhe = pd.crosstab(train.answered_correctly, \n",
    "                            train.question_had_explanation)\n",
    "\n",
    "# displaying crosstab\n",
    "observed_pqhe"
   ]
  },
  {
   "cell_type": "code",
   "execution_count": 27,
   "metadata": {},
   "outputs": [
    {
     "name": "stdout",
     "output_type": "stream",
     "text": [
      "alpha = .05\n",
      "\n",
      "p = 0.0000\n"
     ]
    }
   ],
   "source": [
    "# calculating chi^2, p value, degrees of freedom and expected values\n",
    "chi2, p, degf, expected = stats.chi2_contingency(observed_pqhe)\n",
    "\n",
    "# printing results\n",
    "print('alpha = .05\\n')\n",
    "print(f'p = {p:.4f}')"
   ]
  },
  {
   "cell_type": "markdown",
   "metadata": {},
   "source": [
    "- p is less than alpha so we reject the null hypothesis that answered_correctly and question_had_explanation are independent"
   ]
  },
  {
   "cell_type": "markdown",
   "metadata": {},
   "source": [
    "## Hypothesis Test 2\n",
    "\n",
    "### General Inquiry\n",
    "<br>\n",
    "Is there a linear relationship between the average time it takes a user to answer a question and their average accuracy?\n",
    "\n",
    "### Pearson Correlation Test\n",
    "\n",
    "H0: There is no linear relationship between avg_user_q_time and user_acc_mean\n",
    "<br>\n",
    "Ha: There is a linear relationship between avg_user_q_time and user_acc_mean"
   ]
  },
  {
   "cell_type": "code",
   "execution_count": 28,
   "metadata": {},
   "outputs": [
    {
     "name": "stdout",
     "output_type": "stream",
     "text": [
      "alpha = .05\n",
      "\n",
      "r correlation coefficient -0.053798627856180434\n",
      "p value                    3.0491148951959335e-256\n"
     ]
    }
   ],
   "source": [
    "# performing pearson correlation test\n",
    "r, p = stats.pearsonr(train.avg_user_q_time, train.user_acc_mean)\n",
    "\n",
    "# displaying alpha and test results\n",
    "print(\"alpha = .05\\n\")\n",
    "print(\"r correlation coefficient\", r)\n",
    "print(\"p value                   \", p)"
   ]
  },
  {
   "cell_type": "markdown",
   "metadata": {},
   "source": [
    "- p is less than alpha so we reject the null hypothesis that there is no linear relationship between avg_user_q_time and user_acc_mean\n",
    "\n",
    "- Given the r correlation coefficient of -.06, we see that there is an extremely weak inverse linear relationship between the variables"
   ]
  },
  {
   "cell_type": "markdown",
   "metadata": {},
   "source": [
    "## Hypothesis Test 3\n",
    "\n",
    "### General Inquiry\n",
    "<br>\n",
    "Users with higher accuracy tend to take less time to answer questions than others. Is this still the case when it comes to difficult questions (questions with below average content accuracy)?\n",
    "\n",
    "### Two-Sample One-Tailed T-Test\n",
    "H0: The avg time that users with above avg accuracy spend on questions with below avg content accuracy is equal to the avg time that users with avg or below accuracy spend on them.\n",
    "<br><br>\n",
    "Ha: The avg time that users with above avg accuracy spend on questions with below avg content accuracy is less than the avg time that users with avg or below accuracy spend on them."
   ]
  },
  {
   "cell_type": "code",
   "execution_count": 29,
   "metadata": {},
   "outputs": [],
   "source": [
    "# creating df of all questions that had less than average mean_content_accuracy\n",
    "# ie. all questions that users answered incorrectly more often than average\n",
    "hard_questions = train[train.mean_content_accuracy < train.mean_content_accuracy.mean()]\n",
    "\n",
    "# filtering DF above for all users with above avg accuracy\n",
    "hi_acc_users = hard_questions[hard_questions.user_acc_mean > hard_questions.user_acc_mean.mean()]\n",
    "\n",
    "# filtering DF above for all users with avg or below accuracy\n",
    "low_acc_users = hard_questions[hard_questions.user_acc_mean <= hard_questions.user_acc_mean.mean()]"
   ]
  },
  {
   "cell_type": "code",
   "execution_count": 30,
   "metadata": {},
   "outputs": [
    {
     "name": "stdout",
     "output_type": "stream",
     "text": [
      "alpha = .05\n",
      "\n",
      "test statistic    -2.4486883290862065\n",
      "p value            0.007169406674703144\n"
     ]
    }
   ],
   "source": [
    "# performing two sample, one tailed t-test\n",
    "t, p = stats.ttest_ind(hi_acc_users.q_time, low_acc_users.q_time, equal_var = False)\n",
    "\n",
    "# printing alpha and test results\n",
    "print('alpha = .05\\n')\n",
    "print(\"test statistic   \", t)\n",
    "print(\"p value           \", p/2)"
   ]
  },
  {
   "cell_type": "markdown",
   "metadata": {},
   "source": [
    "- p is less than alpha and the test statistic value is negative so we can reject the null hypothesis \n",
    "- If users with above average accuracy are answering questions (difficult and otherwise) more quickly than others users, then they may be more well prepared for the content they're facing\n",
    "- If the above avg accuracy users spent more time on difficult questions than others it would suggest that they may not be more well prepared, but rather that they are more cognizant of when they've approached difficult questions that they should take their time with"
   ]
  },
  {
   "cell_type": "markdown",
   "metadata": {},
   "source": [
    "## Hypothesis Test 4\n",
    "\n",
    "### General Hypothesis\n",
    "<br>\n",
    "Is their a linear relationship between the amount of lectures a user has viewed and their task performance? Task performance is measured by a users overall performance on each bundle of questions. A bundle can contain 1 or more questions.\n",
    "\n",
    "### Pearson Correlation Test\n",
    "\n",
    "H0: There is no linear relationship between user_lectures_running_total and mean_task_accuracy\n",
    "<br>\n",
    "Ha: There is a linear relationship between user_lectures_running_total and mean_task_accuracy"
   ]
  },
  {
   "cell_type": "code",
   "execution_count": 31,
   "metadata": {},
   "outputs": [
    {
     "name": "stdout",
     "output_type": "stream",
     "text": [
      "alpha = .05\n",
      "\n",
      "r correlation coefficient 0.20740509858727074\n",
      "p value                   0.0\n"
     ]
    }
   ],
   "source": [
    "# performing pearson correlation test\n",
    "r, p = stats.pearsonr(train.user_lectures_running_total, train.mean_task_accuracy)\n",
    "\n",
    "# printing alpha and results\n",
    "print(\"alpha = .05\\n\")\n",
    "print(\"r correlation coefficient\", r)\n",
    "print(\"p value                  \", p)"
   ]
  },
  {
   "cell_type": "markdown",
   "metadata": {},
   "source": [
    "- Since p is less than alpha we will reject the null hypothesis that there is no linear relationship between mean_task_accuracy and user_lectures_running_total\n",
    "- The r correlation coefficient of .22 indicates that there is a weak linear relationship between these variables\n",
    "    - As the amount of lectures that a user has seen increases, so does their task accuracy on average\n",
    "    - Viewing lectures may be having a positive, albeit weak impact on user performance"
   ]
  },
  {
   "cell_type": "code",
   "execution_count": null,
   "metadata": {},
   "outputs": [],
   "source": [
    "<b>Takeaways</b>"
   ]
  },
  {
   "cell_type": "markdown",
   "metadata": {},
   "source": [
    "# Modeling"
   ]
  },
  {
   "cell_type": "markdown",
   "metadata": {},
   "source": [
    "## Compute the AUC score of the baseline"
   ]
  },
  {
   "cell_type": "markdown",
   "metadata": {},
   "source": [
    "### Use the randomly generated classes as the baseline"
   ]
  },
  {
   "cell_type": "code",
   "execution_count": 32,
   "metadata": {},
   "outputs": [
    {
     "data": {
      "text/plain": [
       "array([0, 0, 1, ..., 1, 1, 1])"
      ]
     },
     "execution_count": 32,
     "metadata": {},
     "output_type": "execute_result"
    }
   ],
   "source": [
    "# Compute the size of y_train\n",
    "size = y_train.size\n",
    "\n",
    "# Construct y_baseline\n",
    "y_baseline_random = np.random.randint(2, size=size)\n",
    "\n",
    "# Print the y_baseline\n",
    "y_baseline_random"
   ]
  },
  {
   "cell_type": "code",
   "execution_count": 33,
   "metadata": {},
   "outputs": [
    {
     "data": {
      "text/plain": [
       "0.4999030286302653"
      ]
     },
     "execution_count": 33,
     "metadata": {},
     "output_type": "execute_result"
    }
   ],
   "source": [
    "# Compute the auc score \n",
    "roc_auc_score(y_train, y_baseline_random)"
   ]
  },
  {
   "cell_type": "markdown",
   "metadata": {},
   "source": [
    "### Use the most frequent calss as the baseline"
   ]
  },
  {
   "cell_type": "code",
   "execution_count": 34,
   "metadata": {},
   "outputs": [
    {
     "data": {
      "text/plain": [
       "1    0.650932\n",
       "0    0.349068\n",
       "Name: answered_correctly, dtype: float64"
      ]
     },
     "execution_count": 34,
     "metadata": {},
     "output_type": "execute_result"
    }
   ],
   "source": [
    "# Compute the most frequent class\n",
    "y_train.value_counts(normalize=True)"
   ]
  },
  {
   "cell_type": "code",
   "execution_count": 35,
   "metadata": {},
   "outputs": [
    {
     "data": {
      "text/plain": [
       "array([1, 1, 1, ..., 1, 1, 1])"
      ]
     },
     "execution_count": 35,
     "metadata": {},
     "output_type": "execute_result"
    }
   ],
   "source": [
    "# Construct the y_baseline_frequency\n",
    "y_baseline_frequency = np.array([1]*size)\n",
    "\n",
    "# Check the baseline values\n",
    "y_baseline_frequency"
   ]
  },
  {
   "cell_type": "code",
   "execution_count": 36,
   "metadata": {},
   "outputs": [
    {
     "data": {
      "text/plain": [
       "0.5"
      ]
     },
     "execution_count": 36,
     "metadata": {},
     "output_type": "execute_result"
    }
   ],
   "source": [
    "# Compute the auc score \n",
    "roc_auc_score(y_train, y_baseline_frequency)"
   ]
  },
  {
   "cell_type": "markdown",
   "metadata": {},
   "source": [
    "**Takeaways**\n",
    "1. Two methods are used to generate the baseline values.\n",
    "2. The baseline is 0.5 regardless of the chosen methods."
   ]
  },
  {
   "cell_type": "markdown",
   "metadata": {},
   "source": [
    "## Model the train/validate/test using various classification algorithms"
   ]
  },
  {
   "cell_type": "code",
   "execution_count": 37,
   "metadata": {},
   "outputs": [],
   "source": [
    "# Create a list of names of the classifiers\n",
    "# Make sure all the classifiers have the method: predict_proba\n",
    "names = ['LogisticRegression',\n",
    "         'Decision Tree',\n",
    "         'Random Forest',\n",
    "         'Ada Boost',\n",
    "         'Gradient Boost',\n",
    "         'Nearest Neighbors',\n",
    "         'Naive Bayes',\n",
    "         'Neural Net'\n",
    "        ]"
   ]
  },
  {
   "cell_type": "code",
   "execution_count": 38,
   "metadata": {},
   "outputs": [],
   "source": [
    "# Create a list of classifiers\n",
    "classifiers = [LogisticRegression(), \n",
    "               DecisionTreeClassifier(max_depth=3),\n",
    "               RandomForestClassifier(max_depth=3),\n",
    "               AdaBoostClassifier(),\n",
    "               GradientBoostingClassifier(),\n",
    "               KNeighborsClassifier(3),\n",
    "               GaussianNB(), \n",
    "               MLPClassifier()\n",
    "              ]"
   ]
  },
  {
   "cell_type": "code",
   "execution_count": 39,
   "metadata": {},
   "outputs": [
    {
     "data": {
      "text/plain": [
       "True"
      ]
     },
     "execution_count": 39,
     "metadata": {},
     "output_type": "execute_result"
    }
   ],
   "source": [
    "# Sanity check: the size between the two should be the same\n",
    "len(names) == len(classifiers)"
   ]
  },
  {
   "cell_type": "code",
   "execution_count": 40,
   "metadata": {},
   "outputs": [
    {
     "name": "stdout",
     "output_type": "stream",
     "text": [
      "Currently running on model LogisticRegression\n",
      "LogisticRegression has completed\n",
      "Currently running on model Decision Tree\n",
      "Decision Tree has completed\n",
      "Currently running on model Random Forest\n",
      "Random Forest has completed\n",
      "Currently running on model Ada Boost\n",
      "Ada Boost has completed\n",
      "Currently running on model Gradient Boost\n",
      "Gradient Boost has completed\n",
      "Currently running on model Nearest Neighbors\n",
      "Nearest Neighbors has completed\n",
      "Currently running on model Naive Bayes\n",
      "Naive Bayes has completed\n",
      "Currently running on model Neural Net\n",
      "Neural Net has completed\n"
     ]
    }
   ],
   "source": [
    "# Use the classifiers created above to model the train, validate and test\n",
    "metrics = model.model_multiple_algos(names, classifiers, \n",
    "                                     X_train, y_train, \n",
    "                                     X_validate, y_validate, \n",
    "                                     X_test, y_test)"
   ]
  },
  {
   "cell_type": "code",
   "execution_count": 41,
   "metadata": {},
   "outputs": [
    {
     "data": {
      "text/html": [
       "<div>\n",
       "<style scoped>\n",
       "    .dataframe tbody tr th:only-of-type {\n",
       "        vertical-align: middle;\n",
       "    }\n",
       "\n",
       "    .dataframe tbody tr th {\n",
       "        vertical-align: top;\n",
       "    }\n",
       "\n",
       "    .dataframe thead th {\n",
       "        text-align: right;\n",
       "    }\n",
       "</style>\n",
       "<table border=\"1\" class=\"dataframe\">\n",
       "  <thead>\n",
       "    <tr style=\"text-align: right;\">\n",
       "      <th></th>\n",
       "      <th>AUC score</th>\n",
       "      <th>Algo</th>\n",
       "      <th>dataset</th>\n",
       "    </tr>\n",
       "  </thead>\n",
       "  <tbody>\n",
       "    <tr>\n",
       "      <th>8</th>\n",
       "      <td>0.693024</td>\n",
       "      <td>Random Forest</td>\n",
       "      <td>test</td>\n",
       "    </tr>\n",
       "    <tr>\n",
       "      <th>2</th>\n",
       "      <td>0.690355</td>\n",
       "      <td>LogisticRegression</td>\n",
       "      <td>test</td>\n",
       "    </tr>\n",
       "    <tr>\n",
       "      <th>14</th>\n",
       "      <td>0.688050</td>\n",
       "      <td>Gradient Boost</td>\n",
       "      <td>test</td>\n",
       "    </tr>\n",
       "    <tr>\n",
       "      <th>23</th>\n",
       "      <td>0.687820</td>\n",
       "      <td>Neural Net</td>\n",
       "      <td>test</td>\n",
       "    </tr>\n",
       "    <tr>\n",
       "      <th>11</th>\n",
       "      <td>0.676692</td>\n",
       "      <td>Ada Boost</td>\n",
       "      <td>test</td>\n",
       "    </tr>\n",
       "    <tr>\n",
       "      <th>20</th>\n",
       "      <td>0.676435</td>\n",
       "      <td>Naive Bayes</td>\n",
       "      <td>test</td>\n",
       "    </tr>\n",
       "    <tr>\n",
       "      <th>5</th>\n",
       "      <td>0.675218</td>\n",
       "      <td>Decision Tree</td>\n",
       "      <td>test</td>\n",
       "    </tr>\n",
       "    <tr>\n",
       "      <th>17</th>\n",
       "      <td>0.626399</td>\n",
       "      <td>Nearest Neighbors</td>\n",
       "      <td>test</td>\n",
       "    </tr>\n",
       "  </tbody>\n",
       "</table>\n",
       "</div>"
      ],
      "text/plain": [
       "    AUC score                Algo dataset\n",
       "8    0.693024       Random Forest    test\n",
       "2    0.690355  LogisticRegression    test\n",
       "14   0.688050      Gradient Boost    test\n",
       "23   0.687820          Neural Net    test\n",
       "11   0.676692           Ada Boost    test\n",
       "20   0.676435         Naive Bayes    test\n",
       "5    0.675218       Decision Tree    test\n",
       "17   0.626399   Nearest Neighbors    test"
      ]
     },
     "execution_count": 41,
     "metadata": {},
     "output_type": "execute_result"
    }
   ],
   "source": [
    "# Rank the auc scores on test dataset in the descending order\n",
    "mask = (metrics.dataset == 'test')\n",
    "metrics[mask].sort_values(by=\"AUC score\", ascending=False)"
   ]
  },
  {
   "cell_type": "markdown",
   "metadata": {},
   "source": [
    "**Takeaways**\n",
    "- The highest AUC score on the test dataset is produced by Logistic Regression.\n",
    "- The AUC score from the top model is 0.69, which beats the baseline by 19%. "
   ]
  },
  {
   "cell_type": "markdown",
   "metadata": {},
   "source": [
    "### Plot the ROC curve on the top model"
   ]
  },
  {
   "cell_type": "code",
   "execution_count": 42,
   "metadata": {},
   "outputs": [
    {
     "data": {
      "image/png": "[encoded data removed]",
      "text/plain": [
       "<Figure size 576x576 with 1 Axes>"
      ]
     },
     "metadata": {
      "needs_background": "light"
     },
     "output_type": "display_data"
    }
   ],
   "source": [
    "# Create the lr object and fit on train\n",
    "lr = LogisticRegression()\n",
    "lr = lr.fit(X_train, y_train)\n",
    "\n",
    "# Plot the ROC curve on test\n",
    "model.auc_curve_plot1(lr, \"Logistic Regression\", X_test, y_test)"
   ]
  },
  {
   "cell_type": "code",
   "execution_count": null,
   "metadata": {},
   "outputs": [],
   "source": [
    "<b>Takeaways</b>"
   ]
  },
  {
   "cell_type": "markdown",
   "metadata": {},
   "source": [
    "# Conclusions"
   ]
  },
  {
   "cell_type": "markdown",
   "metadata": {},
   "source": [
    "- The highest AUC score on the test dataset is produced by Logistic Regression.\n",
    "- The AUC score from the top model is 0.69, which beats the baseline by 19%."
   ]
  },
  {
   "cell_type": "markdown",
   "metadata": {},
   "source": [
    "### Future Investigations"
   ]
  },
  {
   "cell_type": "markdown",
   "metadata": {},
   "source": [
    "- Use this predictive model on Riiid's other educational programs "
   ]
  },
  {
   "cell_type": "markdown",
   "metadata": {},
   "source": [
    "### Resources"
   ]
  },
  {
   "cell_type": "markdown",
   "metadata": {},
   "source": [
    "- https://www.kaggle.com/c/riiid-test-answer-prediction/overview/description\n",
    "- https://www.kaggle.com/isaienkov/riiid-answer-correctness-prediction-eda-modeling"
   ]
  },
  {
   "cell_type": "markdown",
   "metadata": {},
   "source": [
    "### Contact Us"
   ]
  },
  {
   "cell_type": "markdown",
   "metadata": {},
   "source": [
    "Dani Bojado\n",
    "- daniella.bojado@gmail.com \n",
    "\n",
    "Samuel Davila\n",
    "- samuelrdavila@gmail.com\n",
    "\n",
    "Yongliang Shi\n",
    "- yongliang.michael.shi@gmail.com\n",
    "\n",
    "Christopher Logan Ortiz\n",
    "- christopher.logan.ortiz@gmail.com"
   ]
  }
 ],
 "metadata": {
  "kernelspec": {
   "display_name": "Python 3",
   "language": "python",
   "name": "python3"
  },
  "language_info": {
   "codemirror_mode": {
    "name": "ipython",
    "version": 3
   },
   "file_extension": ".py",
   "mimetype": "text/x-python",
   "name": "python",
   "nbconvert_exporter": "python",
   "pygments_lexer": "ipython3",
   "version": "3.8.6"
  }
 },
 "nbformat": 4,
 "nbformat_minor": 4
}
