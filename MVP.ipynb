{
 "cells": [
  {
   "cell_type": "markdown",
   "metadata": {},
   "source": [
    "# Riiid Project: Minimally Viable Product (MVP)"
   ]
  },
  {
   "cell_type": "markdown",
   "metadata": {},
   "source": [
    "## About the Project"
   ]
  },
  {
   "cell_type": "markdown",
   "metadata": {},
   "source": [
    "- Build a better and more equitable answer correction prediction model for education in a post-COVID-19 world."
   ]
  },
  {
   "cell_type": "markdown",
   "metadata": {},
   "source": [
    "## Goals"
   ]
  },
  {
   "cell_type": "markdown",
   "metadata": {},
   "source": [
    "- Create algorithms for \"Knowledge Tracing,\" the modeling of student knowledge over time. \n",
    "- Accurately predict how students will perform on future interactions. "
   ]
  },
  {
   "cell_type": "markdown",
   "metadata": {},
   "source": [
    "# Imports"
   ]
  },
  {
   "cell_type": "code",
   "execution_count": 1,
   "metadata": {},
   "outputs": [],
   "source": [
    "# General Imports \n",
    "import pandas as pd\n",
    "import numpy as np\n",
    "import matplotlib.pyplot as plt\n",
    "import seaborn as sns\n",
    "from scipy import stats\n",
    "%matplotlib inline\n",
    "\n",
    "# Train Validate Test\n",
    "from sklearn.model_selection import train_test_split\n",
    "\n",
    "# Modeling Imports\n",
    "from sklearn.cluster import KMeans\n",
    "\n",
    "# Acquire and Prepare Files\n",
    "import acquire\n",
    "from prepare import prep_riiid\n",
    "\n",
    "from sklearn.preprocessing import MinMaxScaler\n",
    "\n",
    "# Warnings \n",
    "import warnings\n",
    "warnings.filterwarnings(\"ignore\")"
   ]
  },
  {
   "cell_type": "markdown",
   "metadata": {},
   "source": [
    "# Acquire"
   ]
  },
  {
   "cell_type": "code",
   "execution_count": 2,
   "metadata": {},
   "outputs": [
    {
     "data": {
      "text/plain": [
       "((411517, 18), (50842, 18), (52868, 18))"
      ]
     },
     "execution_count": 2,
     "metadata": {},
     "output_type": "execute_result"
    }
   ],
   "source": [
    "df_train = pd.read_csv('train.csv')\n",
    "df_validate = pd.read_csv('validate.csv')\n",
    "df_test = pd.read_csv('test.csv')\n",
    "\n",
    "df_train.shape, df_validate.shape, df_test.shape"
   ]
  },
  {
   "cell_type": "code",
   "execution_count": 3,
   "metadata": {},
   "outputs": [
    {
     "data": {
      "text/html": [
       "<div>\n",
       "<style scoped>\n",
       "    .dataframe tbody tr th:only-of-type {\n",
       "        vertical-align: middle;\n",
       "    }\n",
       "\n",
       "    .dataframe tbody tr th {\n",
       "        vertical-align: top;\n",
       "    }\n",
       "\n",
       "    .dataframe thead th {\n",
       "        text-align: right;\n",
       "    }\n",
       "</style>\n",
       "<table border=\"1\" class=\"dataframe\">\n",
       "  <thead>\n",
       "    <tr style=\"text-align: right;\">\n",
       "      <th></th>\n",
       "      <th>timestamp</th>\n",
       "      <th>user_id</th>\n",
       "      <th>content_id</th>\n",
       "      <th>content_type_id</th>\n",
       "      <th>task_container_id</th>\n",
       "      <th>user_answer</th>\n",
       "      <th>answered_correctly</th>\n",
       "      <th>prior_question_elapsed_time</th>\n",
       "      <th>prior_question_had_explanation</th>\n",
       "      <th>lecture_id</th>\n",
       "      <th>tag</th>\n",
       "      <th>lecture_part</th>\n",
       "      <th>type_of</th>\n",
       "      <th>question_id</th>\n",
       "      <th>bundle_id</th>\n",
       "      <th>correct_answer</th>\n",
       "      <th>question_part</th>\n",
       "      <th>tags</th>\n",
       "    </tr>\n",
       "  </thead>\n",
       "  <tbody>\n",
       "    <tr>\n",
       "      <th>0</th>\n",
       "      <td>0</td>\n",
       "      <td>1864702</td>\n",
       "      <td>5720</td>\n",
       "      <td>0</td>\n",
       "      <td>0</td>\n",
       "      <td>1</td>\n",
       "      <td>1</td>\n",
       "      <td>NaN</td>\n",
       "      <td>NaN</td>\n",
       "      <td>NaN</td>\n",
       "      <td>NaN</td>\n",
       "      <td>NaN</td>\n",
       "      <td>NaN</td>\n",
       "      <td>5720.0</td>\n",
       "      <td>5720.0</td>\n",
       "      <td>1.0</td>\n",
       "      <td>5.0</td>\n",
       "      <td>115</td>\n",
       "    </tr>\n",
       "    <tr>\n",
       "      <th>1</th>\n",
       "      <td>45951</td>\n",
       "      <td>1864702</td>\n",
       "      <td>5204</td>\n",
       "      <td>0</td>\n",
       "      <td>1</td>\n",
       "      <td>1</td>\n",
       "      <td>0</td>\n",
       "      <td>inf</td>\n",
       "      <td>False</td>\n",
       "      <td>NaN</td>\n",
       "      <td>NaN</td>\n",
       "      <td>NaN</td>\n",
       "      <td>NaN</td>\n",
       "      <td>5204.0</td>\n",
       "      <td>5204.0</td>\n",
       "      <td>3.0</td>\n",
       "      <td>5.0</td>\n",
       "      <td>173</td>\n",
       "    </tr>\n",
       "  </tbody>\n",
       "</table>\n",
       "</div>"
      ],
      "text/plain": [
       "   timestamp  user_id  content_id  content_type_id  task_container_id  \\\n",
       "0          0  1864702        5720                0                  0   \n",
       "1      45951  1864702        5204                0                  1   \n",
       "\n",
       "   user_answer  answered_correctly  prior_question_elapsed_time  \\\n",
       "0            1                   1                          NaN   \n",
       "1            1                   0                          inf   \n",
       "\n",
       "  prior_question_had_explanation  lecture_id  tag  lecture_part type_of  \\\n",
       "0                            NaN         NaN  NaN           NaN     NaN   \n",
       "1                          False         NaN  NaN           NaN     NaN   \n",
       "\n",
       "   question_id  bundle_id  correct_answer  question_part tags  \n",
       "0       5720.0     5720.0             1.0            5.0  115  \n",
       "1       5204.0     5204.0             3.0            5.0  173  "
      ]
     },
     "execution_count": 3,
     "metadata": {},
     "output_type": "execute_result"
    }
   ],
   "source": [
    "# Train Data\n",
    "df_train.head(2)"
   ]
  },
  {
   "cell_type": "code",
   "execution_count": 4,
   "metadata": {},
   "outputs": [
    {
     "data": {
      "text/html": [
       "<div>\n",
       "<style scoped>\n",
       "    .dataframe tbody tr th:only-of-type {\n",
       "        vertical-align: middle;\n",
       "    }\n",
       "\n",
       "    .dataframe tbody tr th {\n",
       "        vertical-align: top;\n",
       "    }\n",
       "\n",
       "    .dataframe thead th {\n",
       "        text-align: right;\n",
       "    }\n",
       "</style>\n",
       "<table border=\"1\" class=\"dataframe\">\n",
       "  <thead>\n",
       "    <tr style=\"text-align: right;\">\n",
       "      <th></th>\n",
       "      <th>timestamp</th>\n",
       "      <th>user_id</th>\n",
       "      <th>content_id</th>\n",
       "      <th>content_type_id</th>\n",
       "      <th>task_container_id</th>\n",
       "      <th>user_answer</th>\n",
       "      <th>answered_correctly</th>\n",
       "      <th>prior_question_elapsed_time</th>\n",
       "      <th>prior_question_had_explanation</th>\n",
       "      <th>lecture_id</th>\n",
       "      <th>tag</th>\n",
       "      <th>lecture_part</th>\n",
       "      <th>type_of</th>\n",
       "      <th>question_id</th>\n",
       "      <th>bundle_id</th>\n",
       "      <th>correct_answer</th>\n",
       "      <th>question_part</th>\n",
       "      <th>tags</th>\n",
       "    </tr>\n",
       "  </thead>\n",
       "  <tbody>\n",
       "    <tr>\n",
       "      <th>0</th>\n",
       "      <td>15625124241</td>\n",
       "      <td>1864702</td>\n",
       "      <td>3209</td>\n",
       "      <td>0</td>\n",
       "      <td>2152</td>\n",
       "      <td>3</td>\n",
       "      <td>1</td>\n",
       "      <td>34660.0</td>\n",
       "      <td>True</td>\n",
       "      <td>NaN</td>\n",
       "      <td>NaN</td>\n",
       "      <td>NaN</td>\n",
       "      <td>NaN</td>\n",
       "      <td>3209.0</td>\n",
       "      <td>3207.0</td>\n",
       "      <td>3.0</td>\n",
       "      <td>4.0</td>\n",
       "      <td>157 169 162 38</td>\n",
       "    </tr>\n",
       "    <tr>\n",
       "      <th>1</th>\n",
       "      <td>15625124241</td>\n",
       "      <td>1864702</td>\n",
       "      <td>3208</td>\n",
       "      <td>0</td>\n",
       "      <td>2152</td>\n",
       "      <td>3</td>\n",
       "      <td>1</td>\n",
       "      <td>34660.0</td>\n",
       "      <td>True</td>\n",
       "      <td>NaN</td>\n",
       "      <td>NaN</td>\n",
       "      <td>NaN</td>\n",
       "      <td>NaN</td>\n",
       "      <td>3208.0</td>\n",
       "      <td>3207.0</td>\n",
       "      <td>3.0</td>\n",
       "      <td>4.0</td>\n",
       "      <td>113 169 162 38</td>\n",
       "    </tr>\n",
       "  </tbody>\n",
       "</table>\n",
       "</div>"
      ],
      "text/plain": [
       "     timestamp  user_id  content_id  content_type_id  task_container_id  \\\n",
       "0  15625124241  1864702        3209                0               2152   \n",
       "1  15625124241  1864702        3208                0               2152   \n",
       "\n",
       "   user_answer  answered_correctly  prior_question_elapsed_time  \\\n",
       "0            3                   1                      34660.0   \n",
       "1            3                   1                      34660.0   \n",
       "\n",
       "   prior_question_had_explanation  lecture_id  tag  lecture_part type_of  \\\n",
       "0                            True         NaN  NaN           NaN     NaN   \n",
       "1                            True         NaN  NaN           NaN     NaN   \n",
       "\n",
       "   question_id  bundle_id  correct_answer  question_part            tags  \n",
       "0       3209.0     3207.0             3.0            4.0  157 169 162 38  \n",
       "1       3208.0     3207.0             3.0            4.0  113 169 162 38  "
      ]
     },
     "execution_count": 4,
     "metadata": {},
     "output_type": "execute_result"
    }
   ],
   "source": [
    "# Validate Data\n",
    "df_validate.head(2)"
   ]
  },
  {
   "cell_type": "code",
   "execution_count": 5,
   "metadata": {
    "scrolled": true
   },
   "outputs": [
    {
     "data": {
      "text/html": [
       "<div>\n",
       "<style scoped>\n",
       "    .dataframe tbody tr th:only-of-type {\n",
       "        vertical-align: middle;\n",
       "    }\n",
       "\n",
       "    .dataframe tbody tr th {\n",
       "        vertical-align: top;\n",
       "    }\n",
       "\n",
       "    .dataframe thead th {\n",
       "        text-align: right;\n",
       "    }\n",
       "</style>\n",
       "<table border=\"1\" class=\"dataframe\">\n",
       "  <thead>\n",
       "    <tr style=\"text-align: right;\">\n",
       "      <th></th>\n",
       "      <th>timestamp</th>\n",
       "      <th>user_id</th>\n",
       "      <th>content_id</th>\n",
       "      <th>content_type_id</th>\n",
       "      <th>task_container_id</th>\n",
       "      <th>user_answer</th>\n",
       "      <th>answered_correctly</th>\n",
       "      <th>prior_question_elapsed_time</th>\n",
       "      <th>prior_question_had_explanation</th>\n",
       "      <th>lecture_id</th>\n",
       "      <th>tag</th>\n",
       "      <th>lecture_part</th>\n",
       "      <th>type_of</th>\n",
       "      <th>question_id</th>\n",
       "      <th>bundle_id</th>\n",
       "      <th>correct_answer</th>\n",
       "      <th>question_part</th>\n",
       "      <th>tags</th>\n",
       "    </tr>\n",
       "  </thead>\n",
       "  <tbody>\n",
       "    <tr>\n",
       "      <th>0</th>\n",
       "      <td>20170378604</td>\n",
       "      <td>1864702</td>\n",
       "      <td>8811</td>\n",
       "      <td>0</td>\n",
       "      <td>2494</td>\n",
       "      <td>1</td>\n",
       "      <td>1</td>\n",
       "      <td>3000.0</td>\n",
       "      <td>True</td>\n",
       "      <td>NaN</td>\n",
       "      <td>NaN</td>\n",
       "      <td>NaN</td>\n",
       "      <td>NaN</td>\n",
       "      <td>8811.0</td>\n",
       "      <td>8811.0</td>\n",
       "      <td>1.0</td>\n",
       "      <td>5.0</td>\n",
       "      <td>45</td>\n",
       "    </tr>\n",
       "    <tr>\n",
       "      <th>1</th>\n",
       "      <td>20170394313</td>\n",
       "      <td>1864702</td>\n",
       "      <td>8643</td>\n",
       "      <td>0</td>\n",
       "      <td>2495</td>\n",
       "      <td>3</td>\n",
       "      <td>1</td>\n",
       "      <td>4000.0</td>\n",
       "      <td>True</td>\n",
       "      <td>NaN</td>\n",
       "      <td>NaN</td>\n",
       "      <td>NaN</td>\n",
       "      <td>NaN</td>\n",
       "      <td>8643.0</td>\n",
       "      <td>8643.0</td>\n",
       "      <td>3.0</td>\n",
       "      <td>5.0</td>\n",
       "      <td>15</td>\n",
       "    </tr>\n",
       "  </tbody>\n",
       "</table>\n",
       "</div>"
      ],
      "text/plain": [
       "     timestamp  user_id  content_id  content_type_id  task_container_id  \\\n",
       "0  20170378604  1864702        8811                0               2494   \n",
       "1  20170394313  1864702        8643                0               2495   \n",
       "\n",
       "   user_answer  answered_correctly  prior_question_elapsed_time  \\\n",
       "0            1                   1                       3000.0   \n",
       "1            3                   1                       4000.0   \n",
       "\n",
       "   prior_question_had_explanation  lecture_id  tag  lecture_part type_of  \\\n",
       "0                            True         NaN  NaN           NaN     NaN   \n",
       "1                            True         NaN  NaN           NaN     NaN   \n",
       "\n",
       "   question_id  bundle_id  correct_answer  question_part tags  \n",
       "0       8811.0     8811.0             1.0            5.0   45  \n",
       "1       8643.0     8643.0             3.0            5.0   15  "
      ]
     },
     "execution_count": 5,
     "metadata": {},
     "output_type": "execute_result"
    }
   ],
   "source": [
    "# Test Data\n",
    "df_test.head(2)"
   ]
  },
  {
   "cell_type": "markdown",
   "metadata": {},
   "source": [
    "# Prepare"
   ]
  },
  {
   "cell_type": "markdown",
   "metadata": {},
   "source": [
    "### Running Function that does all prep at once"
   ]
  },
  {
   "cell_type": "code",
   "execution_count": 7,
   "metadata": {},
   "outputs": [],
   "source": [
    "# Produce train/validate/test\n",
    "# Produce scaled train/validdate/test\n",
    "train, validate, test, train_s, validate_s, test_s = prep_riiid(df_train, df_validate, df_test)"
   ]
  },
  {
   "cell_type": "code",
   "execution_count": 8,
   "metadata": {},
   "outputs": [
    {
     "name": "stdout",
     "output_type": "stream",
     "text": [
      "(403377, 9)\n"
     ]
    },
    {
     "data": {
      "text/html": [
       "<div>\n",
       "<style scoped>\n",
       "    .dataframe tbody tr th:only-of-type {\n",
       "        vertical-align: middle;\n",
       "    }\n",
       "\n",
       "    .dataframe tbody tr th {\n",
       "        vertical-align: top;\n",
       "    }\n",
       "\n",
       "    .dataframe thead th {\n",
       "        text-align: right;\n",
       "    }\n",
       "</style>\n",
       "<table border=\"1\" class=\"dataframe\">\n",
       "  <thead>\n",
       "    <tr style=\"text-align: right;\">\n",
       "      <th></th>\n",
       "      <th>answered_correctly</th>\n",
       "      <th>prior_question_had_explanation</th>\n",
       "      <th>user_acc_mean</th>\n",
       "      <th>user_lectures_running_total</th>\n",
       "      <th>avg_user_q_time</th>\n",
       "      <th>mean_content_accuracy</th>\n",
       "      <th>mean_task_accuracy</th>\n",
       "      <th>mean_timestamp_accuracy</th>\n",
       "      <th>mean_priortime_accuracy</th>\n",
       "    </tr>\n",
       "  </thead>\n",
       "  <tbody>\n",
       "    <tr>\n",
       "      <th>0</th>\n",
       "      <td>1</td>\n",
       "      <td>0</td>\n",
       "      <td>0.630049</td>\n",
       "      <td>0</td>\n",
       "      <td>11917302.0</td>\n",
       "      <td>0.818182</td>\n",
       "      <td>0.682248</td>\n",
       "      <td>6.526086e+09</td>\n",
       "      <td>21594.667829</td>\n",
       "    </tr>\n",
       "    <tr>\n",
       "      <th>1</th>\n",
       "      <td>0</td>\n",
       "      <td>0</td>\n",
       "      <td>0.630049</td>\n",
       "      <td>0</td>\n",
       "      <td>11917302.0</td>\n",
       "      <td>0.550000</td>\n",
       "      <td>0.534988</td>\n",
       "      <td>6.526086e+09</td>\n",
       "      <td>21594.667829</td>\n",
       "    </tr>\n",
       "    <tr>\n",
       "      <th>2</th>\n",
       "      <td>1</td>\n",
       "      <td>0</td>\n",
       "      <td>0.630049</td>\n",
       "      <td>0</td>\n",
       "      <td>11917302.0</td>\n",
       "      <td>0.444444</td>\n",
       "      <td>0.445216</td>\n",
       "      <td>6.526086e+09</td>\n",
       "      <td>21594.667829</td>\n",
       "    </tr>\n",
       "    <tr>\n",
       "      <th>3</th>\n",
       "      <td>1</td>\n",
       "      <td>0</td>\n",
       "      <td>0.630049</td>\n",
       "      <td>0</td>\n",
       "      <td>11917302.0</td>\n",
       "      <td>0.406250</td>\n",
       "      <td>0.543241</td>\n",
       "      <td>6.526086e+09</td>\n",
       "      <td>21594.667829</td>\n",
       "    </tr>\n",
       "    <tr>\n",
       "      <th>4</th>\n",
       "      <td>0</td>\n",
       "      <td>0</td>\n",
       "      <td>0.630049</td>\n",
       "      <td>0</td>\n",
       "      <td>11917302.0</td>\n",
       "      <td>0.687500</td>\n",
       "      <td>0.485282</td>\n",
       "      <td>6.526086e+09</td>\n",
       "      <td>21594.667829</td>\n",
       "    </tr>\n",
       "  </tbody>\n",
       "</table>\n",
       "</div>"
      ],
      "text/plain": [
       "   answered_correctly  prior_question_had_explanation  user_acc_mean  \\\n",
       "0                   1                               0       0.630049   \n",
       "1                   0                               0       0.630049   \n",
       "2                   1                               0       0.630049   \n",
       "3                   1                               0       0.630049   \n",
       "4                   0                               0       0.630049   \n",
       "\n",
       "   user_lectures_running_total  avg_user_q_time  mean_content_accuracy  \\\n",
       "0                            0       11917302.0               0.818182   \n",
       "1                            0       11917302.0               0.550000   \n",
       "2                            0       11917302.0               0.444444   \n",
       "3                            0       11917302.0               0.406250   \n",
       "4                            0       11917302.0               0.687500   \n",
       "\n",
       "   mean_task_accuracy  mean_timestamp_accuracy  mean_priortime_accuracy  \n",
       "0            0.682248             6.526086e+09             21594.667829  \n",
       "1            0.534988             6.526086e+09             21594.667829  \n",
       "2            0.445216             6.526086e+09             21594.667829  \n",
       "3            0.543241             6.526086e+09             21594.667829  \n",
       "4            0.485282             6.526086e+09             21594.667829  "
      ]
     },
     "execution_count": 8,
     "metadata": {},
     "output_type": "execute_result"
    }
   ],
   "source": [
    "# Print the shape of the train\n",
    "print(train.shape)\n",
    "\n",
    "# Take a peek at the train\n",
    "train.head()"
   ]
  },
  {
   "cell_type": "code",
   "execution_count": 9,
   "metadata": {},
   "outputs": [
    {
     "name": "stdout",
     "output_type": "stream",
     "text": [
      "(403377, 9)\n"
     ]
    },
    {
     "data": {
      "text/html": [
       "<div>\n",
       "<style scoped>\n",
       "    .dataframe tbody tr th:only-of-type {\n",
       "        vertical-align: middle;\n",
       "    }\n",
       "\n",
       "    .dataframe tbody tr th {\n",
       "        vertical-align: top;\n",
       "    }\n",
       "\n",
       "    .dataframe thead th {\n",
       "        text-align: right;\n",
       "    }\n",
       "</style>\n",
       "<table border=\"1\" class=\"dataframe\">\n",
       "  <thead>\n",
       "    <tr style=\"text-align: right;\">\n",
       "      <th></th>\n",
       "      <th>answered_correctly</th>\n",
       "      <th>prior_question_had_explanation</th>\n",
       "      <th>user_acc_mean</th>\n",
       "      <th>mean_content_accuracy</th>\n",
       "      <th>mean_task_accuracy</th>\n",
       "      <th>mean_timestamp_accuracy_scaled</th>\n",
       "      <th>mean_priortime_accuracy_scaled</th>\n",
       "      <th>user_lectures_running_total_scaled</th>\n",
       "      <th>avg_user_q_time_scaled</th>\n",
       "    </tr>\n",
       "  </thead>\n",
       "  <tbody>\n",
       "    <tr>\n",
       "      <th>0</th>\n",
       "      <td>1</td>\n",
       "      <td>0</td>\n",
       "      <td>0.630049</td>\n",
       "      <td>0.818182</td>\n",
       "      <td>0.682248</td>\n",
       "      <td>0.120073</td>\n",
       "      <td>0.500746</td>\n",
       "      <td>0.0</td>\n",
       "      <td>0.002404</td>\n",
       "    </tr>\n",
       "    <tr>\n",
       "      <th>1</th>\n",
       "      <td>0</td>\n",
       "      <td>0</td>\n",
       "      <td>0.630049</td>\n",
       "      <td>0.550000</td>\n",
       "      <td>0.534988</td>\n",
       "      <td>0.120073</td>\n",
       "      <td>0.500746</td>\n",
       "      <td>0.0</td>\n",
       "      <td>0.002404</td>\n",
       "    </tr>\n",
       "    <tr>\n",
       "      <th>2</th>\n",
       "      <td>1</td>\n",
       "      <td>0</td>\n",
       "      <td>0.630049</td>\n",
       "      <td>0.444444</td>\n",
       "      <td>0.445216</td>\n",
       "      <td>0.120073</td>\n",
       "      <td>0.500746</td>\n",
       "      <td>0.0</td>\n",
       "      <td>0.002404</td>\n",
       "    </tr>\n",
       "    <tr>\n",
       "      <th>3</th>\n",
       "      <td>1</td>\n",
       "      <td>0</td>\n",
       "      <td>0.630049</td>\n",
       "      <td>0.406250</td>\n",
       "      <td>0.543241</td>\n",
       "      <td>0.120073</td>\n",
       "      <td>0.500746</td>\n",
       "      <td>0.0</td>\n",
       "      <td>0.002404</td>\n",
       "    </tr>\n",
       "    <tr>\n",
       "      <th>4</th>\n",
       "      <td>0</td>\n",
       "      <td>0</td>\n",
       "      <td>0.630049</td>\n",
       "      <td>0.687500</td>\n",
       "      <td>0.485282</td>\n",
       "      <td>0.120073</td>\n",
       "      <td>0.500746</td>\n",
       "      <td>0.0</td>\n",
       "      <td>0.002404</td>\n",
       "    </tr>\n",
       "  </tbody>\n",
       "</table>\n",
       "</div>"
      ],
      "text/plain": [
       "   answered_correctly  prior_question_had_explanation  user_acc_mean  \\\n",
       "0                   1                               0       0.630049   \n",
       "1                   0                               0       0.630049   \n",
       "2                   1                               0       0.630049   \n",
       "3                   1                               0       0.630049   \n",
       "4                   0                               0       0.630049   \n",
       "\n",
       "   mean_content_accuracy  mean_task_accuracy  mean_timestamp_accuracy_scaled  \\\n",
       "0               0.818182            0.682248                        0.120073   \n",
       "1               0.550000            0.534988                        0.120073   \n",
       "2               0.444444            0.445216                        0.120073   \n",
       "3               0.406250            0.543241                        0.120073   \n",
       "4               0.687500            0.485282                        0.120073   \n",
       "\n",
       "   mean_priortime_accuracy_scaled  user_lectures_running_total_scaled  \\\n",
       "0                        0.500746                                 0.0   \n",
       "1                        0.500746                                 0.0   \n",
       "2                        0.500746                                 0.0   \n",
       "3                        0.500746                                 0.0   \n",
       "4                        0.500746                                 0.0   \n",
       "\n",
       "   avg_user_q_time_scaled  \n",
       "0                0.002404  \n",
       "1                0.002404  \n",
       "2                0.002404  \n",
       "3                0.002404  \n",
       "4                0.002404  "
      ]
     },
     "execution_count": 9,
     "metadata": {},
     "output_type": "execute_result"
    }
   ],
   "source": [
    "# Print the shape of the train\n",
    "print(train_s.shape)\n",
    "\n",
    "# Take a peek at the train\n",
    "train_s.head()"
   ]
  },
  {
   "cell_type": "code",
   "execution_count": 10,
   "metadata": {},
   "outputs": [
    {
     "name": "stdout",
     "output_type": "stream",
     "text": [
      "(51971, 9)\n"
     ]
    },
    {
     "data": {
      "text/html": [
       "<div>\n",
       "<style scoped>\n",
       "    .dataframe tbody tr th:only-of-type {\n",
       "        vertical-align: middle;\n",
       "    }\n",
       "\n",
       "    .dataframe tbody tr th {\n",
       "        vertical-align: top;\n",
       "    }\n",
       "\n",
       "    .dataframe thead th {\n",
       "        text-align: right;\n",
       "    }\n",
       "</style>\n",
       "<table border=\"1\" class=\"dataframe\">\n",
       "  <thead>\n",
       "    <tr style=\"text-align: right;\">\n",
       "      <th></th>\n",
       "      <th>answered_correctly</th>\n",
       "      <th>prior_question_had_explanation</th>\n",
       "      <th>user_acc_mean</th>\n",
       "      <th>user_lectures_running_total</th>\n",
       "      <th>avg_user_q_time</th>\n",
       "      <th>mean_content_accuracy</th>\n",
       "      <th>mean_task_accuracy</th>\n",
       "      <th>mean_timestamp_accuracy</th>\n",
       "      <th>mean_priortime_accuracy</th>\n",
       "    </tr>\n",
       "  </thead>\n",
       "  <tbody>\n",
       "    <tr>\n",
       "      <th>0</th>\n",
       "      <td>1</td>\n",
       "      <td>1</td>\n",
       "      <td>0.630049</td>\n",
       "      <td>0</td>\n",
       "      <td>11917302.0</td>\n",
       "      <td>0.468750</td>\n",
       "      <td>0.529412</td>\n",
       "      <td>6.526086e+09</td>\n",
       "      <td>21594.667829</td>\n",
       "    </tr>\n",
       "    <tr>\n",
       "      <th>1</th>\n",
       "      <td>1</td>\n",
       "      <td>1</td>\n",
       "      <td>0.630049</td>\n",
       "      <td>0</td>\n",
       "      <td>11917302.0</td>\n",
       "      <td>0.290323</td>\n",
       "      <td>0.578947</td>\n",
       "      <td>6.526086e+09</td>\n",
       "      <td>21594.667829</td>\n",
       "    </tr>\n",
       "    <tr>\n",
       "      <th>2</th>\n",
       "      <td>0</td>\n",
       "      <td>1</td>\n",
       "      <td>0.630049</td>\n",
       "      <td>0</td>\n",
       "      <td>11917302.0</td>\n",
       "      <td>0.387755</td>\n",
       "      <td>0.588235</td>\n",
       "      <td>6.526086e+09</td>\n",
       "      <td>21594.667829</td>\n",
       "    </tr>\n",
       "    <tr>\n",
       "      <th>3</th>\n",
       "      <td>1</td>\n",
       "      <td>1</td>\n",
       "      <td>0.630049</td>\n",
       "      <td>0</td>\n",
       "      <td>11917302.0</td>\n",
       "      <td>0.740741</td>\n",
       "      <td>0.500000</td>\n",
       "      <td>6.526086e+09</td>\n",
       "      <td>21594.667829</td>\n",
       "    </tr>\n",
       "    <tr>\n",
       "      <th>4</th>\n",
       "      <td>0</td>\n",
       "      <td>1</td>\n",
       "      <td>0.630049</td>\n",
       "      <td>0</td>\n",
       "      <td>11917302.0</td>\n",
       "      <td>0.428571</td>\n",
       "      <td>0.588235</td>\n",
       "      <td>6.526086e+09</td>\n",
       "      <td>21594.667829</td>\n",
       "    </tr>\n",
       "  </tbody>\n",
       "</table>\n",
       "</div>"
      ],
      "text/plain": [
       "   answered_correctly  prior_question_had_explanation  user_acc_mean  \\\n",
       "0                   1                               1       0.630049   \n",
       "1                   1                               1       0.630049   \n",
       "2                   0                               1       0.630049   \n",
       "3                   1                               1       0.630049   \n",
       "4                   0                               1       0.630049   \n",
       "\n",
       "   user_lectures_running_total  avg_user_q_time  mean_content_accuracy  \\\n",
       "0                            0       11917302.0               0.468750   \n",
       "1                            0       11917302.0               0.290323   \n",
       "2                            0       11917302.0               0.387755   \n",
       "3                            0       11917302.0               0.740741   \n",
       "4                            0       11917302.0               0.428571   \n",
       "\n",
       "   mean_task_accuracy  mean_timestamp_accuracy  mean_priortime_accuracy  \n",
       "0            0.529412             6.526086e+09             21594.667829  \n",
       "1            0.578947             6.526086e+09             21594.667829  \n",
       "2            0.588235             6.526086e+09             21594.667829  \n",
       "3            0.500000             6.526086e+09             21594.667829  \n",
       "4            0.588235             6.526086e+09             21594.667829  "
      ]
     },
     "execution_count": 10,
     "metadata": {},
     "output_type": "execute_result"
    }
   ],
   "source": [
    "# Print the shape of the train\n",
    "print(validate.shape)\n",
    "\n",
    "# Take a peek at the train\n",
    "validate.head()"
   ]
  },
  {
   "cell_type": "code",
   "execution_count": 11,
   "metadata": {},
   "outputs": [
    {
     "name": "stdout",
     "output_type": "stream",
     "text": [
      "(51971, 9)\n"
     ]
    },
    {
     "data": {
      "text/html": [
       "<div>\n",
       "<style scoped>\n",
       "    .dataframe tbody tr th:only-of-type {\n",
       "        vertical-align: middle;\n",
       "    }\n",
       "\n",
       "    .dataframe tbody tr th {\n",
       "        vertical-align: top;\n",
       "    }\n",
       "\n",
       "    .dataframe thead th {\n",
       "        text-align: right;\n",
       "    }\n",
       "</style>\n",
       "<table border=\"1\" class=\"dataframe\">\n",
       "  <thead>\n",
       "    <tr style=\"text-align: right;\">\n",
       "      <th></th>\n",
       "      <th>answered_correctly</th>\n",
       "      <th>prior_question_had_explanation</th>\n",
       "      <th>user_acc_mean</th>\n",
       "      <th>mean_content_accuracy</th>\n",
       "      <th>mean_task_accuracy</th>\n",
       "      <th>mean_timestamp_accuracy_scaled</th>\n",
       "      <th>mean_priortime_accuracy_scaled</th>\n",
       "      <th>user_lectures_running_total_scaled</th>\n",
       "      <th>avg_user_q_time_scaled</th>\n",
       "    </tr>\n",
       "  </thead>\n",
       "  <tbody>\n",
       "    <tr>\n",
       "      <th>0</th>\n",
       "      <td>1</td>\n",
       "      <td>1</td>\n",
       "      <td>0.630049</td>\n",
       "      <td>0.468750</td>\n",
       "      <td>0.529412</td>\n",
       "      <td>0.120073</td>\n",
       "      <td>0.500746</td>\n",
       "      <td>0.0</td>\n",
       "      <td>0.002404</td>\n",
       "    </tr>\n",
       "    <tr>\n",
       "      <th>1</th>\n",
       "      <td>1</td>\n",
       "      <td>1</td>\n",
       "      <td>0.630049</td>\n",
       "      <td>0.290323</td>\n",
       "      <td>0.578947</td>\n",
       "      <td>0.120073</td>\n",
       "      <td>0.500746</td>\n",
       "      <td>0.0</td>\n",
       "      <td>0.002404</td>\n",
       "    </tr>\n",
       "    <tr>\n",
       "      <th>2</th>\n",
       "      <td>0</td>\n",
       "      <td>1</td>\n",
       "      <td>0.630049</td>\n",
       "      <td>0.387755</td>\n",
       "      <td>0.588235</td>\n",
       "      <td>0.120073</td>\n",
       "      <td>0.500746</td>\n",
       "      <td>0.0</td>\n",
       "      <td>0.002404</td>\n",
       "    </tr>\n",
       "    <tr>\n",
       "      <th>3</th>\n",
       "      <td>1</td>\n",
       "      <td>1</td>\n",
       "      <td>0.630049</td>\n",
       "      <td>0.740741</td>\n",
       "      <td>0.500000</td>\n",
       "      <td>0.120073</td>\n",
       "      <td>0.500746</td>\n",
       "      <td>0.0</td>\n",
       "      <td>0.002404</td>\n",
       "    </tr>\n",
       "    <tr>\n",
       "      <th>4</th>\n",
       "      <td>0</td>\n",
       "      <td>1</td>\n",
       "      <td>0.630049</td>\n",
       "      <td>0.428571</td>\n",
       "      <td>0.588235</td>\n",
       "      <td>0.120073</td>\n",
       "      <td>0.500746</td>\n",
       "      <td>0.0</td>\n",
       "      <td>0.002404</td>\n",
       "    </tr>\n",
       "  </tbody>\n",
       "</table>\n",
       "</div>"
      ],
      "text/plain": [
       "   answered_correctly  prior_question_had_explanation  user_acc_mean  \\\n",
       "0                   1                               1       0.630049   \n",
       "1                   1                               1       0.630049   \n",
       "2                   0                               1       0.630049   \n",
       "3                   1                               1       0.630049   \n",
       "4                   0                               1       0.630049   \n",
       "\n",
       "   mean_content_accuracy  mean_task_accuracy  mean_timestamp_accuracy_scaled  \\\n",
       "0               0.468750            0.529412                        0.120073   \n",
       "1               0.290323            0.578947                        0.120073   \n",
       "2               0.387755            0.588235                        0.120073   \n",
       "3               0.740741            0.500000                        0.120073   \n",
       "4               0.428571            0.588235                        0.120073   \n",
       "\n",
       "   mean_priortime_accuracy_scaled  user_lectures_running_total_scaled  \\\n",
       "0                        0.500746                                 0.0   \n",
       "1                        0.500746                                 0.0   \n",
       "2                        0.500746                                 0.0   \n",
       "3                        0.500746                                 0.0   \n",
       "4                        0.500746                                 0.0   \n",
       "\n",
       "   avg_user_q_time_scaled  \n",
       "0                0.002404  \n",
       "1                0.002404  \n",
       "2                0.002404  \n",
       "3                0.002404  \n",
       "4                0.002404  "
      ]
     },
     "execution_count": 11,
     "metadata": {},
     "output_type": "execute_result"
    }
   ],
   "source": [
    "# Print the shape of the train\n",
    "print(validate_s.shape)\n",
    "\n",
    "# Take a peek at the train\n",
    "validate_s.head()"
   ]
  },
  {
   "cell_type": "code",
   "execution_count": 12,
   "metadata": {},
   "outputs": [
    {
     "name": "stdout",
     "output_type": "stream",
     "text": [
      "(51971, 9)\n"
     ]
    },
    {
     "data": {
      "text/html": [
       "<div>\n",
       "<style scoped>\n",
       "    .dataframe tbody tr th:only-of-type {\n",
       "        vertical-align: middle;\n",
       "    }\n",
       "\n",
       "    .dataframe tbody tr th {\n",
       "        vertical-align: top;\n",
       "    }\n",
       "\n",
       "    .dataframe thead th {\n",
       "        text-align: right;\n",
       "    }\n",
       "</style>\n",
       "<table border=\"1\" class=\"dataframe\">\n",
       "  <thead>\n",
       "    <tr style=\"text-align: right;\">\n",
       "      <th></th>\n",
       "      <th>answered_correctly</th>\n",
       "      <th>prior_question_had_explanation</th>\n",
       "      <th>user_acc_mean</th>\n",
       "      <th>user_lectures_running_total</th>\n",
       "      <th>avg_user_q_time</th>\n",
       "      <th>mean_content_accuracy</th>\n",
       "      <th>mean_task_accuracy</th>\n",
       "      <th>mean_timestamp_accuracy</th>\n",
       "      <th>mean_priortime_accuracy</th>\n",
       "    </tr>\n",
       "  </thead>\n",
       "  <tbody>\n",
       "    <tr>\n",
       "      <th>0</th>\n",
       "      <td>1</td>\n",
       "      <td>1</td>\n",
       "      <td>0.630049</td>\n",
       "      <td>0</td>\n",
       "      <td>11917302.0</td>\n",
       "      <td>0.468750</td>\n",
       "      <td>0.529412</td>\n",
       "      <td>6.526086e+09</td>\n",
       "      <td>21594.667829</td>\n",
       "    </tr>\n",
       "    <tr>\n",
       "      <th>1</th>\n",
       "      <td>1</td>\n",
       "      <td>1</td>\n",
       "      <td>0.630049</td>\n",
       "      <td>0</td>\n",
       "      <td>11917302.0</td>\n",
       "      <td>0.290323</td>\n",
       "      <td>0.578947</td>\n",
       "      <td>6.526086e+09</td>\n",
       "      <td>21594.667829</td>\n",
       "    </tr>\n",
       "    <tr>\n",
       "      <th>2</th>\n",
       "      <td>0</td>\n",
       "      <td>1</td>\n",
       "      <td>0.630049</td>\n",
       "      <td>0</td>\n",
       "      <td>11917302.0</td>\n",
       "      <td>0.387755</td>\n",
       "      <td>0.588235</td>\n",
       "      <td>6.526086e+09</td>\n",
       "      <td>21594.667829</td>\n",
       "    </tr>\n",
       "    <tr>\n",
       "      <th>3</th>\n",
       "      <td>1</td>\n",
       "      <td>1</td>\n",
       "      <td>0.630049</td>\n",
       "      <td>0</td>\n",
       "      <td>11917302.0</td>\n",
       "      <td>0.740741</td>\n",
       "      <td>0.500000</td>\n",
       "      <td>6.526086e+09</td>\n",
       "      <td>21594.667829</td>\n",
       "    </tr>\n",
       "    <tr>\n",
       "      <th>4</th>\n",
       "      <td>0</td>\n",
       "      <td>1</td>\n",
       "      <td>0.630049</td>\n",
       "      <td>0</td>\n",
       "      <td>11917302.0</td>\n",
       "      <td>0.428571</td>\n",
       "      <td>0.588235</td>\n",
       "      <td>6.526086e+09</td>\n",
       "      <td>21594.667829</td>\n",
       "    </tr>\n",
       "  </tbody>\n",
       "</table>\n",
       "</div>"
      ],
      "text/plain": [
       "   answered_correctly  prior_question_had_explanation  user_acc_mean  \\\n",
       "0                   1                               1       0.630049   \n",
       "1                   1                               1       0.630049   \n",
       "2                   0                               1       0.630049   \n",
       "3                   1                               1       0.630049   \n",
       "4                   0                               1       0.630049   \n",
       "\n",
       "   user_lectures_running_total  avg_user_q_time  mean_content_accuracy  \\\n",
       "0                            0       11917302.0               0.468750   \n",
       "1                            0       11917302.0               0.290323   \n",
       "2                            0       11917302.0               0.387755   \n",
       "3                            0       11917302.0               0.740741   \n",
       "4                            0       11917302.0               0.428571   \n",
       "\n",
       "   mean_task_accuracy  mean_timestamp_accuracy  mean_priortime_accuracy  \n",
       "0            0.529412             6.526086e+09             21594.667829  \n",
       "1            0.578947             6.526086e+09             21594.667829  \n",
       "2            0.588235             6.526086e+09             21594.667829  \n",
       "3            0.500000             6.526086e+09             21594.667829  \n",
       "4            0.588235             6.526086e+09             21594.667829  "
      ]
     },
     "execution_count": 12,
     "metadata": {},
     "output_type": "execute_result"
    }
   ],
   "source": [
    "# Print the shape of the train\n",
    "print(test.shape)\n",
    "\n",
    "# Take a peek at the train\n",
    "test.head()"
   ]
  },
  {
   "cell_type": "code",
   "execution_count": 13,
   "metadata": {},
   "outputs": [
    {
     "name": "stdout",
     "output_type": "stream",
     "text": [
      "(51971, 9)\n"
     ]
    },
    {
     "data": {
      "text/html": [
       "<div>\n",
       "<style scoped>\n",
       "    .dataframe tbody tr th:only-of-type {\n",
       "        vertical-align: middle;\n",
       "    }\n",
       "\n",
       "    .dataframe tbody tr th {\n",
       "        vertical-align: top;\n",
       "    }\n",
       "\n",
       "    .dataframe thead th {\n",
       "        text-align: right;\n",
       "    }\n",
       "</style>\n",
       "<table border=\"1\" class=\"dataframe\">\n",
       "  <thead>\n",
       "    <tr style=\"text-align: right;\">\n",
       "      <th></th>\n",
       "      <th>answered_correctly</th>\n",
       "      <th>prior_question_had_explanation</th>\n",
       "      <th>user_acc_mean</th>\n",
       "      <th>mean_content_accuracy</th>\n",
       "      <th>mean_task_accuracy</th>\n",
       "      <th>mean_timestamp_accuracy_scaled</th>\n",
       "      <th>mean_priortime_accuracy_scaled</th>\n",
       "      <th>user_lectures_running_total_scaled</th>\n",
       "      <th>avg_user_q_time_scaled</th>\n",
       "    </tr>\n",
       "  </thead>\n",
       "  <tbody>\n",
       "    <tr>\n",
       "      <th>0</th>\n",
       "      <td>1</td>\n",
       "      <td>1</td>\n",
       "      <td>0.630049</td>\n",
       "      <td>0.468750</td>\n",
       "      <td>0.529412</td>\n",
       "      <td>0.120073</td>\n",
       "      <td>0.500746</td>\n",
       "      <td>0.0</td>\n",
       "      <td>0.002404</td>\n",
       "    </tr>\n",
       "    <tr>\n",
       "      <th>1</th>\n",
       "      <td>1</td>\n",
       "      <td>1</td>\n",
       "      <td>0.630049</td>\n",
       "      <td>0.290323</td>\n",
       "      <td>0.578947</td>\n",
       "      <td>0.120073</td>\n",
       "      <td>0.500746</td>\n",
       "      <td>0.0</td>\n",
       "      <td>0.002404</td>\n",
       "    </tr>\n",
       "    <tr>\n",
       "      <th>2</th>\n",
       "      <td>0</td>\n",
       "      <td>1</td>\n",
       "      <td>0.630049</td>\n",
       "      <td>0.387755</td>\n",
       "      <td>0.588235</td>\n",
       "      <td>0.120073</td>\n",
       "      <td>0.500746</td>\n",
       "      <td>0.0</td>\n",
       "      <td>0.002404</td>\n",
       "    </tr>\n",
       "    <tr>\n",
       "      <th>3</th>\n",
       "      <td>1</td>\n",
       "      <td>1</td>\n",
       "      <td>0.630049</td>\n",
       "      <td>0.740741</td>\n",
       "      <td>0.500000</td>\n",
       "      <td>0.120073</td>\n",
       "      <td>0.500746</td>\n",
       "      <td>0.0</td>\n",
       "      <td>0.002404</td>\n",
       "    </tr>\n",
       "    <tr>\n",
       "      <th>4</th>\n",
       "      <td>0</td>\n",
       "      <td>1</td>\n",
       "      <td>0.630049</td>\n",
       "      <td>0.428571</td>\n",
       "      <td>0.588235</td>\n",
       "      <td>0.120073</td>\n",
       "      <td>0.500746</td>\n",
       "      <td>0.0</td>\n",
       "      <td>0.002404</td>\n",
       "    </tr>\n",
       "  </tbody>\n",
       "</table>\n",
       "</div>"
      ],
      "text/plain": [
       "   answered_correctly  prior_question_had_explanation  user_acc_mean  \\\n",
       "0                   1                               1       0.630049   \n",
       "1                   1                               1       0.630049   \n",
       "2                   0                               1       0.630049   \n",
       "3                   1                               1       0.630049   \n",
       "4                   0                               1       0.630049   \n",
       "\n",
       "   mean_content_accuracy  mean_task_accuracy  mean_timestamp_accuracy_scaled  \\\n",
       "0               0.468750            0.529412                        0.120073   \n",
       "1               0.290323            0.578947                        0.120073   \n",
       "2               0.387755            0.588235                        0.120073   \n",
       "3               0.740741            0.500000                        0.120073   \n",
       "4               0.428571            0.588235                        0.120073   \n",
       "\n",
       "   mean_priortime_accuracy_scaled  user_lectures_running_total_scaled  \\\n",
       "0                        0.500746                                 0.0   \n",
       "1                        0.500746                                 0.0   \n",
       "2                        0.500746                                 0.0   \n",
       "3                        0.500746                                 0.0   \n",
       "4                        0.500746                                 0.0   \n",
       "\n",
       "   avg_user_q_time_scaled  \n",
       "0                0.002404  \n",
       "1                0.002404  \n",
       "2                0.002404  \n",
       "3                0.002404  \n",
       "4                0.002404  "
      ]
     },
     "execution_count": 13,
     "metadata": {},
     "output_type": "execute_result"
    }
   ],
   "source": [
    "# Print the shape of the train\n",
    "print(test_s.shape)\n",
    "\n",
    "# Take a peek at the train\n",
    "test_s.head()"
   ]
  },
  {
   "cell_type": "markdown",
   "metadata": {},
   "source": [
    "# Explore"
   ]
  },
  {
   "cell_type": "code",
   "execution_count": 17,
   "metadata": {},
   "outputs": [
    {
     "name": "stdout",
     "output_type": "stream",
     "text": [
      "<class 'pandas.core.frame.DataFrame'>\n",
      "Int64Index: 403377 entries, 0 to 411516\n",
      "Data columns (total 9 columns):\n",
      " #   Column                          Non-Null Count   Dtype  \n",
      "---  ------                          --------------   -----  \n",
      " 0   answered_correctly              403377 non-null  int64  \n",
      " 1   prior_question_had_explanation  403377 non-null  int64  \n",
      " 2   user_acc_mean                   403377 non-null  float64\n",
      " 3   user_lectures_running_total     403377 non-null  int64  \n",
      " 4   avg_user_q_time                 403377 non-null  float64\n",
      " 5   mean_content_accuracy           403377 non-null  float64\n",
      " 6   mean_task_accuracy              403377 non-null  float64\n",
      " 7   mean_timestamp_accuracy         403377 non-null  float64\n",
      " 8   mean_priortime_accuracy         403377 non-null  float64\n",
      "dtypes: float64(6), int64(3)\n",
      "memory usage: 30.8 MB\n"
     ]
    }
   ],
   "source": [
    "train.info()"
   ]
  },
  {
   "cell_type": "code",
   "execution_count": 33,
   "metadata": {},
   "outputs": [
    {
     "name": "stdout",
     "output_type": "stream",
     "text": [
      "answered_correctly has 2 unique values.\n",
      "prior_question_had_explanation has 2 unique values.\n",
      "user_lectures_running_total has 249 unique values.\n"
     ]
    }
   ],
   "source": [
    "for col in train:\n",
    "    if train[col].dtypes == 'int64':\n",
    "        print(f'{col} has {train[col].nunique()} unique values.')"
   ]
  },
  {
   "cell_type": "code",
   "execution_count": 31,
   "metadata": {},
   "outputs": [
    {
     "data": {
      "image/png": "[encoded data removed]",
      "text/plain": [
       "<Figure size 432x216 with 1 Axes>"
      ]
     },
     "metadata": {
      "needs_background": "light"
     },
     "output_type": "display_data"
    },
    {
     "data": {
      "image/png": "[encoded data removed]",
      "text/plain": [
       "<Figure size 432x288 with 1 Axes>"
      ]
     },
     "metadata": {
      "needs_background": "light"
     },
     "output_type": "display_data"
    },
    {
     "data": {
      "image/png": "[encoded data removed]",
      "text/plain": [
       "<Figure size 432x288 with 1 Axes>"
      ]
     },
     "metadata": {
      "needs_background": "light"
     },
     "output_type": "display_data"
    }
   ],
   "source": [
    "# Plot data to identify outliers and distributions\n",
    "plt.figure(figsize=(6, 3))\n",
    "                 \n",
    "num_cols = train.columns[[train[col].dtype == 'int64' for col in train.columns]]\n",
    "for col in num_cols:\n",
    "    plt.hist(train[col])\n",
    "    plt.title(col)\n",
    "    plt.show()  "
   ]
  },
  {
   "cell_type": "code",
   "execution_count": 34,
   "metadata": {},
   "outputs": [
    {
     "name": "stdout",
     "output_type": "stream",
     "text": [
      "user_acc_mean has 870 unique values.\n",
      "avg_user_q_time has 1994 unique values.\n",
      "mean_content_accuracy has 1668 unique values.\n",
      "mean_task_accuracy has 1165 unique values.\n",
      "mean_timestamp_accuracy has 2000 unique values.\n",
      "mean_priortime_accuracy has 1873 unique values.\n"
     ]
    }
   ],
   "source": [
    "for col in train:\n",
    "    if train[col].dtypes == 'float64':\n",
    "        print(f'{col} has {train[col].nunique()} unique values.')"
   ]
  },
  {
   "cell_type": "code",
   "execution_count": 29,
   "metadata": {},
   "outputs": [
    {
     "data": {
      "image/png": "[encoded data removed]",
      "text/plain": [
       "<Figure size 432x216 with 1 Axes>"
      ]
     },
     "metadata": {
      "needs_background": "light"
     },
     "output_type": "display_data"
    },
    {
     "data": {
      "image/png": "[encoded data removed]",
      "text/plain": [
       "<Figure size 432x288 with 1 Axes>"
      ]
     },
     "metadata": {
      "needs_background": "light"
     },
     "output_type": "display_data"
    },
    {
     "data": {
      "image/png": "[encoded data removed]",
      "text/plain": [
       "<Figure size 432x288 with 1 Axes>"
      ]
     },
     "metadata": {
      "needs_background": "light"
     },
     "output_type": "display_data"
    },
    {
     "data": {
      "image/png": "[encoded data removed]",
      "text/plain": [
       "<Figure size 432x288 with 1 Axes>"
      ]
     },
     "metadata": {
      "needs_background": "light"
     },
     "output_type": "display_data"
    },
    {
     "data": {
      "image/png": "[encoded data removed]",
      "text/plain": [
       "<Figure size 432x288 with 1 Axes>"
      ]
     },
     "metadata": {
      "needs_background": "light"
     },
     "output_type": "display_data"
    },
    {
     "data": {
      "image/png": "[encoded data removed]",
      "text/plain": [
       "<Figure size 432x288 with 1 Axes>"
      ]
     },
     "metadata": {
      "needs_background": "light"
     },
     "output_type": "display_data"
    }
   ],
   "source": [
    "# Plot data to identify outliers and distributions\n",
    "plt.figure(figsize=(6, 3))\n",
    "                 \n",
    "num_cols = train.columns[[train[col].dtype == 'float64' for col in train.columns]]\n",
    "for col in num_cols:\n",
    "    plt.hist(train[col])\n",
    "    plt.title(col)\n",
    "    plt.show()  "
   ]
  },
  {
   "cell_type": "code",
   "execution_count": 36,
   "metadata": {},
   "outputs": [
    {
     "data": {
      "image/png": "[encoded data removed]",
      "text/plain": [
       "<Figure size 432x288 with 1 Axes>"
      ]
     },
     "metadata": {
      "needs_background": "light"
     },
     "output_type": "display_data"
    }
   ],
   "source": [
    "# User answer value count\n",
    "# Use df_train for this plot\n",
    "df_train['user_answer'].hist(color='deepskyblue') \n",
    "plt.show()"
   ]
  },
  {
   "cell_type": "code",
   "execution_count": 40,
   "metadata": {},
   "outputs": [
    {
     "data": {
      "text/plain": [
       " 0    114123\n",
       " 1    109466\n",
       " 3    105225\n",
       " 2     74563\n",
       "-1      8140\n",
       "Name: user_answer, dtype: int64"
      ]
     },
     "execution_count": 40,
     "metadata": {},
     "output_type": "execute_result"
    }
   ],
   "source": [
    "# Used df_train instead of train\n",
    "df_train.user_answer.value_counts()"
   ]
  },
  {
   "cell_type": "code",
   "execution_count": 38,
   "metadata": {},
   "outputs": [
    {
     "data": {
      "image/png": "[encoded data removed]",
      "text/plain": [
       "<Figure size 432x288 with 1 Axes>"
      ]
     },
     "metadata": {
      "needs_background": "light"
     },
     "output_type": "display_data"
    }
   ],
   "source": [
    "# Answered correctly\n",
    "# This graph includes lecture counts \n",
    "train.answered_correctly.value_counts().sort_index().plot.bar()\n",
    "answer_correctly = train.answered_correctly.mean()\n",
    "plt.title(\"Questions Answered Correctly\")\n",
    "plt.xlabel('Questions Answered')\n",
    "plt.ylabel('Count')\n",
    "plt.xticks(rotation=0) \n",
    "plt.show()"
   ]
  },
  {
   "cell_type": "code",
   "execution_count": 44,
   "metadata": {},
   "outputs": [
    {
     "ename": "NameError",
     "evalue": "name 'correct' is not defined",
     "output_type": "error",
     "traceback": [
      "\u001b[0;31m---------------------------------------------------------------------------\u001b[0m",
      "\u001b[0;31mNameError\u001b[0m                                 Traceback (most recent call last)",
      "\u001b[0;32m<ipython-input-44-a6a1a47babba>\u001b[0m in \u001b[0;36m<module>\u001b[0;34m\u001b[0m\n\u001b[1;32m      4\u001b[0m \u001b[0mfig\u001b[0m \u001b[0;34m=\u001b[0m \u001b[0mplt\u001b[0m\u001b[0;34m.\u001b[0m\u001b[0mfigure\u001b[0m\u001b[0;34m(\u001b[0m\u001b[0mfigsize\u001b[0m\u001b[0;34m=\u001b[0m\u001b[0;34m(\u001b[0m\u001b[0;36m12\u001b[0m\u001b[0;34m,\u001b[0m\u001b[0;36m4\u001b[0m\u001b[0;34m)\u001b[0m\u001b[0;34m)\u001b[0m\u001b[0;34m\u001b[0m\u001b[0;34m\u001b[0m\u001b[0m\n\u001b[1;32m      5\u001b[0m \u001b[0mall_answers\u001b[0m\u001b[0;34m.\u001b[0m\u001b[0mplot\u001b[0m\u001b[0;34m.\u001b[0m\u001b[0mbarh\u001b[0m\u001b[0;34m(\u001b[0m\u001b[0mcolor\u001b[0m\u001b[0;34m=\u001b[0m\u001b[0;34m\"deepskyblue\"\u001b[0m\u001b[0;34m)\u001b[0m\u001b[0;34m\u001b[0m\u001b[0;34m\u001b[0m\u001b[0m\n\u001b[0;32m----> 6\u001b[0;31m \u001b[0;32mfor\u001b[0m \u001b[0mi\u001b[0m\u001b[0;34m,\u001b[0m \u001b[0mv\u001b[0m \u001b[0;32min\u001b[0m \u001b[0mzip\u001b[0m\u001b[0;34m(\u001b[0m\u001b[0mcorrect\u001b[0m\u001b[0;34m.\u001b[0m\u001b[0mindex\u001b[0m\u001b[0;34m,\u001b[0m \u001b[0mcorrect\u001b[0m\u001b[0;34m.\u001b[0m\u001b[0mvalues\u001b[0m\u001b[0;34m)\u001b[0m\u001b[0;34m:\u001b[0m\u001b[0;34m\u001b[0m\u001b[0;34m\u001b[0m\u001b[0m\n\u001b[0m\u001b[1;32m      7\u001b[0m     \u001b[0mplt\u001b[0m\u001b[0;34m.\u001b[0m\u001b[0mtext\u001b[0m\u001b[0;34m(\u001b[0m\u001b[0mv\u001b[0m\u001b[0;34m,\u001b[0m \u001b[0mi\u001b[0m\u001b[0;34m,\u001b[0m \u001b[0;34m'{:,}'\u001b[0m\u001b[0;34m.\u001b[0m\u001b[0mformat\u001b[0m\u001b[0;34m(\u001b[0m\u001b[0mv\u001b[0m\u001b[0;34m)\u001b[0m\u001b[0;34m,\u001b[0m \u001b[0mcolor\u001b[0m\u001b[0;34m=\u001b[0m\u001b[0;34m'white'\u001b[0m\u001b[0;34m,\u001b[0m \u001b[0mfontweight\u001b[0m\u001b[0;34m=\u001b[0m\u001b[0;34m'bold'\u001b[0m\u001b[0;34m,\u001b[0m \u001b[0mfontsize\u001b[0m\u001b[0;34m=\u001b[0m\u001b[0;36m14\u001b[0m\u001b[0;34m,\u001b[0m \u001b[0mha\u001b[0m\u001b[0;34m=\u001b[0m\u001b[0;34m'right'\u001b[0m\u001b[0;34m,\u001b[0m \u001b[0mva\u001b[0m\u001b[0;34m=\u001b[0m\u001b[0;34m'center'\u001b[0m\u001b[0;34m)\u001b[0m\u001b[0;34m\u001b[0m\u001b[0;34m\u001b[0m\u001b[0m\n\u001b[1;32m      8\u001b[0m \u001b[0mplt\u001b[0m\u001b[0;34m.\u001b[0m\u001b[0mtitle\u001b[0m\u001b[0;34m(\u001b[0m\u001b[0;34m\"Questions Answered Correctly\"\u001b[0m\u001b[0;34m)\u001b[0m\u001b[0;34m\u001b[0m\u001b[0;34m\u001b[0m\u001b[0m\n",
      "\u001b[0;31mNameError\u001b[0m: name 'correct' is not defined"
     ]
    },
    {
     "data": {
      "image/png": "[encoded data removed]",
      "text/plain": [
       "<Figure size 864x288 with 1 Axes>"
      ]
     },
     "metadata": {
      "needs_background": "light"
     },
     "output_type": "display_data"
    }
   ],
   "source": [
    "# Answered correctly\n",
    "# Lectures removed\n",
    "all_answers = df_train[df_train.answered_correctly != -1].answered_correctly.value_counts(ascending=True)\n",
    "fig = plt.figure(figsize=(12,4))\n",
    "all_answers.plot.barh(color=\"deepskyblue\")\n",
    "for i, v in zip(correct.index, correct.values):\n",
    "    plt.text(v, i, '{:,}'.format(v), color='white', fontweight='bold', fontsize=14, ha='right', va='center')\n",
    "plt.title(\"Questions Answered Correctly\")\n",
    "plt.xticks(rotation=0)\n",
    "plt.show()"
   ]
  },
  {
   "cell_type": "code",
   "execution_count": 47,
   "metadata": {},
   "outputs": [
    {
     "data": {
      "image/png": "[encoded data removed]",
      "text/plain": [
       "<Figure size 864x432 with 1 Axes>"
      ]
     },
     "metadata": {
      "needs_background": "light"
     },
     "output_type": "display_data"
    }
   ],
   "source": [
    "# User_id vs Timestamp\n",
    "# Had to convert time from in milliseconds to months\n",
    "ts = df_train['timestamp']/(31536000000/12)\n",
    "fig = plt.figure(figsize=(12,6))\n",
    "ts.plot.hist(bins=100)\n",
    "plt.title(\"User Frequency vs Time in Months\")\n",
    "plt.xticks(rotation=0)\n",
    "plt.xlabel(\"Months Between First Event Completion and Last User Interaction\")\n",
    "plt.ylabel(\"User Frequency\")\n",
    "plt.show()"
   ]
  },
  {
   "cell_type": "code",
   "execution_count": 50,
   "metadata": {},
   "outputs": [
    {
     "name": "stdout",
     "output_type": "stream",
     "text": [
      "The most number of questions answered by a user is 10878\n"
     ]
    }
   ],
   "source": [
    "user_percent = df_train[df_train.answered_correctly != -1].groupby('user_id')['answered_correctly'].agg(Mean='mean', Answers='count')\n",
    "print(f'The most number of questions answered by a user is {user_percent.Answers.max()}')"
   ]
  },
  {
   "cell_type": "code",
   "execution_count": 51,
   "metadata": {},
   "outputs": [
    {
     "data": {
      "image/png": "[encoded data removed]",
      "text/plain": [
       "<Figure size 864x432 with 1 Axes>"
      ]
     },
     "metadata": {
      "needs_background": "light"
     },
     "output_type": "display_data"
    }
   ],
   "source": [
    "user_percent = user_percent.query('Answers <= 1000').sample(n=200, random_state=1)\n",
    "\n",
    "fig = plt.figure(figsize=(12,6))\n",
    "x = user_percent.Answers\n",
    "y = user_percent.Mean\n",
    "plt.scatter(x, y, marker='o')\n",
    "plt.title(\"Percentage of Questions Answered Correctly vs. Number of Questions Answered Per User\")\n",
    "plt.xlabel(\"Number of Questions Answered\")\n",
    "plt.ylabel(\"Percent Answered Correctly\")\n",
    "z = np.polyfit(x, y, 1)\n",
    "p = np.poly1d(z)\n",
    "plt.plot(x,p(x),\"r--\")\n",
    "\n",
    "plt.show()"
   ]
  },
  {
   "cell_type": "code",
   "execution_count": 52,
   "metadata": {},
   "outputs": [
    {
     "name": "stdout",
     "output_type": "stream",
     "text": [
      "The highest number of questions asked by content_id is 1028.\n",
      "Of 12520 content_ids, 0 content_ids had more than 25,000 questions asked.\n"
     ]
    }
   ],
   "source": [
    "content_percent = df_train[df_train.answered_correctly != -1].groupby('content_id')['answered_correctly'].agg(Mean='mean', Answers='count')\n",
    "print(f'The highest number of questions asked by content_id is {content_percent.Answers.max()}.')\n",
    "print(f'Of {len(content_percent)} content_ids, {len(content_percent[content_percent.Answers > 25000])} content_ids had more than 25,000 questions asked.')"
   ]
  },
  {
   "cell_type": "code",
   "execution_count": 53,
   "metadata": {},
   "outputs": [
    {
     "data": {
      "image/png": "[encoded data removed]",
      "text/plain": [
       "<Figure size 864x432 with 1 Axes>"
      ]
     },
     "metadata": {
      "needs_background": "light"
     },
     "output_type": "display_data"
    }
   ],
   "source": [
    "content_percent = content_percent.query('Answers <= 25000').sample(n=200, random_state=1)\n",
    "\n",
    "fig = plt.figure(figsize=(12,6))\n",
    "x = content_percent.Answers\n",
    "y = content_percent.Mean\n",
    "plt.scatter(x, y, marker='o')\n",
    "plt.title(\"Percentage of Questions Answered Correctly vs Number of Questions Answered per Content_id\")\n",
    "plt.xticks(rotation=0)\n",
    "plt.xlabel(\"Number of Questions Answered\")\n",
    "plt.ylabel(\"Percent Answered Correctly\")\n",
    "z = np.polyfit(x, y, 1)\n",
    "p = np.poly1d(z)\n",
    "plt.plot(x,p(x),\"r--\")\n",
    "\n",
    "plt.show()"
   ]
  },
  {
   "cell_type": "code",
   "execution_count": 54,
   "metadata": {},
   "outputs": [
    {
     "name": "stdout",
     "output_type": "stream",
     "text": [
      "prior_question_had_explanation\n",
      "False     41191\n",
      "True     360193\n",
      "Name: (answered_correctly, count), dtype: int64\n"
     ]
    },
    {
     "data": {
      "image/png": "[encoded data removed]",
      "text/plain": [
       "<Figure size 864x288 with 1 Axes>"
      ]
     },
     "metadata": {
      "needs_background": "light"
     },
     "output_type": "display_data"
    }
   ],
   "source": [
    "pq = df_train[df_train.answered_correctly != -1].groupby(['prior_question_had_explanation']).agg({'answered_correctly': ['mean', 'count']})\n",
    "#pq.index = pq.index.astype(str)\n",
    "print(pq.iloc[:,1])\n",
    "pq = pq.iloc[:,0]\n",
    "\n",
    "fig = plt.figure(figsize=(12,4))\n",
    "pq.plot.barh()\n",
    "# for i, v in zip(pq.index, pq.values):\n",
    "#     plt.text(v, i, round(v,2), color='white', fontweight='bold', fontsize=14, ha='right', va='center')\n",
    "plt.title(\"Answered Correctly vs Prior Question Had Explanation\")\n",
    "plt.xlabel(\"Percent answered correctly\")\n",
    "plt.ylabel(\"Prior question had explanation\")\n",
    "plt.xticks(rotation=0)\n",
    "plt.show()"
   ]
  },
  {
   "cell_type": "code",
   "execution_count": 55,
   "metadata": {},
   "outputs": [
    {
     "name": "stdout",
     "output_type": "stream",
     "text": [
      "False    1305\n",
      "True      695\n",
      "Name: Watches_lecture, dtype: int64\n"
     ]
    },
    {
     "data": {
      "image/png": "[encoded data removed]",
      "text/plain": [
       "<Figure size 864x288 with 1 Axes>"
      ]
     },
     "metadata": {
      "needs_background": "light"
     },
     "output_type": "display_data"
    }
   ],
   "source": [
    "user_lect = df_train.groupby([\"user_id\", \"answered_correctly\"]).size().unstack()\n",
    "user_lect.columns = ['Lecture', 'Wrong', 'Right']\n",
    "user_lect['Lecture'] = user_lect['Lecture'].fillna(0)\n",
    "user_lect = user_lect.astype('Int64')\n",
    "user_lect['Watches_lecture'] = np.where(user_lect.Lecture > 0, True, False)\n",
    "\n",
    "watches_l = user_lect.groupby(\"Watches_lecture\").agg({'Wrong': ['sum'], 'Right': ['sum']})\n",
    "print(user_lect.Watches_lecture.value_counts())\n",
    "\n",
    "watches_l['Percent_correct'] = watches_l.Right/(watches_l.Right + watches_l.Wrong)\n",
    "\n",
    "watches_l = watches_l.iloc[:,2]\n",
    "\n",
    "fig = plt.figure(figsize=(12,4))\n",
    "watches_l.plot.barh()\n",
    "for i, v in zip(watches_l.index, watches_l.values):\n",
    "    plt.text(v, i, round(v,2), color='white', fontweight='bold', fontsize=14, ha='right', va='center')\n",
    "\n",
    "plt.title(\"Users Watching Lectures vs Percent Correct\")\n",
    "plt.xlabel(\"Percent Correct\")\n",
    "plt.ylabel(\"User Watched at Least One Lecture\")\n",
    "plt.xticks(rotation=0)\n",
    "plt.show()"
   ]
  },
  {
   "cell_type": "code",
   "execution_count": 57,
   "metadata": {},
   "outputs": [
    {
     "data": {
      "text/html": [
       "<div>\n",
       "<style scoped>\n",
       "    .dataframe tbody tr th:only-of-type {\n",
       "        vertical-align: middle;\n",
       "    }\n",
       "\n",
       "    .dataframe tbody tr th {\n",
       "        vertical-align: top;\n",
       "    }\n",
       "\n",
       "    .dataframe thead th {\n",
       "        text-align: right;\n",
       "    }\n",
       "</style>\n",
       "<table border=\"1\" class=\"dataframe\">\n",
       "  <thead>\n",
       "    <tr style=\"text-align: right;\">\n",
       "      <th>answered_correctly</th>\n",
       "      <th>-1</th>\n",
       "      <th>0</th>\n",
       "      <th>1</th>\n",
       "      <th>All</th>\n",
       "    </tr>\n",
       "    <tr>\n",
       "      <th>user_answer</th>\n",
       "      <th></th>\n",
       "      <th></th>\n",
       "      <th></th>\n",
       "      <th></th>\n",
       "    </tr>\n",
       "  </thead>\n",
       "  <tbody>\n",
       "    <tr>\n",
       "      <th>-1</th>\n",
       "      <td>8140</td>\n",
       "      <td>0</td>\n",
       "      <td>0</td>\n",
       "      <td>8140</td>\n",
       "    </tr>\n",
       "    <tr>\n",
       "      <th>0</th>\n",
       "      <td>0</td>\n",
       "      <td>39607</td>\n",
       "      <td>74516</td>\n",
       "      <td>114123</td>\n",
       "    </tr>\n",
       "    <tr>\n",
       "      <th>1</th>\n",
       "      <td>0</td>\n",
       "      <td>39296</td>\n",
       "      <td>70170</td>\n",
       "      <td>109466</td>\n",
       "    </tr>\n",
       "    <tr>\n",
       "      <th>2</th>\n",
       "      <td>0</td>\n",
       "      <td>25069</td>\n",
       "      <td>49494</td>\n",
       "      <td>74563</td>\n",
       "    </tr>\n",
       "    <tr>\n",
       "      <th>3</th>\n",
       "      <td>0</td>\n",
       "      <td>36834</td>\n",
       "      <td>68391</td>\n",
       "      <td>105225</td>\n",
       "    </tr>\n",
       "    <tr>\n",
       "      <th>All</th>\n",
       "      <td>8140</td>\n",
       "      <td>140806</td>\n",
       "      <td>262571</td>\n",
       "      <td>411517</td>\n",
       "    </tr>\n",
       "  </tbody>\n",
       "</table>\n",
       "</div>"
      ],
      "text/plain": [
       "answered_correctly    -1       0       1     All\n",
       "user_answer                                     \n",
       "-1                  8140       0       0    8140\n",
       "0                      0   39607   74516  114123\n",
       "1                      0   39296   70170  109466\n",
       "2                      0   25069   49494   74563\n",
       "3                      0   36834   68391  105225\n",
       "All                 8140  140806  262571  411517"
      ]
     },
     "execution_count": 57,
     "metadata": {},
     "output_type": "execute_result"
    }
   ],
   "source": [
    "## Crosstab (Discrete x Discrete)\n",
    "pd.crosstab(df_train.user_answer, df_train.answered_correctly, margins=True)"
   ]
  },
  {
   "cell_type": "code",
   "execution_count": 59,
   "metadata": {},
   "outputs": [
    {
     "data": {
      "text/html": [
       "<div>\n",
       "<style scoped>\n",
       "    .dataframe tbody tr th:only-of-type {\n",
       "        vertical-align: middle;\n",
       "    }\n",
       "\n",
       "    .dataframe tbody tr th {\n",
       "        vertical-align: top;\n",
       "    }\n",
       "\n",
       "    .dataframe thead th {\n",
       "        text-align: right;\n",
       "    }\n",
       "</style>\n",
       "<table border=\"1\" class=\"dataframe\">\n",
       "  <thead>\n",
       "    <tr style=\"text-align: right;\">\n",
       "      <th></th>\n",
       "      <th>timestamp</th>\n",
       "      <th>user_id</th>\n",
       "      <th>content_id</th>\n",
       "      <th>content_type_id</th>\n",
       "      <th>task_container_id</th>\n",
       "      <th>user_answer</th>\n",
       "      <th>answered_correctly</th>\n",
       "      <th>prior_question_elapsed_time</th>\n",
       "      <th>prior_question_had_explanation</th>\n",
       "      <th>lecture_id</th>\n",
       "      <th>tag</th>\n",
       "      <th>lecture_part</th>\n",
       "      <th>type_of</th>\n",
       "      <th>question_id</th>\n",
       "      <th>bundle_id</th>\n",
       "      <th>correct_answer</th>\n",
       "      <th>question_part</th>\n",
       "      <th>tags</th>\n",
       "    </tr>\n",
       "  </thead>\n",
       "  <tbody>\n",
       "    <tr>\n",
       "      <th>0</th>\n",
       "      <td>0</td>\n",
       "      <td>1864702</td>\n",
       "      <td>5720</td>\n",
       "      <td>0</td>\n",
       "      <td>0</td>\n",
       "      <td>1</td>\n",
       "      <td>1</td>\n",
       "      <td>NaN</td>\n",
       "      <td>NaN</td>\n",
       "      <td>NaN</td>\n",
       "      <td>NaN</td>\n",
       "      <td>NaN</td>\n",
       "      <td>NaN</td>\n",
       "      <td>5720.0</td>\n",
       "      <td>5720.0</td>\n",
       "      <td>1.0</td>\n",
       "      <td>5.0</td>\n",
       "      <td>115</td>\n",
       "    </tr>\n",
       "    <tr>\n",
       "      <th>1</th>\n",
       "      <td>45951</td>\n",
       "      <td>1864702</td>\n",
       "      <td>5204</td>\n",
       "      <td>0</td>\n",
       "      <td>1</td>\n",
       "      <td>1</td>\n",
       "      <td>0</td>\n",
       "      <td>inf</td>\n",
       "      <td>False</td>\n",
       "      <td>NaN</td>\n",
       "      <td>NaN</td>\n",
       "      <td>NaN</td>\n",
       "      <td>NaN</td>\n",
       "      <td>5204.0</td>\n",
       "      <td>5204.0</td>\n",
       "      <td>3.0</td>\n",
       "      <td>5.0</td>\n",
       "      <td>173</td>\n",
       "    </tr>\n",
       "    <tr>\n",
       "      <th>2</th>\n",
       "      <td>74342</td>\n",
       "      <td>1864702</td>\n",
       "      <td>4094</td>\n",
       "      <td>0</td>\n",
       "      <td>2</td>\n",
       "      <td>1</td>\n",
       "      <td>1</td>\n",
       "      <td>43000.0</td>\n",
       "      <td>False</td>\n",
       "      <td>NaN</td>\n",
       "      <td>NaN</td>\n",
       "      <td>NaN</td>\n",
       "      <td>NaN</td>\n",
       "      <td>4094.0</td>\n",
       "      <td>4094.0</td>\n",
       "      <td>1.0</td>\n",
       "      <td>5.0</td>\n",
       "      <td>1</td>\n",
       "    </tr>\n",
       "    <tr>\n",
       "      <th>3</th>\n",
       "      <td>96778</td>\n",
       "      <td>1864702</td>\n",
       "      <td>9699</td>\n",
       "      <td>0</td>\n",
       "      <td>3</td>\n",
       "      <td>0</td>\n",
       "      <td>1</td>\n",
       "      <td>25000.0</td>\n",
       "      <td>False</td>\n",
       "      <td>NaN</td>\n",
       "      <td>NaN</td>\n",
       "      <td>NaN</td>\n",
       "      <td>NaN</td>\n",
       "      <td>9699.0</td>\n",
       "      <td>9699.0</td>\n",
       "      <td>0.0</td>\n",
       "      <td>5.0</td>\n",
       "      <td>55</td>\n",
       "    </tr>\n",
       "    <tr>\n",
       "      <th>4</th>\n",
       "      <td>132969</td>\n",
       "      <td>1864702</td>\n",
       "      <td>5889</td>\n",
       "      <td>0</td>\n",
       "      <td>4</td>\n",
       "      <td>2</td>\n",
       "      <td>0</td>\n",
       "      <td>19000.0</td>\n",
       "      <td>False</td>\n",
       "      <td>NaN</td>\n",
       "      <td>NaN</td>\n",
       "      <td>NaN</td>\n",
       "      <td>NaN</td>\n",
       "      <td>5889.0</td>\n",
       "      <td>5889.0</td>\n",
       "      <td>3.0</td>\n",
       "      <td>5.0</td>\n",
       "      <td>89</td>\n",
       "    </tr>\n",
       "  </tbody>\n",
       "</table>\n",
       "</div>"
      ],
      "text/plain": [
       "   timestamp  user_id  content_id  content_type_id  task_container_id  \\\n",
       "0          0  1864702        5720                0                  0   \n",
       "1      45951  1864702        5204                0                  1   \n",
       "2      74342  1864702        4094                0                  2   \n",
       "3      96778  1864702        9699                0                  3   \n",
       "4     132969  1864702        5889                0                  4   \n",
       "\n",
       "   user_answer  answered_correctly  prior_question_elapsed_time  \\\n",
       "0            1                   1                          NaN   \n",
       "1            1                   0                          inf   \n",
       "2            1                   1                      43000.0   \n",
       "3            0                   1                      25000.0   \n",
       "4            2                   0                      19000.0   \n",
       "\n",
       "  prior_question_had_explanation  lecture_id  tag  lecture_part type_of  \\\n",
       "0                            NaN         NaN  NaN           NaN     NaN   \n",
       "1                          False         NaN  NaN           NaN     NaN   \n",
       "2                          False         NaN  NaN           NaN     NaN   \n",
       "3                          False         NaN  NaN           NaN     NaN   \n",
       "4                          False         NaN  NaN           NaN     NaN   \n",
       "\n",
       "   question_id  bundle_id  correct_answer  question_part tags  \n",
       "0       5720.0     5720.0             1.0            5.0  115  \n",
       "1       5204.0     5204.0             3.0            5.0  173  \n",
       "2       4094.0     4094.0             1.0            5.0    1  \n",
       "3       9699.0     9699.0             0.0            5.0   55  \n",
       "4       5889.0     5889.0             3.0            5.0   89  "
      ]
     },
     "execution_count": 59,
     "metadata": {},
     "output_type": "execute_result"
    }
   ],
   "source": [
    "df_train.head()"
   ]
  },
  {
   "cell_type": "code",
   "execution_count": 60,
   "metadata": {},
   "outputs": [
    {
     "data": {
      "text/html": [
       "<div>\n",
       "<style scoped>\n",
       "    .dataframe tbody tr th:only-of-type {\n",
       "        vertical-align: middle;\n",
       "    }\n",
       "\n",
       "    .dataframe tbody tr th {\n",
       "        vertical-align: top;\n",
       "    }\n",
       "\n",
       "    .dataframe thead th {\n",
       "        text-align: right;\n",
       "    }\n",
       "</style>\n",
       "<table border=\"1\" class=\"dataframe\">\n",
       "  <thead>\n",
       "    <tr style=\"text-align: right;\">\n",
       "      <th></th>\n",
       "      <th>timestamp</th>\n",
       "      <th>user_id</th>\n",
       "      <th>content_id</th>\n",
       "      <th>content_type_id</th>\n",
       "      <th>task_container_id</th>\n",
       "      <th>user_answer</th>\n",
       "      <th>answered_correctly</th>\n",
       "      <th>prior_question_elapsed_time</th>\n",
       "      <th>prior_question_had_explanation</th>\n",
       "      <th>lecture_id</th>\n",
       "      <th>tag</th>\n",
       "      <th>lecture_part</th>\n",
       "      <th>type_of</th>\n",
       "      <th>question_id</th>\n",
       "      <th>bundle_id</th>\n",
       "      <th>correct_answer</th>\n",
       "      <th>question_part</th>\n",
       "      <th>tags</th>\n",
       "      <th>ts_in_hours</th>\n",
       "      <th>ts_in_days</th>\n",
       "    </tr>\n",
       "  </thead>\n",
       "  <tbody>\n",
       "    <tr>\n",
       "      <th>0</th>\n",
       "      <td>0</td>\n",
       "      <td>1864702</td>\n",
       "      <td>5720</td>\n",
       "      <td>0</td>\n",
       "      <td>0</td>\n",
       "      <td>1</td>\n",
       "      <td>1</td>\n",
       "      <td>NaN</td>\n",
       "      <td>NaN</td>\n",
       "      <td>NaN</td>\n",
       "      <td>NaN</td>\n",
       "      <td>NaN</td>\n",
       "      <td>NaN</td>\n",
       "      <td>5720.0</td>\n",
       "      <td>5720.0</td>\n",
       "      <td>1.0</td>\n",
       "      <td>5.0</td>\n",
       "      <td>115</td>\n",
       "      <td>0.000000</td>\n",
       "      <td>0.000000</td>\n",
       "    </tr>\n",
       "    <tr>\n",
       "      <th>1</th>\n",
       "      <td>45951</td>\n",
       "      <td>1864702</td>\n",
       "      <td>5204</td>\n",
       "      <td>0</td>\n",
       "      <td>1</td>\n",
       "      <td>1</td>\n",
       "      <td>0</td>\n",
       "      <td>inf</td>\n",
       "      <td>False</td>\n",
       "      <td>NaN</td>\n",
       "      <td>NaN</td>\n",
       "      <td>NaN</td>\n",
       "      <td>NaN</td>\n",
       "      <td>5204.0</td>\n",
       "      <td>5204.0</td>\n",
       "      <td>3.0</td>\n",
       "      <td>5.0</td>\n",
       "      <td>173</td>\n",
       "      <td>0.012764</td>\n",
       "      <td>0.000532</td>\n",
       "    </tr>\n",
       "    <tr>\n",
       "      <th>2</th>\n",
       "      <td>74342</td>\n",
       "      <td>1864702</td>\n",
       "      <td>4094</td>\n",
       "      <td>0</td>\n",
       "      <td>2</td>\n",
       "      <td>1</td>\n",
       "      <td>1</td>\n",
       "      <td>43000.0</td>\n",
       "      <td>False</td>\n",
       "      <td>NaN</td>\n",
       "      <td>NaN</td>\n",
       "      <td>NaN</td>\n",
       "      <td>NaN</td>\n",
       "      <td>4094.0</td>\n",
       "      <td>4094.0</td>\n",
       "      <td>1.0</td>\n",
       "      <td>5.0</td>\n",
       "      <td>1</td>\n",
       "      <td>0.020651</td>\n",
       "      <td>0.000860</td>\n",
       "    </tr>\n",
       "    <tr>\n",
       "      <th>3</th>\n",
       "      <td>96778</td>\n",
       "      <td>1864702</td>\n",
       "      <td>9699</td>\n",
       "      <td>0</td>\n",
       "      <td>3</td>\n",
       "      <td>0</td>\n",
       "      <td>1</td>\n",
       "      <td>25000.0</td>\n",
       "      <td>False</td>\n",
       "      <td>NaN</td>\n",
       "      <td>NaN</td>\n",
       "      <td>NaN</td>\n",
       "      <td>NaN</td>\n",
       "      <td>9699.0</td>\n",
       "      <td>9699.0</td>\n",
       "      <td>0.0</td>\n",
       "      <td>5.0</td>\n",
       "      <td>55</td>\n",
       "      <td>0.026883</td>\n",
       "      <td>0.001120</td>\n",
       "    </tr>\n",
       "    <tr>\n",
       "      <th>4</th>\n",
       "      <td>132969</td>\n",
       "      <td>1864702</td>\n",
       "      <td>5889</td>\n",
       "      <td>0</td>\n",
       "      <td>4</td>\n",
       "      <td>2</td>\n",
       "      <td>0</td>\n",
       "      <td>19000.0</td>\n",
       "      <td>False</td>\n",
       "      <td>NaN</td>\n",
       "      <td>NaN</td>\n",
       "      <td>NaN</td>\n",
       "      <td>NaN</td>\n",
       "      <td>5889.0</td>\n",
       "      <td>5889.0</td>\n",
       "      <td>3.0</td>\n",
       "      <td>5.0</td>\n",
       "      <td>89</td>\n",
       "      <td>0.036936</td>\n",
       "      <td>0.001539</td>\n",
       "    </tr>\n",
       "    <tr>\n",
       "      <th>...</th>\n",
       "      <td>...</td>\n",
       "      <td>...</td>\n",
       "      <td>...</td>\n",
       "      <td>...</td>\n",
       "      <td>...</td>\n",
       "      <td>...</td>\n",
       "      <td>...</td>\n",
       "      <td>...</td>\n",
       "      <td>...</td>\n",
       "      <td>...</td>\n",
       "      <td>...</td>\n",
       "      <td>...</td>\n",
       "      <td>...</td>\n",
       "      <td>...</td>\n",
       "      <td>...</td>\n",
       "      <td>...</td>\n",
       "      <td>...</td>\n",
       "      <td>...</td>\n",
       "      <td>...</td>\n",
       "      <td>...</td>\n",
       "    </tr>\n",
       "    <tr>\n",
       "      <th>411512</th>\n",
       "      <td>568427</td>\n",
       "      <td>2145492661</td>\n",
       "      <td>172</td>\n",
       "      <td>0</td>\n",
       "      <td>26</td>\n",
       "      <td>1</td>\n",
       "      <td>1</td>\n",
       "      <td>21000.0</td>\n",
       "      <td>False</td>\n",
       "      <td>NaN</td>\n",
       "      <td>NaN</td>\n",
       "      <td>NaN</td>\n",
       "      <td>NaN</td>\n",
       "      <td>172.0</td>\n",
       "      <td>172.0</td>\n",
       "      <td>1.0</td>\n",
       "      <td>1.0</td>\n",
       "      <td>10 164 81</td>\n",
       "      <td>0.157896</td>\n",
       "      <td>0.006579</td>\n",
       "    </tr>\n",
       "    <tr>\n",
       "      <th>411513</th>\n",
       "      <td>593283</td>\n",
       "      <td>2145492661</td>\n",
       "      <td>7898</td>\n",
       "      <td>0</td>\n",
       "      <td>27</td>\n",
       "      <td>3</td>\n",
       "      <td>0</td>\n",
       "      <td>18000.0</td>\n",
       "      <td>False</td>\n",
       "      <td>NaN</td>\n",
       "      <td>NaN</td>\n",
       "      <td>NaN</td>\n",
       "      <td>NaN</td>\n",
       "      <td>7898.0</td>\n",
       "      <td>7898.0</td>\n",
       "      <td>2.0</td>\n",
       "      <td>1.0</td>\n",
       "      <td>131 99 29</td>\n",
       "      <td>0.164801</td>\n",
       "      <td>0.006867</td>\n",
       "    </tr>\n",
       "    <tr>\n",
       "      <th>411514</th>\n",
       "      <td>614284</td>\n",
       "      <td>2145492661</td>\n",
       "      <td>175</td>\n",
       "      <td>0</td>\n",
       "      <td>28</td>\n",
       "      <td>0</td>\n",
       "      <td>0</td>\n",
       "      <td>22000.0</td>\n",
       "      <td>False</td>\n",
       "      <td>NaN</td>\n",
       "      <td>NaN</td>\n",
       "      <td>NaN</td>\n",
       "      <td>NaN</td>\n",
       "      <td>175.0</td>\n",
       "      <td>175.0</td>\n",
       "      <td>2.0</td>\n",
       "      <td>1.0</td>\n",
       "      <td>9 10 92</td>\n",
       "      <td>0.170634</td>\n",
       "      <td>0.007110</td>\n",
       "    </tr>\n",
       "    <tr>\n",
       "      <th>411515</th>\n",
       "      <td>632206</td>\n",
       "      <td>2145492661</td>\n",
       "      <td>100</td>\n",
       "      <td>0</td>\n",
       "      <td>29</td>\n",
       "      <td>2</td>\n",
       "      <td>0</td>\n",
       "      <td>18000.0</td>\n",
       "      <td>False</td>\n",
       "      <td>100.0</td>\n",
       "      <td>70.0</td>\n",
       "      <td>1.0</td>\n",
       "      <td>concept</td>\n",
       "      <td>100.0</td>\n",
       "      <td>100.0</td>\n",
       "      <td>0.0</td>\n",
       "      <td>1.0</td>\n",
       "      <td>131 5 81</td>\n",
       "      <td>0.175613</td>\n",
       "      <td>0.007317</td>\n",
       "    </tr>\n",
       "    <tr>\n",
       "      <th>411516</th>\n",
       "      <td>658101</td>\n",
       "      <td>2145492661</td>\n",
       "      <td>7859</td>\n",
       "      <td>0</td>\n",
       "      <td>30</td>\n",
       "      <td>1</td>\n",
       "      <td>1</td>\n",
       "      <td>16000.0</td>\n",
       "      <td>False</td>\n",
       "      <td>NaN</td>\n",
       "      <td>NaN</td>\n",
       "      <td>NaN</td>\n",
       "      <td>NaN</td>\n",
       "      <td>7859.0</td>\n",
       "      <td>7859.0</td>\n",
       "      <td>1.0</td>\n",
       "      <td>1.0</td>\n",
       "      <td>131 5 92</td>\n",
       "      <td>0.182806</td>\n",
       "      <td>0.007617</td>\n",
       "    </tr>\n",
       "  </tbody>\n",
       "</table>\n",
       "<p>411517 rows × 20 columns</p>\n",
       "</div>"
      ],
      "text/plain": [
       "        timestamp     user_id  content_id  content_type_id  task_container_id  \\\n",
       "0               0     1864702        5720                0                  0   \n",
       "1           45951     1864702        5204                0                  1   \n",
       "2           74342     1864702        4094                0                  2   \n",
       "3           96778     1864702        9699                0                  3   \n",
       "4          132969     1864702        5889                0                  4   \n",
       "...           ...         ...         ...              ...                ...   \n",
       "411512     568427  2145492661         172                0                 26   \n",
       "411513     593283  2145492661        7898                0                 27   \n",
       "411514     614284  2145492661         175                0                 28   \n",
       "411515     632206  2145492661         100                0                 29   \n",
       "411516     658101  2145492661        7859                0                 30   \n",
       "\n",
       "        user_answer  answered_correctly  prior_question_elapsed_time  \\\n",
       "0                 1                   1                          NaN   \n",
       "1                 1                   0                          inf   \n",
       "2                 1                   1                      43000.0   \n",
       "3                 0                   1                      25000.0   \n",
       "4                 2                   0                      19000.0   \n",
       "...             ...                 ...                          ...   \n",
       "411512            1                   1                      21000.0   \n",
       "411513            3                   0                      18000.0   \n",
       "411514            0                   0                      22000.0   \n",
       "411515            2                   0                      18000.0   \n",
       "411516            1                   1                      16000.0   \n",
       "\n",
       "       prior_question_had_explanation  lecture_id   tag  lecture_part  \\\n",
       "0                                 NaN         NaN   NaN           NaN   \n",
       "1                               False         NaN   NaN           NaN   \n",
       "2                               False         NaN   NaN           NaN   \n",
       "3                               False         NaN   NaN           NaN   \n",
       "4                               False         NaN   NaN           NaN   \n",
       "...                               ...         ...   ...           ...   \n",
       "411512                          False         NaN   NaN           NaN   \n",
       "411513                          False         NaN   NaN           NaN   \n",
       "411514                          False         NaN   NaN           NaN   \n",
       "411515                          False       100.0  70.0           1.0   \n",
       "411516                          False         NaN   NaN           NaN   \n",
       "\n",
       "        type_of  question_id  bundle_id  correct_answer  question_part  \\\n",
       "0           NaN       5720.0     5720.0             1.0            5.0   \n",
       "1           NaN       5204.0     5204.0             3.0            5.0   \n",
       "2           NaN       4094.0     4094.0             1.0            5.0   \n",
       "3           NaN       9699.0     9699.0             0.0            5.0   \n",
       "4           NaN       5889.0     5889.0             3.0            5.0   \n",
       "...         ...          ...        ...             ...            ...   \n",
       "411512      NaN        172.0      172.0             1.0            1.0   \n",
       "411513      NaN       7898.0     7898.0             2.0            1.0   \n",
       "411514      NaN        175.0      175.0             2.0            1.0   \n",
       "411515  concept        100.0      100.0             0.0            1.0   \n",
       "411516      NaN       7859.0     7859.0             1.0            1.0   \n",
       "\n",
       "             tags  ts_in_hours  ts_in_days  \n",
       "0             115     0.000000    0.000000  \n",
       "1             173     0.012764    0.000532  \n",
       "2               1     0.020651    0.000860  \n",
       "3              55     0.026883    0.001120  \n",
       "4              89     0.036936    0.001539  \n",
       "...           ...          ...         ...  \n",
       "411512  10 164 81     0.157896    0.006579  \n",
       "411513  131 99 29     0.164801    0.006867  \n",
       "411514    9 10 92     0.170634    0.007110  \n",
       "411515   131 5 81     0.175613    0.007317  \n",
       "411516   131 5 92     0.182806    0.007617  \n",
       "\n",
       "[411517 rows x 20 columns]"
      ]
     },
     "execution_count": 60,
     "metadata": {},
     "output_type": "execute_result"
    }
   ],
   "source": [
    "# There 3600000 ms in an hour\n",
    "df_train['ts_in_hours'] = df_train['timestamp']/(3600000)\n",
    "\n",
    "# There 86400000 ms in an hour\n",
    "df_train['ts_in_days'] = df_train['timestamp']/(86400000)\n",
    "\n",
    "df_train "
   ]
  },
  {
   "cell_type": "code",
   "execution_count": 61,
   "metadata": {},
   "outputs": [
    {
     "data": {
      "text/html": [
       "<div>\n",
       "<style scoped>\n",
       "    .dataframe tbody tr th:only-of-type {\n",
       "        vertical-align: middle;\n",
       "    }\n",
       "\n",
       "    .dataframe tbody tr th {\n",
       "        vertical-align: top;\n",
       "    }\n",
       "\n",
       "    .dataframe thead th {\n",
       "        text-align: right;\n",
       "    }\n",
       "</style>\n",
       "<table border=\"1\" class=\"dataframe\">\n",
       "  <thead>\n",
       "    <tr style=\"text-align: right;\">\n",
       "      <th></th>\n",
       "      <th>timestamp</th>\n",
       "      <th>user_id</th>\n",
       "      <th>content_id</th>\n",
       "      <th>content_type_id</th>\n",
       "      <th>task_container_id</th>\n",
       "      <th>user_answer</th>\n",
       "      <th>answered_correctly</th>\n",
       "      <th>prior_question_elapsed_time</th>\n",
       "      <th>lecture_id</th>\n",
       "      <th>tag</th>\n",
       "      <th>lecture_part</th>\n",
       "      <th>question_id</th>\n",
       "      <th>bundle_id</th>\n",
       "      <th>correct_answer</th>\n",
       "      <th>question_part</th>\n",
       "      <th>ts_in_hours</th>\n",
       "      <th>ts_in_days</th>\n",
       "    </tr>\n",
       "  </thead>\n",
       "  <tbody>\n",
       "    <tr>\n",
       "      <th>count</th>\n",
       "      <td>4.115170e+05</td>\n",
       "      <td>4.115170e+05</td>\n",
       "      <td>411517.000000</td>\n",
       "      <td>411517.000000</td>\n",
       "      <td>411517.000000</td>\n",
       "      <td>411517.000000</td>\n",
       "      <td>411517.000000</td>\n",
       "      <td>401384.0</td>\n",
       "      <td>13501.000000</td>\n",
       "      <td>13501.000000</td>\n",
       "      <td>13501.000000</td>\n",
       "      <td>406579.000000</td>\n",
       "      <td>406579.000000</td>\n",
       "      <td>406579.000000</td>\n",
       "      <td>406579.000000</td>\n",
       "      <td>411517.000000</td>\n",
       "      <td>411517.000000</td>\n",
       "    </tr>\n",
       "    <tr>\n",
       "      <th>mean</th>\n",
       "      <td>5.868159e+09</td>\n",
       "      <td>1.083021e+09</td>\n",
       "      <td>5142.540636</td>\n",
       "      <td>0.019780</td>\n",
       "      <td>775.541343</td>\n",
       "      <td>1.375707</td>\n",
       "      <td>0.618276</td>\n",
       "      <td>inf</td>\n",
       "      <td>12270.451300</td>\n",
       "      <td>7.888897</td>\n",
       "      <td>4.194504</td>\n",
       "      <td>4923.058065</td>\n",
       "      <td>4922.630239</td>\n",
       "      <td>1.439415</td>\n",
       "      <td>4.084724</td>\n",
       "      <td>1630.044174</td>\n",
       "      <td>67.918507</td>\n",
       "    </tr>\n",
       "    <tr>\n",
       "      <th>std</th>\n",
       "      <td>9.156527e+09</td>\n",
       "      <td>6.700516e+08</td>\n",
       "      <td>3810.084394</td>\n",
       "      <td>0.139245</td>\n",
       "      <td>1240.923367</td>\n",
       "      <td>1.191337</td>\n",
       "      <td>0.524950</td>\n",
       "      <td>NaN</td>\n",
       "      <td>9500.166623</td>\n",
       "      <td>80.663944</td>\n",
       "      <td>1.839912</td>\n",
       "      <td>3204.849006</td>\n",
       "      <td>3204.749562</td>\n",
       "      <td>1.151768</td>\n",
       "      <td>1.671508</td>\n",
       "      <td>2543.479759</td>\n",
       "      <td>105.978323</td>\n",
       "    </tr>\n",
       "    <tr>\n",
       "      <th>min</th>\n",
       "      <td>0.000000e+00</td>\n",
       "      <td>1.864702e+06</td>\n",
       "      <td>0.000000</td>\n",
       "      <td>0.000000</td>\n",
       "      <td>0.000000</td>\n",
       "      <td>-1.000000</td>\n",
       "      <td>-1.000000</td>\n",
       "      <td>0.0</td>\n",
       "      <td>89.000000</td>\n",
       "      <td>-128.000000</td>\n",
       "      <td>1.000000</td>\n",
       "      <td>0.000000</td>\n",
       "      <td>0.000000</td>\n",
       "      <td>0.000000</td>\n",
       "      <td>1.000000</td>\n",
       "      <td>0.000000</td>\n",
       "      <td>0.000000</td>\n",
       "    </tr>\n",
       "    <tr>\n",
       "      <th>25%</th>\n",
       "      <td>3.612504e+08</td>\n",
       "      <td>4.844761e+08</td>\n",
       "      <td>2065.000000</td>\n",
       "      <td>0.000000</td>\n",
       "      <td>83.000000</td>\n",
       "      <td>0.000000</td>\n",
       "      <td>0.000000</td>\n",
       "      <td>16000.0</td>\n",
       "      <td>4187.000000</td>\n",
       "      <td>-85.000000</td>\n",
       "      <td>2.000000</td>\n",
       "      <td>2064.000000</td>\n",
       "      <td>2063.000000</td>\n",
       "      <td>0.000000</td>\n",
       "      <td>2.000000</td>\n",
       "      <td>100.347332</td>\n",
       "      <td>4.181139</td>\n",
       "    </tr>\n",
       "    <tr>\n",
       "      <th>50%</th>\n",
       "      <td>1.776387e+09</td>\n",
       "      <td>1.059277e+09</td>\n",
       "      <td>4982.000000</td>\n",
       "      <td>0.000000</td>\n",
       "      <td>300.000000</td>\n",
       "      <td>1.000000</td>\n",
       "      <td>1.000000</td>\n",
       "      <td>21000.0</td>\n",
       "      <td>9896.000000</td>\n",
       "      <td>33.000000</td>\n",
       "      <td>5.000000</td>\n",
       "      <td>4851.000000</td>\n",
       "      <td>4851.000000</td>\n",
       "      <td>1.000000</td>\n",
       "      <td>5.000000</td>\n",
       "      <td>493.440732</td>\n",
       "      <td>20.560031</td>\n",
       "    </tr>\n",
       "    <tr>\n",
       "      <th>75%</th>\n",
       "      <td>7.594605e+09</td>\n",
       "      <td>1.685634e+09</td>\n",
       "      <td>7216.000000</td>\n",
       "      <td>0.000000</td>\n",
       "      <td>896.000000</td>\n",
       "      <td>3.000000</td>\n",
       "      <td>1.000000</td>\n",
       "      <td>30000.0</td>\n",
       "      <td>19223.000000</td>\n",
       "      <td>71.000000</td>\n",
       "      <td>5.000000</td>\n",
       "      <td>6980.000000</td>\n",
       "      <td>6976.000000</td>\n",
       "      <td>3.000000</td>\n",
       "      <td>5.000000</td>\n",
       "      <td>2109.612507</td>\n",
       "      <td>87.900521</td>\n",
       "    </tr>\n",
       "    <tr>\n",
       "      <th>max</th>\n",
       "      <td>6.212613e+10</td>\n",
       "      <td>2.145493e+09</td>\n",
       "      <td>32736.000000</td>\n",
       "      <td>1.000000</td>\n",
       "      <td>9176.000000</td>\n",
       "      <td>3.000000</td>\n",
       "      <td>1.000000</td>\n",
       "      <td>inf</td>\n",
       "      <td>32736.000000</td>\n",
       "      <td>127.000000</td>\n",
       "      <td>7.000000</td>\n",
       "      <td>13522.000000</td>\n",
       "      <td>13522.000000</td>\n",
       "      <td>3.000000</td>\n",
       "      <td>7.000000</td>\n",
       "      <td>17257.259648</td>\n",
       "      <td>719.052485</td>\n",
       "    </tr>\n",
       "  </tbody>\n",
       "</table>\n",
       "</div>"
      ],
      "text/plain": [
       "          timestamp       user_id     content_id  content_type_id  \\\n",
       "count  4.115170e+05  4.115170e+05  411517.000000    411517.000000   \n",
       "mean   5.868159e+09  1.083021e+09    5142.540636         0.019780   \n",
       "std    9.156527e+09  6.700516e+08    3810.084394         0.139245   \n",
       "min    0.000000e+00  1.864702e+06       0.000000         0.000000   \n",
       "25%    3.612504e+08  4.844761e+08    2065.000000         0.000000   \n",
       "50%    1.776387e+09  1.059277e+09    4982.000000         0.000000   \n",
       "75%    7.594605e+09  1.685634e+09    7216.000000         0.000000   \n",
       "max    6.212613e+10  2.145493e+09   32736.000000         1.000000   \n",
       "\n",
       "       task_container_id    user_answer  answered_correctly  \\\n",
       "count      411517.000000  411517.000000       411517.000000   \n",
       "mean          775.541343       1.375707            0.618276   \n",
       "std          1240.923367       1.191337            0.524950   \n",
       "min             0.000000      -1.000000           -1.000000   \n",
       "25%            83.000000       0.000000            0.000000   \n",
       "50%           300.000000       1.000000            1.000000   \n",
       "75%           896.000000       3.000000            1.000000   \n",
       "max          9176.000000       3.000000            1.000000   \n",
       "\n",
       "       prior_question_elapsed_time    lecture_id           tag  lecture_part  \\\n",
       "count                     401384.0  13501.000000  13501.000000  13501.000000   \n",
       "mean                           inf  12270.451300      7.888897      4.194504   \n",
       "std                            NaN   9500.166623     80.663944      1.839912   \n",
       "min                            0.0     89.000000   -128.000000      1.000000   \n",
       "25%                        16000.0   4187.000000    -85.000000      2.000000   \n",
       "50%                        21000.0   9896.000000     33.000000      5.000000   \n",
       "75%                        30000.0  19223.000000     71.000000      5.000000   \n",
       "max                            inf  32736.000000    127.000000      7.000000   \n",
       "\n",
       "         question_id      bundle_id  correct_answer  question_part  \\\n",
       "count  406579.000000  406579.000000   406579.000000  406579.000000   \n",
       "mean     4923.058065    4922.630239        1.439415       4.084724   \n",
       "std      3204.849006    3204.749562        1.151768       1.671508   \n",
       "min         0.000000       0.000000        0.000000       1.000000   \n",
       "25%      2064.000000    2063.000000        0.000000       2.000000   \n",
       "50%      4851.000000    4851.000000        1.000000       5.000000   \n",
       "75%      6980.000000    6976.000000        3.000000       5.000000   \n",
       "max     13522.000000   13522.000000        3.000000       7.000000   \n",
       "\n",
       "         ts_in_hours     ts_in_days  \n",
       "count  411517.000000  411517.000000  \n",
       "mean     1630.044174      67.918507  \n",
       "std      2543.479759     105.978323  \n",
       "min         0.000000       0.000000  \n",
       "25%       100.347332       4.181139  \n",
       "50%       493.440732      20.560031  \n",
       "75%      2109.612507      87.900521  \n",
       "max     17257.259648     719.052485  "
      ]
     },
     "execution_count": 61,
     "metadata": {},
     "output_type": "execute_result"
    }
   ],
   "source": [
    "df_train.describe()"
   ]
  },
  {
   "cell_type": "code",
   "execution_count": 62,
   "metadata": {},
   "outputs": [
    {
     "data": {
      "text/plain": [
       "0    102880\n",
       "3    102879\n",
       "2    102879\n",
       "1    102879\n",
       "Name: quantiles, dtype: int64"
      ]
     },
     "execution_count": 62,
     "metadata": {},
     "output_type": "execute_result"
    }
   ],
   "source": [
    "df_train['quantiles'] = pd.qcut(df_train['ts_in_days'],\n",
    "                            q=[0,.25,.5,.75,1],\n",
    "                            labels=False,\n",
    "                            precision=0)\n",
    "df_train.quantiles.value_counts()"
   ]
  },
  {
   "cell_type": "code",
   "execution_count": 63,
   "metadata": {},
   "outputs": [],
   "source": [
    "swarm_df = df_train.sample(frac=.001, replace=False, random_state=123)"
   ]
  },
  {
   "cell_type": "code",
   "execution_count": 64,
   "metadata": {},
   "outputs": [
    {
     "data": {
      "text/plain": [
       "<matplotlib.legend.Legend at 0x1a227dc450>"
      ]
     },
     "execution_count": 64,
     "metadata": {},
     "output_type": "execute_result"
    },
    {
     "data": {
      "image/png": "[encoded data removed]",
      "text/plain": [
       "<Figure size 432x288 with 1 Axes>"
      ]
     },
     "metadata": {
      "needs_background": "light"
     },
     "output_type": "display_data"
    }
   ],
   "source": [
    "sns.swarmplot(x=\"answered_correctly\", y=\"user_id\", data=swarm_df, hue=\"user_answer\", palette=\"Set2\")\n",
    "plt.legend()"
   ]
  },
  {
   "cell_type": "code",
   "execution_count": null,
   "metadata": {},
   "outputs": [],
   "source": [
    "# Rates feature importance \n",
    "import lightgbm as lgb\n",
    "model = lgb.df(\n",
    "                    {'objective': 'binary'}, \n",
    "                    lgb_train,\n",
    "                    valid_sets=[lgb_train, lgb_valid],\n",
    "                    verbose_eval=100,\n",
    "                    num_boost_round=10000,\n",
    "                    early_stopping_rounds=10\n",
    "                )\n",
    "print('auc:', roc_auc_score(y_va, model.predict(valid[FEATS])))\n",
    "_ = lgb.plot_importance(model)"
   ]
  },
  {
   "cell_type": "markdown",
   "metadata": {},
   "source": [
    "From SelectKBest (need plots)\n",
    "- 'prior_question_had_explanation'\n",
    "- 'user_acc_mean'\n",
    "- 'mean_content_accuracy'\n",
    "- 'mean_task_accuracy'\n",
    "- 'mean_priortime_accuracy_scaled'"
   ]
  },
  {
   "cell_type": "markdown",
   "metadata": {},
   "source": [
    "RFE ranker top 5 \n",
    "- mean_content_accuracy\n",
    "- user_acc_mean\n",
    "- mean_task_accuracy\n",
    "- avg_user_q_time_scaled\n",
    "- prior_question_had_explanation"
   ]
  },
  {
   "cell_type": "markdown",
   "metadata": {},
   "source": [
    "# Feature Engineering"
   ]
  },
  {
   "cell_type": "markdown",
   "metadata": {},
   "source": [
    "# Modeling"
   ]
  },
  {
   "cell_type": "markdown",
   "metadata": {},
   "source": [
    "# Conclusions"
   ]
  },
  {
   "cell_type": "code",
   "execution_count": null,
   "metadata": {},
   "outputs": [],
   "source": []
  },
  {
   "cell_type": "markdown",
   "metadata": {},
   "source": [
    "### Future Investigations"
   ]
  },
  {
   "cell_type": "code",
   "execution_count": null,
   "metadata": {},
   "outputs": [],
   "source": []
  },
  {
   "cell_type": "markdown",
   "metadata": {},
   "source": [
    "### Resources"
   ]
  },
  {
   "cell_type": "markdown",
   "metadata": {},
   "source": [
    "- https://www.kaggle.com/c/riiid-test-answer-prediction/overview/description\n",
    "- https://www.kaggle.com/isaienkov/riiid-answer-correctness-prediction-eda-modeling"
   ]
  },
  {
   "cell_type": "markdown",
   "metadata": {},
   "source": [
    "### Contact Us"
   ]
  },
  {
   "cell_type": "markdown",
   "metadata": {},
   "source": [
    "Dani Bojado\n",
    "- daniella.bojado@gmail.com \n",
    "\n",
    "Samuel Davila\n",
    "- samuelrdavila@gmail.com\n",
    "\n",
    "Yongliang Shi\n",
    "- yongliang.michael.shi@gmail.com\n",
    "\n",
    "Christopher Logan Ortiz\n",
    "- christopher.logan.ortiz@gmail.com"
   ]
  }
 ],
 "metadata": {
  "kernelspec": {
   "display_name": "Python 3",
   "language": "python",
   "name": "python3"
  },
  "language_info": {
   "codemirror_mode": {
    "name": "ipython",
    "version": 3
   },
   "file_extension": ".py",
   "mimetype": "text/x-python",
   "name": "python",
   "nbconvert_exporter": "python",
   "pygments_lexer": "ipython3",
   "version": "3.7.6"
  }
 },
 "nbformat": 4,
 "nbformat_minor": 4
}
