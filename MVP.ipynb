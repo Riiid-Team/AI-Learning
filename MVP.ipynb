{
 "cells": [
  {
   "cell_type": "markdown",
   "metadata": {},
   "source": [
    "# Riiid Project: Minimally Viable Product (MVP)"
   ]
  },
  {
   "cell_type": "markdown",
   "metadata": {},
   "source": [
    "## About the Project"
   ]
  },
  {
   "cell_type": "markdown",
   "metadata": {},
   "source": [
    "- Build a better and more equitable model for education in a post-COVID-19 world."
   ]
  },
  {
   "cell_type": "markdown",
   "metadata": {},
   "source": [
    "## Goals"
   ]
  },
  {
   "cell_type": "markdown",
   "metadata": {},
   "source": [
    "- Create algorithms for \"Knowledge Tracing,\" the modeling of student knowledge over time. \n",
    "- Accurately predict how students will perform on future interactions. "
   ]
  },
  {
   "cell_type": "markdown",
   "metadata": {},
   "source": [
    "# Imports"
   ]
  },
  {
   "cell_type": "code",
   "execution_count": 1,
   "metadata": {},
   "outputs": [],
   "source": [
    "# General Imports \n",
    "import pandas as pd\n",
    "import numpy as np\n",
    "import matplotlib.pyplot as plt\n",
    "import seaborn as sns\n",
    "from scipy import stats\n",
    "%matplotlib inline\n",
    "\n",
    "# Train Validate Test\n",
    "from sklearn.model_selection import train_test_split\n",
    "\n",
    "# Modeling Imports\n",
    "from sklearn.cluster import KMeans\n",
    "\n",
    "# Acquire and Prepare Files\n",
    "import acquire\n",
    "from prepare import prep_riiid\n",
    "\n",
    "from sklearn.preprocessing import MinMaxScaler\n",
    "\n",
    "# Warnings \n",
    "import warnings\n",
    "warnings.filterwarnings(\"ignore\")"
   ]
  },
  {
   "cell_type": "markdown",
   "metadata": {},
   "source": [
    "# Acquire"
   ]
  },
  {
   "cell_type": "code",
   "execution_count": 2,
   "metadata": {},
   "outputs": [
    {
     "data": {
      "text/plain": [
       "((411517, 18), (50842, 18), (52868, 18))"
      ]
     },
     "execution_count": 2,
     "metadata": {},
     "output_type": "execute_result"
    }
   ],
   "source": [
    "df_train = pd.read_csv('train.csv')\n",
    "df_validate = pd.read_csv('validate.csv')\n",
    "df_test = pd.read_csv('test.csv')\n",
    "\n",
    "df_train.shape, df_validate.shape, df_test.shape"
   ]
  },
  {
   "cell_type": "code",
   "execution_count": 3,
   "metadata": {},
   "outputs": [
    {
     "data": {
      "text/html": [
       "<div>\n",
       "<style scoped>\n",
       "    .dataframe tbody tr th:only-of-type {\n",
       "        vertical-align: middle;\n",
       "    }\n",
       "\n",
       "    .dataframe tbody tr th {\n",
       "        vertical-align: top;\n",
       "    }\n",
       "\n",
       "    .dataframe thead th {\n",
       "        text-align: right;\n",
       "    }\n",
       "</style>\n",
       "<table border=\"1\" class=\"dataframe\">\n",
       "  <thead>\n",
       "    <tr style=\"text-align: right;\">\n",
       "      <th></th>\n",
       "      <th>timestamp</th>\n",
       "      <th>user_id</th>\n",
       "      <th>content_id</th>\n",
       "      <th>content_type_id</th>\n",
       "      <th>task_container_id</th>\n",
       "      <th>user_answer</th>\n",
       "      <th>answered_correctly</th>\n",
       "      <th>prior_question_elapsed_time</th>\n",
       "      <th>prior_question_had_explanation</th>\n",
       "      <th>lecture_id</th>\n",
       "      <th>tag</th>\n",
       "      <th>lecture_part</th>\n",
       "      <th>type_of</th>\n",
       "      <th>question_id</th>\n",
       "      <th>bundle_id</th>\n",
       "      <th>correct_answer</th>\n",
       "      <th>question_part</th>\n",
       "      <th>tags</th>\n",
       "    </tr>\n",
       "  </thead>\n",
       "  <tbody>\n",
       "    <tr>\n",
       "      <th>0</th>\n",
       "      <td>0</td>\n",
       "      <td>1864702</td>\n",
       "      <td>5720</td>\n",
       "      <td>0</td>\n",
       "      <td>0</td>\n",
       "      <td>1</td>\n",
       "      <td>1</td>\n",
       "      <td>NaN</td>\n",
       "      <td>NaN</td>\n",
       "      <td>NaN</td>\n",
       "      <td>NaN</td>\n",
       "      <td>NaN</td>\n",
       "      <td>NaN</td>\n",
       "      <td>5720.0</td>\n",
       "      <td>5720.0</td>\n",
       "      <td>1.0</td>\n",
       "      <td>5.0</td>\n",
       "      <td>115</td>\n",
       "    </tr>\n",
       "    <tr>\n",
       "      <th>1</th>\n",
       "      <td>45951</td>\n",
       "      <td>1864702</td>\n",
       "      <td>5204</td>\n",
       "      <td>0</td>\n",
       "      <td>1</td>\n",
       "      <td>1</td>\n",
       "      <td>0</td>\n",
       "      <td>inf</td>\n",
       "      <td>False</td>\n",
       "      <td>NaN</td>\n",
       "      <td>NaN</td>\n",
       "      <td>NaN</td>\n",
       "      <td>NaN</td>\n",
       "      <td>5204.0</td>\n",
       "      <td>5204.0</td>\n",
       "      <td>3.0</td>\n",
       "      <td>5.0</td>\n",
       "      <td>173</td>\n",
       "    </tr>\n",
       "  </tbody>\n",
       "</table>\n",
       "</div>"
      ],
      "text/plain": [
       "   timestamp  user_id  content_id  content_type_id  task_container_id  \\\n",
       "0          0  1864702        5720                0                  0   \n",
       "1      45951  1864702        5204                0                  1   \n",
       "\n",
       "   user_answer  answered_correctly  prior_question_elapsed_time  \\\n",
       "0            1                   1                          NaN   \n",
       "1            1                   0                          inf   \n",
       "\n",
       "  prior_question_had_explanation  lecture_id  tag  lecture_part type_of  \\\n",
       "0                            NaN         NaN  NaN           NaN     NaN   \n",
       "1                          False         NaN  NaN           NaN     NaN   \n",
       "\n",
       "   question_id  bundle_id  correct_answer  question_part tags  \n",
       "0       5720.0     5720.0             1.0            5.0  115  \n",
       "1       5204.0     5204.0             3.0            5.0  173  "
      ]
     },
     "execution_count": 3,
     "metadata": {},
     "output_type": "execute_result"
    }
   ],
   "source": [
    "# Train Data\n",
    "df_train.head(2)"
   ]
  },
  {
   "cell_type": "code",
   "execution_count": 4,
   "metadata": {},
   "outputs": [
    {
     "data": {
      "text/html": [
       "<div>\n",
       "<style scoped>\n",
       "    .dataframe tbody tr th:only-of-type {\n",
       "        vertical-align: middle;\n",
       "    }\n",
       "\n",
       "    .dataframe tbody tr th {\n",
       "        vertical-align: top;\n",
       "    }\n",
       "\n",
       "    .dataframe thead th {\n",
       "        text-align: right;\n",
       "    }\n",
       "</style>\n",
       "<table border=\"1\" class=\"dataframe\">\n",
       "  <thead>\n",
       "    <tr style=\"text-align: right;\">\n",
       "      <th></th>\n",
       "      <th>timestamp</th>\n",
       "      <th>user_id</th>\n",
       "      <th>content_id</th>\n",
       "      <th>content_type_id</th>\n",
       "      <th>task_container_id</th>\n",
       "      <th>user_answer</th>\n",
       "      <th>answered_correctly</th>\n",
       "      <th>prior_question_elapsed_time</th>\n",
       "      <th>prior_question_had_explanation</th>\n",
       "      <th>lecture_id</th>\n",
       "      <th>tag</th>\n",
       "      <th>lecture_part</th>\n",
       "      <th>type_of</th>\n",
       "      <th>question_id</th>\n",
       "      <th>bundle_id</th>\n",
       "      <th>correct_answer</th>\n",
       "      <th>question_part</th>\n",
       "      <th>tags</th>\n",
       "    </tr>\n",
       "  </thead>\n",
       "  <tbody>\n",
       "    <tr>\n",
       "      <th>0</th>\n",
       "      <td>15625124241</td>\n",
       "      <td>1864702</td>\n",
       "      <td>3209</td>\n",
       "      <td>0</td>\n",
       "      <td>2152</td>\n",
       "      <td>3</td>\n",
       "      <td>1</td>\n",
       "      <td>34660.0</td>\n",
       "      <td>True</td>\n",
       "      <td>NaN</td>\n",
       "      <td>NaN</td>\n",
       "      <td>NaN</td>\n",
       "      <td>NaN</td>\n",
       "      <td>3209.0</td>\n",
       "      <td>3207.0</td>\n",
       "      <td>3.0</td>\n",
       "      <td>4.0</td>\n",
       "      <td>157 169 162 38</td>\n",
       "    </tr>\n",
       "    <tr>\n",
       "      <th>1</th>\n",
       "      <td>15625124241</td>\n",
       "      <td>1864702</td>\n",
       "      <td>3208</td>\n",
       "      <td>0</td>\n",
       "      <td>2152</td>\n",
       "      <td>3</td>\n",
       "      <td>1</td>\n",
       "      <td>34660.0</td>\n",
       "      <td>True</td>\n",
       "      <td>NaN</td>\n",
       "      <td>NaN</td>\n",
       "      <td>NaN</td>\n",
       "      <td>NaN</td>\n",
       "      <td>3208.0</td>\n",
       "      <td>3207.0</td>\n",
       "      <td>3.0</td>\n",
       "      <td>4.0</td>\n",
       "      <td>113 169 162 38</td>\n",
       "    </tr>\n",
       "  </tbody>\n",
       "</table>\n",
       "</div>"
      ],
      "text/plain": [
       "     timestamp  user_id  content_id  content_type_id  task_container_id  \\\n",
       "0  15625124241  1864702        3209                0               2152   \n",
       "1  15625124241  1864702        3208                0               2152   \n",
       "\n",
       "   user_answer  answered_correctly  prior_question_elapsed_time  \\\n",
       "0            3                   1                      34660.0   \n",
       "1            3                   1                      34660.0   \n",
       "\n",
       "   prior_question_had_explanation  lecture_id  tag  lecture_part type_of  \\\n",
       "0                            True         NaN  NaN           NaN     NaN   \n",
       "1                            True         NaN  NaN           NaN     NaN   \n",
       "\n",
       "   question_id  bundle_id  correct_answer  question_part            tags  \n",
       "0       3209.0     3207.0             3.0            4.0  157 169 162 38  \n",
       "1       3208.0     3207.0             3.0            4.0  113 169 162 38  "
      ]
     },
     "execution_count": 4,
     "metadata": {},
     "output_type": "execute_result"
    }
   ],
   "source": [
    "# Validate Data\n",
    "df_validate.head(2)"
   ]
  },
  {
   "cell_type": "code",
   "execution_count": 5,
   "metadata": {
    "scrolled": true
   },
   "outputs": [
    {
     "data": {
      "text/html": [
       "<div>\n",
       "<style scoped>\n",
       "    .dataframe tbody tr th:only-of-type {\n",
       "        vertical-align: middle;\n",
       "    }\n",
       "\n",
       "    .dataframe tbody tr th {\n",
       "        vertical-align: top;\n",
       "    }\n",
       "\n",
       "    .dataframe thead th {\n",
       "        text-align: right;\n",
       "    }\n",
       "</style>\n",
       "<table border=\"1\" class=\"dataframe\">\n",
       "  <thead>\n",
       "    <tr style=\"text-align: right;\">\n",
       "      <th></th>\n",
       "      <th>timestamp</th>\n",
       "      <th>user_id</th>\n",
       "      <th>content_id</th>\n",
       "      <th>content_type_id</th>\n",
       "      <th>task_container_id</th>\n",
       "      <th>user_answer</th>\n",
       "      <th>answered_correctly</th>\n",
       "      <th>prior_question_elapsed_time</th>\n",
       "      <th>prior_question_had_explanation</th>\n",
       "      <th>lecture_id</th>\n",
       "      <th>tag</th>\n",
       "      <th>lecture_part</th>\n",
       "      <th>type_of</th>\n",
       "      <th>question_id</th>\n",
       "      <th>bundle_id</th>\n",
       "      <th>correct_answer</th>\n",
       "      <th>question_part</th>\n",
       "      <th>tags</th>\n",
       "    </tr>\n",
       "  </thead>\n",
       "  <tbody>\n",
       "    <tr>\n",
       "      <th>0</th>\n",
       "      <td>20170378604</td>\n",
       "      <td>1864702</td>\n",
       "      <td>8811</td>\n",
       "      <td>0</td>\n",
       "      <td>2494</td>\n",
       "      <td>1</td>\n",
       "      <td>1</td>\n",
       "      <td>3000.0</td>\n",
       "      <td>True</td>\n",
       "      <td>NaN</td>\n",
       "      <td>NaN</td>\n",
       "      <td>NaN</td>\n",
       "      <td>NaN</td>\n",
       "      <td>8811.0</td>\n",
       "      <td>8811.0</td>\n",
       "      <td>1.0</td>\n",
       "      <td>5.0</td>\n",
       "      <td>45</td>\n",
       "    </tr>\n",
       "    <tr>\n",
       "      <th>1</th>\n",
       "      <td>20170394313</td>\n",
       "      <td>1864702</td>\n",
       "      <td>8643</td>\n",
       "      <td>0</td>\n",
       "      <td>2495</td>\n",
       "      <td>3</td>\n",
       "      <td>1</td>\n",
       "      <td>4000.0</td>\n",
       "      <td>True</td>\n",
       "      <td>NaN</td>\n",
       "      <td>NaN</td>\n",
       "      <td>NaN</td>\n",
       "      <td>NaN</td>\n",
       "      <td>8643.0</td>\n",
       "      <td>8643.0</td>\n",
       "      <td>3.0</td>\n",
       "      <td>5.0</td>\n",
       "      <td>15</td>\n",
       "    </tr>\n",
       "  </tbody>\n",
       "</table>\n",
       "</div>"
      ],
      "text/plain": [
       "     timestamp  user_id  content_id  content_type_id  task_container_id  \\\n",
       "0  20170378604  1864702        8811                0               2494   \n",
       "1  20170394313  1864702        8643                0               2495   \n",
       "\n",
       "   user_answer  answered_correctly  prior_question_elapsed_time  \\\n",
       "0            1                   1                       3000.0   \n",
       "1            3                   1                       4000.0   \n",
       "\n",
       "   prior_question_had_explanation  lecture_id  tag  lecture_part type_of  \\\n",
       "0                            True         NaN  NaN           NaN     NaN   \n",
       "1                            True         NaN  NaN           NaN     NaN   \n",
       "\n",
       "   question_id  bundle_id  correct_answer  question_part tags  \n",
       "0       8811.0     8811.0             1.0            5.0   45  \n",
       "1       8643.0     8643.0             3.0            5.0   15  "
      ]
     },
     "execution_count": 5,
     "metadata": {},
     "output_type": "execute_result"
    }
   ],
   "source": [
    "# Test Data\n",
    "df_test.head(2)"
   ]
  },
  {
   "cell_type": "markdown",
   "metadata": {},
   "source": [
    "# Prepare"
   ]
  },
  {
   "cell_type": "markdown",
   "metadata": {},
   "source": [
    "### Running Function that does all prep at once"
   ]
  },
  {
   "cell_type": "code",
   "execution_count": 3,
   "metadata": {},
   "outputs": [],
   "source": [
    "train, validate, test, train_s, validate_s, test_s = prep_riiid(df_train, df_validate, df_test)"
   ]
  },
  {
   "cell_type": "code",
   "execution_count": 4,
   "metadata": {},
   "outputs": [
    {
     "data": {
      "text/html": [
       "<div>\n",
       "<style scoped>\n",
       "    .dataframe tbody tr th:only-of-type {\n",
       "        vertical-align: middle;\n",
       "    }\n",
       "\n",
       "    .dataframe tbody tr th {\n",
       "        vertical-align: top;\n",
       "    }\n",
       "\n",
       "    .dataframe thead th {\n",
       "        text-align: right;\n",
       "    }\n",
       "</style>\n",
       "<table border=\"1\" class=\"dataframe\">\n",
       "  <thead>\n",
       "    <tr style=\"text-align: right;\">\n",
       "      <th></th>\n",
       "      <th>answered_correctly</th>\n",
       "      <th>prior_question_had_explanation</th>\n",
       "      <th>user_acc_mean</th>\n",
       "      <th>user_lectures_running_total</th>\n",
       "      <th>avg_user_q_time</th>\n",
       "      <th>mean_content_accuracy</th>\n",
       "      <th>mean_task_accuracy</th>\n",
       "      <th>mean_timestamp_accuracy</th>\n",
       "      <th>mean_priortime_accuracy</th>\n",
       "    </tr>\n",
       "  </thead>\n",
       "  <tbody>\n",
       "    <tr>\n",
       "      <th>0</th>\n",
       "      <td>1</td>\n",
       "      <td>0</td>\n",
       "      <td>0.630049</td>\n",
       "      <td>0</td>\n",
       "      <td>11917302.0</td>\n",
       "      <td>0.818182</td>\n",
       "      <td>0.682248</td>\n",
       "      <td>6.526086e+09</td>\n",
       "      <td>21594.667829</td>\n",
       "    </tr>\n",
       "    <tr>\n",
       "      <th>1</th>\n",
       "      <td>0</td>\n",
       "      <td>0</td>\n",
       "      <td>0.630049</td>\n",
       "      <td>0</td>\n",
       "      <td>11917302.0</td>\n",
       "      <td>0.550000</td>\n",
       "      <td>0.534988</td>\n",
       "      <td>6.526086e+09</td>\n",
       "      <td>21594.667829</td>\n",
       "    </tr>\n",
       "    <tr>\n",
       "      <th>2</th>\n",
       "      <td>1</td>\n",
       "      <td>0</td>\n",
       "      <td>0.630049</td>\n",
       "      <td>0</td>\n",
       "      <td>11917302.0</td>\n",
       "      <td>0.444444</td>\n",
       "      <td>0.445216</td>\n",
       "      <td>6.526086e+09</td>\n",
       "      <td>21594.667829</td>\n",
       "    </tr>\n",
       "    <tr>\n",
       "      <th>3</th>\n",
       "      <td>1</td>\n",
       "      <td>0</td>\n",
       "      <td>0.630049</td>\n",
       "      <td>0</td>\n",
       "      <td>11917302.0</td>\n",
       "      <td>0.406250</td>\n",
       "      <td>0.543241</td>\n",
       "      <td>6.526086e+09</td>\n",
       "      <td>21594.667829</td>\n",
       "    </tr>\n",
       "    <tr>\n",
       "      <th>4</th>\n",
       "      <td>0</td>\n",
       "      <td>0</td>\n",
       "      <td>0.630049</td>\n",
       "      <td>0</td>\n",
       "      <td>11917302.0</td>\n",
       "      <td>0.687500</td>\n",
       "      <td>0.485282</td>\n",
       "      <td>6.526086e+09</td>\n",
       "      <td>21594.667829</td>\n",
       "    </tr>\n",
       "    <tr>\n",
       "      <th>...</th>\n",
       "      <td>...</td>\n",
       "      <td>...</td>\n",
       "      <td>...</td>\n",
       "      <td>...</td>\n",
       "      <td>...</td>\n",
       "      <td>...</td>\n",
       "      <td>...</td>\n",
       "      <td>...</td>\n",
       "      <td>...</td>\n",
       "    </tr>\n",
       "    <tr>\n",
       "      <th>411512</th>\n",
       "      <td>1</td>\n",
       "      <td>0</td>\n",
       "      <td>0.833333</td>\n",
       "      <td>0</td>\n",
       "      <td>21937.0</td>\n",
       "      <td>0.438849</td>\n",
       "      <td>0.594718</td>\n",
       "      <td>3.284642e+05</td>\n",
       "      <td>17300.000000</td>\n",
       "    </tr>\n",
       "    <tr>\n",
       "      <th>411513</th>\n",
       "      <td>0</td>\n",
       "      <td>0</td>\n",
       "      <td>0.833333</td>\n",
       "      <td>0</td>\n",
       "      <td>21937.0</td>\n",
       "      <td>0.546392</td>\n",
       "      <td>0.591160</td>\n",
       "      <td>3.284642e+05</td>\n",
       "      <td>17300.000000</td>\n",
       "    </tr>\n",
       "    <tr>\n",
       "      <th>411514</th>\n",
       "      <td>0</td>\n",
       "      <td>0</td>\n",
       "      <td>0.833333</td>\n",
       "      <td>0</td>\n",
       "      <td>21937.0</td>\n",
       "      <td>0.359574</td>\n",
       "      <td>0.606805</td>\n",
       "      <td>3.284642e+05</td>\n",
       "      <td>17300.000000</td>\n",
       "    </tr>\n",
       "    <tr>\n",
       "      <th>411515</th>\n",
       "      <td>0</td>\n",
       "      <td>0</td>\n",
       "      <td>0.833333</td>\n",
       "      <td>0</td>\n",
       "      <td>21937.0</td>\n",
       "      <td>0.061728</td>\n",
       "      <td>0.568949</td>\n",
       "      <td>3.284642e+05</td>\n",
       "      <td>17300.000000</td>\n",
       "    </tr>\n",
       "    <tr>\n",
       "      <th>411516</th>\n",
       "      <td>1</td>\n",
       "      <td>0</td>\n",
       "      <td>0.833333</td>\n",
       "      <td>0</td>\n",
       "      <td>21937.0</td>\n",
       "      <td>0.331707</td>\n",
       "      <td>0.631579</td>\n",
       "      <td>3.284642e+05</td>\n",
       "      <td>17300.000000</td>\n",
       "    </tr>\n",
       "  </tbody>\n",
       "</table>\n",
       "<p>403377 rows × 9 columns</p>\n",
       "</div>"
      ],
      "text/plain": [
       "        answered_correctly  prior_question_had_explanation  user_acc_mean  \\\n",
       "0                        1                               0       0.630049   \n",
       "1                        0                               0       0.630049   \n",
       "2                        1                               0       0.630049   \n",
       "3                        1                               0       0.630049   \n",
       "4                        0                               0       0.630049   \n",
       "...                    ...                             ...            ...   \n",
       "411512                   1                               0       0.833333   \n",
       "411513                   0                               0       0.833333   \n",
       "411514                   0                               0       0.833333   \n",
       "411515                   0                               0       0.833333   \n",
       "411516                   1                               0       0.833333   \n",
       "\n",
       "        user_lectures_running_total  avg_user_q_time  mean_content_accuracy  \\\n",
       "0                                 0       11917302.0               0.818182   \n",
       "1                                 0       11917302.0               0.550000   \n",
       "2                                 0       11917302.0               0.444444   \n",
       "3                                 0       11917302.0               0.406250   \n",
       "4                                 0       11917302.0               0.687500   \n",
       "...                             ...              ...                    ...   \n",
       "411512                            0          21937.0               0.438849   \n",
       "411513                            0          21937.0               0.546392   \n",
       "411514                            0          21937.0               0.359574   \n",
       "411515                            0          21937.0               0.061728   \n",
       "411516                            0          21937.0               0.331707   \n",
       "\n",
       "        mean_task_accuracy  mean_timestamp_accuracy  mean_priortime_accuracy  \n",
       "0                 0.682248             6.526086e+09             21594.667829  \n",
       "1                 0.534988             6.526086e+09             21594.667829  \n",
       "2                 0.445216             6.526086e+09             21594.667829  \n",
       "3                 0.543241             6.526086e+09             21594.667829  \n",
       "4                 0.485282             6.526086e+09             21594.667829  \n",
       "...                    ...                      ...                      ...  \n",
       "411512            0.594718             3.284642e+05             17300.000000  \n",
       "411513            0.591160             3.284642e+05             17300.000000  \n",
       "411514            0.606805             3.284642e+05             17300.000000  \n",
       "411515            0.568949             3.284642e+05             17300.000000  \n",
       "411516            0.631579             3.284642e+05             17300.000000  \n",
       "\n",
       "[403377 rows x 9 columns]"
      ]
     },
     "execution_count": 4,
     "metadata": {},
     "output_type": "execute_result"
    }
   ],
   "source": [
    "train"
   ]
  },
  {
   "cell_type": "code",
   "execution_count": 5,
   "metadata": {},
   "outputs": [
    {
     "data": {
      "text/html": [
       "<div>\n",
       "<style scoped>\n",
       "    .dataframe tbody tr th:only-of-type {\n",
       "        vertical-align: middle;\n",
       "    }\n",
       "\n",
       "    .dataframe tbody tr th {\n",
       "        vertical-align: top;\n",
       "    }\n",
       "\n",
       "    .dataframe thead th {\n",
       "        text-align: right;\n",
       "    }\n",
       "</style>\n",
       "<table border=\"1\" class=\"dataframe\">\n",
       "  <thead>\n",
       "    <tr style=\"text-align: right;\">\n",
       "      <th></th>\n",
       "      <th>answered_correctly</th>\n",
       "      <th>prior_question_had_explanation</th>\n",
       "      <th>user_acc_mean</th>\n",
       "      <th>mean_content_accuracy</th>\n",
       "      <th>mean_task_accuracy</th>\n",
       "      <th>mean_timestamp_accuracy_scaled</th>\n",
       "      <th>mean_priortime_accuracy_scaled</th>\n",
       "      <th>user_lectures_running_total_scaled</th>\n",
       "      <th>avg_user_q_time_scaled</th>\n",
       "    </tr>\n",
       "  </thead>\n",
       "  <tbody>\n",
       "    <tr>\n",
       "      <th>0</th>\n",
       "      <td>1</td>\n",
       "      <td>0</td>\n",
       "      <td>0.630049</td>\n",
       "      <td>0.818182</td>\n",
       "      <td>0.682248</td>\n",
       "      <td>0.120073</td>\n",
       "      <td>0.500746</td>\n",
       "      <td>0.0</td>\n",
       "      <td>0.002404</td>\n",
       "    </tr>\n",
       "    <tr>\n",
       "      <th>1</th>\n",
       "      <td>0</td>\n",
       "      <td>0</td>\n",
       "      <td>0.630049</td>\n",
       "      <td>0.550000</td>\n",
       "      <td>0.534988</td>\n",
       "      <td>0.120073</td>\n",
       "      <td>0.500746</td>\n",
       "      <td>0.0</td>\n",
       "      <td>0.002404</td>\n",
       "    </tr>\n",
       "    <tr>\n",
       "      <th>2</th>\n",
       "      <td>1</td>\n",
       "      <td>0</td>\n",
       "      <td>0.630049</td>\n",
       "      <td>0.444444</td>\n",
       "      <td>0.445216</td>\n",
       "      <td>0.120073</td>\n",
       "      <td>0.500746</td>\n",
       "      <td>0.0</td>\n",
       "      <td>0.002404</td>\n",
       "    </tr>\n",
       "    <tr>\n",
       "      <th>3</th>\n",
       "      <td>1</td>\n",
       "      <td>0</td>\n",
       "      <td>0.630049</td>\n",
       "      <td>0.406250</td>\n",
       "      <td>0.543241</td>\n",
       "      <td>0.120073</td>\n",
       "      <td>0.500746</td>\n",
       "      <td>0.0</td>\n",
       "      <td>0.002404</td>\n",
       "    </tr>\n",
       "    <tr>\n",
       "      <th>4</th>\n",
       "      <td>0</td>\n",
       "      <td>0</td>\n",
       "      <td>0.630049</td>\n",
       "      <td>0.687500</td>\n",
       "      <td>0.485282</td>\n",
       "      <td>0.120073</td>\n",
       "      <td>0.500746</td>\n",
       "      <td>0.0</td>\n",
       "      <td>0.002404</td>\n",
       "    </tr>\n",
       "    <tr>\n",
       "      <th>...</th>\n",
       "      <td>...</td>\n",
       "      <td>...</td>\n",
       "      <td>...</td>\n",
       "      <td>...</td>\n",
       "      <td>...</td>\n",
       "      <td>...</td>\n",
       "      <td>...</td>\n",
       "      <td>...</td>\n",
       "      <td>...</td>\n",
       "    </tr>\n",
       "    <tr>\n",
       "      <th>411512</th>\n",
       "      <td>1</td>\n",
       "      <td>0</td>\n",
       "      <td>0.833333</td>\n",
       "      <td>0.438849</td>\n",
       "      <td>0.594718</td>\n",
       "      <td>0.000005</td>\n",
       "      <td>0.401159</td>\n",
       "      <td>0.0</td>\n",
       "      <td>0.000003</td>\n",
       "    </tr>\n",
       "    <tr>\n",
       "      <th>411513</th>\n",
       "      <td>0</td>\n",
       "      <td>0</td>\n",
       "      <td>0.833333</td>\n",
       "      <td>0.546392</td>\n",
       "      <td>0.591160</td>\n",
       "      <td>0.000005</td>\n",
       "      <td>0.401159</td>\n",
       "      <td>0.0</td>\n",
       "      <td>0.000003</td>\n",
       "    </tr>\n",
       "    <tr>\n",
       "      <th>411514</th>\n",
       "      <td>0</td>\n",
       "      <td>0</td>\n",
       "      <td>0.833333</td>\n",
       "      <td>0.359574</td>\n",
       "      <td>0.606805</td>\n",
       "      <td>0.000005</td>\n",
       "      <td>0.401159</td>\n",
       "      <td>0.0</td>\n",
       "      <td>0.000003</td>\n",
       "    </tr>\n",
       "    <tr>\n",
       "      <th>411515</th>\n",
       "      <td>0</td>\n",
       "      <td>0</td>\n",
       "      <td>0.833333</td>\n",
       "      <td>0.061728</td>\n",
       "      <td>0.568949</td>\n",
       "      <td>0.000005</td>\n",
       "      <td>0.401159</td>\n",
       "      <td>0.0</td>\n",
       "      <td>0.000003</td>\n",
       "    </tr>\n",
       "    <tr>\n",
       "      <th>411516</th>\n",
       "      <td>1</td>\n",
       "      <td>0</td>\n",
       "      <td>0.833333</td>\n",
       "      <td>0.331707</td>\n",
       "      <td>0.631579</td>\n",
       "      <td>0.000005</td>\n",
       "      <td>0.401159</td>\n",
       "      <td>0.0</td>\n",
       "      <td>0.000003</td>\n",
       "    </tr>\n",
       "  </tbody>\n",
       "</table>\n",
       "<p>403377 rows × 9 columns</p>\n",
       "</div>"
      ],
      "text/plain": [
       "        answered_correctly  prior_question_had_explanation  user_acc_mean  \\\n",
       "0                        1                               0       0.630049   \n",
       "1                        0                               0       0.630049   \n",
       "2                        1                               0       0.630049   \n",
       "3                        1                               0       0.630049   \n",
       "4                        0                               0       0.630049   \n",
       "...                    ...                             ...            ...   \n",
       "411512                   1                               0       0.833333   \n",
       "411513                   0                               0       0.833333   \n",
       "411514                   0                               0       0.833333   \n",
       "411515                   0                               0       0.833333   \n",
       "411516                   1                               0       0.833333   \n",
       "\n",
       "        mean_content_accuracy  mean_task_accuracy  \\\n",
       "0                    0.818182            0.682248   \n",
       "1                    0.550000            0.534988   \n",
       "2                    0.444444            0.445216   \n",
       "3                    0.406250            0.543241   \n",
       "4                    0.687500            0.485282   \n",
       "...                       ...                 ...   \n",
       "411512               0.438849            0.594718   \n",
       "411513               0.546392            0.591160   \n",
       "411514               0.359574            0.606805   \n",
       "411515               0.061728            0.568949   \n",
       "411516               0.331707            0.631579   \n",
       "\n",
       "        mean_timestamp_accuracy_scaled  mean_priortime_accuracy_scaled  \\\n",
       "0                             0.120073                        0.500746   \n",
       "1                             0.120073                        0.500746   \n",
       "2                             0.120073                        0.500746   \n",
       "3                             0.120073                        0.500746   \n",
       "4                             0.120073                        0.500746   \n",
       "...                                ...                             ...   \n",
       "411512                        0.000005                        0.401159   \n",
       "411513                        0.000005                        0.401159   \n",
       "411514                        0.000005                        0.401159   \n",
       "411515                        0.000005                        0.401159   \n",
       "411516                        0.000005                        0.401159   \n",
       "\n",
       "        user_lectures_running_total_scaled  avg_user_q_time_scaled  \n",
       "0                                      0.0                0.002404  \n",
       "1                                      0.0                0.002404  \n",
       "2                                      0.0                0.002404  \n",
       "3                                      0.0                0.002404  \n",
       "4                                      0.0                0.002404  \n",
       "...                                    ...                     ...  \n",
       "411512                                 0.0                0.000003  \n",
       "411513                                 0.0                0.000003  \n",
       "411514                                 0.0                0.000003  \n",
       "411515                                 0.0                0.000003  \n",
       "411516                                 0.0                0.000003  \n",
       "\n",
       "[403377 rows x 9 columns]"
      ]
     },
     "execution_count": 5,
     "metadata": {},
     "output_type": "execute_result"
    }
   ],
   "source": [
    "train_s"
   ]
  },
  {
   "cell_type": "markdown",
   "metadata": {},
   "source": [
    "## Drop the columns merged from questions.csv and lectures.csv"
   ]
  },
  {
   "cell_type": "code",
   "execution_count": 62,
   "metadata": {},
   "outputs": [
    {
     "data": {
      "text/plain": [
       "Index(['timestamp', 'user_id', 'content_id', 'content_type_id',\n",
       "       'task_container_id', 'user_answer', 'answered_correctly',\n",
       "       'prior_question_elapsed_time', 'prior_question_had_explanation',\n",
       "       'lecture_id', 'tag', 'lecture_part', 'type_of', 'question_id',\n",
       "       'bundle_id', 'correct_answer', 'question_part', 'tags'],\n",
       "      dtype='object')"
      ]
     },
     "execution_count": 62,
     "metadata": {},
     "output_type": "execute_result"
    }
   ],
   "source": [
    "# Print the columns in train/validate/test\n",
    "df_train.columns"
   ]
  },
  {
   "cell_type": "code",
   "execution_count": 63,
   "metadata": {},
   "outputs": [],
   "source": [
    "# Drop the columns merged from questions.csv and lectures.csv\n",
    "\n",
    "cols = ['lecture_id', 'tag', 'lecture_part', 'type_of', 'question_id',\n",
    "        'bundle_id', 'correct_answer', 'question_part', 'tags']\n",
    "\n",
    "df_train = df_train.drop(columns = cols)\n",
    "df_validate = df_validate.drop(columns = cols)\n",
    "df_test = df_test.drop(columns = cols)"
   ]
  },
  {
   "cell_type": "code",
   "execution_count": 64,
   "metadata": {},
   "outputs": [
    {
     "data": {
      "text/plain": [
       "timestamp                             0\n",
       "user_id                               0\n",
       "content_id                            0\n",
       "content_type_id                       0\n",
       "task_container_id                     0\n",
       "user_answer                           0\n",
       "answered_correctly                    0\n",
       "prior_question_elapsed_time       10133\n",
       "prior_question_had_explanation     1993\n",
       "dtype: int64"
      ]
     },
     "execution_count": 64,
     "metadata": {},
     "output_type": "execute_result"
    }
   ],
   "source": [
    "# Count the missing values in train\n",
    "df_train.isnull().sum(axis=0)"
   ]
  },
  {
   "cell_type": "code",
   "execution_count": 65,
   "metadata": {},
   "outputs": [
    {
     "data": {
      "text/plain": [
       "timestamp                           0\n",
       "user_id                             0\n",
       "content_id                          0\n",
       "content_type_id                     0\n",
       "task_container_id                   0\n",
       "user_answer                         0\n",
       "answered_correctly                  0\n",
       "prior_question_elapsed_time       897\n",
       "prior_question_had_explanation      0\n",
       "dtype: int64"
      ]
     },
     "execution_count": 65,
     "metadata": {},
     "output_type": "execute_result"
    }
   ],
   "source": [
    "df_validate.isnull().sum(axis=0)"
   ]
  },
  {
   "cell_type": "code",
   "execution_count": 66,
   "metadata": {},
   "outputs": [
    {
     "data": {
      "text/plain": [
       "timestamp                           0\n",
       "user_id                             0\n",
       "content_id                          0\n",
       "content_type_id                     0\n",
       "task_container_id                   0\n",
       "user_answer                         0\n",
       "answered_correctly                  0\n",
       "prior_question_elapsed_time       897\n",
       "prior_question_had_explanation      0\n",
       "dtype: int64"
      ]
     },
     "execution_count": 66,
     "metadata": {},
     "output_type": "execute_result"
    }
   ],
   "source": [
    "df_test.isnull().sum(axis=0)"
   ]
  },
  {
   "cell_type": "markdown",
   "metadata": {},
   "source": [
    "## Merge with new features - Part I"
   ]
  },
  {
   "cell_type": "code",
   "execution_count": 67,
   "metadata": {},
   "outputs": [
    {
     "data": {
      "text/plain": [
       "((411517, 13), (50842, 12), (52868, 12))"
      ]
     },
     "execution_count": 67,
     "metadata": {},
     "output_type": "execute_result"
    }
   ],
   "source": [
    "# Take a peek at the new features\n",
    "\n",
    "train = MVP_Davila.sam_train_features(df_train)\n",
    "validate = MVP_Davila.sam_valtest_features(train, df_validate)\n",
    "test = MVP_Davila.sam_valtest_features(train, df_test)\n",
    "\n",
    "train.shape, validate.shape, test.shape"
   ]
  },
  {
   "cell_type": "markdown",
   "metadata": {},
   "source": [
    "## Handle the nulls in columns\n",
    "- Fill the nulls in prior_question_had_explanation with False\n",
    "- Fill the nulls in the prior_question_elapsed_time with string 0"
   ]
  },
  {
   "cell_type": "code",
   "execution_count": 68,
   "metadata": {},
   "outputs": [],
   "source": [
    "# Handle the null values\n",
    "\n",
    "train = MVP_Shi.handle_null(train)\n",
    "validate = MVP_Shi.handle_null(validate)\n",
    "test = MVP_Shi.handle_null(test)"
   ]
  },
  {
   "cell_type": "markdown",
   "metadata": {},
   "source": [
    "## Handle the np.inf in column prior_question_elapsed_time"
   ]
  },
  {
   "cell_type": "code",
   "execution_count": 69,
   "metadata": {},
   "outputs": [],
   "source": [
    "# Handle the inf values\n",
    "\n",
    "train = MVP_Shi.handle_inf(train)\n",
    "validate = MVP_Shi.handle_inf(validate)\n",
    "test = MVP_Shi.handle_inf(test)"
   ]
  },
  {
   "cell_type": "code",
   "execution_count": 70,
   "metadata": {},
   "outputs": [
    {
     "data": {
      "text/html": [
       "<div>\n",
       "<style scoped>\n",
       "    .dataframe tbody tr th:only-of-type {\n",
       "        vertical-align: middle;\n",
       "    }\n",
       "\n",
       "    .dataframe tbody tr th {\n",
       "        vertical-align: top;\n",
       "    }\n",
       "\n",
       "    .dataframe thead th {\n",
       "        text-align: right;\n",
       "    }\n",
       "</style>\n",
       "<table border=\"1\" class=\"dataframe\">\n",
       "  <thead>\n",
       "    <tr style=\"text-align: right;\">\n",
       "      <th></th>\n",
       "      <th>timestamp</th>\n",
       "      <th>user_id</th>\n",
       "      <th>content_id</th>\n",
       "      <th>content_type_id</th>\n",
       "      <th>task_container_id</th>\n",
       "      <th>user_answer</th>\n",
       "      <th>answered_correctly</th>\n",
       "      <th>prior_question_elapsed_time</th>\n",
       "      <th>prior_question_had_explanation</th>\n",
       "      <th>user_acc_mean</th>\n",
       "      <th>user_lectures_running_total</th>\n",
       "      <th>last_q_time</th>\n",
       "      <th>avg_user_q_time</th>\n",
       "    </tr>\n",
       "  </thead>\n",
       "  <tbody>\n",
       "    <tr>\n",
       "      <th>0</th>\n",
       "      <td>0</td>\n",
       "      <td>1864702</td>\n",
       "      <td>5720</td>\n",
       "      <td>0</td>\n",
       "      <td>0</td>\n",
       "      <td>1</td>\n",
       "      <td>1</td>\n",
       "      <td>0.0</td>\n",
       "      <td>False</td>\n",
       "      <td>0.630049</td>\n",
       "      <td>0</td>\n",
       "      <td>0.0</td>\n",
       "      <td>11917302.0</td>\n",
       "    </tr>\n",
       "    <tr>\n",
       "      <th>1</th>\n",
       "      <td>45951</td>\n",
       "      <td>1864702</td>\n",
       "      <td>5204</td>\n",
       "      <td>0</td>\n",
       "      <td>1</td>\n",
       "      <td>1</td>\n",
       "      <td>0</td>\n",
       "      <td>0.0</td>\n",
       "      <td>False</td>\n",
       "      <td>0.630049</td>\n",
       "      <td>0</td>\n",
       "      <td>45951.0</td>\n",
       "      <td>11917302.0</td>\n",
       "    </tr>\n",
       "    <tr>\n",
       "      <th>2</th>\n",
       "      <td>74342</td>\n",
       "      <td>1864702</td>\n",
       "      <td>4094</td>\n",
       "      <td>0</td>\n",
       "      <td>2</td>\n",
       "      <td>1</td>\n",
       "      <td>1</td>\n",
       "      <td>43000.0</td>\n",
       "      <td>False</td>\n",
       "      <td>0.630049</td>\n",
       "      <td>0</td>\n",
       "      <td>28391.0</td>\n",
       "      <td>11917302.0</td>\n",
       "    </tr>\n",
       "    <tr>\n",
       "      <th>3</th>\n",
       "      <td>96778</td>\n",
       "      <td>1864702</td>\n",
       "      <td>9699</td>\n",
       "      <td>0</td>\n",
       "      <td>3</td>\n",
       "      <td>0</td>\n",
       "      <td>1</td>\n",
       "      <td>25000.0</td>\n",
       "      <td>False</td>\n",
       "      <td>0.630049</td>\n",
       "      <td>0</td>\n",
       "      <td>22436.0</td>\n",
       "      <td>11917302.0</td>\n",
       "    </tr>\n",
       "    <tr>\n",
       "      <th>4</th>\n",
       "      <td>132969</td>\n",
       "      <td>1864702</td>\n",
       "      <td>5889</td>\n",
       "      <td>0</td>\n",
       "      <td>4</td>\n",
       "      <td>2</td>\n",
       "      <td>0</td>\n",
       "      <td>19000.0</td>\n",
       "      <td>False</td>\n",
       "      <td>0.630049</td>\n",
       "      <td>0</td>\n",
       "      <td>36191.0</td>\n",
       "      <td>11917302.0</td>\n",
       "    </tr>\n",
       "  </tbody>\n",
       "</table>\n",
       "</div>"
      ],
      "text/plain": [
       "   timestamp  user_id  content_id  content_type_id  task_container_id  \\\n",
       "0          0  1864702        5720                0                  0   \n",
       "1      45951  1864702        5204                0                  1   \n",
       "2      74342  1864702        4094                0                  2   \n",
       "3      96778  1864702        9699                0                  3   \n",
       "4     132969  1864702        5889                0                  4   \n",
       "\n",
       "   user_answer  answered_correctly  prior_question_elapsed_time  \\\n",
       "0            1                   1                          0.0   \n",
       "1            1                   0                          0.0   \n",
       "2            1                   1                      43000.0   \n",
       "3            0                   1                      25000.0   \n",
       "4            2                   0                      19000.0   \n",
       "\n",
       "   prior_question_had_explanation  user_acc_mean  user_lectures_running_total  \\\n",
       "0                           False       0.630049                            0   \n",
       "1                           False       0.630049                            0   \n",
       "2                           False       0.630049                            0   \n",
       "3                           False       0.630049                            0   \n",
       "4                           False       0.630049                            0   \n",
       "\n",
       "   last_q_time  avg_user_q_time  \n",
       "0          0.0       11917302.0  \n",
       "1      45951.0       11917302.0  \n",
       "2      28391.0       11917302.0  \n",
       "3      22436.0       11917302.0  \n",
       "4      36191.0       11917302.0  "
      ]
     },
     "execution_count": 70,
     "metadata": {},
     "output_type": "execute_result"
    }
   ],
   "source": [
    "train.head()"
   ]
  },
  {
   "cell_type": "markdown",
   "metadata": {},
   "source": [
    "## Merge with new features - Part II"
   ]
  },
  {
   "cell_type": "code",
   "execution_count": 71,
   "metadata": {},
   "outputs": [
    {
     "data": {
      "text/plain": [
       "((411517, 17), (52868, 16), (52868, 16))"
      ]
     },
     "execution_count": 71,
     "metadata": {},
     "output_type": "execute_result"
    }
   ],
   "source": [
    "# Merge the new features genereated from Shi\n",
    "\n",
    "train = MVP_Shi.merge_with_stats_train(train)\n",
    "validate = MVP_Shi.merge_with_stats_valortest(train, test)\n",
    "test = MVP_Shi.merge_with_stats_valortest(train, test)\n",
    "\n",
    "train.shape, validate.shape, test.shape"
   ]
  },
  {
   "cell_type": "code",
   "execution_count": 72,
   "metadata": {},
   "outputs": [
    {
     "data": {
      "text/html": [
       "<div>\n",
       "<style scoped>\n",
       "    .dataframe tbody tr th:only-of-type {\n",
       "        vertical-align: middle;\n",
       "    }\n",
       "\n",
       "    .dataframe tbody tr th {\n",
       "        vertical-align: top;\n",
       "    }\n",
       "\n",
       "    .dataframe thead th {\n",
       "        text-align: right;\n",
       "    }\n",
       "</style>\n",
       "<table border=\"1\" class=\"dataframe\">\n",
       "  <thead>\n",
       "    <tr style=\"text-align: right;\">\n",
       "      <th></th>\n",
       "      <th>timestamp</th>\n",
       "      <th>user_id</th>\n",
       "      <th>content_id</th>\n",
       "      <th>content_type_id</th>\n",
       "      <th>task_container_id</th>\n",
       "      <th>user_answer</th>\n",
       "      <th>answered_correctly</th>\n",
       "      <th>prior_question_elapsed_time</th>\n",
       "      <th>prior_question_had_explanation</th>\n",
       "      <th>user_acc_mean</th>\n",
       "      <th>user_lectures_running_total</th>\n",
       "      <th>last_q_time</th>\n",
       "      <th>avg_user_q_time</th>\n",
       "      <th>mean_content_accuracy</th>\n",
       "      <th>mean_task_accuracy</th>\n",
       "      <th>mean_timestamp_accuracy</th>\n",
       "      <th>mean_priortime_accuracy</th>\n",
       "    </tr>\n",
       "  </thead>\n",
       "  <tbody>\n",
       "    <tr>\n",
       "      <th>0</th>\n",
       "      <td>0</td>\n",
       "      <td>1864702</td>\n",
       "      <td>5720</td>\n",
       "      <td>0</td>\n",
       "      <td>0</td>\n",
       "      <td>1</td>\n",
       "      <td>1</td>\n",
       "      <td>0.0</td>\n",
       "      <td>False</td>\n",
       "      <td>0.630049</td>\n",
       "      <td>0</td>\n",
       "      <td>0.0</td>\n",
       "      <td>11917302.0</td>\n",
       "      <td>0.818182</td>\n",
       "      <td>0.682248</td>\n",
       "      <td>6.526086e+09</td>\n",
       "      <td>21594.667829</td>\n",
       "    </tr>\n",
       "    <tr>\n",
       "      <th>1</th>\n",
       "      <td>45951</td>\n",
       "      <td>1864702</td>\n",
       "      <td>5204</td>\n",
       "      <td>0</td>\n",
       "      <td>1</td>\n",
       "      <td>1</td>\n",
       "      <td>0</td>\n",
       "      <td>0.0</td>\n",
       "      <td>False</td>\n",
       "      <td>0.630049</td>\n",
       "      <td>0</td>\n",
       "      <td>45951.0</td>\n",
       "      <td>11917302.0</td>\n",
       "      <td>0.550000</td>\n",
       "      <td>0.534988</td>\n",
       "      <td>6.526086e+09</td>\n",
       "      <td>21594.667829</td>\n",
       "    </tr>\n",
       "    <tr>\n",
       "      <th>2</th>\n",
       "      <td>74342</td>\n",
       "      <td>1864702</td>\n",
       "      <td>4094</td>\n",
       "      <td>0</td>\n",
       "      <td>2</td>\n",
       "      <td>1</td>\n",
       "      <td>1</td>\n",
       "      <td>43000.0</td>\n",
       "      <td>False</td>\n",
       "      <td>0.630049</td>\n",
       "      <td>0</td>\n",
       "      <td>28391.0</td>\n",
       "      <td>11917302.0</td>\n",
       "      <td>0.444444</td>\n",
       "      <td>0.445216</td>\n",
       "      <td>6.526086e+09</td>\n",
       "      <td>21594.667829</td>\n",
       "    </tr>\n",
       "    <tr>\n",
       "      <th>3</th>\n",
       "      <td>96778</td>\n",
       "      <td>1864702</td>\n",
       "      <td>9699</td>\n",
       "      <td>0</td>\n",
       "      <td>3</td>\n",
       "      <td>0</td>\n",
       "      <td>1</td>\n",
       "      <td>25000.0</td>\n",
       "      <td>False</td>\n",
       "      <td>0.630049</td>\n",
       "      <td>0</td>\n",
       "      <td>22436.0</td>\n",
       "      <td>11917302.0</td>\n",
       "      <td>0.406250</td>\n",
       "      <td>0.543241</td>\n",
       "      <td>6.526086e+09</td>\n",
       "      <td>21594.667829</td>\n",
       "    </tr>\n",
       "    <tr>\n",
       "      <th>4</th>\n",
       "      <td>132969</td>\n",
       "      <td>1864702</td>\n",
       "      <td>5889</td>\n",
       "      <td>0</td>\n",
       "      <td>4</td>\n",
       "      <td>2</td>\n",
       "      <td>0</td>\n",
       "      <td>19000.0</td>\n",
       "      <td>False</td>\n",
       "      <td>0.630049</td>\n",
       "      <td>0</td>\n",
       "      <td>36191.0</td>\n",
       "      <td>11917302.0</td>\n",
       "      <td>0.687500</td>\n",
       "      <td>0.485282</td>\n",
       "      <td>6.526086e+09</td>\n",
       "      <td>21594.667829</td>\n",
       "    </tr>\n",
       "  </tbody>\n",
       "</table>\n",
       "</div>"
      ],
      "text/plain": [
       "   timestamp  user_id  content_id  content_type_id  task_container_id  \\\n",
       "0          0  1864702        5720                0                  0   \n",
       "1      45951  1864702        5204                0                  1   \n",
       "2      74342  1864702        4094                0                  2   \n",
       "3      96778  1864702        9699                0                  3   \n",
       "4     132969  1864702        5889                0                  4   \n",
       "\n",
       "   user_answer  answered_correctly  prior_question_elapsed_time  \\\n",
       "0            1                   1                          0.0   \n",
       "1            1                   0                          0.0   \n",
       "2            1                   1                      43000.0   \n",
       "3            0                   1                      25000.0   \n",
       "4            2                   0                      19000.0   \n",
       "\n",
       "   prior_question_had_explanation  user_acc_mean  user_lectures_running_total  \\\n",
       "0                           False       0.630049                            0   \n",
       "1                           False       0.630049                            0   \n",
       "2                           False       0.630049                            0   \n",
       "3                           False       0.630049                            0   \n",
       "4                           False       0.630049                            0   \n",
       "\n",
       "   last_q_time  avg_user_q_time  mean_content_accuracy  mean_task_accuracy  \\\n",
       "0          0.0       11917302.0               0.818182            0.682248   \n",
       "1      45951.0       11917302.0               0.550000            0.534988   \n",
       "2      28391.0       11917302.0               0.444444            0.445216   \n",
       "3      22436.0       11917302.0               0.406250            0.543241   \n",
       "4      36191.0       11917302.0               0.687500            0.485282   \n",
       "\n",
       "   mean_timestamp_accuracy  mean_priortime_accuracy  \n",
       "0             6.526086e+09             21594.667829  \n",
       "1             6.526086e+09             21594.667829  \n",
       "2             6.526086e+09             21594.667829  \n",
       "3             6.526086e+09             21594.667829  \n",
       "4             6.526086e+09             21594.667829  "
      ]
     },
     "execution_count": 72,
     "metadata": {},
     "output_type": "execute_result"
    }
   ],
   "source": [
    "train.head()"
   ]
  },
  {
   "cell_type": "code",
   "execution_count": 73,
   "metadata": {},
   "outputs": [
    {
     "data": {
      "text/html": [
       "<div>\n",
       "<style scoped>\n",
       "    .dataframe tbody tr th:only-of-type {\n",
       "        vertical-align: middle;\n",
       "    }\n",
       "\n",
       "    .dataframe tbody tr th {\n",
       "        vertical-align: top;\n",
       "    }\n",
       "\n",
       "    .dataframe thead th {\n",
       "        text-align: right;\n",
       "    }\n",
       "</style>\n",
       "<table border=\"1\" class=\"dataframe\">\n",
       "  <thead>\n",
       "    <tr style=\"text-align: right;\">\n",
       "      <th></th>\n",
       "      <th>timestamp</th>\n",
       "      <th>user_id</th>\n",
       "      <th>content_id</th>\n",
       "      <th>content_type_id</th>\n",
       "      <th>task_container_id</th>\n",
       "      <th>user_answer</th>\n",
       "      <th>answered_correctly</th>\n",
       "      <th>prior_question_elapsed_time</th>\n",
       "      <th>prior_question_had_explanation</th>\n",
       "      <th>user_acc_mean</th>\n",
       "      <th>user_lectures_running_total</th>\n",
       "      <th>avg_user_q_time</th>\n",
       "      <th>mean_content_accuracy</th>\n",
       "      <th>mean_task_accuracy</th>\n",
       "      <th>mean_timestamp_accuracy</th>\n",
       "      <th>mean_priortime_accuracy</th>\n",
       "    </tr>\n",
       "  </thead>\n",
       "  <tbody>\n",
       "    <tr>\n",
       "      <th>0</th>\n",
       "      <td>20170378604</td>\n",
       "      <td>1864702</td>\n",
       "      <td>8811</td>\n",
       "      <td>0</td>\n",
       "      <td>2494</td>\n",
       "      <td>1</td>\n",
       "      <td>1</td>\n",
       "      <td>3000.0</td>\n",
       "      <td>True</td>\n",
       "      <td>0.630049</td>\n",
       "      <td>0</td>\n",
       "      <td>11917302.0</td>\n",
       "      <td>0.468750</td>\n",
       "      <td>0.529412</td>\n",
       "      <td>6.526086e+09</td>\n",
       "      <td>21594.667829</td>\n",
       "    </tr>\n",
       "    <tr>\n",
       "      <th>1</th>\n",
       "      <td>20170394313</td>\n",
       "      <td>1864702</td>\n",
       "      <td>8643</td>\n",
       "      <td>0</td>\n",
       "      <td>2495</td>\n",
       "      <td>3</td>\n",
       "      <td>1</td>\n",
       "      <td>4000.0</td>\n",
       "      <td>True</td>\n",
       "      <td>0.630049</td>\n",
       "      <td>0</td>\n",
       "      <td>11917302.0</td>\n",
       "      <td>0.290323</td>\n",
       "      <td>0.578947</td>\n",
       "      <td>6.526086e+09</td>\n",
       "      <td>21594.667829</td>\n",
       "    </tr>\n",
       "    <tr>\n",
       "      <th>2</th>\n",
       "      <td>20170433302</td>\n",
       "      <td>1864702</td>\n",
       "      <td>8609</td>\n",
       "      <td>0</td>\n",
       "      <td>2496</td>\n",
       "      <td>3</td>\n",
       "      <td>0</td>\n",
       "      <td>11000.0</td>\n",
       "      <td>True</td>\n",
       "      <td>0.630049</td>\n",
       "      <td>0</td>\n",
       "      <td>11917302.0</td>\n",
       "      <td>0.387755</td>\n",
       "      <td>0.588235</td>\n",
       "      <td>6.526086e+09</td>\n",
       "      <td>21594.667829</td>\n",
       "    </tr>\n",
       "    <tr>\n",
       "      <th>3</th>\n",
       "      <td>20170477063</td>\n",
       "      <td>1864702</td>\n",
       "      <td>6183</td>\n",
       "      <td>0</td>\n",
       "      <td>2497</td>\n",
       "      <td>3</td>\n",
       "      <td>1</td>\n",
       "      <td>16000.0</td>\n",
       "      <td>True</td>\n",
       "      <td>0.630049</td>\n",
       "      <td>0</td>\n",
       "      <td>11917302.0</td>\n",
       "      <td>0.740741</td>\n",
       "      <td>0.500000</td>\n",
       "      <td>6.526086e+09</td>\n",
       "      <td>21594.667829</td>\n",
       "    </tr>\n",
       "    <tr>\n",
       "      <th>4</th>\n",
       "      <td>20170518116</td>\n",
       "      <td>1864702</td>\n",
       "      <td>8393</td>\n",
       "      <td>0</td>\n",
       "      <td>2498</td>\n",
       "      <td>2</td>\n",
       "      <td>0</td>\n",
       "      <td>18000.0</td>\n",
       "      <td>True</td>\n",
       "      <td>0.630049</td>\n",
       "      <td>0</td>\n",
       "      <td>11917302.0</td>\n",
       "      <td>0.428571</td>\n",
       "      <td>0.588235</td>\n",
       "      <td>6.526086e+09</td>\n",
       "      <td>21594.667829</td>\n",
       "    </tr>\n",
       "  </tbody>\n",
       "</table>\n",
       "</div>"
      ],
      "text/plain": [
       "     timestamp  user_id  content_id  content_type_id  task_container_id  \\\n",
       "0  20170378604  1864702        8811                0               2494   \n",
       "1  20170394313  1864702        8643                0               2495   \n",
       "2  20170433302  1864702        8609                0               2496   \n",
       "3  20170477063  1864702        6183                0               2497   \n",
       "4  20170518116  1864702        8393                0               2498   \n",
       "\n",
       "   user_answer  answered_correctly  prior_question_elapsed_time  \\\n",
       "0            1                   1                       3000.0   \n",
       "1            3                   1                       4000.0   \n",
       "2            3                   0                      11000.0   \n",
       "3            3                   1                      16000.0   \n",
       "4            2                   0                      18000.0   \n",
       "\n",
       "   prior_question_had_explanation  user_acc_mean  user_lectures_running_total  \\\n",
       "0                            True       0.630049                            0   \n",
       "1                            True       0.630049                            0   \n",
       "2                            True       0.630049                            0   \n",
       "3                            True       0.630049                            0   \n",
       "4                            True       0.630049                            0   \n",
       "\n",
       "   avg_user_q_time  mean_content_accuracy  mean_task_accuracy  \\\n",
       "0       11917302.0               0.468750            0.529412   \n",
       "1       11917302.0               0.290323            0.578947   \n",
       "2       11917302.0               0.387755            0.588235   \n",
       "3       11917302.0               0.740741            0.500000   \n",
       "4       11917302.0               0.428571            0.588235   \n",
       "\n",
       "   mean_timestamp_accuracy  mean_priortime_accuracy  \n",
       "0             6.526086e+09             21594.667829  \n",
       "1             6.526086e+09             21594.667829  \n",
       "2             6.526086e+09             21594.667829  \n",
       "3             6.526086e+09             21594.667829  \n",
       "4             6.526086e+09             21594.667829  "
      ]
     },
     "execution_count": 73,
     "metadata": {},
     "output_type": "execute_result"
    }
   ],
   "source": [
    "validate.head()"
   ]
  },
  {
   "cell_type": "code",
   "execution_count": 74,
   "metadata": {},
   "outputs": [
    {
     "data": {
      "text/html": [
       "<div>\n",
       "<style scoped>\n",
       "    .dataframe tbody tr th:only-of-type {\n",
       "        vertical-align: middle;\n",
       "    }\n",
       "\n",
       "    .dataframe tbody tr th {\n",
       "        vertical-align: top;\n",
       "    }\n",
       "\n",
       "    .dataframe thead th {\n",
       "        text-align: right;\n",
       "    }\n",
       "</style>\n",
       "<table border=\"1\" class=\"dataframe\">\n",
       "  <thead>\n",
       "    <tr style=\"text-align: right;\">\n",
       "      <th></th>\n",
       "      <th>timestamp</th>\n",
       "      <th>user_id</th>\n",
       "      <th>content_id</th>\n",
       "      <th>content_type_id</th>\n",
       "      <th>task_container_id</th>\n",
       "      <th>user_answer</th>\n",
       "      <th>answered_correctly</th>\n",
       "      <th>prior_question_elapsed_time</th>\n",
       "      <th>prior_question_had_explanation</th>\n",
       "      <th>user_acc_mean</th>\n",
       "      <th>user_lectures_running_total</th>\n",
       "      <th>avg_user_q_time</th>\n",
       "      <th>mean_content_accuracy</th>\n",
       "      <th>mean_task_accuracy</th>\n",
       "      <th>mean_timestamp_accuracy</th>\n",
       "      <th>mean_priortime_accuracy</th>\n",
       "    </tr>\n",
       "  </thead>\n",
       "  <tbody>\n",
       "    <tr>\n",
       "      <th>0</th>\n",
       "      <td>20170378604</td>\n",
       "      <td>1864702</td>\n",
       "      <td>8811</td>\n",
       "      <td>0</td>\n",
       "      <td>2494</td>\n",
       "      <td>1</td>\n",
       "      <td>1</td>\n",
       "      <td>3000.0</td>\n",
       "      <td>True</td>\n",
       "      <td>0.630049</td>\n",
       "      <td>0</td>\n",
       "      <td>11917302.0</td>\n",
       "      <td>0.468750</td>\n",
       "      <td>0.529412</td>\n",
       "      <td>6.526086e+09</td>\n",
       "      <td>21594.667829</td>\n",
       "    </tr>\n",
       "    <tr>\n",
       "      <th>1</th>\n",
       "      <td>20170394313</td>\n",
       "      <td>1864702</td>\n",
       "      <td>8643</td>\n",
       "      <td>0</td>\n",
       "      <td>2495</td>\n",
       "      <td>3</td>\n",
       "      <td>1</td>\n",
       "      <td>4000.0</td>\n",
       "      <td>True</td>\n",
       "      <td>0.630049</td>\n",
       "      <td>0</td>\n",
       "      <td>11917302.0</td>\n",
       "      <td>0.290323</td>\n",
       "      <td>0.578947</td>\n",
       "      <td>6.526086e+09</td>\n",
       "      <td>21594.667829</td>\n",
       "    </tr>\n",
       "    <tr>\n",
       "      <th>2</th>\n",
       "      <td>20170433302</td>\n",
       "      <td>1864702</td>\n",
       "      <td>8609</td>\n",
       "      <td>0</td>\n",
       "      <td>2496</td>\n",
       "      <td>3</td>\n",
       "      <td>0</td>\n",
       "      <td>11000.0</td>\n",
       "      <td>True</td>\n",
       "      <td>0.630049</td>\n",
       "      <td>0</td>\n",
       "      <td>11917302.0</td>\n",
       "      <td>0.387755</td>\n",
       "      <td>0.588235</td>\n",
       "      <td>6.526086e+09</td>\n",
       "      <td>21594.667829</td>\n",
       "    </tr>\n",
       "    <tr>\n",
       "      <th>3</th>\n",
       "      <td>20170477063</td>\n",
       "      <td>1864702</td>\n",
       "      <td>6183</td>\n",
       "      <td>0</td>\n",
       "      <td>2497</td>\n",
       "      <td>3</td>\n",
       "      <td>1</td>\n",
       "      <td>16000.0</td>\n",
       "      <td>True</td>\n",
       "      <td>0.630049</td>\n",
       "      <td>0</td>\n",
       "      <td>11917302.0</td>\n",
       "      <td>0.740741</td>\n",
       "      <td>0.500000</td>\n",
       "      <td>6.526086e+09</td>\n",
       "      <td>21594.667829</td>\n",
       "    </tr>\n",
       "    <tr>\n",
       "      <th>4</th>\n",
       "      <td>20170518116</td>\n",
       "      <td>1864702</td>\n",
       "      <td>8393</td>\n",
       "      <td>0</td>\n",
       "      <td>2498</td>\n",
       "      <td>2</td>\n",
       "      <td>0</td>\n",
       "      <td>18000.0</td>\n",
       "      <td>True</td>\n",
       "      <td>0.630049</td>\n",
       "      <td>0</td>\n",
       "      <td>11917302.0</td>\n",
       "      <td>0.428571</td>\n",
       "      <td>0.588235</td>\n",
       "      <td>6.526086e+09</td>\n",
       "      <td>21594.667829</td>\n",
       "    </tr>\n",
       "  </tbody>\n",
       "</table>\n",
       "</div>"
      ],
      "text/plain": [
       "     timestamp  user_id  content_id  content_type_id  task_container_id  \\\n",
       "0  20170378604  1864702        8811                0               2494   \n",
       "1  20170394313  1864702        8643                0               2495   \n",
       "2  20170433302  1864702        8609                0               2496   \n",
       "3  20170477063  1864702        6183                0               2497   \n",
       "4  20170518116  1864702        8393                0               2498   \n",
       "\n",
       "   user_answer  answered_correctly  prior_question_elapsed_time  \\\n",
       "0            1                   1                       3000.0   \n",
       "1            3                   1                       4000.0   \n",
       "2            3                   0                      11000.0   \n",
       "3            3                   1                      16000.0   \n",
       "4            2                   0                      18000.0   \n",
       "\n",
       "   prior_question_had_explanation  user_acc_mean  user_lectures_running_total  \\\n",
       "0                            True       0.630049                            0   \n",
       "1                            True       0.630049                            0   \n",
       "2                            True       0.630049                            0   \n",
       "3                            True       0.630049                            0   \n",
       "4                            True       0.630049                            0   \n",
       "\n",
       "   avg_user_q_time  mean_content_accuracy  mean_task_accuracy  \\\n",
       "0       11917302.0               0.468750            0.529412   \n",
       "1       11917302.0               0.290323            0.578947   \n",
       "2       11917302.0               0.387755            0.588235   \n",
       "3       11917302.0               0.740741            0.500000   \n",
       "4       11917302.0               0.428571            0.588235   \n",
       "\n",
       "   mean_timestamp_accuracy  mean_priortime_accuracy  \n",
       "0             6.526086e+09             21594.667829  \n",
       "1             6.526086e+09             21594.667829  \n",
       "2             6.526086e+09             21594.667829  \n",
       "3             6.526086e+09             21594.667829  \n",
       "4             6.526086e+09             21594.667829  "
      ]
     },
     "execution_count": 74,
     "metadata": {},
     "output_type": "execute_result"
    }
   ],
   "source": [
    "test.head()"
   ]
  },
  {
   "cell_type": "markdown",
   "metadata": {},
   "source": [
    "# Explore"
   ]
  },
  {
   "cell_type": "code",
   "execution_count": null,
   "metadata": {},
   "outputs": [],
   "source": []
  },
  {
   "cell_type": "markdown",
   "metadata": {},
   "source": [
    "## Drop the lecture rows"
   ]
  },
  {
   "cell_type": "code",
   "execution_count": 75,
   "metadata": {},
   "outputs": [
    {
     "name": "stdout",
     "output_type": "stream",
     "text": [
      "The shape of train before dropping the lecture rows:  (411517, 17)\n",
      "The shape of train before dropping the lecture rows:  (403377, 17)\n"
     ]
    }
   ],
   "source": [
    "print(\"The shape of train before dropping the lecture rows: \", train.shape)\n",
    "train = MVP_Shi.drop_lecture_rows(train)\n",
    "print(\"The shape of train before dropping the lecture rows: \", train.shape)"
   ]
  },
  {
   "cell_type": "code",
   "execution_count": 76,
   "metadata": {},
   "outputs": [
    {
     "name": "stdout",
     "output_type": "stream",
     "text": [
      "The shape of test before dropping the lecture rows:  (52868, 16)\n",
      "The shape of test before dropping the lecture rows:  (51971, 16)\n"
     ]
    }
   ],
   "source": [
    "print(\"The shape of test before dropping the lecture rows: \", validate.shape)\n",
    "validate = MVP_Shi.drop_lecture_rows(validate)\n",
    "print(\"The shape of test before dropping the lecture rows: \", validate.shape)"
   ]
  },
  {
   "cell_type": "code",
   "execution_count": 77,
   "metadata": {},
   "outputs": [
    {
     "name": "stdout",
     "output_type": "stream",
     "text": [
      "The shape of test before dropping the lecture rows:  (52868, 16)\n",
      "The shape of test before dropping the lecture rows:  (51971, 16)\n"
     ]
    }
   ],
   "source": [
    "print(\"The shape of test before dropping the lecture rows: \", test.shape)\n",
    "test = MVP_Shi.drop_lecture_rows(test)\n",
    "print(\"The shape of test before dropping the lecture rows: \", test.shape)"
   ]
  },
  {
   "cell_type": "markdown",
   "metadata": {},
   "source": [
    "## Drop the redundant columns"
   ]
  },
  {
   "cell_type": "code",
   "execution_count": 78,
   "metadata": {},
   "outputs": [
    {
     "name": "stdout",
     "output_type": "stream",
     "text": [
      "The shape of the train BEFORE dropping the redundant columns:  (403377, 17)\n",
      "The shape of the train AFTER dropping the redundant columns:  (403377, 9)\n"
     ]
    }
   ],
   "source": [
    "print(\"The shape of the train BEFORE dropping the redundant columns: \", train.shape)\n",
    "train = MVP_Shi.drop_columns_train(train)\n",
    "print(\"The shape of the train AFTER dropping the redundant columns: \", train.shape)"
   ]
  },
  {
   "cell_type": "code",
   "execution_count": 79,
   "metadata": {},
   "outputs": [
    {
     "name": "stdout",
     "output_type": "stream",
     "text": [
      "The shape of the test BEFORE dropping the redundant columns:  (51971, 16)\n",
      "The shape of the test AFTER dropping the redundant columns:  (51971, 9)\n"
     ]
    }
   ],
   "source": [
    "print(\"The shape of the test BEFORE dropping the redundant columns: \", validate.shape)\n",
    "validate = MVP_Shi.drop_columns_valortest(validate)\n",
    "print(\"The shape of the test AFTER dropping the redundant columns: \", validate.shape)"
   ]
  },
  {
   "cell_type": "code",
   "execution_count": 80,
   "metadata": {},
   "outputs": [
    {
     "name": "stdout",
     "output_type": "stream",
     "text": [
      "The shape of the test BEFORE dropping the redundant columns:  (51971, 16)\n",
      "The shape of the test AFTER dropping the redundant columns:  (51971, 9)\n"
     ]
    }
   ],
   "source": [
    "print(\"The shape of the test BEFORE dropping the redundant columns: \", test.shape)\n",
    "test = MVP_Shi.drop_columns_valortest(test)\n",
    "print(\"The shape of the test AFTER dropping the redundant columns: \", test.shape)"
   ]
  },
  {
   "cell_type": "markdown",
   "metadata": {},
   "source": [
    "## Fill the missing values\n",
    "- mean_content_accuracy\n",
    "- mean_task_accuracy"
   ]
  },
  {
   "cell_type": "code",
   "execution_count": 81,
   "metadata": {},
   "outputs": [
    {
     "data": {
      "text/plain": [
       "answered_correctly                0\n",
       "prior_question_had_explanation    0\n",
       "user_acc_mean                     0\n",
       "user_lectures_running_total       0\n",
       "avg_user_q_time                   0\n",
       "mean_content_accuracy             0\n",
       "mean_task_accuracy                0\n",
       "mean_timestamp_accuracy           0\n",
       "mean_priortime_accuracy           0\n",
       "dtype: int64"
      ]
     },
     "execution_count": 81,
     "metadata": {},
     "output_type": "execute_result"
    }
   ],
   "source": [
    "train.isnull().sum(axis=0)"
   ]
  },
  {
   "cell_type": "code",
   "execution_count": 82,
   "metadata": {},
   "outputs": [
    {
     "data": {
      "text/plain": [
       "answered_correctly                   0\n",
       "prior_question_had_explanation       0\n",
       "user_acc_mean                        0\n",
       "user_lectures_running_total          0\n",
       "avg_user_q_time                      0\n",
       "mean_content_accuracy              303\n",
       "mean_task_accuracy                1391\n",
       "mean_timestamp_accuracy              0\n",
       "mean_priortime_accuracy              0\n",
       "dtype: int64"
      ]
     },
     "execution_count": 82,
     "metadata": {},
     "output_type": "execute_result"
    }
   ],
   "source": [
    "validate.isnull().sum(axis=0)"
   ]
  },
  {
   "cell_type": "code",
   "execution_count": 83,
   "metadata": {},
   "outputs": [
    {
     "data": {
      "text/plain": [
       "answered_correctly                   0\n",
       "prior_question_had_explanation       0\n",
       "user_acc_mean                        0\n",
       "user_lectures_running_total          0\n",
       "avg_user_q_time                      0\n",
       "mean_content_accuracy              303\n",
       "mean_task_accuracy                1391\n",
       "mean_timestamp_accuracy              0\n",
       "mean_priortime_accuracy              0\n",
       "dtype: int64"
      ]
     },
     "execution_count": 83,
     "metadata": {},
     "output_type": "execute_result"
    }
   ],
   "source": [
    "test.isnull().sum(axis=0)"
   ]
  },
  {
   "cell_type": "markdown",
   "metadata": {},
   "source": [
    "## Fill the missing values generated from merging\n",
    "- So far, fill the null values with 0.5"
   ]
  },
  {
   "cell_type": "code",
   "execution_count": 84,
   "metadata": {},
   "outputs": [],
   "source": [
    "validate = MVP_Shi.fill_nulls(validate)\n",
    "test = MVP_Shi.fill_nulls(test)"
   ]
  },
  {
   "cell_type": "code",
   "execution_count": 85,
   "metadata": {},
   "outputs": [
    {
     "data": {
      "text/plain": [
       "answered_correctly                0\n",
       "prior_question_had_explanation    0\n",
       "user_acc_mean                     0\n",
       "user_lectures_running_total       0\n",
       "avg_user_q_time                   0\n",
       "mean_content_accuracy             0\n",
       "mean_task_accuracy                0\n",
       "mean_timestamp_accuracy           0\n",
       "mean_priortime_accuracy           0\n",
       "dtype: int64"
      ]
     },
     "execution_count": 85,
     "metadata": {},
     "output_type": "execute_result"
    }
   ],
   "source": [
    "# Check the nulls in the validate\n",
    "validate.isnull().sum(axis=0)"
   ]
  },
  {
   "cell_type": "code",
   "execution_count": 86,
   "metadata": {},
   "outputs": [
    {
     "data": {
      "text/plain": [
       "answered_correctly                0\n",
       "prior_question_had_explanation    0\n",
       "user_acc_mean                     0\n",
       "user_lectures_running_total       0\n",
       "avg_user_q_time                   0\n",
       "mean_content_accuracy             0\n",
       "mean_task_accuracy                0\n",
       "mean_timestamp_accuracy           0\n",
       "mean_priortime_accuracy           0\n",
       "dtype: int64"
      ]
     },
     "execution_count": 86,
     "metadata": {},
     "output_type": "execute_result"
    }
   ],
   "source": [
    "# Check the nulls in the test\n",
    "test.isnull().sum(axis=0)"
   ]
  },
  {
   "cell_type": "markdown",
   "metadata": {},
   "source": [
    "## Scale the columns "
   ]
  },
  {
   "cell_type": "code",
   "execution_count": 87,
   "metadata": {},
   "outputs": [],
   "source": [
    "columns_to_scale = ['mean_timestamp_accuracy', 'mean_priortime_accuracy',\n",
    "                    'user_lectures_running_total', 'avg_user_q_time']\n",
    "\n",
    "scaler, train, validate, test = MVP_Shi.scale(train, validate, test, columns_to_scale)"
   ]
  },
  {
   "cell_type": "code",
   "execution_count": 88,
   "metadata": {},
   "outputs": [
    {
     "data": {
      "text/html": [
       "<div>\n",
       "<style scoped>\n",
       "    .dataframe tbody tr th:only-of-type {\n",
       "        vertical-align: middle;\n",
       "    }\n",
       "\n",
       "    .dataframe tbody tr th {\n",
       "        vertical-align: top;\n",
       "    }\n",
       "\n",
       "    .dataframe thead th {\n",
       "        text-align: right;\n",
       "    }\n",
       "</style>\n",
       "<table border=\"1\" class=\"dataframe\">\n",
       "  <thead>\n",
       "    <tr style=\"text-align: right;\">\n",
       "      <th></th>\n",
       "      <th>answered_correctly</th>\n",
       "      <th>prior_question_had_explanation</th>\n",
       "      <th>user_acc_mean</th>\n",
       "      <th>mean_content_accuracy</th>\n",
       "      <th>mean_task_accuracy</th>\n",
       "      <th>mean_timestamp_accuracy_scaled</th>\n",
       "      <th>mean_priortime_accuracy_scaled</th>\n",
       "      <th>user_lectures_running_total_scaled</th>\n",
       "      <th>avg_user_q_time_scaled</th>\n",
       "    </tr>\n",
       "  </thead>\n",
       "  <tbody>\n",
       "    <tr>\n",
       "      <th>0</th>\n",
       "      <td>1</td>\n",
       "      <td>False</td>\n",
       "      <td>0.630049</td>\n",
       "      <td>0.818182</td>\n",
       "      <td>0.682248</td>\n",
       "      <td>0.120073</td>\n",
       "      <td>0.500746</td>\n",
       "      <td>0.0</td>\n",
       "      <td>0.002404</td>\n",
       "    </tr>\n",
       "    <tr>\n",
       "      <th>1</th>\n",
       "      <td>0</td>\n",
       "      <td>False</td>\n",
       "      <td>0.630049</td>\n",
       "      <td>0.550000</td>\n",
       "      <td>0.534988</td>\n",
       "      <td>0.120073</td>\n",
       "      <td>0.500746</td>\n",
       "      <td>0.0</td>\n",
       "      <td>0.002404</td>\n",
       "    </tr>\n",
       "    <tr>\n",
       "      <th>2</th>\n",
       "      <td>1</td>\n",
       "      <td>False</td>\n",
       "      <td>0.630049</td>\n",
       "      <td>0.444444</td>\n",
       "      <td>0.445216</td>\n",
       "      <td>0.120073</td>\n",
       "      <td>0.500746</td>\n",
       "      <td>0.0</td>\n",
       "      <td>0.002404</td>\n",
       "    </tr>\n",
       "    <tr>\n",
       "      <th>3</th>\n",
       "      <td>1</td>\n",
       "      <td>False</td>\n",
       "      <td>0.630049</td>\n",
       "      <td>0.406250</td>\n",
       "      <td>0.543241</td>\n",
       "      <td>0.120073</td>\n",
       "      <td>0.500746</td>\n",
       "      <td>0.0</td>\n",
       "      <td>0.002404</td>\n",
       "    </tr>\n",
       "    <tr>\n",
       "      <th>4</th>\n",
       "      <td>0</td>\n",
       "      <td>False</td>\n",
       "      <td>0.630049</td>\n",
       "      <td>0.687500</td>\n",
       "      <td>0.485282</td>\n",
       "      <td>0.120073</td>\n",
       "      <td>0.500746</td>\n",
       "      <td>0.0</td>\n",
       "      <td>0.002404</td>\n",
       "    </tr>\n",
       "  </tbody>\n",
       "</table>\n",
       "</div>"
      ],
      "text/plain": [
       "   answered_correctly  prior_question_had_explanation  user_acc_mean  \\\n",
       "0                   1                           False       0.630049   \n",
       "1                   0                           False       0.630049   \n",
       "2                   1                           False       0.630049   \n",
       "3                   1                           False       0.630049   \n",
       "4                   0                           False       0.630049   \n",
       "\n",
       "   mean_content_accuracy  mean_task_accuracy  mean_timestamp_accuracy_scaled  \\\n",
       "0               0.818182            0.682248                        0.120073   \n",
       "1               0.550000            0.534988                        0.120073   \n",
       "2               0.444444            0.445216                        0.120073   \n",
       "3               0.406250            0.543241                        0.120073   \n",
       "4               0.687500            0.485282                        0.120073   \n",
       "\n",
       "   mean_priortime_accuracy_scaled  user_lectures_running_total_scaled  \\\n",
       "0                        0.500746                                 0.0   \n",
       "1                        0.500746                                 0.0   \n",
       "2                        0.500746                                 0.0   \n",
       "3                        0.500746                                 0.0   \n",
       "4                        0.500746                                 0.0   \n",
       "\n",
       "   avg_user_q_time_scaled  \n",
       "0                0.002404  \n",
       "1                0.002404  \n",
       "2                0.002404  \n",
       "3                0.002404  \n",
       "4                0.002404  "
      ]
     },
     "execution_count": 88,
     "metadata": {},
     "output_type": "execute_result"
    }
   ],
   "source": [
    "# Take a peek at the train\n",
    "train.head()"
   ]
  },
  {
   "cell_type": "code",
   "execution_count": 89,
   "metadata": {},
   "outputs": [
    {
     "data": {
      "text/html": [
       "<div>\n",
       "<style scoped>\n",
       "    .dataframe tbody tr th:only-of-type {\n",
       "        vertical-align: middle;\n",
       "    }\n",
       "\n",
       "    .dataframe tbody tr th {\n",
       "        vertical-align: top;\n",
       "    }\n",
       "\n",
       "    .dataframe thead th {\n",
       "        text-align: right;\n",
       "    }\n",
       "</style>\n",
       "<table border=\"1\" class=\"dataframe\">\n",
       "  <thead>\n",
       "    <tr style=\"text-align: right;\">\n",
       "      <th></th>\n",
       "      <th>answered_correctly</th>\n",
       "      <th>prior_question_had_explanation</th>\n",
       "      <th>user_acc_mean</th>\n",
       "      <th>mean_content_accuracy</th>\n",
       "      <th>mean_task_accuracy</th>\n",
       "      <th>mean_timestamp_accuracy_scaled</th>\n",
       "      <th>mean_priortime_accuracy_scaled</th>\n",
       "      <th>user_lectures_running_total_scaled</th>\n",
       "      <th>avg_user_q_time_scaled</th>\n",
       "    </tr>\n",
       "  </thead>\n",
       "  <tbody>\n",
       "    <tr>\n",
       "      <th>0</th>\n",
       "      <td>1</td>\n",
       "      <td>True</td>\n",
       "      <td>0.630049</td>\n",
       "      <td>0.468750</td>\n",
       "      <td>0.529412</td>\n",
       "      <td>0.120073</td>\n",
       "      <td>0.500746</td>\n",
       "      <td>0.0</td>\n",
       "      <td>0.002404</td>\n",
       "    </tr>\n",
       "    <tr>\n",
       "      <th>1</th>\n",
       "      <td>1</td>\n",
       "      <td>True</td>\n",
       "      <td>0.630049</td>\n",
       "      <td>0.290323</td>\n",
       "      <td>0.578947</td>\n",
       "      <td>0.120073</td>\n",
       "      <td>0.500746</td>\n",
       "      <td>0.0</td>\n",
       "      <td>0.002404</td>\n",
       "    </tr>\n",
       "    <tr>\n",
       "      <th>2</th>\n",
       "      <td>0</td>\n",
       "      <td>True</td>\n",
       "      <td>0.630049</td>\n",
       "      <td>0.387755</td>\n",
       "      <td>0.588235</td>\n",
       "      <td>0.120073</td>\n",
       "      <td>0.500746</td>\n",
       "      <td>0.0</td>\n",
       "      <td>0.002404</td>\n",
       "    </tr>\n",
       "    <tr>\n",
       "      <th>3</th>\n",
       "      <td>1</td>\n",
       "      <td>True</td>\n",
       "      <td>0.630049</td>\n",
       "      <td>0.740741</td>\n",
       "      <td>0.500000</td>\n",
       "      <td>0.120073</td>\n",
       "      <td>0.500746</td>\n",
       "      <td>0.0</td>\n",
       "      <td>0.002404</td>\n",
       "    </tr>\n",
       "    <tr>\n",
       "      <th>4</th>\n",
       "      <td>0</td>\n",
       "      <td>True</td>\n",
       "      <td>0.630049</td>\n",
       "      <td>0.428571</td>\n",
       "      <td>0.588235</td>\n",
       "      <td>0.120073</td>\n",
       "      <td>0.500746</td>\n",
       "      <td>0.0</td>\n",
       "      <td>0.002404</td>\n",
       "    </tr>\n",
       "  </tbody>\n",
       "</table>\n",
       "</div>"
      ],
      "text/plain": [
       "   answered_correctly  prior_question_had_explanation  user_acc_mean  \\\n",
       "0                   1                            True       0.630049   \n",
       "1                   1                            True       0.630049   \n",
       "2                   0                            True       0.630049   \n",
       "3                   1                            True       0.630049   \n",
       "4                   0                            True       0.630049   \n",
       "\n",
       "   mean_content_accuracy  mean_task_accuracy  mean_timestamp_accuracy_scaled  \\\n",
       "0               0.468750            0.529412                        0.120073   \n",
       "1               0.290323            0.578947                        0.120073   \n",
       "2               0.387755            0.588235                        0.120073   \n",
       "3               0.740741            0.500000                        0.120073   \n",
       "4               0.428571            0.588235                        0.120073   \n",
       "\n",
       "   mean_priortime_accuracy_scaled  user_lectures_running_total_scaled  \\\n",
       "0                        0.500746                                 0.0   \n",
       "1                        0.500746                                 0.0   \n",
       "2                        0.500746                                 0.0   \n",
       "3                        0.500746                                 0.0   \n",
       "4                        0.500746                                 0.0   \n",
       "\n",
       "   avg_user_q_time_scaled  \n",
       "0                0.002404  \n",
       "1                0.002404  \n",
       "2                0.002404  \n",
       "3                0.002404  \n",
       "4                0.002404  "
      ]
     },
     "execution_count": 89,
     "metadata": {},
     "output_type": "execute_result"
    }
   ],
   "source": [
    "# Take a peek at the validate\n",
    "validate.head()"
   ]
  },
  {
   "cell_type": "code",
   "execution_count": 90,
   "metadata": {},
   "outputs": [
    {
     "data": {
      "text/html": [
       "<div>\n",
       "<style scoped>\n",
       "    .dataframe tbody tr th:only-of-type {\n",
       "        vertical-align: middle;\n",
       "    }\n",
       "\n",
       "    .dataframe tbody tr th {\n",
       "        vertical-align: top;\n",
       "    }\n",
       "\n",
       "    .dataframe thead th {\n",
       "        text-align: right;\n",
       "    }\n",
       "</style>\n",
       "<table border=\"1\" class=\"dataframe\">\n",
       "  <thead>\n",
       "    <tr style=\"text-align: right;\">\n",
       "      <th></th>\n",
       "      <th>answered_correctly</th>\n",
       "      <th>prior_question_had_explanation</th>\n",
       "      <th>user_acc_mean</th>\n",
       "      <th>mean_content_accuracy</th>\n",
       "      <th>mean_task_accuracy</th>\n",
       "      <th>mean_timestamp_accuracy_scaled</th>\n",
       "      <th>mean_priortime_accuracy_scaled</th>\n",
       "      <th>user_lectures_running_total_scaled</th>\n",
       "      <th>avg_user_q_time_scaled</th>\n",
       "    </tr>\n",
       "  </thead>\n",
       "  <tbody>\n",
       "    <tr>\n",
       "      <th>0</th>\n",
       "      <td>1</td>\n",
       "      <td>True</td>\n",
       "      <td>0.630049</td>\n",
       "      <td>0.468750</td>\n",
       "      <td>0.529412</td>\n",
       "      <td>0.120073</td>\n",
       "      <td>0.500746</td>\n",
       "      <td>0.0</td>\n",
       "      <td>0.002404</td>\n",
       "    </tr>\n",
       "    <tr>\n",
       "      <th>1</th>\n",
       "      <td>1</td>\n",
       "      <td>True</td>\n",
       "      <td>0.630049</td>\n",
       "      <td>0.290323</td>\n",
       "      <td>0.578947</td>\n",
       "      <td>0.120073</td>\n",
       "      <td>0.500746</td>\n",
       "      <td>0.0</td>\n",
       "      <td>0.002404</td>\n",
       "    </tr>\n",
       "    <tr>\n",
       "      <th>2</th>\n",
       "      <td>0</td>\n",
       "      <td>True</td>\n",
       "      <td>0.630049</td>\n",
       "      <td>0.387755</td>\n",
       "      <td>0.588235</td>\n",
       "      <td>0.120073</td>\n",
       "      <td>0.500746</td>\n",
       "      <td>0.0</td>\n",
       "      <td>0.002404</td>\n",
       "    </tr>\n",
       "    <tr>\n",
       "      <th>3</th>\n",
       "      <td>1</td>\n",
       "      <td>True</td>\n",
       "      <td>0.630049</td>\n",
       "      <td>0.740741</td>\n",
       "      <td>0.500000</td>\n",
       "      <td>0.120073</td>\n",
       "      <td>0.500746</td>\n",
       "      <td>0.0</td>\n",
       "      <td>0.002404</td>\n",
       "    </tr>\n",
       "    <tr>\n",
       "      <th>4</th>\n",
       "      <td>0</td>\n",
       "      <td>True</td>\n",
       "      <td>0.630049</td>\n",
       "      <td>0.428571</td>\n",
       "      <td>0.588235</td>\n",
       "      <td>0.120073</td>\n",
       "      <td>0.500746</td>\n",
       "      <td>0.0</td>\n",
       "      <td>0.002404</td>\n",
       "    </tr>\n",
       "  </tbody>\n",
       "</table>\n",
       "</div>"
      ],
      "text/plain": [
       "   answered_correctly  prior_question_had_explanation  user_acc_mean  \\\n",
       "0                   1                            True       0.630049   \n",
       "1                   1                            True       0.630049   \n",
       "2                   0                            True       0.630049   \n",
       "3                   1                            True       0.630049   \n",
       "4                   0                            True       0.630049   \n",
       "\n",
       "   mean_content_accuracy  mean_task_accuracy  mean_timestamp_accuracy_scaled  \\\n",
       "0               0.468750            0.529412                        0.120073   \n",
       "1               0.290323            0.578947                        0.120073   \n",
       "2               0.387755            0.588235                        0.120073   \n",
       "3               0.740741            0.500000                        0.120073   \n",
       "4               0.428571            0.588235                        0.120073   \n",
       "\n",
       "   mean_priortime_accuracy_scaled  user_lectures_running_total_scaled  \\\n",
       "0                        0.500746                                 0.0   \n",
       "1                        0.500746                                 0.0   \n",
       "2                        0.500746                                 0.0   \n",
       "3                        0.500746                                 0.0   \n",
       "4                        0.500746                                 0.0   \n",
       "\n",
       "   avg_user_q_time_scaled  \n",
       "0                0.002404  \n",
       "1                0.002404  \n",
       "2                0.002404  \n",
       "3                0.002404  \n",
       "4                0.002404  "
      ]
     },
     "execution_count": 90,
     "metadata": {},
     "output_type": "execute_result"
    }
   ],
   "source": [
    "# Take a peek at the test\n",
    "test.head()"
   ]
  },
  {
   "cell_type": "markdown",
   "metadata": {},
   "source": [
    "## Convert the boolean values to 0 and 1"
   ]
  },
  {
   "cell_type": "code",
   "execution_count": 91,
   "metadata": {},
   "outputs": [
    {
     "data": {
      "text/plain": [
       "True     360193\n",
       "False     43184\n",
       "Name: prior_question_had_explanation, dtype: int64"
      ]
     },
     "execution_count": 91,
     "metadata": {},
     "output_type": "execute_result"
    }
   ],
   "source": [
    "# Count the number of unique values in the column prior_question_had_explanation\n",
    "train.prior_question_had_explanation.value_counts()"
   ]
  },
  {
   "cell_type": "code",
   "execution_count": 92,
   "metadata": {},
   "outputs": [
    {
     "data": {
      "text/plain": [
       "True     49754\n",
       "False     2217\n",
       "Name: prior_question_had_explanation, dtype: int64"
      ]
     },
     "execution_count": 92,
     "metadata": {},
     "output_type": "execute_result"
    }
   ],
   "source": [
    "# Count the number of unique values in the column prior_question_had_explanation\n",
    "validate.prior_question_had_explanation.value_counts()"
   ]
  },
  {
   "cell_type": "code",
   "execution_count": 93,
   "metadata": {},
   "outputs": [
    {
     "data": {
      "text/plain": [
       "True     49754\n",
       "False     2217\n",
       "Name: prior_question_had_explanation, dtype: int64"
      ]
     },
     "execution_count": 93,
     "metadata": {},
     "output_type": "execute_result"
    }
   ],
   "source": [
    "# Count the number of unique values in the column prior_question_had_explanation\n",
    "test.prior_question_had_explanation.value_counts()"
   ]
  },
  {
   "cell_type": "code",
   "execution_count": 94,
   "metadata": {},
   "outputs": [],
   "source": [
    "# Conver the boolean values to 0 and 1\n",
    "\n",
    "train = MVP_Shi.boolean_to_num(train)\n",
    "validate = MVP_Shi.boolean_to_num(validate)\n",
    "test = MVP_Shi.boolean_to_num(test)"
   ]
  },
  {
   "cell_type": "code",
   "execution_count": 95,
   "metadata": {
    "scrolled": true
   },
   "outputs": [
    {
     "data": {
      "text/plain": [
       "1    360193\n",
       "0     43184\n",
       "Name: prior_question_had_explanation, dtype: int64"
      ]
     },
     "execution_count": 95,
     "metadata": {},
     "output_type": "execute_result"
    }
   ],
   "source": [
    "# After conversion\n",
    "# Count the number of unique values in the column prior_question_had_explanation\n",
    "train.prior_question_had_explanation.value_counts()"
   ]
  },
  {
   "cell_type": "code",
   "execution_count": 96,
   "metadata": {},
   "outputs": [
    {
     "data": {
      "text/plain": [
       "1    49754\n",
       "0     2217\n",
       "Name: prior_question_had_explanation, dtype: int64"
      ]
     },
     "execution_count": 96,
     "metadata": {},
     "output_type": "execute_result"
    }
   ],
   "source": [
    "# After conversion\n",
    "# Count the number of unique values in the column prior_question_had_explanation\n",
    "validate.prior_question_had_explanation.value_counts()"
   ]
  },
  {
   "cell_type": "code",
   "execution_count": 97,
   "metadata": {},
   "outputs": [
    {
     "data": {
      "text/plain": [
       "1    49754\n",
       "0     2217\n",
       "Name: prior_question_had_explanation, dtype: int64"
      ]
     },
     "execution_count": 97,
     "metadata": {},
     "output_type": "execute_result"
    }
   ],
   "source": [
    "# After conversion\n",
    "# Count the number of unique values in the column prior_question_had_explanation\n",
    "test.prior_question_had_explanation.value_counts()"
   ]
  },
  {
   "cell_type": "markdown",
   "metadata": {},
   "source": [
    "# Model"
   ]
  },
  {
   "cell_type": "markdown",
   "metadata": {},
   "source": [
    "## Calculate the baseline"
   ]
  },
  {
   "cell_type": "code",
   "execution_count": null,
   "metadata": {},
   "outputs": [],
   "source": [
    "# Generate "
   ]
  },
  {
   "cell_type": "markdown",
   "metadata": {},
   "source": [
    "# Conclusions"
   ]
  },
  {
   "cell_type": "code",
   "execution_count": null,
   "metadata": {},
   "outputs": [],
   "source": []
  },
  {
   "cell_type": "markdown",
   "metadata": {},
   "source": [
    "### Future Investigations"
   ]
  },
  {
   "cell_type": "code",
   "execution_count": null,
   "metadata": {},
   "outputs": [],
   "source": []
  },
  {
   "cell_type": "markdown",
   "metadata": {},
   "source": [
    "### Resources"
   ]
  },
  {
   "cell_type": "markdown",
   "metadata": {},
   "source": [
    "- https://www.kaggle.com/c/riiid-test-answer-prediction/overview/description\n",
    "- https://www.kaggle.com/isaienkov/riiid-answer-correctness-prediction-eda-modeling"
   ]
  },
  {
   "cell_type": "markdown",
   "metadata": {},
   "source": [
    "### Contact Us"
   ]
  },
  {
   "cell_type": "markdown",
   "metadata": {},
   "source": [
    "Dani Bojado\n",
    "- daniella.bojado@gmail.com \n",
    "\n",
    "Samuel Davila\n",
    "- samuelrdavila@gmail.com\n",
    "\n",
    "Yongliang Shi\n",
    "- yongliang.michael.shi@gmail.com\n",
    "\n",
    "Christopher Logan Ortiz\n",
    "- christopher.logan.ortiz@gmail.com"
   ]
  }
 ],
 "metadata": {
  "kernelspec": {
   "display_name": "Python 3",
   "language": "python",
   "name": "python3"
  },
  "language_info": {
   "codemirror_mode": {
    "name": "ipython",
    "version": 3
   },
   "file_extension": ".py",
   "mimetype": "text/x-python",
   "name": "python",
   "nbconvert_exporter": "python",
   "pygments_lexer": "ipython3",
   "version": "3.7.6"
  }
 },
 "nbformat": 4,
 "nbformat_minor": 4
}
