{
 "cells": [
  {
   "cell_type": "markdown",
   "metadata": {},
   "source": [
    "# Riiid Project: Minimally Viable Product (MVP)  \n",
    "***"
   ]
  },
  {
   "cell_type": "markdown",
   "metadata": {},
   "source": [
    "# Table of Contents\n",
    "## [Acquire](#acquire)\n",
    "## [Prepare](#prepare)\n",
    "## [Explore](#explore)\n",
    "## [Modeling](#modeling)\n",
    "## [Conclusions](#conclusions)"
   ]
  },
  {
   "cell_type": "markdown",
   "metadata": {},
   "source": [
    "## About Riiid Labs"
   ]
  },
  {
   "cell_type": "markdown",
   "metadata": {},
   "source": [
    "Riiid Labs, an AI solutions provider delivering creative disruption to the education market. With a strong belief in equal opportunity in education, Riiid launched an AI tutor based on deep-learning algorithms in 2017 that attracted more than one million South Korean students. This year, the company released EdNet, the world’s largest open database for AI education containing more than 100 million student interactions. [Source](https://www.kaggle.com/c/riiid-test-answer-prediction/overview/description)"
   ]
  },
  {
   "cell_type": "markdown",
   "metadata": {},
   "source": [
    "## Our Goal"
   ]
  },
  {
   "cell_type": "markdown",
   "metadata": {},
   "source": [
    "The goal of this project is to create a machine learning model that can predict whether or not a user will answer a problem correctly using data from Riiid's EdNet Database. "
   ]
  },
  {
   "cell_type": "markdown",
   "metadata": {},
   "source": [
    "# Imports"
   ]
  },
  {
   "cell_type": "code",
   "execution_count": 3,
   "metadata": {},
   "outputs": [],
   "source": [
    "# General Imports \n",
    "import pandas as pd\n",
    "import numpy as np\n",
    "import matplotlib.pyplot as plt\n",
    "import seaborn as sns\n",
    "from scipy import stats\n",
    "%matplotlib inline\n",
    "\n",
    "# Train Validate Test\n",
    "from sklearn.model_selection import train_test_split\n",
    "\n",
    "# Modeling Imports\n",
    "from sklearn.cluster import KMeans\n",
    "\n",
    "# Acquire and Prepare Files\n",
    "import acquire, prepare, explore, model\n",
    "from explore import rfe_ranker\n",
    "\n",
    "# Sklearn \n",
    "from sklearn.preprocessing import MinMaxScaler\n",
    "from sklearn.feature_selection import SelectKBest, f_regression\n",
    "from sklearn.metrics import plot_roc_curve, plot_precision_recall_curve, roc_auc_score\n",
    "from sklearn.linear_model import LogisticRegression\n",
    "from sklearn.tree import DecisionTreeClassifier\n",
    "from sklearn.ensemble import RandomForestClassifier, AdaBoostClassifier, GradientBoostingClassifier\n",
    "from sklearn.neighbors import KNeighborsClassifier\n",
    "from sklearn.naive_bayes import GaussianNB\n",
    "from sklearn.neural_network import MLPClassifier\n",
    "\n",
    "# Warnings \n",
    "import warnings\n",
    "warnings.filterwarnings(\"ignore\")"
   ]
  },
  {
   "cell_type": "markdown",
   "metadata": {},
   "source": [
    "# Acquire<a id='acquire'></a>\n",
    "Acqure the data used for this project.\n",
    "***"
   ]
  },
  {
   "cell_type": "code",
   "execution_count": 4,
   "metadata": {},
   "outputs": [
    {
     "data": {
      "text/plain": [
       "((411517, 18), (50842, 18), (52868, 18))"
      ]
     },
     "execution_count": 4,
     "metadata": {},
     "output_type": "execute_result"
    }
   ],
   "source": [
    "# Reading in data from local files\n",
    "df_train = pd.read_csv('train.csv')\n",
    "df_validate = pd.read_csv('validate.csv')\n",
    "df_test = pd.read_csv('test.csv')\n",
    "\n",
    "df_train.shape, df_validate.shape, df_test.shape"
   ]
  },
  {
   "cell_type": "code",
   "execution_count": 5,
   "metadata": {},
   "outputs": [
    {
     "data": {
      "text/html": [
       "<div>\n",
       "<style scoped>\n",
       "    .dataframe tbody tr th:only-of-type {\n",
       "        vertical-align: middle;\n",
       "    }\n",
       "\n",
       "    .dataframe tbody tr th {\n",
       "        vertical-align: top;\n",
       "    }\n",
       "\n",
       "    .dataframe thead th {\n",
       "        text-align: right;\n",
       "    }\n",
       "</style>\n",
       "<table border=\"1\" class=\"dataframe\">\n",
       "  <thead>\n",
       "    <tr style=\"text-align: right;\">\n",
       "      <th></th>\n",
       "      <th>timestamp</th>\n",
       "      <th>user_id</th>\n",
       "      <th>content_id</th>\n",
       "      <th>content_type_id</th>\n",
       "      <th>task_container_id</th>\n",
       "      <th>user_answer</th>\n",
       "      <th>answered_correctly</th>\n",
       "      <th>prior_question_elapsed_time</th>\n",
       "      <th>prior_question_had_explanation</th>\n",
       "      <th>lecture_id</th>\n",
       "      <th>tag</th>\n",
       "      <th>lecture_part</th>\n",
       "      <th>type_of</th>\n",
       "      <th>question_id</th>\n",
       "      <th>bundle_id</th>\n",
       "      <th>correct_answer</th>\n",
       "      <th>question_part</th>\n",
       "      <th>tags</th>\n",
       "    </tr>\n",
       "  </thead>\n",
       "  <tbody>\n",
       "    <tr>\n",
       "      <th>0</th>\n",
       "      <td>0</td>\n",
       "      <td>1864702</td>\n",
       "      <td>5720</td>\n",
       "      <td>0</td>\n",
       "      <td>0</td>\n",
       "      <td>1</td>\n",
       "      <td>1</td>\n",
       "      <td>NaN</td>\n",
       "      <td>NaN</td>\n",
       "      <td>NaN</td>\n",
       "      <td>NaN</td>\n",
       "      <td>NaN</td>\n",
       "      <td>NaN</td>\n",
       "      <td>5720.0</td>\n",
       "      <td>5720.0</td>\n",
       "      <td>1.0</td>\n",
       "      <td>5.0</td>\n",
       "      <td>115</td>\n",
       "    </tr>\n",
       "    <tr>\n",
       "      <th>1</th>\n",
       "      <td>45951</td>\n",
       "      <td>1864702</td>\n",
       "      <td>5204</td>\n",
       "      <td>0</td>\n",
       "      <td>1</td>\n",
       "      <td>1</td>\n",
       "      <td>0</td>\n",
       "      <td>inf</td>\n",
       "      <td>False</td>\n",
       "      <td>NaN</td>\n",
       "      <td>NaN</td>\n",
       "      <td>NaN</td>\n",
       "      <td>NaN</td>\n",
       "      <td>5204.0</td>\n",
       "      <td>5204.0</td>\n",
       "      <td>3.0</td>\n",
       "      <td>5.0</td>\n",
       "      <td>173</td>\n",
       "    </tr>\n",
       "  </tbody>\n",
       "</table>\n",
       "</div>"
      ],
      "text/plain": [
       "   timestamp  user_id  content_id  content_type_id  task_container_id  \\\n",
       "0          0  1864702        5720                0                  0   \n",
       "1      45951  1864702        5204                0                  1   \n",
       "\n",
       "   user_answer  answered_correctly  prior_question_elapsed_time  \\\n",
       "0            1                   1                          NaN   \n",
       "1            1                   0                          inf   \n",
       "\n",
       "  prior_question_had_explanation  lecture_id  tag  lecture_part type_of  \\\n",
       "0                            NaN         NaN  NaN           NaN     NaN   \n",
       "1                          False         NaN  NaN           NaN     NaN   \n",
       "\n",
       "   question_id  bundle_id  correct_answer  question_part tags  \n",
       "0       5720.0     5720.0             1.0            5.0  115  \n",
       "1       5204.0     5204.0             3.0            5.0  173  "
      ]
     },
     "execution_count": 5,
     "metadata": {},
     "output_type": "execute_result"
    }
   ],
   "source": [
    "# Train Data\n",
    "df_train.head(2)"
   ]
  },
  {
   "cell_type": "code",
   "execution_count": 6,
   "metadata": {},
   "outputs": [
    {
     "data": {
      "text/html": [
       "<div>\n",
       "<style scoped>\n",
       "    .dataframe tbody tr th:only-of-type {\n",
       "        vertical-align: middle;\n",
       "    }\n",
       "\n",
       "    .dataframe tbody tr th {\n",
       "        vertical-align: top;\n",
       "    }\n",
       "\n",
       "    .dataframe thead th {\n",
       "        text-align: right;\n",
       "    }\n",
       "</style>\n",
       "<table border=\"1\" class=\"dataframe\">\n",
       "  <thead>\n",
       "    <tr style=\"text-align: right;\">\n",
       "      <th></th>\n",
       "      <th>timestamp</th>\n",
       "      <th>user_id</th>\n",
       "      <th>content_id</th>\n",
       "      <th>content_type_id</th>\n",
       "      <th>task_container_id</th>\n",
       "      <th>user_answer</th>\n",
       "      <th>answered_correctly</th>\n",
       "      <th>prior_question_elapsed_time</th>\n",
       "      <th>prior_question_had_explanation</th>\n",
       "      <th>lecture_id</th>\n",
       "      <th>tag</th>\n",
       "      <th>lecture_part</th>\n",
       "      <th>type_of</th>\n",
       "      <th>question_id</th>\n",
       "      <th>bundle_id</th>\n",
       "      <th>correct_answer</th>\n",
       "      <th>question_part</th>\n",
       "      <th>tags</th>\n",
       "    </tr>\n",
       "  </thead>\n",
       "  <tbody>\n",
       "    <tr>\n",
       "      <th>0</th>\n",
       "      <td>15625124241</td>\n",
       "      <td>1864702</td>\n",
       "      <td>3209</td>\n",
       "      <td>0</td>\n",
       "      <td>2152</td>\n",
       "      <td>3</td>\n",
       "      <td>1</td>\n",
       "      <td>34660.0</td>\n",
       "      <td>True</td>\n",
       "      <td>NaN</td>\n",
       "      <td>NaN</td>\n",
       "      <td>NaN</td>\n",
       "      <td>NaN</td>\n",
       "      <td>3209.0</td>\n",
       "      <td>3207.0</td>\n",
       "      <td>3.0</td>\n",
       "      <td>4.0</td>\n",
       "      <td>157 169 162 38</td>\n",
       "    </tr>\n",
       "    <tr>\n",
       "      <th>1</th>\n",
       "      <td>15625124241</td>\n",
       "      <td>1864702</td>\n",
       "      <td>3208</td>\n",
       "      <td>0</td>\n",
       "      <td>2152</td>\n",
       "      <td>3</td>\n",
       "      <td>1</td>\n",
       "      <td>34660.0</td>\n",
       "      <td>True</td>\n",
       "      <td>NaN</td>\n",
       "      <td>NaN</td>\n",
       "      <td>NaN</td>\n",
       "      <td>NaN</td>\n",
       "      <td>3208.0</td>\n",
       "      <td>3207.0</td>\n",
       "      <td>3.0</td>\n",
       "      <td>4.0</td>\n",
       "      <td>113 169 162 38</td>\n",
       "    </tr>\n",
       "  </tbody>\n",
       "</table>\n",
       "</div>"
      ],
      "text/plain": [
       "     timestamp  user_id  content_id  content_type_id  task_container_id  \\\n",
       "0  15625124241  1864702        3209                0               2152   \n",
       "1  15625124241  1864702        3208                0               2152   \n",
       "\n",
       "   user_answer  answered_correctly  prior_question_elapsed_time  \\\n",
       "0            3                   1                      34660.0   \n",
       "1            3                   1                      34660.0   \n",
       "\n",
       "   prior_question_had_explanation  lecture_id  tag  lecture_part type_of  \\\n",
       "0                            True         NaN  NaN           NaN     NaN   \n",
       "1                            True         NaN  NaN           NaN     NaN   \n",
       "\n",
       "   question_id  bundle_id  correct_answer  question_part            tags  \n",
       "0       3209.0     3207.0             3.0            4.0  157 169 162 38  \n",
       "1       3208.0     3207.0             3.0            4.0  113 169 162 38  "
      ]
     },
     "execution_count": 6,
     "metadata": {},
     "output_type": "execute_result"
    }
   ],
   "source": [
    "# Validate Data\n",
    "df_validate.head(2)"
   ]
  },
  {
   "cell_type": "code",
   "execution_count": 7,
   "metadata": {
    "scrolled": true
   },
   "outputs": [
    {
     "data": {
      "text/html": [
       "<div>\n",
       "<style scoped>\n",
       "    .dataframe tbody tr th:only-of-type {\n",
       "        vertical-align: middle;\n",
       "    }\n",
       "\n",
       "    .dataframe tbody tr th {\n",
       "        vertical-align: top;\n",
       "    }\n",
       "\n",
       "    .dataframe thead th {\n",
       "        text-align: right;\n",
       "    }\n",
       "</style>\n",
       "<table border=\"1\" class=\"dataframe\">\n",
       "  <thead>\n",
       "    <tr style=\"text-align: right;\">\n",
       "      <th></th>\n",
       "      <th>timestamp</th>\n",
       "      <th>user_id</th>\n",
       "      <th>content_id</th>\n",
       "      <th>content_type_id</th>\n",
       "      <th>task_container_id</th>\n",
       "      <th>user_answer</th>\n",
       "      <th>answered_correctly</th>\n",
       "      <th>prior_question_elapsed_time</th>\n",
       "      <th>prior_question_had_explanation</th>\n",
       "      <th>lecture_id</th>\n",
       "      <th>tag</th>\n",
       "      <th>lecture_part</th>\n",
       "      <th>type_of</th>\n",
       "      <th>question_id</th>\n",
       "      <th>bundle_id</th>\n",
       "      <th>correct_answer</th>\n",
       "      <th>question_part</th>\n",
       "      <th>tags</th>\n",
       "    </tr>\n",
       "  </thead>\n",
       "  <tbody>\n",
       "    <tr>\n",
       "      <th>0</th>\n",
       "      <td>20170378604</td>\n",
       "      <td>1864702</td>\n",
       "      <td>8811</td>\n",
       "      <td>0</td>\n",
       "      <td>2494</td>\n",
       "      <td>1</td>\n",
       "      <td>1</td>\n",
       "      <td>3000.0</td>\n",
       "      <td>True</td>\n",
       "      <td>NaN</td>\n",
       "      <td>NaN</td>\n",
       "      <td>NaN</td>\n",
       "      <td>NaN</td>\n",
       "      <td>8811.0</td>\n",
       "      <td>8811.0</td>\n",
       "      <td>1.0</td>\n",
       "      <td>5.0</td>\n",
       "      <td>45</td>\n",
       "    </tr>\n",
       "    <tr>\n",
       "      <th>1</th>\n",
       "      <td>20170394313</td>\n",
       "      <td>1864702</td>\n",
       "      <td>8643</td>\n",
       "      <td>0</td>\n",
       "      <td>2495</td>\n",
       "      <td>3</td>\n",
       "      <td>1</td>\n",
       "      <td>4000.0</td>\n",
       "      <td>True</td>\n",
       "      <td>NaN</td>\n",
       "      <td>NaN</td>\n",
       "      <td>NaN</td>\n",
       "      <td>NaN</td>\n",
       "      <td>8643.0</td>\n",
       "      <td>8643.0</td>\n",
       "      <td>3.0</td>\n",
       "      <td>5.0</td>\n",
       "      <td>15</td>\n",
       "    </tr>\n",
       "  </tbody>\n",
       "</table>\n",
       "</div>"
      ],
      "text/plain": [
       "     timestamp  user_id  content_id  content_type_id  task_container_id  \\\n",
       "0  20170378604  1864702        8811                0               2494   \n",
       "1  20170394313  1864702        8643                0               2495   \n",
       "\n",
       "   user_answer  answered_correctly  prior_question_elapsed_time  \\\n",
       "0            1                   1                       3000.0   \n",
       "1            3                   1                       4000.0   \n",
       "\n",
       "   prior_question_had_explanation  lecture_id  tag  lecture_part type_of  \\\n",
       "0                            True         NaN  NaN           NaN     NaN   \n",
       "1                            True         NaN  NaN           NaN     NaN   \n",
       "\n",
       "   question_id  bundle_id  correct_answer  question_part tags  \n",
       "0       8811.0     8811.0             1.0            5.0   45  \n",
       "1       8643.0     8643.0             3.0            5.0   15  "
      ]
     },
     "execution_count": 7,
     "metadata": {},
     "output_type": "execute_result"
    }
   ],
   "source": [
    "# Test Data\n",
    "df_test.head(2)"
   ]
  },
  {
   "cell_type": "markdown",
   "metadata": {},
   "source": [
    "## Acquire Takeaways\n",
    "- Data initially acquired from Kaggle. \n",
    "- Imported data from saved local files. \n",
    "- The data is stored in three separate files: lectures.csv, questions.csv, and train.csv. \n",
    "- We used a random sample of 100K users for our analysis. "
   ]
  },
  {
   "cell_type": "markdown",
   "metadata": {},
   "source": [
    "# Prepare<a id='prepare'></a>\n",
    "Preparing the data for future exploration and modeling.\n",
    "***"
   ]
  },
  {
   "cell_type": "markdown",
   "metadata": {},
   "source": [
    "### Run Prepare Function (found in prepare.py module)"
   ]
  },
  {
   "cell_type": "code",
   "execution_count": 8,
   "metadata": {},
   "outputs": [],
   "source": [
    "# Produce train/validate/test\n",
    "# Produce scaled train/validate/test\n",
    "train, validate, test, train_s, validate_s, test_s = prepare.prep_riiid(df_train, df_validate, df_test)"
   ]
  },
  {
   "cell_type": "code",
   "execution_count": 9,
   "metadata": {},
   "outputs": [
    {
     "name": "stdout",
     "output_type": "stream",
     "text": [
      "(403377, 8)\n"
     ]
    },
    {
     "data": {
      "text/html": [
       "<div>\n",
       "<style scoped>\n",
       "    .dataframe tbody tr th:only-of-type {\n",
       "        vertical-align: middle;\n",
       "    }\n",
       "\n",
       "    .dataframe tbody tr th {\n",
       "        vertical-align: top;\n",
       "    }\n",
       "\n",
       "    .dataframe thead th {\n",
       "        text-align: right;\n",
       "    }\n",
       "</style>\n",
       "<table border=\"1\" class=\"dataframe\">\n",
       "  <thead>\n",
       "    <tr style=\"text-align: right;\">\n",
       "      <th></th>\n",
       "      <th>answered_correctly</th>\n",
       "      <th>question_had_explanation</th>\n",
       "      <th>user_acc_mean</th>\n",
       "      <th>user_lectures_running_total</th>\n",
       "      <th>q_time</th>\n",
       "      <th>avg_user_q_time</th>\n",
       "      <th>mean_content_accuracy</th>\n",
       "      <th>mean_task_accuracy</th>\n",
       "    </tr>\n",
       "  </thead>\n",
       "  <tbody>\n",
       "    <tr>\n",
       "      <th>0</th>\n",
       "      <td>1</td>\n",
       "      <td>0</td>\n",
       "      <td>0.630049</td>\n",
       "      <td>0</td>\n",
       "      <td>45951.0</td>\n",
       "      <td>11917302.0</td>\n",
       "      <td>0.818182</td>\n",
       "      <td>0.682248</td>\n",
       "    </tr>\n",
       "    <tr>\n",
       "      <th>1</th>\n",
       "      <td>0</td>\n",
       "      <td>0</td>\n",
       "      <td>0.630049</td>\n",
       "      <td>0</td>\n",
       "      <td>28391.0</td>\n",
       "      <td>11917302.0</td>\n",
       "      <td>0.550000</td>\n",
       "      <td>0.534988</td>\n",
       "    </tr>\n",
       "    <tr>\n",
       "      <th>2</th>\n",
       "      <td>1</td>\n",
       "      <td>0</td>\n",
       "      <td>0.630049</td>\n",
       "      <td>0</td>\n",
       "      <td>22436.0</td>\n",
       "      <td>11917302.0</td>\n",
       "      <td>0.444444</td>\n",
       "      <td>0.445216</td>\n",
       "    </tr>\n",
       "    <tr>\n",
       "      <th>3</th>\n",
       "      <td>1</td>\n",
       "      <td>0</td>\n",
       "      <td>0.630049</td>\n",
       "      <td>0</td>\n",
       "      <td>36191.0</td>\n",
       "      <td>11917302.0</td>\n",
       "      <td>0.406250</td>\n",
       "      <td>0.544008</td>\n",
       "    </tr>\n",
       "    <tr>\n",
       "      <th>4</th>\n",
       "      <td>0</td>\n",
       "      <td>0</td>\n",
       "      <td>0.630049</td>\n",
       "      <td>0</td>\n",
       "      <td>24322.0</td>\n",
       "      <td>11917302.0</td>\n",
       "      <td>0.687500</td>\n",
       "      <td>0.485282</td>\n",
       "    </tr>\n",
       "  </tbody>\n",
       "</table>\n",
       "</div>"
      ],
      "text/plain": [
       "   answered_correctly  question_had_explanation  user_acc_mean  \\\n",
       "0                   1                         0       0.630049   \n",
       "1                   0                         0       0.630049   \n",
       "2                   1                         0       0.630049   \n",
       "3                   1                         0       0.630049   \n",
       "4                   0                         0       0.630049   \n",
       "\n",
       "   user_lectures_running_total   q_time  avg_user_q_time  \\\n",
       "0                            0  45951.0       11917302.0   \n",
       "1                            0  28391.0       11917302.0   \n",
       "2                            0  22436.0       11917302.0   \n",
       "3                            0  36191.0       11917302.0   \n",
       "4                            0  24322.0       11917302.0   \n",
       "\n",
       "   mean_content_accuracy  mean_task_accuracy  \n",
       "0               0.818182            0.682248  \n",
       "1               0.550000            0.534988  \n",
       "2               0.444444            0.445216  \n",
       "3               0.406250            0.544008  \n",
       "4               0.687500            0.485282  "
      ]
     },
     "execution_count": 9,
     "metadata": {},
     "output_type": "execute_result"
    }
   ],
   "source": [
    "# Print the shape of train\n",
    "print(train.shape)\n",
    "\n",
    "# Display first 5 rows of train\n",
    "train.head()"
   ]
  },
  {
   "cell_type": "code",
   "execution_count": 10,
   "metadata": {
    "scrolled": true
   },
   "outputs": [
    {
     "name": "stdout",
     "output_type": "stream",
     "text": [
      "(403377, 7)\n"
     ]
    },
    {
     "data": {
      "text/html": [
       "<div>\n",
       "<style scoped>\n",
       "    .dataframe tbody tr th:only-of-type {\n",
       "        vertical-align: middle;\n",
       "    }\n",
       "\n",
       "    .dataframe tbody tr th {\n",
       "        vertical-align: top;\n",
       "    }\n",
       "\n",
       "    .dataframe thead th {\n",
       "        text-align: right;\n",
       "    }\n",
       "</style>\n",
       "<table border=\"1\" class=\"dataframe\">\n",
       "  <thead>\n",
       "    <tr style=\"text-align: right;\">\n",
       "      <th></th>\n",
       "      <th>answered_correctly</th>\n",
       "      <th>question_had_explanation</th>\n",
       "      <th>user_acc_mean</th>\n",
       "      <th>mean_content_accuracy</th>\n",
       "      <th>mean_task_accuracy</th>\n",
       "      <th>user_lectures_running_total_scaled</th>\n",
       "      <th>avg_user_q_time_scaled</th>\n",
       "    </tr>\n",
       "  </thead>\n",
       "  <tbody>\n",
       "    <tr>\n",
       "      <th>0</th>\n",
       "      <td>1</td>\n",
       "      <td>0</td>\n",
       "      <td>0.630049</td>\n",
       "      <td>0.818182</td>\n",
       "      <td>0.682248</td>\n",
       "      <td>0.0</td>\n",
       "      <td>0.001202</td>\n",
       "    </tr>\n",
       "    <tr>\n",
       "      <th>1</th>\n",
       "      <td>0</td>\n",
       "      <td>0</td>\n",
       "      <td>0.630049</td>\n",
       "      <td>0.550000</td>\n",
       "      <td>0.534988</td>\n",
       "      <td>0.0</td>\n",
       "      <td>0.001202</td>\n",
       "    </tr>\n",
       "    <tr>\n",
       "      <th>2</th>\n",
       "      <td>1</td>\n",
       "      <td>0</td>\n",
       "      <td>0.630049</td>\n",
       "      <td>0.444444</td>\n",
       "      <td>0.445216</td>\n",
       "      <td>0.0</td>\n",
       "      <td>0.001202</td>\n",
       "    </tr>\n",
       "    <tr>\n",
       "      <th>3</th>\n",
       "      <td>1</td>\n",
       "      <td>0</td>\n",
       "      <td>0.630049</td>\n",
       "      <td>0.406250</td>\n",
       "      <td>0.544008</td>\n",
       "      <td>0.0</td>\n",
       "      <td>0.001202</td>\n",
       "    </tr>\n",
       "    <tr>\n",
       "      <th>4</th>\n",
       "      <td>0</td>\n",
       "      <td>0</td>\n",
       "      <td>0.630049</td>\n",
       "      <td>0.687500</td>\n",
       "      <td>0.485282</td>\n",
       "      <td>0.0</td>\n",
       "      <td>0.001202</td>\n",
       "    </tr>\n",
       "  </tbody>\n",
       "</table>\n",
       "</div>"
      ],
      "text/plain": [
       "   answered_correctly  question_had_explanation  user_acc_mean  \\\n",
       "0                   1                         0       0.630049   \n",
       "1                   0                         0       0.630049   \n",
       "2                   1                         0       0.630049   \n",
       "3                   1                         0       0.630049   \n",
       "4                   0                         0       0.630049   \n",
       "\n",
       "   mean_content_accuracy  mean_task_accuracy  \\\n",
       "0               0.818182            0.682248   \n",
       "1               0.550000            0.534988   \n",
       "2               0.444444            0.445216   \n",
       "3               0.406250            0.544008   \n",
       "4               0.687500            0.485282   \n",
       "\n",
       "   user_lectures_running_total_scaled  avg_user_q_time_scaled  \n",
       "0                                 0.0                0.001202  \n",
       "1                                 0.0                0.001202  \n",
       "2                                 0.0                0.001202  \n",
       "3                                 0.0                0.001202  \n",
       "4                                 0.0                0.001202  "
      ]
     },
     "execution_count": 10,
     "metadata": {},
     "output_type": "execute_result"
    }
   ],
   "source": [
    "# Print the shape of train scaled\n",
    "print(train_s.shape)\n",
    "\n",
    "# Display first 5 rows of train scaled \n",
    "train_s.head()"
   ]
  },
  {
   "cell_type": "code",
   "execution_count": 11,
   "metadata": {},
   "outputs": [
    {
     "name": "stdout",
     "output_type": "stream",
     "text": [
      "(49945, 7)\n"
     ]
    },
    {
     "data": {
      "text/html": [
       "<div>\n",
       "<style scoped>\n",
       "    .dataframe tbody tr th:only-of-type {\n",
       "        vertical-align: middle;\n",
       "    }\n",
       "\n",
       "    .dataframe tbody tr th {\n",
       "        vertical-align: top;\n",
       "    }\n",
       "\n",
       "    .dataframe thead th {\n",
       "        text-align: right;\n",
       "    }\n",
       "</style>\n",
       "<table border=\"1\" class=\"dataframe\">\n",
       "  <thead>\n",
       "    <tr style=\"text-align: right;\">\n",
       "      <th></th>\n",
       "      <th>answered_correctly</th>\n",
       "      <th>question_had_explanation</th>\n",
       "      <th>user_acc_mean</th>\n",
       "      <th>user_lectures_running_total</th>\n",
       "      <th>avg_user_q_time</th>\n",
       "      <th>mean_content_accuracy</th>\n",
       "      <th>mean_task_accuracy</th>\n",
       "    </tr>\n",
       "  </thead>\n",
       "  <tbody>\n",
       "    <tr>\n",
       "      <th>0</th>\n",
       "      <td>1</td>\n",
       "      <td>1</td>\n",
       "      <td>0.630049</td>\n",
       "      <td>0</td>\n",
       "      <td>11917302.0</td>\n",
       "      <td>0.604167</td>\n",
       "      <td>0.478261</td>\n",
       "    </tr>\n",
       "    <tr>\n",
       "      <th>1</th>\n",
       "      <td>1</td>\n",
       "      <td>1</td>\n",
       "      <td>0.630049</td>\n",
       "      <td>0</td>\n",
       "      <td>11917302.0</td>\n",
       "      <td>0.708333</td>\n",
       "      <td>0.478261</td>\n",
       "    </tr>\n",
       "    <tr>\n",
       "      <th>2</th>\n",
       "      <td>1</td>\n",
       "      <td>1</td>\n",
       "      <td>0.630049</td>\n",
       "      <td>0</td>\n",
       "      <td>11917302.0</td>\n",
       "      <td>0.687500</td>\n",
       "      <td>0.478261</td>\n",
       "    </tr>\n",
       "    <tr>\n",
       "      <th>3</th>\n",
       "      <td>1</td>\n",
       "      <td>1</td>\n",
       "      <td>0.630049</td>\n",
       "      <td>0</td>\n",
       "      <td>11917302.0</td>\n",
       "      <td>0.735294</td>\n",
       "      <td>0.619048</td>\n",
       "    </tr>\n",
       "    <tr>\n",
       "      <th>4</th>\n",
       "      <td>1</td>\n",
       "      <td>1</td>\n",
       "      <td>0.630049</td>\n",
       "      <td>0</td>\n",
       "      <td>11917302.0</td>\n",
       "      <td>0.852941</td>\n",
       "      <td>0.619048</td>\n",
       "    </tr>\n",
       "  </tbody>\n",
       "</table>\n",
       "</div>"
      ],
      "text/plain": [
       "   answered_correctly  question_had_explanation  user_acc_mean  \\\n",
       "0                   1                         1       0.630049   \n",
       "1                   1                         1       0.630049   \n",
       "2                   1                         1       0.630049   \n",
       "3                   1                         1       0.630049   \n",
       "4                   1                         1       0.630049   \n",
       "\n",
       "   user_lectures_running_total  avg_user_q_time  mean_content_accuracy  \\\n",
       "0                            0       11917302.0               0.604167   \n",
       "1                            0       11917302.0               0.708333   \n",
       "2                            0       11917302.0               0.687500   \n",
       "3                            0       11917302.0               0.735294   \n",
       "4                            0       11917302.0               0.852941   \n",
       "\n",
       "   mean_task_accuracy  \n",
       "0            0.478261  \n",
       "1            0.478261  \n",
       "2            0.478261  \n",
       "3            0.619048  \n",
       "4            0.619048  "
      ]
     },
     "execution_count": 11,
     "metadata": {},
     "output_type": "execute_result"
    }
   ],
   "source": [
    "# Print the shape of validate \n",
    "print(validate.shape)\n",
    "\n",
    "# Display first 5 rows of validate\n",
    "validate.head()"
   ]
  },
  {
   "cell_type": "code",
   "execution_count": 12,
   "metadata": {},
   "outputs": [
    {
     "name": "stdout",
     "output_type": "stream",
     "text": [
      "(49945, 7)\n"
     ]
    },
    {
     "data": {
      "text/html": [
       "<div>\n",
       "<style scoped>\n",
       "    .dataframe tbody tr th:only-of-type {\n",
       "        vertical-align: middle;\n",
       "    }\n",
       "\n",
       "    .dataframe tbody tr th {\n",
       "        vertical-align: top;\n",
       "    }\n",
       "\n",
       "    .dataframe thead th {\n",
       "        text-align: right;\n",
       "    }\n",
       "</style>\n",
       "<table border=\"1\" class=\"dataframe\">\n",
       "  <thead>\n",
       "    <tr style=\"text-align: right;\">\n",
       "      <th></th>\n",
       "      <th>answered_correctly</th>\n",
       "      <th>question_had_explanation</th>\n",
       "      <th>user_acc_mean</th>\n",
       "      <th>mean_content_accuracy</th>\n",
       "      <th>mean_task_accuracy</th>\n",
       "      <th>user_lectures_running_total_scaled</th>\n",
       "      <th>avg_user_q_time_scaled</th>\n",
       "    </tr>\n",
       "  </thead>\n",
       "  <tbody>\n",
       "    <tr>\n",
       "      <th>0</th>\n",
       "      <td>1</td>\n",
       "      <td>1</td>\n",
       "      <td>0.630049</td>\n",
       "      <td>0.604167</td>\n",
       "      <td>0.478261</td>\n",
       "      <td>0.0</td>\n",
       "      <td>0.001202</td>\n",
       "    </tr>\n",
       "    <tr>\n",
       "      <th>1</th>\n",
       "      <td>1</td>\n",
       "      <td>1</td>\n",
       "      <td>0.630049</td>\n",
       "      <td>0.708333</td>\n",
       "      <td>0.478261</td>\n",
       "      <td>0.0</td>\n",
       "      <td>0.001202</td>\n",
       "    </tr>\n",
       "    <tr>\n",
       "      <th>2</th>\n",
       "      <td>1</td>\n",
       "      <td>1</td>\n",
       "      <td>0.630049</td>\n",
       "      <td>0.687500</td>\n",
       "      <td>0.478261</td>\n",
       "      <td>0.0</td>\n",
       "      <td>0.001202</td>\n",
       "    </tr>\n",
       "    <tr>\n",
       "      <th>3</th>\n",
       "      <td>1</td>\n",
       "      <td>1</td>\n",
       "      <td>0.630049</td>\n",
       "      <td>0.735294</td>\n",
       "      <td>0.619048</td>\n",
       "      <td>0.0</td>\n",
       "      <td>0.001202</td>\n",
       "    </tr>\n",
       "    <tr>\n",
       "      <th>4</th>\n",
       "      <td>1</td>\n",
       "      <td>1</td>\n",
       "      <td>0.630049</td>\n",
       "      <td>0.852941</td>\n",
       "      <td>0.619048</td>\n",
       "      <td>0.0</td>\n",
       "      <td>0.001202</td>\n",
       "    </tr>\n",
       "  </tbody>\n",
       "</table>\n",
       "</div>"
      ],
      "text/plain": [
       "   answered_correctly  question_had_explanation  user_acc_mean  \\\n",
       "0                   1                         1       0.630049   \n",
       "1                   1                         1       0.630049   \n",
       "2                   1                         1       0.630049   \n",
       "3                   1                         1       0.630049   \n",
       "4                   1                         1       0.630049   \n",
       "\n",
       "   mean_content_accuracy  mean_task_accuracy  \\\n",
       "0               0.604167            0.478261   \n",
       "1               0.708333            0.478261   \n",
       "2               0.687500            0.478261   \n",
       "3               0.735294            0.619048   \n",
       "4               0.852941            0.619048   \n",
       "\n",
       "   user_lectures_running_total_scaled  avg_user_q_time_scaled  \n",
       "0                                 0.0                0.001202  \n",
       "1                                 0.0                0.001202  \n",
       "2                                 0.0                0.001202  \n",
       "3                                 0.0                0.001202  \n",
       "4                                 0.0                0.001202  "
      ]
     },
     "execution_count": 12,
     "metadata": {},
     "output_type": "execute_result"
    }
   ],
   "source": [
    "# Print the shape of validate scaled \n",
    "print(validate_s.shape)\n",
    "\n",
    "# Display first 5 rows of validate scaled \n",
    "validate_s.head()"
   ]
  },
  {
   "cell_type": "code",
   "execution_count": 13,
   "metadata": {},
   "outputs": [
    {
     "name": "stdout",
     "output_type": "stream",
     "text": [
      "(51971, 7)\n"
     ]
    },
    {
     "data": {
      "text/html": [
       "<div>\n",
       "<style scoped>\n",
       "    .dataframe tbody tr th:only-of-type {\n",
       "        vertical-align: middle;\n",
       "    }\n",
       "\n",
       "    .dataframe tbody tr th {\n",
       "        vertical-align: top;\n",
       "    }\n",
       "\n",
       "    .dataframe thead th {\n",
       "        text-align: right;\n",
       "    }\n",
       "</style>\n",
       "<table border=\"1\" class=\"dataframe\">\n",
       "  <thead>\n",
       "    <tr style=\"text-align: right;\">\n",
       "      <th></th>\n",
       "      <th>answered_correctly</th>\n",
       "      <th>question_had_explanation</th>\n",
       "      <th>user_acc_mean</th>\n",
       "      <th>user_lectures_running_total</th>\n",
       "      <th>avg_user_q_time</th>\n",
       "      <th>mean_content_accuracy</th>\n",
       "      <th>mean_task_accuracy</th>\n",
       "    </tr>\n",
       "  </thead>\n",
       "  <tbody>\n",
       "    <tr>\n",
       "      <th>0</th>\n",
       "      <td>1</td>\n",
       "      <td>1</td>\n",
       "      <td>0.630049</td>\n",
       "      <td>0</td>\n",
       "      <td>11917302.0</td>\n",
       "      <td>0.468750</td>\n",
       "      <td>0.529412</td>\n",
       "    </tr>\n",
       "    <tr>\n",
       "      <th>1</th>\n",
       "      <td>1</td>\n",
       "      <td>1</td>\n",
       "      <td>0.630049</td>\n",
       "      <td>0</td>\n",
       "      <td>11917302.0</td>\n",
       "      <td>0.290323</td>\n",
       "      <td>0.578947</td>\n",
       "    </tr>\n",
       "    <tr>\n",
       "      <th>2</th>\n",
       "      <td>0</td>\n",
       "      <td>1</td>\n",
       "      <td>0.630049</td>\n",
       "      <td>0</td>\n",
       "      <td>11917302.0</td>\n",
       "      <td>0.387755</td>\n",
       "      <td>0.588235</td>\n",
       "    </tr>\n",
       "    <tr>\n",
       "      <th>3</th>\n",
       "      <td>1</td>\n",
       "      <td>1</td>\n",
       "      <td>0.630049</td>\n",
       "      <td>0</td>\n",
       "      <td>11917302.0</td>\n",
       "      <td>0.740741</td>\n",
       "      <td>0.714286</td>\n",
       "    </tr>\n",
       "    <tr>\n",
       "      <th>4</th>\n",
       "      <td>0</td>\n",
       "      <td>1</td>\n",
       "      <td>0.630049</td>\n",
       "      <td>0</td>\n",
       "      <td>11917302.0</td>\n",
       "      <td>0.428571</td>\n",
       "      <td>0.687500</td>\n",
       "    </tr>\n",
       "  </tbody>\n",
       "</table>\n",
       "</div>"
      ],
      "text/plain": [
       "   answered_correctly  question_had_explanation  user_acc_mean  \\\n",
       "0                   1                         1       0.630049   \n",
       "1                   1                         1       0.630049   \n",
       "2                   0                         1       0.630049   \n",
       "3                   1                         1       0.630049   \n",
       "4                   0                         1       0.630049   \n",
       "\n",
       "   user_lectures_running_total  avg_user_q_time  mean_content_accuracy  \\\n",
       "0                            0       11917302.0               0.468750   \n",
       "1                            0       11917302.0               0.290323   \n",
       "2                            0       11917302.0               0.387755   \n",
       "3                            0       11917302.0               0.740741   \n",
       "4                            0       11917302.0               0.428571   \n",
       "\n",
       "   mean_task_accuracy  \n",
       "0            0.529412  \n",
       "1            0.578947  \n",
       "2            0.588235  \n",
       "3            0.714286  \n",
       "4            0.687500  "
      ]
     },
     "execution_count": 13,
     "metadata": {},
     "output_type": "execute_result"
    }
   ],
   "source": [
    "# Print the shape of test\n",
    "print(test.shape)\n",
    "\n",
    "# Display first 5 rows of test\n",
    "test.head()"
   ]
  },
  {
   "cell_type": "code",
   "execution_count": 14,
   "metadata": {},
   "outputs": [
    {
     "name": "stdout",
     "output_type": "stream",
     "text": [
      "(51971, 7)\n"
     ]
    },
    {
     "data": {
      "text/html": [
       "<div>\n",
       "<style scoped>\n",
       "    .dataframe tbody tr th:only-of-type {\n",
       "        vertical-align: middle;\n",
       "    }\n",
       "\n",
       "    .dataframe tbody tr th {\n",
       "        vertical-align: top;\n",
       "    }\n",
       "\n",
       "    .dataframe thead th {\n",
       "        text-align: right;\n",
       "    }\n",
       "</style>\n",
       "<table border=\"1\" class=\"dataframe\">\n",
       "  <thead>\n",
       "    <tr style=\"text-align: right;\">\n",
       "      <th></th>\n",
       "      <th>answered_correctly</th>\n",
       "      <th>question_had_explanation</th>\n",
       "      <th>user_acc_mean</th>\n",
       "      <th>mean_content_accuracy</th>\n",
       "      <th>mean_task_accuracy</th>\n",
       "      <th>user_lectures_running_total_scaled</th>\n",
       "      <th>avg_user_q_time_scaled</th>\n",
       "    </tr>\n",
       "  </thead>\n",
       "  <tbody>\n",
       "    <tr>\n",
       "      <th>0</th>\n",
       "      <td>1</td>\n",
       "      <td>1</td>\n",
       "      <td>0.630049</td>\n",
       "      <td>0.468750</td>\n",
       "      <td>0.529412</td>\n",
       "      <td>0.0</td>\n",
       "      <td>0.001202</td>\n",
       "    </tr>\n",
       "    <tr>\n",
       "      <th>1</th>\n",
       "      <td>1</td>\n",
       "      <td>1</td>\n",
       "      <td>0.630049</td>\n",
       "      <td>0.290323</td>\n",
       "      <td>0.578947</td>\n",
       "      <td>0.0</td>\n",
       "      <td>0.001202</td>\n",
       "    </tr>\n",
       "    <tr>\n",
       "      <th>2</th>\n",
       "      <td>0</td>\n",
       "      <td>1</td>\n",
       "      <td>0.630049</td>\n",
       "      <td>0.387755</td>\n",
       "      <td>0.588235</td>\n",
       "      <td>0.0</td>\n",
       "      <td>0.001202</td>\n",
       "    </tr>\n",
       "    <tr>\n",
       "      <th>3</th>\n",
       "      <td>1</td>\n",
       "      <td>1</td>\n",
       "      <td>0.630049</td>\n",
       "      <td>0.740741</td>\n",
       "      <td>0.714286</td>\n",
       "      <td>0.0</td>\n",
       "      <td>0.001202</td>\n",
       "    </tr>\n",
       "    <tr>\n",
       "      <th>4</th>\n",
       "      <td>0</td>\n",
       "      <td>1</td>\n",
       "      <td>0.630049</td>\n",
       "      <td>0.428571</td>\n",
       "      <td>0.687500</td>\n",
       "      <td>0.0</td>\n",
       "      <td>0.001202</td>\n",
       "    </tr>\n",
       "  </tbody>\n",
       "</table>\n",
       "</div>"
      ],
      "text/plain": [
       "   answered_correctly  question_had_explanation  user_acc_mean  \\\n",
       "0                   1                         1       0.630049   \n",
       "1                   1                         1       0.630049   \n",
       "2                   0                         1       0.630049   \n",
       "3                   1                         1       0.630049   \n",
       "4                   0                         1       0.630049   \n",
       "\n",
       "   mean_content_accuracy  mean_task_accuracy  \\\n",
       "0               0.468750            0.529412   \n",
       "1               0.290323            0.578947   \n",
       "2               0.387755            0.588235   \n",
       "3               0.740741            0.714286   \n",
       "4               0.428571            0.687500   \n",
       "\n",
       "   user_lectures_running_total_scaled  avg_user_q_time_scaled  \n",
       "0                                 0.0                0.001202  \n",
       "1                                 0.0                0.001202  \n",
       "2                                 0.0                0.001202  \n",
       "3                                 0.0                0.001202  \n",
       "4                                 0.0                0.001202  "
      ]
     },
     "execution_count": 14,
     "metadata": {},
     "output_type": "execute_result"
    }
   ],
   "source": [
    "# Print the shape of test scaled\n",
    "print(test_s.shape)\n",
    "\n",
    "# Display first 5 rows of test scaled\n",
    "test_s.head()"
   ]
  },
  {
   "cell_type": "markdown",
   "metadata": {},
   "source": [
    "## Prepare Takeaways\n",
    "Used __prep_riiid__ function from __prepare.py__ to make the following changes:\n",
    "- Filled missing boolean values in question_had_explanation with False. Missing values indicated that the question did not have an explanation or the user viewed a lecture.\n",
    "- Filled missing values in prior_question_elapsed_time with 0. Missing values indicated that a user viewed a lecture before answering the first question in a bundle.\n",
    "- Dropped columns: lecture_id, tag, lecture_part, type_of, question_id, bundle_id, correct_answer, question_part, and tags\n",
    "- Dropped rows that represent lectures\n",
    "- Added column, user_lectures_running_total, that keeps running total of number of lectures viewed by user\n",
    "- Added column, user_acc_mean, that reflects the avg accuracy of a user on all questions they answered\t\n",
    "- Added column, mean_content_accuracy, that reflects avg accuracy of all users answering a particular question\n",
    "- Added column, mean_task_accuracy, that reflects avg accuracy of all users answering a particular group of questions\n",
    "- Added column to train, q_time, that reflects the amount of milliseconds it took the user to answer the current question\n",
    "- Converted null and inf values to 0's\n",
    "- Converted True and False values to 1's and 0's respectively\n",
    "- Created scaled versions of the train, validate and test sets "
   ]
  },
  {
   "cell_type": "markdown",
   "metadata": {},
   "source": [
    "# Explore<a id='explore'></a>\n",
    "Plotted graphs, ran feature selection, and performed hypothesis testing in order to discover drivers of 'answered_correctly'.\n",
    "***"
   ]
  },
  {
   "cell_type": "code",
   "execution_count": 15,
   "metadata": {},
   "outputs": [
    {
     "name": "stdout",
     "output_type": "stream",
     "text": [
      "<class 'pandas.core.frame.DataFrame'>\n",
      "Int64Index: 403377 entries, 0 to 403376\n",
      "Data columns (total 8 columns):\n",
      " #   Column                       Non-Null Count   Dtype  \n",
      "---  ------                       --------------   -----  \n",
      " 0   answered_correctly           403377 non-null  int64  \n",
      " 1   question_had_explanation     403377 non-null  int64  \n",
      " 2   user_acc_mean                403377 non-null  float64\n",
      " 3   user_lectures_running_total  403377 non-null  int64  \n",
      " 4   q_time                       403377 non-null  float64\n",
      " 5   avg_user_q_time              403377 non-null  float64\n",
      " 6   mean_content_accuracy        403377 non-null  float64\n",
      " 7   mean_task_accuracy           403377 non-null  float64\n",
      "dtypes: float64(5), int64(3)\n",
      "memory usage: 27.7 MB\n"
     ]
    }
   ],
   "source": [
    "# Check data types and null value counts\n",
    "train.info()"
   ]
  },
  {
   "cell_type": "code",
   "execution_count": 16,
   "metadata": {},
   "outputs": [
    {
     "name": "stdout",
     "output_type": "stream",
     "text": [
      "answered_correctly has 2 unique values.\n",
      "question_had_explanation has 2 unique values.\n",
      "user_lectures_running_total has 249 unique values.\n"
     ]
    }
   ],
   "source": [
    "# Checking # of unique values in int64 data type columns\n",
    "for col in train:\n",
    "    if train[col].dtypes == 'int64': \n",
    "        print(f'{col} has {train[col].nunique()} unique values.')"
   ]
  },
  {
   "cell_type": "code",
   "execution_count": 17,
   "metadata": {},
   "outputs": [
    {
     "data": {
      "image/png": "[encoded data removed]",
      "text/plain": [
       "<Figure size 1080x720 with 9 Axes>"
      ]
     },
     "metadata": {
      "needs_background": "light"
     },
     "output_type": "display_data"
    }
   ],
   "source": [
    "# Plot distribution of all train columns \n",
    "train.hist(figsize=(15, 10),\n",
    "        grid=True) \n",
    "plt.show()"
   ]
  },
  {
   "cell_type": "markdown",
   "metadata": {},
   "source": [
    "- Plotting all variables to get a general view of their distributions  "
   ]
  },
  {
   "cell_type": "code",
   "execution_count": 18,
   "metadata": {},
   "outputs": [
    {
     "data": {
      "image/png": "[encoded data removed]",
      "text/plain": [
       "<Figure size 864x432 with 1 Axes>"
      ]
     },
     "metadata": {
      "needs_background": "light"
     },
     "output_type": "display_data"
    }
   ],
   "source": [
    "# User_id vs Timestamp\n",
    "# Had to convert time from in milliseconds to weeks\n",
    "ts = df_train['timestamp']/(31536000000/52)\n",
    "fig = plt.figure(figsize=(12,6))\n",
    "ts.plot.hist(bins=100) \n",
    "plt.title(\"Most Users Leave After First Week\", fontsize=20)\n",
    "plt.xlabel(\"Weeks Of Interaction\", fontsize=15)\n",
    "plt.ylabel(\"User Frequency\", fontsize=15)\n",
    "plt.xticks(np.linspace(0,100,11),rotation=0, fontsize=15)\n",
    "plt.yticks(rotation=0, fontsize=15)\n",
    "plt.show() "
   ]
  },
  {
   "cell_type": "markdown",
   "metadata": {},
   "source": [
    "- Most users stop using the platform after the first week.\n",
    "- The rest of users stop using the platform after ten weeks.\n",
    "- This shows us who are our users and platform usage behavior. "
   ]
  },
  {
   "cell_type": "code",
   "execution_count": 19,
   "metadata": {},
   "outputs": [
    {
     "data": {
      "image/png": "[encoded data removed]",
      "text/plain": [
       "<Figure size 720x432 with 1 Axes>"
      ]
     },
     "metadata": {
      "needs_background": "light"
     },
     "output_type": "display_data"
    }
   ],
   "source": [
    "# Count of Questions Answered Correct\n",
    "plt.figure(figsize=(10,6))\n",
    "train.answered_correctly.value_counts().sort_index().plot.bar(grid=True)\n",
    "answer_correctly = train.answered_correctly.mean()\n",
    "plt.title(\"Count of Questions Answered Correctly\",fontsize=20) \n",
    "plt.xlabel('Answered Correctly',fontsize=15)\n",
    "plt.ylabel('Count',fontsize=15)\n",
    "plt.xticks([0,1],labels=['False','True'],rotation=0,fontsize=15) \n",
    "plt.yticks(rotation=0,fontsize=15) \n",
    "plt.grid(False)\n",
    "plt.show()"
   ]
  },
  {
   "cell_type": "markdown",
   "metadata": {},
   "source": [
    "- Of the total count of questions answered, most questions are answered correctly."
   ]
  },
  {
   "cell_type": "code",
   "execution_count": 20,
   "metadata": {},
   "outputs": [
    {
     "data": {
      "image/png": "[encoded data removed]",
      "text/plain": [
       "<Figure size 936x504 with 1 Axes>"
      ]
     },
     "metadata": {
      "needs_background": "light"
     },
     "output_type": "display_data"
    }
   ],
   "source": [
    "# Answered Correctly vs Prior Question Had Explanation\n",
    "prior_question = train.groupby(['question_had_explanation', 'answered_correctly']).agg({'answered_correctly': ['count']})\n",
    "questions_without_explanations = prior_question.iloc[:,0][:2]\n",
    "questions_with_explanations = prior_question.iloc[:,0][2:]\n",
    "\n",
    "# Total number of questions with and without explanations\n",
    "total_questions_without_explanations = sum(questions_without_explanations)\n",
    "total_questions_with_explanations = sum(questions_with_explanations)\n",
    "\n",
    "# Questions without explanations\n",
    "qwoe_incorrect = questions_without_explanations.iloc[0]/total_questions_without_explanations\n",
    "qwoe_correct = questions_without_explanations.iloc[1]/total_questions_without_explanations\n",
    "\n",
    "# Questions with explanations\n",
    "qwe_incorrect = questions_with_explanations.iloc[0]/total_questions_with_explanations\n",
    "qwe_correct = questions_with_explanations.iloc[1]/total_questions_with_explanations\n",
    "\n",
    "# Creating the dataframe\n",
    "df = pd.DataFrame({\n",
    "    'Question_had_an_explanation': ['Incorrect', 'Correct'],\n",
    "    'Explanation': [qwe_incorrect, qwe_correct],\n",
    "    'No Explanation': [qwoe_incorrect, qwoe_correct]\n",
    "})\n",
    "\n",
    "tidy = df.melt(id_vars='Question_had_an_explanation')\n",
    "\n",
    "# Plotting\n",
    "sns.set_context('talk')\n",
    "plt.figure(figsize=(13, 7))\n",
    "sns.barplot(x='variable', y='value', hue='Question_had_an_explanation', data=tidy)\n",
    "plt.title(\"Students Performs Better On Questions With Explanations\",fontsize=20) \n",
    "plt.legend() \n",
    "plt.xlabel('')\n",
    "plt.ylabel('Percentage',fontsize=15)\n",
    "plt.ylim(0, 1)\n",
    "plt.yticks(np.linspace(0,1,11))\n",
    "plt.show()"
   ]
  },
  {
   "cell_type": "markdown",
   "metadata": {},
   "source": [
    "- Users perform better on questions with explanations, than questions without explanations. \n",
    "    - A possible reason for this could be that the guidance from the explanations are actually helpful. "
   ]
  },
  {
   "cell_type": "code",
   "execution_count": 21,
   "metadata": {},
   "outputs": [
    {
     "data": {
      "image/png": "[encoded data removed]",
      "text/plain": [
       "<Figure size 864x432 with 1 Axes>"
      ]
     },
     "metadata": {
      "needs_background": "light"
     },
     "output_type": "display_data"
    }
   ],
   "source": [
    "# Percent of Questions Answered Correct vs. Number of Questions Answered Per User\n",
    "user_percent = df_train[df_train.answered_correctly != -1].groupby('user_id')['answered_correctly'].agg(Mean='mean', Answers='count')\n",
    "user_percent = user_percent.query('Answers <= 1000')\n",
    "\n",
    "fig = plt.figure(figsize=(12,6))\n",
    "x = user_percent.Answers\n",
    "y = user_percent.Mean\n",
    "plt.scatter(x, y, marker='o')\n",
    "plt.title(\"Answering More Questions Leads to Slightly Higher Accuracy\", fontsize=20)\n",
    "plt.xlabel(\"Number of Questions Answered\", fontsize=15)\n",
    "plt.ylabel(\"Percent Answered Correct\", fontsize=15)\n",
    "plt.xticks(rotation=0, fontsize=15)\n",
    "plt.yticks(rotation=0, fontsize=15)\n",
    "\n",
    "z = np.polyfit(x, y, 1)\n",
    "p = np.poly1d(z)\n",
    "plt.plot(x,p(x),\"r--\")\n",
    "\n",
    "plt.show() "
   ]
  },
  {
   "cell_type": "markdown",
   "metadata": {},
   "source": [
    "- There is a slight positive linear trend for the relationship between percentage answered correct and the number of the questions answered. \n",
    "\n",
    "- Most users answer less than 200 question on average. "
   ]
  },
  {
   "cell_type": "markdown",
   "metadata": {},
   "source": [
    "# Hypothesis Testing"
   ]
  },
  {
   "cell_type": "markdown",
   "metadata": {},
   "source": [
    "## Hypothesis Test 1\n",
    "\n",
    "### General Inquiry\n",
    "<br>\n",
    "Does a student receiving an explanation prior to a question have a connection with whether or not they'll answer it correctly?\n",
    "\n",
    "### Chi-Squared Test\n",
    "\n",
    "H0: question_had_explanation and answered_correctly are independent\n",
    "<br>\n",
    "Ha: question_had_explanation and answered_correctly are dependant"
   ]
  },
  {
   "cell_type": "code",
   "execution_count": 22,
   "metadata": {},
   "outputs": [
    {
     "data": {
      "text/html": [
       "<div>\n",
       "<style scoped>\n",
       "    .dataframe tbody tr th:only-of-type {\n",
       "        vertical-align: middle;\n",
       "    }\n",
       "\n",
       "    .dataframe tbody tr th {\n",
       "        vertical-align: top;\n",
       "    }\n",
       "\n",
       "    .dataframe thead th {\n",
       "        text-align: right;\n",
       "    }\n",
       "</style>\n",
       "<table border=\"1\" class=\"dataframe\">\n",
       "  <thead>\n",
       "    <tr style=\"text-align: right;\">\n",
       "      <th>question_had_explanation</th>\n",
       "      <th>0</th>\n",
       "      <th>1</th>\n",
       "    </tr>\n",
       "    <tr>\n",
       "      <th>answered_correctly</th>\n",
       "      <th></th>\n",
       "      <th></th>\n",
       "    </tr>\n",
       "  </thead>\n",
       "  <tbody>\n",
       "    <tr>\n",
       "      <th>0</th>\n",
       "      <td>21210</td>\n",
       "      <td>119596</td>\n",
       "    </tr>\n",
       "    <tr>\n",
       "      <th>1</th>\n",
       "      <td>21974</td>\n",
       "      <td>240597</td>\n",
       "    </tr>\n",
       "  </tbody>\n",
       "</table>\n",
       "</div>"
      ],
      "text/plain": [
       "question_had_explanation      0       1\n",
       "answered_correctly                     \n",
       "0                         21210  119596\n",
       "1                         21974  240597"
      ]
     },
     "execution_count": 22,
     "metadata": {},
     "output_type": "execute_result"
    }
   ],
   "source": [
    "# Creating crosstab of data reflecting if question was answered correctly and if it had an explanation.\n",
    "observed_pqhe = pd.crosstab(train.answered_correctly, \n",
    "                            train.question_had_explanation)\n",
    "\n",
    "# Displaying crosstab\n",
    "observed_pqhe"
   ]
  },
  {
   "cell_type": "code",
   "execution_count": 23,
   "metadata": {},
   "outputs": [
    {
     "name": "stdout",
     "output_type": "stream",
     "text": [
      "alpha = .05\n",
      "\n",
      "p = 0.0000\n"
     ]
    }
   ],
   "source": [
    "# Calculating chi^2, p value, degrees of freedom and expected values\n",
    "chi2, p, degf, expected = stats.chi2_contingency(observed_pqhe)\n",
    "\n",
    "# Printing results\n",
    "print('alpha = .05\\n')\n",
    "print(f'p = {p:.4f}')"
   ]
  },
  {
   "cell_type": "markdown",
   "metadata": {},
   "source": [
    "- P is less than alpha so we <b>reject</b> the null hypothesis that answered_correctly and question_had_explanation are independent"
   ]
  },
  {
   "cell_type": "markdown",
   "metadata": {},
   "source": [
    "## Hypothesis Test 2\n",
    "\n",
    "### General Inquiry\n",
    "<br>\n",
    "Is there a linear relationship between the average time it takes a user to answer a question and their average accuracy?\n",
    "\n",
    "### Pearson Correlation Test\n",
    "\n",
    "H0: There is no linear relationship between avg_user_q_time and user_acc_mean\n",
    "<br>\n",
    "Ha: There is a linear relationship between avg_user_q_time and user_acc_mean"
   ]
  },
  {
   "cell_type": "code",
   "execution_count": 24,
   "metadata": {},
   "outputs": [
    {
     "name": "stdout",
     "output_type": "stream",
     "text": [
      "alpha = .05\n",
      "\n",
      "r correlation coefficient -0.053798627856180434\n",
      "p value                    3.0491148951959335e-256\n"
     ]
    }
   ],
   "source": [
    "# Performing pearson correlation test\n",
    "r, p = stats.pearsonr(train.avg_user_q_time, train.user_acc_mean)\n",
    "\n",
    "# Displaying alpha and test results\n",
    "print(\"alpha = .05\\n\")\n",
    "print(\"r correlation coefficient\", r)\n",
    "print(\"p value                   \", p)"
   ]
  },
  {
   "cell_type": "markdown",
   "metadata": {},
   "source": [
    "- P is less than alpha so we <b>reject</b> the null hypothesis that there is no linear relationship between avg_user_q_time and user_acc_mean.\n",
    "\n",
    "- Given the r correlation coefficient of -.05, we see that there is an extremely weak inverse linear relationship between the variables.\n",
    "\n",
    "- Although the relationship between these variables is weak, it was still worth exploring because to needed to see the correlation between these variables. "
   ]
  },
  {
   "cell_type": "markdown",
   "metadata": {},
   "source": [
    "## Hypothesis Test 3\n",
    "\n",
    "### General Inquiry\n",
    "<br>\n",
    "Does the time it takes users with high accuracy to answer difficult questions differ from the time it takes other users to answer difficult questions?\n",
    "\n",
    "### Two-Sample Two-Tailed T-Test\n",
    "H0: The avg time that users with above avg accuracy spend on questions with below avg content accuracy is equal to the avg time that users with avg or below accuracy spend on them.\n",
    "<br><br>\n",
    "Ha: The avg time that users with above avg accuracy spend on questions with below avg content accuracy is not equal to the avg time that users with avg or below accuracy spend on them."
   ]
  },
  {
   "cell_type": "code",
   "execution_count": 25,
   "metadata": {},
   "outputs": [],
   "source": [
    "# Creating df of all questions that had less than average mean_content_accuracy\n",
    "# ie. all questions that users answered incorrectly more often than average\n",
    "hard_questions = train[train.mean_content_accuracy < train.mean_content_accuracy.mean()]\n",
    "\n",
    "# Filtering DF above for all users with above avg accuracy\n",
    "hi_acc_users = hard_questions[hard_questions.user_acc_mean > hard_questions.user_acc_mean.mean()]\n",
    "\n",
    "# Filtering DF above for all users with avg or below accuracy\n",
    "low_acc_users = hard_questions[hard_questions.user_acc_mean <= hard_questions.user_acc_mean.mean()]"
   ]
  },
  {
   "cell_type": "code",
   "execution_count": 30,
   "metadata": {},
   "outputs": [
    {
     "name": "stdout",
     "output_type": "stream",
     "text": [
      "alpha = .05\n",
      "\n",
      "test statistic    -2.4486883290862065\n",
      "p value            0.014338813349406287\n"
     ]
    }
   ],
   "source": [
    "# Performing two sample, two tailed t-test\n",
    "t, p = stats.ttest_ind(hi_acc_users.q_time, low_acc_users.q_time, equal_var = False)\n",
    "\n",
    "# Printing results\n",
    "print('alpha = .05\\n')\n",
    "print(\"test statistic   \", t)\n",
    "print(\"p value           \", p)"
   ]
  },
  {
   "cell_type": "markdown",
   "metadata": {},
   "source": [
    "- P is less than alpha so we <b>reject</b> the null hypothesis. \n",
    "- The sub-alpha p value and negative test statistic suggest that users with higher accuracy spend less time on difficult questions than others. \n",
    "    - The explanation for this might be that many high accuracy users are more well prepared for difficult questions than others and not that they are spending more time on hard questions to improve their performance."
   ]
  },
  {
   "cell_type": "markdown",
   "metadata": {},
   "source": [
    "## Hypothesis Test 4\n",
    "\n",
    "### General Hypothesis\n",
    "<br>\n",
    "Is their a linear relationship between the amount of lectures a user has viewed and their task performance? Task performance is measured by a users overall performance on each bundle of questions. A bundle can contain 1 or more questions.\n",
    "\n",
    "### Pearson Correlation Test\n",
    "\n",
    "H0: There is no linear relationship between user_lectures_running_total and mean_task_accuracy\n",
    "<br>\n",
    "Ha: There is a linear relationship between user_lectures_running_total and mean_task_accuracy"
   ]
  },
  {
   "cell_type": "code",
   "execution_count": 27,
   "metadata": {},
   "outputs": [
    {
     "name": "stdout",
     "output_type": "stream",
     "text": [
      "alpha = .05\n",
      "\n",
      "r correlation coefficient 0.20740509858727074\n",
      "p value                   0.0\n"
     ]
    }
   ],
   "source": [
    "# performing pearson correlation test\n",
    "r, p = stats.pearsonr(train.user_lectures_running_total, train.mean_task_accuracy)\n",
    "\n",
    "# printing alpha and results\n",
    "print(\"alpha = .05\\n\")\n",
    "print(\"r correlation coefficient\", r)\n",
    "print(\"p value                  \", p)"
   ]
  },
  {
   "cell_type": "markdown",
   "metadata": {},
   "source": [
    "- Since p is less than alpha we will <b>reject</b> the null hypothesis that there is no linear relationship between mean_task_accuracy and user_lectures_running_total.    \n",
    "\n",
    "\n",
    "\n",
    "- The r correlation coefficient of .207 indicates that there is a weak linear relationship between these variables.\n",
    "    - As the amount of lectures that a user has seen increases, so does their task accuracy on average.\n",
    "    - Viewing lectures may be having a positive, albeit weak impact on user performance."
   ]
  },
  {
   "cell_type": "markdown",
   "metadata": {},
   "source": [
    "## Feature Selection"
   ]
  },
  {
   "cell_type": "markdown",
   "metadata": {},
   "source": [
    "### Seperate the Features and Target"
   ]
  },
  {
   "cell_type": "code",
   "execution_count": 105,
   "metadata": {},
   "outputs": [],
   "source": [
    "# Creating train, validate, test DFs that only include non-target variables\n",
    "X_train = train_s.drop(columns='answered_correctly')\n",
    "y_train = train_s['answered_correctly']\n",
    "\n",
    "X_validate = validate_s.drop(columns='answered_correctly')\n",
    "y_validate = validate_s['answered_correctly']\n",
    "\n",
    "X_test = test_s.drop(columns='answered_correctly')\n",
    "y_test = test_s['answered_correctly']"
   ]
  },
  {
   "cell_type": "code",
   "execution_count": 106,
   "metadata": {},
   "outputs": [
    {
     "data": {
      "text/html": [
       "<div>\n",
       "<style scoped>\n",
       "    .dataframe tbody tr th:only-of-type {\n",
       "        vertical-align: middle;\n",
       "    }\n",
       "\n",
       "    .dataframe tbody tr th {\n",
       "        vertical-align: top;\n",
       "    }\n",
       "\n",
       "    .dataframe thead th {\n",
       "        text-align: right;\n",
       "    }\n",
       "</style>\n",
       "<table border=\"1\" class=\"dataframe\">\n",
       "  <thead>\n",
       "    <tr style=\"text-align: right;\">\n",
       "      <th></th>\n",
       "      <th>question_had_explanation</th>\n",
       "      <th>user_acc_mean</th>\n",
       "      <th>mean_content_accuracy</th>\n",
       "      <th>mean_task_accuracy</th>\n",
       "      <th>user_lectures_running_total_scaled</th>\n",
       "      <th>avg_user_q_time_scaled</th>\n",
       "    </tr>\n",
       "  </thead>\n",
       "  <tbody>\n",
       "    <tr>\n",
       "      <th>0</th>\n",
       "      <td>0</td>\n",
       "      <td>0.630049</td>\n",
       "      <td>0.818182</td>\n",
       "      <td>0.682248</td>\n",
       "      <td>0.0</td>\n",
       "      <td>0.001202</td>\n",
       "    </tr>\n",
       "    <tr>\n",
       "      <th>1</th>\n",
       "      <td>0</td>\n",
       "      <td>0.630049</td>\n",
       "      <td>0.550000</td>\n",
       "      <td>0.534988</td>\n",
       "      <td>0.0</td>\n",
       "      <td>0.001202</td>\n",
       "    </tr>\n",
       "    <tr>\n",
       "      <th>2</th>\n",
       "      <td>0</td>\n",
       "      <td>0.630049</td>\n",
       "      <td>0.444444</td>\n",
       "      <td>0.445216</td>\n",
       "      <td>0.0</td>\n",
       "      <td>0.001202</td>\n",
       "    </tr>\n",
       "  </tbody>\n",
       "</table>\n",
       "</div>"
      ],
      "text/plain": [
       "   question_had_explanation  user_acc_mean  mean_content_accuracy  \\\n",
       "0                         0       0.630049               0.818182   \n",
       "1                         0       0.630049               0.550000   \n",
       "2                         0       0.630049               0.444444   \n",
       "\n",
       "   mean_task_accuracy  user_lectures_running_total_scaled  \\\n",
       "0            0.682248                                 0.0   \n",
       "1            0.534988                                 0.0   \n",
       "2            0.445216                                 0.0   \n",
       "\n",
       "   avg_user_q_time_scaled  \n",
       "0                0.001202  \n",
       "1                0.001202  \n",
       "2                0.001202  "
      ]
     },
     "execution_count": 106,
     "metadata": {},
     "output_type": "execute_result"
    }
   ],
   "source": [
    "# Display the X_train\n",
    "X_train.head(3)"
   ]
  },
  {
   "cell_type": "code",
   "execution_count": 107,
   "metadata": {},
   "outputs": [
    {
     "data": {
      "text/plain": [
       "0    1\n",
       "1    0\n",
       "2    1\n",
       "Name: answered_correctly, dtype: int64"
      ]
     },
     "execution_count": 107,
     "metadata": {},
     "output_type": "execute_result"
    }
   ],
   "source": [
    "# Display the y_train\n",
    "y_train.head(3)"
   ]
  },
  {
   "cell_type": "markdown",
   "metadata": {},
   "source": [
    "## Select Top 5 Features by Select K Best"
   ]
  },
  {
   "cell_type": "code",
   "execution_count": 108,
   "metadata": {
    "scrolled": true
   },
   "outputs": [
    {
     "data": {
      "text/plain": [
       "['question_had_explanation',\n",
       " 'user_acc_mean',\n",
       " 'mean_content_accuracy',\n",
       " 'mean_task_accuracy',\n",
       " 'user_lectures_running_total_scaled']"
      ]
     },
     "execution_count": 108,
     "metadata": {},
     "output_type": "execute_result"
    }
   ],
   "source": [
    "# Compute the top 5 features\n",
    "f_features = explore.KBest_ranker(X_train, y_train, 5)\n",
    "\n",
    "# Print the top 5 features\n",
    "f_features"
   ]
  },
  {
   "cell_type": "markdown",
   "metadata": {},
   "source": [
    "## Select Top 5 Features by Recursive Feature Elimination (RFE)"
   ]
  },
  {
   "cell_type": "code",
   "execution_count": 49,
   "metadata": {},
   "outputs": [
    {
     "data": {
      "text/html": [
       "<div>\n",
       "<style scoped>\n",
       "    .dataframe tbody tr th:only-of-type {\n",
       "        vertical-align: middle;\n",
       "    }\n",
       "\n",
       "    .dataframe tbody tr th {\n",
       "        vertical-align: top;\n",
       "    }\n",
       "\n",
       "    .dataframe thead th {\n",
       "        text-align: right;\n",
       "    }\n",
       "</style>\n",
       "<table border=\"1\" class=\"dataframe\">\n",
       "  <thead>\n",
       "    <tr style=\"text-align: right;\">\n",
       "      <th></th>\n",
       "      <th>Feature</th>\n",
       "      <th>Rank</th>\n",
       "    </tr>\n",
       "  </thead>\n",
       "  <tbody>\n",
       "    <tr>\n",
       "      <th>2</th>\n",
       "      <td>mean_content_accuracy</td>\n",
       "      <td>1</td>\n",
       "    </tr>\n",
       "    <tr>\n",
       "      <th>1</th>\n",
       "      <td>user_acc_mean</td>\n",
       "      <td>2</td>\n",
       "    </tr>\n",
       "    <tr>\n",
       "      <th>3</th>\n",
       "      <td>mean_task_accuracy</td>\n",
       "      <td>3</td>\n",
       "    </tr>\n",
       "    <tr>\n",
       "      <th>5</th>\n",
       "      <td>avg_user_q_time_scaled</td>\n",
       "      <td>4</td>\n",
       "    </tr>\n",
       "    <tr>\n",
       "      <th>0</th>\n",
       "      <td>question_had_explanation</td>\n",
       "      <td>5</td>\n",
       "    </tr>\n",
       "  </tbody>\n",
       "</table>\n",
       "</div>"
      ],
      "text/plain": [
       "                    Feature  Rank\n",
       "2     mean_content_accuracy     1\n",
       "1             user_acc_mean     2\n",
       "3        mean_task_accuracy     3\n",
       "5    avg_user_q_time_scaled     4\n",
       "0  question_had_explanation     5"
      ]
     },
     "execution_count": 49,
     "metadata": {},
     "output_type": "execute_result"
    }
   ],
   "source": [
    "# Using function from explore.py to rank using RFE\n",
    "rfe_ranker(train_s).head(5)"
   ]
  },
  {
   "cell_type": "markdown",
   "metadata": {},
   "source": [
    "## Explore Takeaways\n",
    "### Graphs:\n",
    "- Most users leave after first week.\n",
    "- In general, most questions are answered correctly. \n",
    "- Questions that have explanations are more likely to be answered correctly. \n",
    "- Answering more questions leads to slight higher accuracy for students.      \n",
    "    \n",
    "### Hypothesis Testing:\n",
    "<br>\n",
    "<b>Hypothesis 1:</b> Chi^2 test results show that a question having an explanation and the question being answered correctly are dependant.\n",
    "<br>\n",
    "<br>\n",
    "<b>Hypothesis 2:</b> Pearson correlation test results reflect that there is an extremely weak inverse linear relationship between the average time a user spends on question and their average accuracy. \n",
    "<br>\n",
    "<br>\n",
    "<b>Hypothesis 3:</b> Two-sample two-tailed t-test results suggest that there is a difference in the average time that high accuracy users spend on hard questions and the time that other users spend on hard questions.   \n",
    "<br>\n",
    "<br>\n",
    "<b>Hypothesis 4:</b> Pearson correlation test results reflect that there is a weak linear relationship between average task accuracy and the amount of lectures a user has viewed.     \n",
    "<br>\n",
    "\n",
    "### Feature Selection:\n",
    "The top 4 features that __Select K Best__ and __RFE__ rankers found in common were:\n",
    "- mean_content_accuracy\n",
    "- user_acc_mean\n",
    "- mean_task_accuracy\n",
    "- prior_question_had_explanation"
   ]
  },
  {
   "cell_type": "markdown",
   "metadata": {},
   "source": [
    "# Modeling<a id='modeling'></a>\n",
    "Create baseline and alternate models that will predict if a student answers a question correctly. \n",
    "***"
   ]
  },
  {
   "cell_type": "markdown",
   "metadata": {},
   "source": [
    "## Compute the AUC score of the baseline"
   ]
  },
  {
   "cell_type": "markdown",
   "metadata": {},
   "source": [
    "### Use the randomly generated classes as the baseline"
   ]
  },
  {
   "cell_type": "code",
   "execution_count": 56,
   "metadata": {},
   "outputs": [
    {
     "data": {
      "text/plain": [
       "array([0, 1, 0, ..., 0, 0, 1])"
      ]
     },
     "execution_count": 56,
     "metadata": {},
     "output_type": "execute_result"
    }
   ],
   "source": [
    "# Compute the size of y_train\n",
    "size = y_train.size\n",
    "\n",
    "# Construct y_baseline\n",
    "y_baseline_random = np.random.randint(2, size=size)\n",
    "\n",
    "# Print the y_baseline\n",
    "y_baseline_random"
   ]
  },
  {
   "cell_type": "code",
   "execution_count": 57,
   "metadata": {},
   "outputs": [
    {
     "data": {
      "text/plain": [
       "0.5005904222267467"
      ]
     },
     "execution_count": 57,
     "metadata": {},
     "output_type": "execute_result"
    }
   ],
   "source": [
    "# Compute the auc score \n",
    "roc_auc_score(y_train, y_baseline_random)"
   ]
  },
  {
   "cell_type": "markdown",
   "metadata": {},
   "source": [
    "### Use the most frequent class as the baseline"
   ]
  },
  {
   "cell_type": "code",
   "execution_count": 58,
   "metadata": {},
   "outputs": [
    {
     "data": {
      "text/plain": [
       "1    0.650932\n",
       "0    0.349068\n",
       "Name: answered_correctly, dtype: float64"
      ]
     },
     "execution_count": 58,
     "metadata": {},
     "output_type": "execute_result"
    }
   ],
   "source": [
    "# Compute the most frequent class\n",
    "y_train.value_counts(normalize=True)"
   ]
  },
  {
   "cell_type": "code",
   "execution_count": 59,
   "metadata": {},
   "outputs": [
    {
     "data": {
      "text/plain": [
       "array([1, 1, 1, ..., 1, 1, 1])"
      ]
     },
     "execution_count": 59,
     "metadata": {},
     "output_type": "execute_result"
    }
   ],
   "source": [
    "# Construct the y_baseline_frequency\n",
    "y_baseline_frequency = np.array([1]*size)\n",
    "\n",
    "# Check the baseline values\n",
    "y_baseline_frequency"
   ]
  },
  {
   "cell_type": "code",
   "execution_count": 60,
   "metadata": {},
   "outputs": [
    {
     "data": {
      "text/plain": [
       "0.5"
      ]
     },
     "execution_count": 60,
     "metadata": {},
     "output_type": "execute_result"
    }
   ],
   "source": [
    "# Compute the auc score \n",
    "roc_auc_score(y_train, y_baseline_frequency)"
   ]
  },
  {
   "cell_type": "markdown",
   "metadata": {},
   "source": [
    "**Takeaways**\n",
    "1. Two methods are used to generate the baseline values.\n",
    "2. The baseline is 0.5 regardless of the chosen methods."
   ]
  },
  {
   "cell_type": "markdown",
   "metadata": {},
   "source": [
    "## Model the train/validate/test using various classification algorithms"
   ]
  },
  {
   "cell_type": "code",
   "execution_count": 61,
   "metadata": {},
   "outputs": [],
   "source": [
    "# Create a list of names of the classifiers\n",
    "# Make sure all the classifiers have the method: predict_proba\n",
    "names = ['LogisticRegression',\n",
    "         'Decision Tree',\n",
    "         'Random Forest',\n",
    "         'Ada Boost',\n",
    "         'Gradient Boost',\n",
    "         'Nearest Neighbors',\n",
    "         'Naive Bayes',\n",
    "         'Neural Net'\n",
    "        ]"
   ]
  },
  {
   "cell_type": "code",
   "execution_count": 62,
   "metadata": {},
   "outputs": [],
   "source": [
    "# Create a list of classifiers\n",
    "classifiers = [LogisticRegression(), \n",
    "               DecisionTreeClassifier(max_depth=3),\n",
    "               RandomForestClassifier(max_depth=3),\n",
    "               AdaBoostClassifier(),\n",
    "               GradientBoostingClassifier(),\n",
    "               KNeighborsClassifier(3),\n",
    "               GaussianNB(), \n",
    "               MLPClassifier()\n",
    "              ]"
   ]
  },
  {
   "cell_type": "code",
   "execution_count": 63,
   "metadata": {
    "scrolled": true
   },
   "outputs": [
    {
     "data": {
      "text/plain": [
       "True"
      ]
     },
     "execution_count": 63,
     "metadata": {},
     "output_type": "execute_result"
    }
   ],
   "source": [
    "# Sanity check: the size between the two should be the same\n",
    "len(names) == len(classifiers)"
   ]
  },
  {
   "cell_type": "code",
   "execution_count": 64,
   "metadata": {},
   "outputs": [
    {
     "name": "stdout",
     "output_type": "stream",
     "text": [
      "Currently running on model LogisticRegression\n",
      "LogisticRegression has completed\n",
      "Currently running on model Decision Tree\n",
      "Decision Tree has completed\n",
      "Currently running on model Random Forest\n"
     ]
    },
    {
     "ename": "KeyboardInterrupt",
     "evalue": "",
     "output_type": "error",
     "traceback": [
      "\u001b[0;31m---------------------------------------------------------------------------\u001b[0m",
      "\u001b[0;31mKeyboardInterrupt\u001b[0m                         Traceback (most recent call last)",
      "\u001b[0;32m<ipython-input-64-de9b0c6f48f3>\u001b[0m in \u001b[0;36m<module>\u001b[0;34m\u001b[0m\n\u001b[1;32m      3\u001b[0m                                      \u001b[0mX_train\u001b[0m\u001b[0;34m,\u001b[0m \u001b[0my_train\u001b[0m\u001b[0;34m,\u001b[0m\u001b[0;34m\u001b[0m\u001b[0;34m\u001b[0m\u001b[0m\n\u001b[1;32m      4\u001b[0m                                      \u001b[0mX_validate\u001b[0m\u001b[0;34m,\u001b[0m \u001b[0my_validate\u001b[0m\u001b[0;34m,\u001b[0m\u001b[0;34m\u001b[0m\u001b[0;34m\u001b[0m\u001b[0m\n\u001b[0;32m----> 5\u001b[0;31m                                      X_test, y_test)\n\u001b[0m",
      "\u001b[0;32m~/codeup-data-science/Riiid-Team/Riiid-Project/model.py\u001b[0m in \u001b[0;36mmodel_multiple_algos\u001b[0;34m(names, classifiers, X_train, y_train, X_validate, y_validate, X_test, y_test)\u001b[0m\n\u001b[1;32m    123\u001b[0m \u001b[0;34m\u001b[0m\u001b[0m\n\u001b[1;32m    124\u001b[0m         \u001b[0;31m# Fit on the train dataset\u001b[0m\u001b[0;34m\u001b[0m\u001b[0;34m\u001b[0m\u001b[0;34m\u001b[0m\u001b[0m\n\u001b[0;32m--> 125\u001b[0;31m         \u001b[0mclf\u001b[0m \u001b[0;34m=\u001b[0m \u001b[0mclf\u001b[0m\u001b[0;34m.\u001b[0m\u001b[0mfit\u001b[0m\u001b[0;34m(\u001b[0m\u001b[0mX_train\u001b[0m\u001b[0;34m,\u001b[0m \u001b[0my_train\u001b[0m\u001b[0;34m)\u001b[0m\u001b[0;34m\u001b[0m\u001b[0;34m\u001b[0m\u001b[0m\n\u001b[0m\u001b[1;32m    126\u001b[0m \u001b[0;34m\u001b[0m\u001b[0m\n\u001b[1;32m    127\u001b[0m         \u001b[0;31m# Compute the AUC score on train\u001b[0m\u001b[0;34m\u001b[0m\u001b[0;34m\u001b[0m\u001b[0;34m\u001b[0m\u001b[0m\n",
      "\u001b[0;32m/usr/local/anaconda3/lib/python3.7/site-packages/sklearn/ensemble/_forest.py\u001b[0m in \u001b[0;36mfit\u001b[0;34m(self, X, y, sample_weight)\u001b[0m\n\u001b[1;32m    381\u001b[0m                     \u001b[0mverbose\u001b[0m\u001b[0;34m=\u001b[0m\u001b[0mself\u001b[0m\u001b[0;34m.\u001b[0m\u001b[0mverbose\u001b[0m\u001b[0;34m,\u001b[0m \u001b[0mclass_weight\u001b[0m\u001b[0;34m=\u001b[0m\u001b[0mself\u001b[0m\u001b[0;34m.\u001b[0m\u001b[0mclass_weight\u001b[0m\u001b[0;34m,\u001b[0m\u001b[0;34m\u001b[0m\u001b[0;34m\u001b[0m\u001b[0m\n\u001b[1;32m    382\u001b[0m                     n_samples_bootstrap=n_samples_bootstrap)\n\u001b[0;32m--> 383\u001b[0;31m                 for i, t in enumerate(trees))\n\u001b[0m\u001b[1;32m    384\u001b[0m \u001b[0;34m\u001b[0m\u001b[0m\n\u001b[1;32m    385\u001b[0m             \u001b[0;31m# Collect newly grown trees\u001b[0m\u001b[0;34m\u001b[0m\u001b[0;34m\u001b[0m\u001b[0;34m\u001b[0m\u001b[0m\n",
      "\u001b[0;32m/usr/local/anaconda3/lib/python3.7/site-packages/joblib/parallel.py\u001b[0m in \u001b[0;36m__call__\u001b[0;34m(self, iterable)\u001b[0m\n\u001b[1;32m   1005\u001b[0m                 \u001b[0mself\u001b[0m\u001b[0;34m.\u001b[0m\u001b[0m_iterating\u001b[0m \u001b[0;34m=\u001b[0m \u001b[0mself\u001b[0m\u001b[0;34m.\u001b[0m\u001b[0m_original_iterator\u001b[0m \u001b[0;32mis\u001b[0m \u001b[0;32mnot\u001b[0m \u001b[0;32mNone\u001b[0m\u001b[0;34m\u001b[0m\u001b[0;34m\u001b[0m\u001b[0m\n\u001b[1;32m   1006\u001b[0m \u001b[0;34m\u001b[0m\u001b[0m\n\u001b[0;32m-> 1007\u001b[0;31m             \u001b[0;32mwhile\u001b[0m \u001b[0mself\u001b[0m\u001b[0;34m.\u001b[0m\u001b[0mdispatch_one_batch\u001b[0m\u001b[0;34m(\u001b[0m\u001b[0miterator\u001b[0m\u001b[0;34m)\u001b[0m\u001b[0;34m:\u001b[0m\u001b[0;34m\u001b[0m\u001b[0;34m\u001b[0m\u001b[0m\n\u001b[0m\u001b[1;32m   1008\u001b[0m                 \u001b[0;32mpass\u001b[0m\u001b[0;34m\u001b[0m\u001b[0;34m\u001b[0m\u001b[0m\n\u001b[1;32m   1009\u001b[0m \u001b[0;34m\u001b[0m\u001b[0m\n",
      "\u001b[0;32m/usr/local/anaconda3/lib/python3.7/site-packages/joblib/parallel.py\u001b[0m in \u001b[0;36mdispatch_one_batch\u001b[0;34m(self, iterator)\u001b[0m\n\u001b[1;32m    833\u001b[0m                 \u001b[0;32mreturn\u001b[0m \u001b[0;32mFalse\u001b[0m\u001b[0;34m\u001b[0m\u001b[0;34m\u001b[0m\u001b[0m\n\u001b[1;32m    834\u001b[0m             \u001b[0;32melse\u001b[0m\u001b[0;34m:\u001b[0m\u001b[0;34m\u001b[0m\u001b[0;34m\u001b[0m\u001b[0m\n\u001b[0;32m--> 835\u001b[0;31m                 \u001b[0mself\u001b[0m\u001b[0;34m.\u001b[0m\u001b[0m_dispatch\u001b[0m\u001b[0;34m(\u001b[0m\u001b[0mtasks\u001b[0m\u001b[0;34m)\u001b[0m\u001b[0;34m\u001b[0m\u001b[0;34m\u001b[0m\u001b[0m\n\u001b[0m\u001b[1;32m    836\u001b[0m                 \u001b[0;32mreturn\u001b[0m \u001b[0;32mTrue\u001b[0m\u001b[0;34m\u001b[0m\u001b[0;34m\u001b[0m\u001b[0m\n\u001b[1;32m    837\u001b[0m \u001b[0;34m\u001b[0m\u001b[0m\n",
      "\u001b[0;32m/usr/local/anaconda3/lib/python3.7/site-packages/joblib/parallel.py\u001b[0m in \u001b[0;36m_dispatch\u001b[0;34m(self, batch)\u001b[0m\n\u001b[1;32m    752\u001b[0m         \u001b[0;32mwith\u001b[0m \u001b[0mself\u001b[0m\u001b[0;34m.\u001b[0m\u001b[0m_lock\u001b[0m\u001b[0;34m:\u001b[0m\u001b[0;34m\u001b[0m\u001b[0;34m\u001b[0m\u001b[0m\n\u001b[1;32m    753\u001b[0m             \u001b[0mjob_idx\u001b[0m \u001b[0;34m=\u001b[0m \u001b[0mlen\u001b[0m\u001b[0;34m(\u001b[0m\u001b[0mself\u001b[0m\u001b[0;34m.\u001b[0m\u001b[0m_jobs\u001b[0m\u001b[0;34m)\u001b[0m\u001b[0;34m\u001b[0m\u001b[0;34m\u001b[0m\u001b[0m\n\u001b[0;32m--> 754\u001b[0;31m             \u001b[0mjob\u001b[0m \u001b[0;34m=\u001b[0m \u001b[0mself\u001b[0m\u001b[0;34m.\u001b[0m\u001b[0m_backend\u001b[0m\u001b[0;34m.\u001b[0m\u001b[0mapply_async\u001b[0m\u001b[0;34m(\u001b[0m\u001b[0mbatch\u001b[0m\u001b[0;34m,\u001b[0m \u001b[0mcallback\u001b[0m\u001b[0;34m=\u001b[0m\u001b[0mcb\u001b[0m\u001b[0;34m)\u001b[0m\u001b[0;34m\u001b[0m\u001b[0;34m\u001b[0m\u001b[0m\n\u001b[0m\u001b[1;32m    755\u001b[0m             \u001b[0;31m# A job can complete so quickly than its callback is\u001b[0m\u001b[0;34m\u001b[0m\u001b[0;34m\u001b[0m\u001b[0;34m\u001b[0m\u001b[0m\n\u001b[1;32m    756\u001b[0m             \u001b[0;31m# called before we get here, causing self._jobs to\u001b[0m\u001b[0;34m\u001b[0m\u001b[0;34m\u001b[0m\u001b[0;34m\u001b[0m\u001b[0m\n",
      "\u001b[0;32m/usr/local/anaconda3/lib/python3.7/site-packages/joblib/_parallel_backends.py\u001b[0m in \u001b[0;36mapply_async\u001b[0;34m(self, func, callback)\u001b[0m\n\u001b[1;32m    207\u001b[0m     \u001b[0;32mdef\u001b[0m \u001b[0mapply_async\u001b[0m\u001b[0;34m(\u001b[0m\u001b[0mself\u001b[0m\u001b[0;34m,\u001b[0m \u001b[0mfunc\u001b[0m\u001b[0;34m,\u001b[0m \u001b[0mcallback\u001b[0m\u001b[0;34m=\u001b[0m\u001b[0;32mNone\u001b[0m\u001b[0;34m)\u001b[0m\u001b[0;34m:\u001b[0m\u001b[0;34m\u001b[0m\u001b[0;34m\u001b[0m\u001b[0m\n\u001b[1;32m    208\u001b[0m         \u001b[0;34m\"\"\"Schedule a func to be run\"\"\"\u001b[0m\u001b[0;34m\u001b[0m\u001b[0;34m\u001b[0m\u001b[0m\n\u001b[0;32m--> 209\u001b[0;31m         \u001b[0mresult\u001b[0m \u001b[0;34m=\u001b[0m \u001b[0mImmediateResult\u001b[0m\u001b[0;34m(\u001b[0m\u001b[0mfunc\u001b[0m\u001b[0;34m)\u001b[0m\u001b[0;34m\u001b[0m\u001b[0;34m\u001b[0m\u001b[0m\n\u001b[0m\u001b[1;32m    210\u001b[0m         \u001b[0;32mif\u001b[0m \u001b[0mcallback\u001b[0m\u001b[0;34m:\u001b[0m\u001b[0;34m\u001b[0m\u001b[0;34m\u001b[0m\u001b[0m\n\u001b[1;32m    211\u001b[0m             \u001b[0mcallback\u001b[0m\u001b[0;34m(\u001b[0m\u001b[0mresult\u001b[0m\u001b[0;34m)\u001b[0m\u001b[0;34m\u001b[0m\u001b[0;34m\u001b[0m\u001b[0m\n",
      "\u001b[0;32m/usr/local/anaconda3/lib/python3.7/site-packages/joblib/_parallel_backends.py\u001b[0m in \u001b[0;36m__init__\u001b[0;34m(self, batch)\u001b[0m\n\u001b[1;32m    588\u001b[0m         \u001b[0;31m# Don't delay the application, to avoid keeping the input\u001b[0m\u001b[0;34m\u001b[0m\u001b[0;34m\u001b[0m\u001b[0;34m\u001b[0m\u001b[0m\n\u001b[1;32m    589\u001b[0m         \u001b[0;31m# arguments in memory\u001b[0m\u001b[0;34m\u001b[0m\u001b[0;34m\u001b[0m\u001b[0;34m\u001b[0m\u001b[0m\n\u001b[0;32m--> 590\u001b[0;31m         \u001b[0mself\u001b[0m\u001b[0;34m.\u001b[0m\u001b[0mresults\u001b[0m \u001b[0;34m=\u001b[0m \u001b[0mbatch\u001b[0m\u001b[0;34m(\u001b[0m\u001b[0;34m)\u001b[0m\u001b[0;34m\u001b[0m\u001b[0;34m\u001b[0m\u001b[0m\n\u001b[0m\u001b[1;32m    591\u001b[0m \u001b[0;34m\u001b[0m\u001b[0m\n\u001b[1;32m    592\u001b[0m     \u001b[0;32mdef\u001b[0m \u001b[0mget\u001b[0m\u001b[0;34m(\u001b[0m\u001b[0mself\u001b[0m\u001b[0;34m)\u001b[0m\u001b[0;34m:\u001b[0m\u001b[0;34m\u001b[0m\u001b[0;34m\u001b[0m\u001b[0m\n",
      "\u001b[0;32m/usr/local/anaconda3/lib/python3.7/site-packages/joblib/parallel.py\u001b[0m in \u001b[0;36m__call__\u001b[0;34m(self)\u001b[0m\n\u001b[1;32m    254\u001b[0m         \u001b[0;32mwith\u001b[0m \u001b[0mparallel_backend\u001b[0m\u001b[0;34m(\u001b[0m\u001b[0mself\u001b[0m\u001b[0;34m.\u001b[0m\u001b[0m_backend\u001b[0m\u001b[0;34m,\u001b[0m \u001b[0mn_jobs\u001b[0m\u001b[0;34m=\u001b[0m\u001b[0mself\u001b[0m\u001b[0;34m.\u001b[0m\u001b[0m_n_jobs\u001b[0m\u001b[0;34m)\u001b[0m\u001b[0;34m:\u001b[0m\u001b[0;34m\u001b[0m\u001b[0;34m\u001b[0m\u001b[0m\n\u001b[1;32m    255\u001b[0m             return [func(*args, **kwargs)\n\u001b[0;32m--> 256\u001b[0;31m                     for func, args, kwargs in self.items]\n\u001b[0m\u001b[1;32m    257\u001b[0m \u001b[0;34m\u001b[0m\u001b[0m\n\u001b[1;32m    258\u001b[0m     \u001b[0;32mdef\u001b[0m \u001b[0m__len__\u001b[0m\u001b[0;34m(\u001b[0m\u001b[0mself\u001b[0m\u001b[0;34m)\u001b[0m\u001b[0;34m:\u001b[0m\u001b[0;34m\u001b[0m\u001b[0;34m\u001b[0m\u001b[0m\n",
      "\u001b[0;32m/usr/local/anaconda3/lib/python3.7/site-packages/joblib/parallel.py\u001b[0m in \u001b[0;36m<listcomp>\u001b[0;34m(.0)\u001b[0m\n\u001b[1;32m    254\u001b[0m         \u001b[0;32mwith\u001b[0m \u001b[0mparallel_backend\u001b[0m\u001b[0;34m(\u001b[0m\u001b[0mself\u001b[0m\u001b[0;34m.\u001b[0m\u001b[0m_backend\u001b[0m\u001b[0;34m,\u001b[0m \u001b[0mn_jobs\u001b[0m\u001b[0;34m=\u001b[0m\u001b[0mself\u001b[0m\u001b[0;34m.\u001b[0m\u001b[0m_n_jobs\u001b[0m\u001b[0;34m)\u001b[0m\u001b[0;34m:\u001b[0m\u001b[0;34m\u001b[0m\u001b[0;34m\u001b[0m\u001b[0m\n\u001b[1;32m    255\u001b[0m             return [func(*args, **kwargs)\n\u001b[0;32m--> 256\u001b[0;31m                     for func, args, kwargs in self.items]\n\u001b[0m\u001b[1;32m    257\u001b[0m \u001b[0;34m\u001b[0m\u001b[0m\n\u001b[1;32m    258\u001b[0m     \u001b[0;32mdef\u001b[0m \u001b[0m__len__\u001b[0m\u001b[0;34m(\u001b[0m\u001b[0mself\u001b[0m\u001b[0;34m)\u001b[0m\u001b[0;34m:\u001b[0m\u001b[0;34m\u001b[0m\u001b[0;34m\u001b[0m\u001b[0m\n",
      "\u001b[0;32m/usr/local/anaconda3/lib/python3.7/site-packages/sklearn/ensemble/_forest.py\u001b[0m in \u001b[0;36m_parallel_build_trees\u001b[0;34m(tree, forest, X, y, sample_weight, tree_idx, n_trees, verbose, class_weight, n_samples_bootstrap)\u001b[0m\n\u001b[1;32m    163\u001b[0m             \u001b[0mcurr_sample_weight\u001b[0m \u001b[0;34m*=\u001b[0m \u001b[0mcompute_sample_weight\u001b[0m\u001b[0;34m(\u001b[0m\u001b[0;34m'balanced'\u001b[0m\u001b[0;34m,\u001b[0m \u001b[0my\u001b[0m\u001b[0;34m,\u001b[0m \u001b[0mindices\u001b[0m\u001b[0;34m)\u001b[0m\u001b[0;34m\u001b[0m\u001b[0;34m\u001b[0m\u001b[0m\n\u001b[1;32m    164\u001b[0m \u001b[0;34m\u001b[0m\u001b[0m\n\u001b[0;32m--> 165\u001b[0;31m         \u001b[0mtree\u001b[0m\u001b[0;34m.\u001b[0m\u001b[0mfit\u001b[0m\u001b[0;34m(\u001b[0m\u001b[0mX\u001b[0m\u001b[0;34m,\u001b[0m \u001b[0my\u001b[0m\u001b[0;34m,\u001b[0m \u001b[0msample_weight\u001b[0m\u001b[0;34m=\u001b[0m\u001b[0mcurr_sample_weight\u001b[0m\u001b[0;34m,\u001b[0m \u001b[0mcheck_input\u001b[0m\u001b[0;34m=\u001b[0m\u001b[0;32mFalse\u001b[0m\u001b[0;34m)\u001b[0m\u001b[0;34m\u001b[0m\u001b[0;34m\u001b[0m\u001b[0m\n\u001b[0m\u001b[1;32m    166\u001b[0m     \u001b[0;32melse\u001b[0m\u001b[0;34m:\u001b[0m\u001b[0;34m\u001b[0m\u001b[0;34m\u001b[0m\u001b[0m\n\u001b[1;32m    167\u001b[0m         \u001b[0mtree\u001b[0m\u001b[0;34m.\u001b[0m\u001b[0mfit\u001b[0m\u001b[0;34m(\u001b[0m\u001b[0mX\u001b[0m\u001b[0;34m,\u001b[0m \u001b[0my\u001b[0m\u001b[0;34m,\u001b[0m \u001b[0msample_weight\u001b[0m\u001b[0;34m=\u001b[0m\u001b[0msample_weight\u001b[0m\u001b[0;34m,\u001b[0m \u001b[0mcheck_input\u001b[0m\u001b[0;34m=\u001b[0m\u001b[0;32mFalse\u001b[0m\u001b[0;34m)\u001b[0m\u001b[0;34m\u001b[0m\u001b[0;34m\u001b[0m\u001b[0m\n",
      "\u001b[0;32m/usr/local/anaconda3/lib/python3.7/site-packages/sklearn/tree/_classes.py\u001b[0m in \u001b[0;36mfit\u001b[0;34m(self, X, y, sample_weight, check_input, X_idx_sorted)\u001b[0m\n\u001b[1;32m    875\u001b[0m             \u001b[0msample_weight\u001b[0m\u001b[0;34m=\u001b[0m\u001b[0msample_weight\u001b[0m\u001b[0;34m,\u001b[0m\u001b[0;34m\u001b[0m\u001b[0;34m\u001b[0m\u001b[0m\n\u001b[1;32m    876\u001b[0m             \u001b[0mcheck_input\u001b[0m\u001b[0;34m=\u001b[0m\u001b[0mcheck_input\u001b[0m\u001b[0;34m,\u001b[0m\u001b[0;34m\u001b[0m\u001b[0;34m\u001b[0m\u001b[0m\n\u001b[0;32m--> 877\u001b[0;31m             X_idx_sorted=X_idx_sorted)\n\u001b[0m\u001b[1;32m    878\u001b[0m         \u001b[0;32mreturn\u001b[0m \u001b[0mself\u001b[0m\u001b[0;34m\u001b[0m\u001b[0;34m\u001b[0m\u001b[0m\n\u001b[1;32m    879\u001b[0m \u001b[0;34m\u001b[0m\u001b[0m\n",
      "\u001b[0;32m/usr/local/anaconda3/lib/python3.7/site-packages/sklearn/tree/_classes.py\u001b[0m in \u001b[0;36mfit\u001b[0;34m(self, X, y, sample_weight, check_input, X_idx_sorted)\u001b[0m\n\u001b[1;32m    365\u001b[0m                                            min_impurity_split)\n\u001b[1;32m    366\u001b[0m \u001b[0;34m\u001b[0m\u001b[0m\n\u001b[0;32m--> 367\u001b[0;31m         \u001b[0mbuilder\u001b[0m\u001b[0;34m.\u001b[0m\u001b[0mbuild\u001b[0m\u001b[0;34m(\u001b[0m\u001b[0mself\u001b[0m\u001b[0;34m.\u001b[0m\u001b[0mtree_\u001b[0m\u001b[0;34m,\u001b[0m \u001b[0mX\u001b[0m\u001b[0;34m,\u001b[0m \u001b[0my\u001b[0m\u001b[0;34m,\u001b[0m \u001b[0msample_weight\u001b[0m\u001b[0;34m,\u001b[0m \u001b[0mX_idx_sorted\u001b[0m\u001b[0;34m)\u001b[0m\u001b[0;34m\u001b[0m\u001b[0;34m\u001b[0m\u001b[0m\n\u001b[0m\u001b[1;32m    368\u001b[0m \u001b[0;34m\u001b[0m\u001b[0m\n\u001b[1;32m    369\u001b[0m         \u001b[0;32mif\u001b[0m \u001b[0mself\u001b[0m\u001b[0;34m.\u001b[0m\u001b[0mn_outputs_\u001b[0m \u001b[0;34m==\u001b[0m \u001b[0;36m1\u001b[0m \u001b[0;32mand\u001b[0m \u001b[0mis_classifier\u001b[0m\u001b[0;34m(\u001b[0m\u001b[0mself\u001b[0m\u001b[0;34m)\u001b[0m\u001b[0;34m:\u001b[0m\u001b[0;34m\u001b[0m\u001b[0;34m\u001b[0m\u001b[0m\n",
      "\u001b[0;31mKeyboardInterrupt\u001b[0m: "
     ]
    }
   ],
   "source": [
    "# Use the classifiers created above to model the train, validate and test\n",
    "metrics = model.model_multiple_algos(names, classifiers, \n",
    "                                     X_train, y_train, \n",
    "                                     X_validate, y_validate, \n",
    "                                     X_test, y_test)"
   ]
  },
  {
   "cell_type": "code",
   "execution_count": null,
   "metadata": {},
   "outputs": [],
   "source": [
    "# Rank the auc scores on test dataset in the descending order\n",
    "mask = (metrics.dataset == 'test')\n",
    "metrics[mask].sort_values(by=\"AUC score\", ascending=False)"
   ]
  },
  {
   "cell_type": "markdown",
   "metadata": {},
   "source": [
    "**Takeaways**\n",
    "- The highest AUC score on the test dataset is produced by Logistic Regression.\n",
    "- The AUC score from the top model is 0.69, which beats the baseline by 19%. "
   ]
  },
  {
   "cell_type": "markdown",
   "metadata": {},
   "source": [
    "### Plot the ROC curve on the top model"
   ]
  },
  {
   "cell_type": "code",
   "execution_count": null,
   "metadata": {},
   "outputs": [],
   "source": [
    "# Create the lr object and fit on train\n",
    "lr = LogisticRegression()\n",
    "lr = lr.fit(X_train, y_train)\n",
    "\n",
    "# Plot the ROC curve on test\n",
    "model.auc_curve_plot1(lr, \"Logistic Regression\", X_test, y_test)"
   ]
  },
  {
   "cell_type": "markdown",
   "metadata": {},
   "source": [
    "## Modeling Takeaways\n",
    "- Baseline: 0.5 AUC Score  \n",
    "\n",
    "\n",
    "- Top 3 performing models: \n",
    "    - Logistic Regression: \n",
    "        - Features Used:     \n",
    "            - \n",
    "    - Random Forest: \n",
    "        - Features Used:    \n",
    "            - "
   ]
  },
  {
   "cell_type": "markdown",
   "metadata": {},
   "source": [
    "# Conclusions<a id='conclusions'></a>"
   ]
  },
  {
   "cell_type": "markdown",
   "metadata": {},
   "source": [
    "- Acquire: \n",
    "- Prepare: \n",
    "- Explore: \n",
    "- Modeling: \n",
    "\n",
    "Overall: \n",
    "- The highest AUC score on the test dataset is produced by Logistic Regression.\n",
    "- The AUC score from the top model is 0.69, which beats the baseline by 19%.\n",
    "\n",
    "Recommendations:\n",
    "\n",
    "Expectations:"
   ]
  },
  {
   "cell_type": "markdown",
   "metadata": {},
   "source": [
    "### Future Investigations"
   ]
  },
  {
   "cell_type": "markdown",
   "metadata": {},
   "source": [
    "- Use this predictive model on Riiid's other educational programs \n",
    "- Explore more features and different modeling like xgboost"
   ]
  },
  {
   "cell_type": "markdown",
   "metadata": {},
   "source": [
    "### Resources"
   ]
  },
  {
   "cell_type": "markdown",
   "metadata": {},
   "source": [
    "- https://www.kaggle.com/c/riiid-test-answer-prediction/overview/description\n",
    "- https://www.kaggle.com/isaienkov/riiid-answer-correctness-prediction-eda-modeling"
   ]
  },
  {
   "cell_type": "markdown",
   "metadata": {},
   "source": [
    "### Contact Us"
   ]
  },
  {
   "cell_type": "markdown",
   "metadata": {},
   "source": [
    "Dani Bojado\n",
    "- daniella.bojado@gmail.com \n",
    "\n",
    "Samuel Davila\n",
    "- samuelrdavila@gmail.com\n",
    "\n",
    "Yongliang Shi\n",
    "- yongliang.michael.shi@gmail.com\n",
    "\n",
    "Christopher Logan Ortiz\n",
    "- christopher.logan.ortiz@gmail.com"
   ]
  }
 ],
 "metadata": {
  "kernelspec": {
   "display_name": "Python 3",
   "language": "python",
   "name": "python3"
  },
  "language_info": {
   "codemirror_mode": {
    "name": "ipython",
    "version": 3
   },
   "file_extension": ".py",
   "mimetype": "text/x-python",
   "name": "python",
   "nbconvert_exporter": "python",
   "pygments_lexer": "ipython3",
   "version": "3.7.6"
  }
 },
 "nbformat": 4,
 "nbformat_minor": 4
}
